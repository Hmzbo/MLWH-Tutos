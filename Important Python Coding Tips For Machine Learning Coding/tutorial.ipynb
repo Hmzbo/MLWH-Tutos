{
 "cells": [
  {
   "cell_type": "markdown",
   "metadata": {},
   "source": [
    "# Vectorization"
   ]
  },
  {
   "cell_type": "code",
   "execution_count": 2,
   "metadata": {},
   "outputs": [],
   "source": [
    "import numpy as np"
   ]
  },
  {
   "cell_type": "code",
   "execution_count": 2,
   "metadata": {},
   "outputs": [],
   "source": [
    "n = 1000000\n",
    "u = list(range(n))\n",
    "v = list(range(n))"
   ]
  },
  {
   "cell_type": "markdown",
   "metadata": {},
   "source": [
    "## Example 1 (Addition operation)"
   ]
  },
  {
   "cell_type": "code",
   "execution_count": 3,
   "metadata": {},
   "outputs": [
    {
     "name": "stdout",
     "output_type": "stream",
     "text": [
      "143 ms ± 2.01 ms per loop (mean ± std. dev. of 7 runs, 10 loops each)\n"
     ]
    }
   ],
   "source": [
    "%%timeit\n",
    "\n",
    "w =[]\n",
    "\n",
    "for i in range(n):\n",
    "    w.append(u[i] + v[i])\n"
   ]
  },
  {
   "cell_type": "code",
   "execution_count": 4,
   "metadata": {},
   "outputs": [
    {
     "name": "stdout",
     "output_type": "stream",
     "text": [
      "83.1 ms ± 1.28 ms per loop (mean ± std. dev. of 7 runs, 10 loops each)\n"
     ]
    }
   ],
   "source": [
    "%%timeit\n",
    "\n",
    "w = np.array(u) + np.array(v)"
   ]
  },
  {
   "cell_type": "markdown",
   "metadata": {},
   "source": [
    "## Example 2 (MLR with gradient descent)"
   ]
  },
  {
   "cell_type": "code",
   "execution_count": 3,
   "metadata": {},
   "outputs": [],
   "source": [
    "import time"
   ]
  },
  {
   "cell_type": "code",
   "execution_count": 7,
   "metadata": {},
   "outputs": [
    {
     "name": "stdout",
     "output_type": "stream",
     "text": [
      "('Estimate coefficients: ', array([0.01354521, 0.007284  , 0.00929198, 0.00279421, 0.01198525,\n",
      "       0.00121251]))\n",
      "Coputation time = 0.0ms\n"
     ]
    }
   ],
   "source": [
    "np.random.seed(0)\n",
    "\n",
    "n_samples, n_features = 100, 5\n",
    "\n",
    "X = np.random.rand(n_samples, n_features)\n",
    "y = 1 + 2*X[:,0] + 3*X[:,1] - 4*X[:,2] + 5*X[:,3] - 6*X[:,4] + np.random.randn(n_samples)*0.1\n",
    "\n",
    "X_intercept = np.hstack([np.ones((n_samples, 1)), X])\n",
    "\n",
    "theta = np.zeros(n_features + 1)\n",
    "alpha = 0.01\n",
    "num_iters = 10000\n",
    "\n",
    "t_start = time.process_time()\n",
    "for i in range(num_iters):\n",
    "    preds = X_intercept.dot(theta)\n",
    "    errors = preds - y\n",
    "    gradient = (1/n_samples) * X_intercept.T.dot(errors)\n",
    "    theta -= alpha * gradient\n",
    "    break\n",
    "t_finish = time.process_time()\n",
    "\n",
    "print((\"Estimate coefficients: \", theta))\n",
    "print(\"Coputation time = \" + str(1000*(t_finish - t_start)) + \"ms\")"
   ]
  },
  {
   "cell_type": "code",
   "execution_count": 7,
   "metadata": {},
   "outputs": [
    {
     "name": "stdout",
     "output_type": "stream",
     "text": [
      "('Estimate coefficients: ', array([ 1.00857698,  1.99309484,  2.97095941, -3.94642115,  4.99847753,\n",
      "       -6.03675435]))\n",
      "Coputation time = 4937.5ms\n"
     ]
    }
   ],
   "source": [
    "np.random.seed(0)\n",
    "\n",
    "n_samples, n_features = 100, 5\n",
    "\n",
    "X = np.random.rand(n_samples, n_features)\n",
    "y = 1 + 2*X[:,0] + 3*X[:,1] - 4*X[:,2] + 5*X[:,3] - 6*X[:,4] + np.random.randn(n_samples)*0.1\n",
    "\n",
    "X_intercept = np.hstack([np.ones((n_samples, 1)), X])\n",
    "\n",
    "theta = np.zeros(n_features + 1)\n",
    "alpha = 0.01\n",
    "num_iters = 10000\n",
    "\n",
    "t_start = time.process_time()\n",
    "for i in range(num_iters):\n",
    "    gradient = [0.0 for i in range(len(theta))]\n",
    "    for j in range(n_samples):\n",
    "        prediction_j=0.0\n",
    "        for k in range(len(theta)):\n",
    "            prediction_j += theta[k]*X_intercept[j][k]\n",
    "        error_j = prediction_j - y[j]\n",
    "        for k in range(len(theta)):\n",
    "            gradient[k] += X_intercept[j][k]*error_j\n",
    "    for k in range(len(theta)):\n",
    "        gradient[k] /= n_samples\n",
    "    for k in range(len(theta)):\n",
    "        theta[k] -= alpha*gradient[k]\n",
    "t_finish = time.process_time()\n",
    "\n",
    "print((\"Estimate coefficients: \", theta))\n",
    "print(\"Coputation time = \" + str(1000*(t_finish - t_start)) + \"ms\")"
   ]
  },
  {
   "cell_type": "markdown",
   "metadata": {},
   "source": [
    "**Normal Equation**"
   ]
  },
  {
   "cell_type": "code",
   "execution_count": 8,
   "metadata": {},
   "outputs": [
    {
     "name": "stdout",
     "output_type": "stream",
     "text": [
      "Estimate coefficients:  [ 1.0036296   1.99943207  2.9740728  -3.94906546  4.99981351 -6.0354361 ]\n"
     ]
    }
   ],
   "source": [
    "beta = np.linalg.inv(X_intercept.T @ X_intercept) @ (X_intercept.T @ y)\n",
    "print(\"Estimate coefficients: \", beta)"
   ]
  },
  {
   "cell_type": "markdown",
   "metadata": {},
   "source": [
    "# Comprehensions"
   ]
  },
  {
   "cell_type": "markdown",
   "metadata": {},
   "source": [
    "## Example 1 (List comprehension)"
   ]
  },
  {
   "cell_type": "code",
   "execution_count": 9,
   "metadata": {},
   "outputs": [
    {
     "name": "stdout",
     "output_type": "stream",
     "text": [
      "3.04 s ± 33.4 ms per loop (mean ± std. dev. of 7 runs, 1 loop each)\n"
     ]
    }
   ],
   "source": [
    "%%timeit\n",
    "\n",
    "squares = []\n",
    "for i in range(10000000):\n",
    "    squares.append(i**2)"
   ]
  },
  {
   "cell_type": "code",
   "execution_count": 10,
   "metadata": {},
   "outputs": [
    {
     "name": "stdout",
     "output_type": "stream",
     "text": [
      "2.77 s ± 18 ms per loop (mean ± std. dev. of 7 runs, 1 loop each)\n"
     ]
    }
   ],
   "source": [
    "%%timeit\n",
    "\n",
    "squares = [i**2 for i in range(10000000)]"
   ]
  },
  {
   "cell_type": "code",
   "execution_count": 11,
   "metadata": {},
   "outputs": [
    {
     "name": "stdout",
     "output_type": "stream",
     "text": [
      "[0, 4, 16, 36, 64]\n"
     ]
    }
   ],
   "source": [
    "squares = [i**2 for i in range(10)]\n",
    "\n",
    "pair_numbers = [i for i in squares if i%2==0]\n",
    "print(pair_numbers)"
   ]
  },
  {
   "cell_type": "code",
   "execution_count": 12,
   "metadata": {},
   "outputs": [
    {
     "name": "stdout",
     "output_type": "stream",
     "text": [
      "['h', 'e', 'l', 'l', 'o', 'w', 'o', 'r', 'l', 'd', 't', 'h', 'i', 's', 't', 'e', 's', 't']\n"
     ]
    }
   ],
   "source": [
    "words_list = [\"hello\", \"world\", \"this\", \"is\", \"a\", \"test\"]\n",
    "\n",
    "chars = [c for word in words_list if len(word)>3 for c in word]\n",
    "print(chars)"
   ]
  },
  {
   "cell_type": "markdown",
   "metadata": {},
   "source": [
    "## Example 2 (Generators & Dictionaries comprehension)"
   ]
  },
  {
   "cell_type": "code",
   "execution_count": 13,
   "metadata": {},
   "outputs": [
    {
     "name": "stdout",
     "output_type": "stream",
     "text": [
      "<generator object <genexpr> at 0x0000018A9350CBA0>\n"
     ]
    }
   ],
   "source": [
    "words_list = [\"hello\", \"world\", \"this\", \"is\", \"a\", \"test\"]\n",
    "\n",
    "chars = (c for word in words_list if len(word)>3 for c in word)\n",
    "print(chars)"
   ]
  },
  {
   "cell_type": "code",
   "execution_count": 14,
   "metadata": {},
   "outputs": [
    {
     "name": "stdout",
     "output_type": "stream",
     "text": [
      "h\n"
     ]
    }
   ],
   "source": [
    "print(next(chars))"
   ]
  },
  {
   "cell_type": "code",
   "execution_count": 15,
   "metadata": {},
   "outputs": [
    {
     "name": "stdout",
     "output_type": "stream",
     "text": [
      "{'value1': 'key1', 'value2': 'key2', 'value3': 'key3'}\n"
     ]
    }
   ],
   "source": [
    "dict1 = {'key1':'value1', 'key2':'value2', 'key3':'value3'}\n",
    "dict1_reverse = {value:key for key, value in dict1.items()}\n",
    "print(dict1_reverse)"
   ]
  },
  {
   "cell_type": "markdown",
   "metadata": {},
   "source": [
    "## Example 3 (Comprehension for prompt creation from file)"
   ]
  },
  {
   "cell_type": "code",
   "execution_count": 17,
   "metadata": {},
   "outputs": [],
   "source": [
    "feedback_file_path = \"feedbacks.txt\""
   ]
  },
  {
   "cell_type": "code",
   "execution_count": 18,
   "metadata": {},
   "outputs": [
    {
     "name": "stdout",
     "output_type": "stream",
     "text": [
      "Fast shipping and excellent customer service. Highly recommend!\n",
      "Loved the new features in the latest update.\n",
      "Terrible experience. The item broke within a week of use.\n",
      "Helped me solve my issue quickly.\n",
      "Absolutely love it! Will definitely buy again.\n",
      "Too expensive for the value offered.\n",
      "Great product! The quality is amazing and totally worth the price.\n",
      "The packaging was damaged, but the product works fine.\n",
      "Not what I expected. The material feels cheap.\n",
      "\n"
     ]
    }
   ],
   "source": [
    "filtered_feedbacks = []\n",
    "\n",
    "with open(feedback_file_path, \"r\", encoding=\"utf-8\") as file:\n",
    "    for line in file:\n",
    "        stripped_line = line.strip()\n",
    "        words = stripped_line.split()\n",
    "        if len(words)>5:\n",
    "            filtered_feedbacks.append(stripped_line)\n",
    "\n",
    "context = \"\"\n",
    "for feedback in filtered_feedbacks:\n",
    "    context += feedback + \"\\n\"\n",
    "\n",
    "print(context)"
   ]
  },
  {
   "cell_type": "code",
   "execution_count": 20,
   "metadata": {},
   "outputs": [
    {
     "name": "stdout",
     "output_type": "stream",
     "text": [
      "Fast shipping and excellent customer service. Highly recommend!\n",
      "Loved the new features in the latest update.\n",
      "Terrible experience. The item broke within a week of use.\n",
      "Helped me solve my issue quickly.\n",
      "Absolutely love it! Will definitely buy again.\n",
      "Too expensive for the value offered.\n",
      "Great product! The quality is amazing and totally worth the price.\n",
      "The packaging was damaged, but the product works fine.\n",
      "Not what I expected. The material feels cheap.\n"
     ]
    }
   ],
   "source": [
    "filtered_feedbacks = [\n",
    "    line.strip()\n",
    "    for line in open(feedback_file_path, \"r\", encoding=\"utf-8\")\n",
    "    if len(line.split())>5\n",
    "]\n",
    "\n",
    "context = \"\\n\".join(filtered_feedbacks)\n",
    "\n",
    "print(context)"
   ]
  },
  {
   "cell_type": "markdown",
   "metadata": {},
   "source": [
    "# Built-in functions"
   ]
  },
  {
   "cell_type": "markdown",
   "metadata": {},
   "source": [
    "### Example 1 (Map function)"
   ]
  },
  {
   "cell_type": "code",
   "execution_count": 22,
   "metadata": {},
   "outputs": [
    {
     "name": "stdout",
     "output_type": "stream",
     "text": [
      "<map object at 0x0000018AE3129780>\n",
      "['HELLO', 'WORLD', 'THIS', 'IS', 'A', 'TEST']\n"
     ]
    }
   ],
   "source": [
    "words_list = [\"hello\", \"world\", \"this\", \"is\", \"a\", \"test\"]\n",
    "\n",
    "upper_words = map(str.upper, words_list)\n",
    "\n",
    "print(upper_words)\n",
    "\n",
    "print(list(upper_words))"
   ]
  },
  {
   "cell_type": "code",
   "execution_count": 23,
   "metadata": {},
   "outputs": [
    {
     "name": "stdout",
     "output_type": "stream",
     "text": [
      "[0.11764705882352941, 1.0, 0.0, 0.7058823529411765, 0.4117647058823529]\n"
     ]
    }
   ],
   "source": [
    "feature_values = [50, 200, 30, 150, 100]\n",
    "\n",
    "def min_max_scaling(x, min_val, max_val):\n",
    "    return (x-min_val)/(max_val-min_val)\n",
    "\n",
    "normalized_values = list(map(lambda x: min_max_scaling(x, min(feature_values), max(feature_values)), feature_values))\n",
    "\n",
    "print(normalized_values)"
   ]
  },
  {
   "cell_type": "markdown",
   "metadata": {},
   "source": [
    "### Example 2 (Filter)"
   ]
  },
  {
   "cell_type": "code",
   "execution_count": 25,
   "metadata": {},
   "outputs": [
    {
     "name": "stdout",
     "output_type": "stream",
     "text": [
      "['hello', 'world']\n"
     ]
    }
   ],
   "source": [
    "words_list = [\"hello\", \"world\", \"this\", \"is\", \"a\", \"test\"]\n",
    "\n",
    "big_words = filter(lambda word: len(word) > 4, words_list)\n",
    "\n",
    "print(list(big_words))"
   ]
  },
  {
   "cell_type": "markdown",
   "metadata": {},
   "source": [
    "### Example 3 (Sorted)"
   ]
  },
  {
   "cell_type": "code",
   "execution_count": 26,
   "metadata": {},
   "outputs": [
    {
     "name": "stdout",
     "output_type": "stream",
     "text": [
      "[('Bird', 0.92), ('Cat', 0.85), ('Dog', 0.78), ('Fish', 0.6)]\n"
     ]
    }
   ],
   "source": [
    "predictions = [\n",
    "    (\"Cat\", .85),\n",
    "    (\"Dog\", .78),\n",
    "    (\"Bird\", .92),\n",
    "    (\"Fish\", .6)\n",
    "]\n",
    "\n",
    "sorted_predictions = sorted(predictions, key=lambda x: x[1], reverse=True)\n",
    "\n",
    "print(sorted_predictions)"
   ]
  },
  {
   "cell_type": "markdown",
   "metadata": {},
   "source": [
    "# Iterators & Generators"
   ]
  },
  {
   "cell_type": "markdown",
   "metadata": {},
   "source": [
    "## Example 1 (Generators)"
   ]
  },
  {
   "cell_type": "code",
   "execution_count": 27,
   "metadata": {},
   "outputs": [
    {
     "name": "stdout",
     "output_type": "stream",
     "text": [
      "['Great product, very useful.', 'Fast shipping and excellent customer service. Highly recommend!']\n",
      "['Loved the new features in the latest update.', 'Bad customer service experience.']\n",
      "['Terrible experience. The item broke within a week of use.', 'Helped me solve my issue quickly.']\n",
      "['Absolutely love it! Will definitely buy again.', 'Too expensive for the value offered.']\n",
      "['Great product! The quality is amazing and totally worth the price.', 'Okay.']\n",
      "['Excellent support and fast responses.', 'The packaging was damaged, but the product works fine.']\n",
      "['Not satisfied.', 'Not what I expected. The material feels cheap.']\n"
     ]
    }
   ],
   "source": [
    "def feedback_generator(file_path, batch_size):\n",
    "    batch = []\n",
    "    with open(file_path, \"r\", encoding=\"utf-8\") as file:\n",
    "        for line in file:\n",
    "            batch.append(line.strip())\n",
    "            if len(batch) == batch_size:\n",
    "                yield batch\n",
    "                batch = []\n",
    "        if batch:\n",
    "            yield batch\n",
    "\n",
    "file_path = \"feedbacks.txt\"\n",
    "batch_size = 2\n",
    "\n",
    "gen = feedback_generator(file_path, batch_size)\n",
    "for batch in gen:\n",
    "    print(batch)"
   ]
  },
  {
   "cell_type": "code",
   "execution_count": 29,
   "metadata": {},
   "outputs": [
    {
     "name": "stdout",
     "output_type": "stream",
     "text": [
      "('Great product, very useful.', 'Fast shipping and excellent customer service. Highly recommend!')\n",
      "('Loved the new features in the latest update.', 'Bad customer service experience.')\n",
      "('Terrible experience. The item broke within a week of use.', 'Helped me solve my issue quickly.')\n",
      "('Absolutely love it! Will definitely buy again.', 'Too expensive for the value offered.')\n",
      "('Great product! The quality is amazing and totally worth the price.', 'Okay.')\n",
      "('Excellent support and fast responses.', 'The packaging was damaged, but the product works fine.')\n",
      "('Not satisfied.', 'Not what I expected. The material feels cheap.')\n"
     ]
    }
   ],
   "source": [
    "def feedback_generator(file_path, batch_size):\n",
    "    with open(file_path, \"r\", encoding=\"utf-8\") as file:\n",
    "        lines = (line.strip() for line in file)\n",
    "        yield from (batch for batch in zip(*[lines]*batch_size))\n",
    "\n",
    "        remainder = list(lines)\n",
    "        if remainder:\n",
    "            yield remainder\n",
    "\n",
    "file_path = \"feedbacks.txt\"\n",
    "batch_size = 2\n",
    "\n",
    "gen = feedback_generator(file_path, batch_size)\n",
    "for batch in gen:\n",
    "    print(batch)"
   ]
  },
  {
   "cell_type": "markdown",
   "metadata": {},
   "source": [
    "### Example 2 (Iterators)"
   ]
  },
  {
   "cell_type": "code",
   "execution_count": 32,
   "metadata": {},
   "outputs": [
    {
     "name": "stdout",
     "output_type": "stream",
     "text": [
      "1\n",
      "2\n",
      "3\n",
      "4\n",
      "5\n"
     ]
    }
   ],
   "source": [
    "class MyIterator:\n",
    "    def __init__(self, start, end):\n",
    "        self.current = start\n",
    "        self.end = end\n",
    "    def __iter__(self):\n",
    "        return self\n",
    "    def __next__(self):\n",
    "        if self.current > self.end:\n",
    "            raise StopIteration\n",
    "        value = self.current\n",
    "        self.current += 1\n",
    "        return value\n",
    "    \n",
    "my_iter = MyIterator(1, 5)\n",
    "for num in my_iter:\n",
    "    print(num)"
   ]
  },
  {
   "cell_type": "code",
   "execution_count": 33,
   "metadata": {},
   "outputs": [],
   "source": [
    "import itertools"
   ]
  },
  {
   "cell_type": "markdown",
   "metadata": {},
   "source": [
    "**Chain & Chain.from_iterable**"
   ]
  },
  {
   "cell_type": "code",
   "execution_count": 34,
   "metadata": {},
   "outputs": [
    {
     "name": "stdout",
     "output_type": "stream",
     "text": [
      "['feedback1', 'feedback2', 'Great product, very useful.', 'Fast shipping and excellent customer service. Highly recommend!', 'Loved the new features in the latest update.', 'Bad customer service experience.', 'Terrible experience. The item broke within a week of use.', 'Helped me solve my issue quickly.', 'Absolutely love it! Will definitely buy again.', 'Too expensive for the value offered.', 'Great product! The quality is amazing and totally worth the price.', 'Okay.', 'Excellent support and fast responses.', 'The packaging was damaged, but the product works fine.', 'Not satisfied.', 'Not what I expected. The material feels cheap.']\n"
     ]
    }
   ],
   "source": [
    "feedbacks_list = [\"feedback1\", \"feedback2\"]\n",
    "filtered_feedbacks = (\n",
    "    line.strip()\n",
    "    for line in open(feedback_file_path, \"r\", encoding=\"utf-8\")\n",
    ")\n",
    "\n",
    "merged = itertools.chain(feedbacks_list, filtered_feedbacks)\n",
    "\n",
    "print(list(merged))"
   ]
  },
  {
   "cell_type": "code",
   "execution_count": 35,
   "metadata": {},
   "outputs": [
    {
     "name": "stdout",
     "output_type": "stream",
     "text": [
      "['feedback1', 'feedback2', 'Great product, very useful.', 'Fast shipping and excellent customer service. Highly recommend!', 'Loved the new features in the latest update.', 'Bad customer service experience.', 'Terrible experience. The item broke within a week of use.', 'Helped me solve my issue quickly.', 'Absolutely love it! Will definitely buy again.', 'Too expensive for the value offered.', 'Great product! The quality is amazing and totally worth the price.', 'Okay.', 'Excellent support and fast responses.', 'The packaging was damaged, but the product works fine.', 'Not satisfied.', 'Not what I expected. The material feels cheap.']\n"
     ]
    }
   ],
   "source": [
    "filtered_feedbacks = (\n",
    "    line.strip()\n",
    "    for line in open(feedback_file_path, \"r\", encoding=\"utf-8\")\n",
    ")\n",
    "\n",
    "nested_list = [feedbacks_list, filtered_feedbacks]\n",
    "\n",
    "flattened = itertools.chain.from_iterable(nested_list)\n",
    "\n",
    "print(list(flattened))"
   ]
  },
  {
   "cell_type": "markdown",
   "metadata": {},
   "source": [
    "**Groupby**"
   ]
  },
  {
   "cell_type": "code",
   "execution_count": 36,
   "metadata": {},
   "outputs": [
    {
     "name": "stdout",
     "output_type": "stream",
     "text": [
      "positive:['Great service']\n",
      "neutral:['Average experience']\n",
      "negative:['not worth the price']\n",
      "positive:['fast delivery']\n"
     ]
    }
   ],
   "source": [
    "feedbacks = [\n",
    "    (\"Great service\", \"positive\"),\n",
    "    (\"Average experience\", \"neutral\"),\n",
    "    (\"not worth the price\", \"negative\"),\n",
    "    (\"fast delivery\", \"positive\")\n",
    "]\n",
    "\n",
    "for sentiment, group in itertools.groupby(feedbacks, key=lambda x: x[1]):\n",
    "    print(f\"{sentiment}:{[item[0] for item in group]}\")"
   ]
  },
  {
   "cell_type": "code",
   "execution_count": 38,
   "metadata": {},
   "outputs": [
    {
     "name": "stdout",
     "output_type": "stream",
     "text": [
      "negative:['not worth the price']\n",
      "neutral:['Average experience']\n",
      "positive:['Great service', 'fast delivery']\n"
     ]
    }
   ],
   "source": [
    "feedbacks = [\n",
    "    (\"Great service\", \"positive\"),\n",
    "    (\"Average experience\", \"neutral\"),\n",
    "    (\"not worth the price\", \"negative\"),\n",
    "    (\"fast delivery\", \"positive\")\n",
    "]\n",
    "\n",
    "sorted_feedbacks = sorted(feedbacks, key=lambda x: x[1])\n",
    "\n",
    "for sentiment, group in itertools.groupby(sorted_feedbacks, key=lambda x: x[1]):\n",
    "    print(f\"{sentiment}:{[item[0] for item in group]}\")"
   ]
  },
  {
   "cell_type": "markdown",
   "metadata": {},
   "source": [
    "**Cycle**"
   ]
  },
  {
   "cell_type": "code",
   "execution_count": 39,
   "metadata": {},
   "outputs": [
    {
     "name": "stdout",
     "output_type": "stream",
     "text": [
      "Request 1 using API_KEY1\n",
      "Request 2 using API_KEY2\n",
      "Request 3 using API_KEY3\n",
      "Request 4 using API_KEY1\n",
      "Request 5 using API_KEY2\n",
      "Request 6 using API_KEY3\n",
      "Request 7 using API_KEY1\n",
      "Request 8 using API_KEY2\n",
      "Request 9 using API_KEY3\n",
      "Request 10 using API_KEY1\n"
     ]
    }
   ],
   "source": [
    "api_keys = [\n",
    "    \"API_KEY1\",\n",
    "    \"API_KEY2\",\n",
    "    \"API_KEY3\"\n",
    "]\n",
    "\n",
    "api_key_pool = itertools.cycle(api_keys)\n",
    "\n",
    "for i in range(10):\n",
    "    api_key = next(api_key_pool)\n",
    "    print(f\"Request {i+1} using {api_key}\")"
   ]
  },
  {
   "cell_type": "code",
   "execution_count": null,
   "metadata": {},
   "outputs": [],
   "source": []
  },
  {
   "cell_type": "code",
   "execution_count": null,
   "metadata": {},
   "outputs": [],
   "source": []
  },
  {
   "cell_type": "code",
   "execution_count": null,
   "metadata": {},
   "outputs": [],
   "source": []
  },
  {
   "cell_type": "code",
   "execution_count": null,
   "metadata": {},
   "outputs": [],
   "source": []
  }
 ],
 "metadata": {
  "kernelspec": {
   "display_name": "python-tips",
   "language": "python",
   "name": "python3"
  },
  "language_info": {
   "codemirror_mode": {
    "name": "ipython",
    "version": 3
   },
   "file_extension": ".py",
   "mimetype": "text/x-python",
   "name": "python",
   "nbconvert_exporter": "python",
   "pygments_lexer": "ipython3",
   "version": "3.10.16"
  }
 },
 "nbformat": 4,
 "nbformat_minor": 2
}
