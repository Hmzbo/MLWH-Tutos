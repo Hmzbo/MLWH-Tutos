{
  "nbformat": 4,
  "nbformat_minor": 0,
  "metadata": {
    "colab": {
      "provenance": []
    },
    "kernelspec": {
      "name": "python3",
      "display_name": "Python 3"
    },
    "language_info": {
      "name": "python"
    }
  },
  "cells": [
    {
      "cell_type": "markdown",
      "source": [
        "# LangGraph Crash Course\n",
        "\n",
        "This Jupyter Notebook provides a hands-on introduction to LangGraph, demonstrating its core ideas with actual `langgraph` code examples. You'll learn how to define state, create nodes, set up edges, and leverage advanced features like checkpointers and human-in-the-loop.\n",
        "\n",
        "**Note:** Tis course only covers the Graph API of `langgraph` framework.\n",
        "\n",
        "Why use LangGraph?\n",
        "1. **Build Complex AI Workflows**: Design sophisticated AI applications by breaking them into manageable steps (nodes) and enabling your AI to make smart, dynamic decisions (edges) based on a persistent, shared memory.\n",
        "\n",
        "2. **Enhance Control & Debugging**: Integrate human oversight with breakpoints, and gain full observability to easily debug, inspect, and visualize your AI's decision-making process.\n",
        "\n",
        "3. **Seamless LangChain Integration**: Leverage your existing LangChain tools, retrievers, and agents effortlessly, making it easy to build powerful and reusable AI components."
      ],
      "metadata": {
        "id": "k0BkePbR2Jc6"
      }
    },
    {
      "cell_type": "code",
      "execution_count": 1,
      "metadata": {
        "colab": {
          "base_uri": "https://localhost:8080/"
        },
        "id": "2P72hCAo1XmP",
        "outputId": "87fe3ced-fbcc-4cf1-8d5f-13331fe21378"
      },
      "outputs": [
        {
          "output_type": "stream",
          "name": "stdout",
          "text": [
            "\u001b[2K     \u001b[90m━━━━━━━━━━━━━━━━━━━━━━━━━━━━━━━━━━━━━━━━\u001b[0m \u001b[32m43.7/43.7 kB\u001b[0m \u001b[31m3.3 MB/s\u001b[0m eta \u001b[36m0:00:00\u001b[0m\n",
            "\u001b[2K   \u001b[90m━━━━━━━━━━━━━━━━━━━━━━━━━━━━━━━━━━━━━━━━\u001b[0m \u001b[32m2.5/2.5 MB\u001b[0m \u001b[31m79.2 MB/s\u001b[0m eta \u001b[36m0:00:00\u001b[0m\n",
            "\u001b[2K   \u001b[90m━━━━━━━━━━━━━━━━━━━━━━━━━━━━━━━━━━━━━━━━\u001b[0m \u001b[32m143.7/143.7 kB\u001b[0m \u001b[31m11.1 MB/s\u001b[0m eta \u001b[36m0:00:00\u001b[0m\n",
            "\u001b[2K   \u001b[90m━━━━━━━━━━━━━━━━━━━━━━━━━━━━━━━━━━━━━━━━\u001b[0m \u001b[32m42.0/42.0 kB\u001b[0m \u001b[31m3.3 MB/s\u001b[0m eta \u001b[36m0:00:00\u001b[0m\n",
            "\u001b[2K   \u001b[90m━━━━━━━━━━━━━━━━━━━━━━━━━━━━━━━━━━━━━━━━\u001b[0m \u001b[32m43.8/43.8 kB\u001b[0m \u001b[31m3.3 MB/s\u001b[0m eta \u001b[36m0:00:00\u001b[0m\n",
            "\u001b[2K   \u001b[90m━━━━━━━━━━━━━━━━━━━━━━━━━━━━━━━━━━━━━━━━\u001b[0m \u001b[32m50.1/50.1 kB\u001b[0m \u001b[31m3.9 MB/s\u001b[0m eta \u001b[36m0:00:00\u001b[0m\n",
            "\u001b[2K   \u001b[90m━━━━━━━━━━━━━━━━━━━━━━━━━━━━━━━━━━━━━━━━\u001b[0m \u001b[32m45.2/45.2 kB\u001b[0m \u001b[31m3.0 MB/s\u001b[0m eta \u001b[36m0:00:00\u001b[0m\n",
            "\u001b[2K   \u001b[90m━━━━━━━━━━━━━━━━━━━━━━━━━━━━━━━━━━━━━━━━\u001b[0m \u001b[32m50.9/50.9 kB\u001b[0m \u001b[31m4.1 MB/s\u001b[0m eta \u001b[36m0:00:00\u001b[0m\n",
            "\u001b[2K   \u001b[90m━━━━━━━━━━━━━━━━━━━━━━━━━━━━━━━━━━━━━━━━\u001b[0m \u001b[32m216.5/216.5 kB\u001b[0m \u001b[31m16.1 MB/s\u001b[0m eta \u001b[36m0:00:00\u001b[0m\n",
            "\u001b[?25h"
          ]
        }
      ],
      "source": [
        "!pip -qq install -U langchain langchain-community langgraph pydantic google-ai-generativelanguage==0.6.15 langchain-google-genai"
      ]
    },
    {
      "cell_type": "code",
      "source": [
        "from google.colab import userdata\n",
        "\n",
        "GEMINI_API_KEY = userdata.get('GOOGLE_API_KEY')"
      ],
      "metadata": {
        "id": "g5I-b5-u-GU3"
      },
      "execution_count": 2,
      "outputs": []
    },
    {
      "cell_type": "markdown",
      "source": [
        "## Basics\n",
        "This section covers the fundamental ideas you need to start building with LangGraph.\n",
        "\n",
        "LangGraph is a stateful, orchestration framework for building various LLM-powered applications by designing them as a `graph`.\n",
        "A graph has 3 main components:\n",
        "1. `State`: A shared object accessible across all nodes in the graph.\n",
        "2. `Nodes`: Python functions encapsulating agent logic.\n",
        "3. `Edges`: Python functions that decide the next node to run based on the current state.\n",
        "\n"
      ],
      "metadata": {
        "id": "H7mQsiqO2CJN"
      }
    },
    {
      "cell_type": "markdown",
      "source": [
        "### State\n",
        "The `State` object is the central notepad where all information about your AI's current task is stored. Every part of your AI can read from this notepad and update it.\n",
        "\n",
        "To define a state we need:\n",
        "- Schemas: Represents the state structure, can be defined using a `TypedDict` or a pydantic `BaseModel`.\n",
        "- Reducer functions (Optional): Functions used to update States."
      ],
      "metadata": {
        "id": "Hh5XjnYP7BkJ"
      }
    },
    {
      "cell_type": "code",
      "source": [
        "from langgraph.graph import StateGraph\n",
        "from langchain_core.messages import AnyMessage, HumanMessage"
      ],
      "metadata": {
        "id": "hPskyeHOC4XK"
      },
      "execution_count": 3,
      "outputs": []
    },
    {
      "cell_type": "markdown",
      "source": [
        "#### Schemas\n"
      ],
      "metadata": {
        "id": "Fo60V82i_lcs"
      }
    },
    {
      "cell_type": "markdown",
      "source": [
        "**Defining State with Typed Dicttionary**"
      ],
      "metadata": {
        "id": "muWSgVGyxxaa"
      }
    },
    {
      "cell_type": "code",
      "source": [
        "from typing import List, TypedDict"
      ],
      "metadata": {
        "id": "i3DZP83i9zqS"
      },
      "execution_count": 4,
      "outputs": []
    },
    {
      "cell_type": "code",
      "source": [
        "# Define the State using TypedDict\n",
        "class ChatbotStateTD(TypedDict):\n",
        "    messages: List[AnyMessage]"
      ],
      "metadata": {
        "id": "byy7q4rZ3W4o"
      },
      "execution_count": 5,
      "outputs": []
    },
    {
      "cell_type": "code",
      "source": [
        "# Initial State\n",
        "initial_state_typeddict = ChatbotStateTD(messages=[])\n",
        "type(initial_state_typeddict)"
      ],
      "metadata": {
        "colab": {
          "base_uri": "https://localhost:8080/"
        },
        "id": "oevbLDC-sItn",
        "outputId": "5ab2f8b8-2550-4a38-eee3-7dabfdb54661"
      },
      "execution_count": 6,
      "outputs": [
        {
          "output_type": "execute_result",
          "data": {
            "text/plain": [
              "dict"
            ]
          },
          "metadata": {},
          "execution_count": 6
        }
      ]
    },
    {
      "cell_type": "code",
      "source": [
        "print(f\"Initial State (TypedDict): {initial_state_typeddict}\")"
      ],
      "metadata": {
        "colab": {
          "base_uri": "https://localhost:8080/"
        },
        "id": "5q3iKk3V1-Bj",
        "outputId": "02fee36b-4d38-441b-a80f-a3ebea130700"
      },
      "execution_count": 7,
      "outputs": [
        {
          "output_type": "stream",
          "name": "stdout",
          "text": [
            "Initial State (TypedDict): {'messages': []}\n"
          ]
        }
      ]
    },
    {
      "cell_type": "code",
      "source": [
        "# Initial State with dictionary\n",
        "initial_state_typeddict = ChatbotStateTD({\"messages\": []})\n",
        "\n",
        "print(f\"Initial State (TypedDict): {initial_state_typeddict}\")"
      ],
      "metadata": {
        "colab": {
          "base_uri": "https://localhost:8080/"
        },
        "id": "fQGKjV9219-9",
        "outputId": "6ab353bb-600e-4277-91fd-102439231c11"
      },
      "execution_count": 8,
      "outputs": [
        {
          "output_type": "stream",
          "name": "stdout",
          "text": [
            "Initial State (TypedDict): {'messages': []}\n"
          ]
        }
      ]
    },
    {
      "cell_type": "code",
      "source": [
        "# Initial State with wrong types\n",
        "initial_state_typeddict_1 = ChatbotStateTD({\"messages\": True})\n",
        "initial_state_typeddict_2 = ChatbotStateTD({\"messages\": [\"hello\"]})\n",
        "\n",
        "print(f\"{initial_state_typeddict_1=}\\n{initial_state_typeddict_2=}\")"
      ],
      "metadata": {
        "colab": {
          "base_uri": "https://localhost:8080/"
        },
        "id": "5DCIpEy3qsNT",
        "outputId": "ad15faab-0058-430b-ba66-dffea2e7700b"
      },
      "execution_count": 9,
      "outputs": [
        {
          "output_type": "stream",
          "name": "stdout",
          "text": [
            "initial_state_typeddict_1={'messages': True}\n",
            "initial_state_typeddict_2={'messages': ['hello']}\n"
          ]
        }
      ]
    },
    {
      "cell_type": "markdown",
      "source": [
        "**Defining State with pydantic BaseModel**"
      ],
      "metadata": {
        "id": "xTTCQSAJDFMr"
      }
    },
    {
      "cell_type": "code",
      "source": [
        "from pydantic import BaseModel, Field"
      ],
      "metadata": {
        "id": "l2DZAAfGDNpF"
      },
      "execution_count": 10,
      "outputs": []
    },
    {
      "cell_type": "code",
      "source": [
        "# Define the State using TypedDict\n",
        "class ChatbotStateBM(BaseModel):\n",
        "    messages: List[AnyMessage] = Field(default_factory=list)"
      ],
      "metadata": {
        "id": "G65Q4oMqCv76"
      },
      "execution_count": 11,
      "outputs": []
    },
    {
      "cell_type": "code",
      "source": [
        "# Initial State\n",
        "initial_state_pydantic = ChatbotStateBM()\n",
        "initial_state_pydantic"
      ],
      "metadata": {
        "colab": {
          "base_uri": "https://localhost:8080/"
        },
        "id": "FNrjwE8ACv5T",
        "outputId": "97194ddf-d481-4a57-e909-46f6c20c1504"
      },
      "execution_count": 12,
      "outputs": [
        {
          "output_type": "execute_result",
          "data": {
            "text/plain": [
              "ChatbotStateBM(messages=[])"
            ]
          },
          "metadata": {},
          "execution_count": 12
        }
      ]
    },
    {
      "cell_type": "code",
      "source": [
        "print(f\"Initial State (Pydantic): {initial_state_pydantic}\")\n",
        "print(f\"Initial State (Pydantic): {initial_state_pydantic.model_dump()}\")"
      ],
      "metadata": {
        "colab": {
          "base_uri": "https://localhost:8080/"
        },
        "id": "kAHOxhs6Cv2n",
        "outputId": "0ab9c8a6-7692-4214-f37f-48c88a729b69"
      },
      "execution_count": 13,
      "outputs": [
        {
          "output_type": "stream",
          "name": "stdout",
          "text": [
            "Initial State (Pydantic): messages=[]\n",
            "Initial State (Pydantic): {'messages': []}\n"
          ]
        }
      ]
    },
    {
      "cell_type": "code",
      "source": [
        "# Initial State with non-default value\n",
        "initial_state_pydantic = ChatbotStateBM(messages=[HumanMessage(\"Hello!\")])\n",
        "initial_state_pydantic"
      ],
      "metadata": {
        "colab": {
          "base_uri": "https://localhost:8080/"
        },
        "id": "QpbJI8mp195z",
        "outputId": "d725bb11-ce5c-464a-a656-b2863f7afbe6"
      },
      "execution_count": 14,
      "outputs": [
        {
          "output_type": "execute_result",
          "data": {
            "text/plain": [
              "ChatbotStateBM(messages=[HumanMessage(content='Hello!', additional_kwargs={}, response_metadata={})])"
            ]
          },
          "metadata": {},
          "execution_count": 14
        }
      ]
    },
    {
      "cell_type": "code",
      "source": [
        "# Initial State with wrong type\n",
        "initial_state_pydantic = ChatbotStateBM(messages=\"Hello!\")"
      ],
      "metadata": {
        "colab": {
          "base_uri": "https://localhost:8080/",
          "height": 346
        },
        "id": "LEVSWLau1923",
        "outputId": "9f56d0ae-a2b1-4fd8-aa2d-3c9ac48f60e3"
      },
      "execution_count": 15,
      "outputs": [
        {
          "output_type": "error",
          "ename": "ValidationError",
          "evalue": "1 validation error for ChatbotStateBM\nmessages\n  Input should be a valid list [type=list_type, input_value='Hello!', input_type=str]\n    For further information visit https://errors.pydantic.dev/2.11/v/list_type",
          "traceback": [
            "\u001b[0;31m---------------------------------------------------------------------------\u001b[0m",
            "\u001b[0;31mValidationError\u001b[0m                           Traceback (most recent call last)",
            "\u001b[0;32m/tmp/ipython-input-15-1170666437.py\u001b[0m in \u001b[0;36m<cell line: 0>\u001b[0;34m()\u001b[0m\n\u001b[1;32m      1\u001b[0m \u001b[0;31m# Initial State with wrong type\u001b[0m\u001b[0;34m\u001b[0m\u001b[0;34m\u001b[0m\u001b[0m\n\u001b[0;32m----> 2\u001b[0;31m \u001b[0minitial_state_pydantic\u001b[0m \u001b[0;34m=\u001b[0m \u001b[0mChatbotStateBM\u001b[0m\u001b[0;34m(\u001b[0m\u001b[0mmessages\u001b[0m\u001b[0;34m=\u001b[0m\u001b[0;34m\"Hello!\"\u001b[0m\u001b[0;34m)\u001b[0m\u001b[0;34m\u001b[0m\u001b[0;34m\u001b[0m\u001b[0m\n\u001b[0m",
            "\u001b[0;32m/usr/local/lib/python3.11/dist-packages/pydantic/main.py\u001b[0m in \u001b[0;36m__init__\u001b[0;34m(self, **data)\u001b[0m\n\u001b[1;32m    251\u001b[0m         \u001b[0;31m# `__tracebackhide__` tells pytest and some other tools to omit this function from tracebacks\u001b[0m\u001b[0;34m\u001b[0m\u001b[0;34m\u001b[0m\u001b[0m\n\u001b[1;32m    252\u001b[0m         \u001b[0m__tracebackhide__\u001b[0m \u001b[0;34m=\u001b[0m \u001b[0;32mTrue\u001b[0m\u001b[0;34m\u001b[0m\u001b[0;34m\u001b[0m\u001b[0m\n\u001b[0;32m--> 253\u001b[0;31m         \u001b[0mvalidated_self\u001b[0m \u001b[0;34m=\u001b[0m \u001b[0mself\u001b[0m\u001b[0;34m.\u001b[0m\u001b[0m__pydantic_validator__\u001b[0m\u001b[0;34m.\u001b[0m\u001b[0mvalidate_python\u001b[0m\u001b[0;34m(\u001b[0m\u001b[0mdata\u001b[0m\u001b[0;34m,\u001b[0m \u001b[0mself_instance\u001b[0m\u001b[0;34m=\u001b[0m\u001b[0mself\u001b[0m\u001b[0;34m)\u001b[0m\u001b[0;34m\u001b[0m\u001b[0;34m\u001b[0m\u001b[0m\n\u001b[0m\u001b[1;32m    254\u001b[0m         \u001b[0;32mif\u001b[0m \u001b[0mself\u001b[0m \u001b[0;32mis\u001b[0m \u001b[0;32mnot\u001b[0m \u001b[0mvalidated_self\u001b[0m\u001b[0;34m:\u001b[0m\u001b[0;34m\u001b[0m\u001b[0;34m\u001b[0m\u001b[0m\n\u001b[1;32m    255\u001b[0m             warnings.warn(\n",
            "\u001b[0;31mValidationError\u001b[0m: 1 validation error for ChatbotStateBM\nmessages\n  Input should be a valid list [type=list_type, input_value='Hello!', input_type=str]\n    For further information visit https://errors.pydantic.dev/2.11/v/list_type"
          ]
        }
      ]
    },
    {
      "cell_type": "markdown",
      "source": [
        "**Note:**\n",
        "Instead of a single, shared data schema for all nodes, LangGraph lets you define multiple schemas to:\n",
        "\n",
        "- **Control Internal Data:** Keep intermediate information private between nodes, preventing it from cluttering the main input/output.\n",
        "\n",
        "- **Tailor Graph I/O:** Define specific input and output schemas for the overall graph, allowing you to expose only the relevant data to external systems."
      ],
      "metadata": {
        "id": "9rqs0NagwI4v"
      }
    },
    {
      "cell_type": "code",
      "source": [
        "# Define graph with multiple states (input, internal, and output)\n",
        "class InputState(TypedDict):\n",
        "    user_input: str\n",
        "\n",
        "class OutputState(TypedDict):\n",
        "    graph_output: str\n",
        "\n",
        "class InternalState(TypedDict):\n",
        "    internal_var: str\n",
        "    user_input: str\n",
        "    graph_output: str\n",
        "\n",
        "graph = StateGraph(InternalState, input_schema=InputState, output_schema=OutputState)\n",
        "\n",
        "#### We can also define private input and output state node states (images)"
      ],
      "metadata": {
        "id": "C2rF9RFV190b"
      },
      "execution_count": 16,
      "outputs": []
    },
    {
      "cell_type": "markdown",
      "source": [
        "#### Reducers\n",
        "\n",
        "In this segment, we'll just see how to define reducers, but we'll see them in action afterward."
      ],
      "metadata": {
        "id": "p8dt-8G5x0AT"
      }
    },
    {
      "cell_type": "code",
      "source": [
        "# Default reducer function\n",
        "class State(TypedDict):\n",
        "    foo: int\n",
        "    bar: str\n",
        "    baz: float"
      ],
      "metadata": {
        "id": "3fyFnJxkx00O"
      },
      "execution_count": 17,
      "outputs": []
    },
    {
      "cell_type": "code",
      "source": [
        "# Cutom reducer function\n",
        "from typing import Annotated\n",
        "from operator import add\n",
        "\n",
        "def custom_reducer(old_value, new_value) -> float:\n",
        "  return (old_value + new_value)/2\n",
        "\n",
        "def increment(old_value, new_value) -> int:\n",
        "  return old_value + 1\n",
        "\n",
        "class State(TypedDict):\n",
        "    foo: Annotated[float, custom_reducer]\n",
        "    baz: Annotated[int, increment] # Count nbr of updates\n",
        "    bar: Annotated[list[str], add]"
      ],
      "metadata": {
        "id": "FIAKMQsEzfJi"
      },
      "execution_count": 18,
      "outputs": []
    },
    {
      "cell_type": "markdown",
      "source": [
        "### Nodes\n",
        "\n",
        "LangGraph nodes are Python functions that primarily receive the graph's state as their first argument. They can also accept an optional config argument for parameters like thread_id. You integrate these functions into your graph using the add_node method."
      ],
      "metadata": {
        "id": "GAJ9pdcv-cWQ"
      }
    },
    {
      "cell_type": "code",
      "source": [
        "from typing_extensions import TypedDict\n",
        "from langgraph.graph import StateGraph\n",
        "from langgraph.graph.message import add_messages"
      ],
      "metadata": {
        "id": "sdtDyxT6CUCW"
      },
      "execution_count": 19,
      "outputs": []
    },
    {
      "cell_type": "code",
      "source": [
        "# define state\n",
        "class State(TypedDict):\n",
        "    messages: Annotated[list, add_messages]\n",
        "\n",
        "# define chatbot 1 node\n",
        "def chatbot1(state: State) -> State:\n",
        "    llm_response = \"Hello from the chatbot1!\"\n",
        "    return {\"messages\": [llm_response]}\n",
        "\n",
        "# define chatbot 2 node\n",
        "def chatbot2(state: State) -> State:\n",
        "    llm_response = \"Hello from the chatbot2!\"\n",
        "    return {\"messages\": [llm_response]}"
      ],
      "metadata": {
        "id": "Pt5ZISVfx0x_"
      },
      "execution_count": 20,
      "outputs": []
    },
    {
      "cell_type": "markdown",
      "source": [
        "We have define a state and a node, we can now start building our graph!"
      ],
      "metadata": {
        "id": "3IuyiJ08A8iA"
      }
    },
    {
      "cell_type": "code",
      "source": [
        "# Instantiate a graph builder\n",
        "graph_builder = StateGraph(State)\n",
        "\n",
        "# Add node\n",
        "graph_builder.add_node(\"chatbot1\", chatbot1)\n",
        "\n",
        "# We can also add caching to an expensive node\n",
        "graph_builder.add_node(\"chatbot2\", chatbot2)"
      ],
      "metadata": {
        "colab": {
          "base_uri": "https://localhost:8080/"
        },
        "id": "omyHrCCOx0sQ",
        "outputId": "2500fa61-5569-413f-adbb-9686d9aa3172"
      },
      "execution_count": 21,
      "outputs": [
        {
          "output_type": "execute_result",
          "data": {
            "text/plain": [
              "<langgraph.graph.state.StateGraph at 0x7b834d8f5d50>"
            ]
          },
          "metadata": {},
          "execution_count": 21
        }
      ]
    },
    {
      "cell_type": "markdown",
      "source": [
        "There are many options when adding a node to a graph:\n",
        "- Passing an `input_schema`\n",
        "- Deferring node execution\n",
        "- Use caching for expensive nodes.\n",
        "- Destinations for edgeless graphs."
      ],
      "metadata": {
        "id": "RzG1AMy6Bk8a"
      }
    },
    {
      "cell_type": "markdown",
      "source": [
        "We can't compile and run our graph yet, because we need Edges to define the flow in our graph!"
      ],
      "metadata": {
        "id": "T50aZSbIQLbj"
      }
    },
    {
      "cell_type": "code",
      "source": [
        "graph_builder.compile()"
      ],
      "metadata": {
        "colab": {
          "base_uri": "https://localhost:8080/",
          "height": 297
        },
        "id": "lmH4BDWRQAiT",
        "outputId": "eb375278-dac7-4fb7-c885-c202db4cd15b"
      },
      "execution_count": 22,
      "outputs": [
        {
          "output_type": "error",
          "ename": "ValueError",
          "evalue": "Graph must have an entrypoint: add at least one edge from START to another node",
          "traceback": [
            "\u001b[0;31m---------------------------------------------------------------------------\u001b[0m",
            "\u001b[0;31mValueError\u001b[0m                                Traceback (most recent call last)",
            "\u001b[0;32m/tmp/ipython-input-22-2707167576.py\u001b[0m in \u001b[0;36m<cell line: 0>\u001b[0;34m()\u001b[0m\n\u001b[0;32m----> 1\u001b[0;31m \u001b[0mgraph_builder\u001b[0m\u001b[0;34m.\u001b[0m\u001b[0mcompile\u001b[0m\u001b[0;34m(\u001b[0m\u001b[0;34m)\u001b[0m\u001b[0;34m\u001b[0m\u001b[0;34m\u001b[0m\u001b[0m\n\u001b[0m",
            "\u001b[0;32m/usr/local/lib/python3.11/dist-packages/langgraph/graph/state.py\u001b[0m in \u001b[0;36mcompile\u001b[0;34m(self, checkpointer, cache, store, interrupt_before, interrupt_after, debug, name)\u001b[0m\n\u001b[1;32m    820\u001b[0m \u001b[0;34m\u001b[0m\u001b[0m\n\u001b[1;32m    821\u001b[0m         \u001b[0;31m# validate the graph\u001b[0m\u001b[0;34m\u001b[0m\u001b[0;34m\u001b[0m\u001b[0m\n\u001b[0;32m--> 822\u001b[0;31m         self.validate(\n\u001b[0m\u001b[1;32m    823\u001b[0m             interrupt=(\n\u001b[1;32m    824\u001b[0m                 \u001b[0;34m(\u001b[0m\u001b[0minterrupt_before\u001b[0m \u001b[0;32mif\u001b[0m \u001b[0minterrupt_before\u001b[0m \u001b[0;34m!=\u001b[0m \u001b[0;34m\"*\"\u001b[0m \u001b[0;32melse\u001b[0m \u001b[0;34m[\u001b[0m\u001b[0;34m]\u001b[0m\u001b[0;34m)\u001b[0m \u001b[0;34m+\u001b[0m \u001b[0minterrupt_after\u001b[0m\u001b[0;34m\u001b[0m\u001b[0;34m\u001b[0m\u001b[0m\n",
            "\u001b[0;32m/usr/local/lib/python3.11/dist-packages/langgraph/graph/state.py\u001b[0m in \u001b[0;36mvalidate\u001b[0;34m(self, interrupt)\u001b[0m\n\u001b[1;32m    750\u001b[0m \u001b[0;34m\u001b[0m\u001b[0m\n\u001b[1;32m    751\u001b[0m         \u001b[0;32mif\u001b[0m \u001b[0mSTART\u001b[0m \u001b[0;32mnot\u001b[0m \u001b[0;32min\u001b[0m \u001b[0mall_sources\u001b[0m\u001b[0;34m:\u001b[0m\u001b[0;34m\u001b[0m\u001b[0;34m\u001b[0m\u001b[0m\n\u001b[0;32m--> 752\u001b[0;31m             raise ValueError(\n\u001b[0m\u001b[1;32m    753\u001b[0m                 \u001b[0;34m\"Graph must have an entrypoint: add at least one edge from START to another node\"\u001b[0m\u001b[0;34m\u001b[0m\u001b[0;34m\u001b[0m\u001b[0m\n\u001b[1;32m    754\u001b[0m             )\n",
            "\u001b[0;31mValueError\u001b[0m: Graph must have an entrypoint: add at least one edge from START to another node"
          ]
        }
      ]
    },
    {
      "cell_type": "markdown",
      "source": [
        "### Edges\n",
        "\n",
        "Edges define graph flow and termination. They can be normal (direct), conditional (function-based routing), or specify entry points (can be  conditional). Crucially, a node with multiple outgoing edges will execute all destination nodes in parallel, which are then considered part of the same super-step."
      ],
      "metadata": {
        "id": "pJuCsbPFFbf5"
      }
    },
    {
      "cell_type": "code",
      "source": [
        "from langgraph.graph import START, END"
      ],
      "metadata": {
        "id": "NIaCuqkNIVFb"
      },
      "execution_count": 23,
      "outputs": []
    },
    {
      "cell_type": "code",
      "source": [
        "# define normal (direct) edge\n",
        "graph_builder.add_edge(START, \"chatbot1\")"
      ],
      "metadata": {
        "colab": {
          "base_uri": "https://localhost:8080/"
        },
        "id": "FhHgDkVs9EgM",
        "outputId": "c76128a9-cd1e-477e-a26d-1f90e5bf986a"
      },
      "execution_count": 24,
      "outputs": [
        {
          "output_type": "execute_result",
          "data": {
            "text/plain": [
              "<langgraph.graph.state.StateGraph at 0x7b834d8f5d50>"
            ]
          },
          "metadata": {},
          "execution_count": 24
        }
      ]
    },
    {
      "cell_type": "code",
      "source": [
        "# define conditional edge\n",
        "def routing_function(state: State) -> str:\n",
        "    if len(state[\"messages\"]) > 1000:\n",
        "        return \"chatbot2\"\n",
        "    return \"chatbot1\"\n",
        "\n",
        "graph_builder.add_conditional_edges(START, routing_function)"
      ],
      "metadata": {
        "colab": {
          "base_uri": "https://localhost:8080/"
        },
        "id": "MtswpUfZ9Edg",
        "outputId": "7d2fffbd-f87f-43f9-c341-fef36429c365"
      },
      "execution_count": 25,
      "outputs": [
        {
          "output_type": "execute_result",
          "data": {
            "text/plain": [
              "<langgraph.graph.state.StateGraph at 0x7b834d8f5d50>"
            ]
          },
          "metadata": {},
          "execution_count": 25
        }
      ]
    },
    {
      "cell_type": "code",
      "source": [
        "# define conditional edge with path mapping\n",
        "def use_chatbot2(state: State) -> str:\n",
        "    if len(state[\"messages\"]) > 1000:\n",
        "        return True\n",
        "    return False\n",
        "\n",
        "graph_builder.add_conditional_edges(START, use_chatbot2, {True: \"chatbot2\", False:\"chatbot1\"})"
      ],
      "metadata": {
        "colab": {
          "base_uri": "https://localhost:8080/"
        },
        "id": "ubcIhtKY9Eas",
        "outputId": "8d61fe4d-a3d7-432a-d4a4-ba58de7e3425"
      },
      "execution_count": 26,
      "outputs": [
        {
          "output_type": "execute_result",
          "data": {
            "text/plain": [
              "<langgraph.graph.state.StateGraph at 0x7b834d8f5d50>"
            ]
          },
          "metadata": {},
          "execution_count": 26
        }
      ]
    },
    {
      "cell_type": "markdown",
      "source": [
        "### Defining & Compiling a graph\n",
        "\n",
        "Now that we have seen the basic components that are used to define a graph in `langgraph`, let's see how to build, compile, and run it.\n",
        "\n",
        "As a first example we will see how to build a simple chatbot with `langgrapph`."
      ],
      "metadata": {
        "id": "mRBYK_06KsBT"
      }
    },
    {
      "cell_type": "code",
      "source": [
        "from typing import Annotated, List\n",
        "from pydantic import BaseModel\n",
        "\n",
        "from langgraph.graph import StateGraph, START, END\n",
        "from langgraph.graph.message import add_messages\n",
        "\n",
        "from langchain_core.messages import AnyMessage\n",
        "from langchain_google_genai import ChatGoogleGenerativeAI"
      ],
      "metadata": {
        "id": "T8lHL8cn9EX4"
      },
      "execution_count": 27,
      "outputs": []
    },
    {
      "cell_type": "code",
      "source": [
        "# define chat model\n",
        "gemini = ChatGoogleGenerativeAI(\n",
        "      model=\"models/gemini-2.0-flash\",\n",
        "      temperature=0,\n",
        "      api_key=GEMINI_API_KEY\n",
        ")"
      ],
      "metadata": {
        "id": "wtFtmqEfMFx8"
      },
      "execution_count": 28,
      "outputs": []
    },
    {
      "cell_type": "code",
      "source": [
        "# define state\n",
        "class MessageState(BaseModel):\n",
        "    messages: Annotated[List[AnyMessage], add_messages]  # from langgraph.graph import MessagesState\n",
        "\n",
        "\n",
        "# define chatbot node\n",
        "def chatbot(state: MessageState):\n",
        "    reponse = gemini.invoke(state.messages)\n",
        "    return {\"messages\": [reponse]}\n",
        "\n",
        "# create graph\n",
        "graph_builder = StateGraph(MessageState)\n",
        "\n",
        "# add nodes\n",
        "graph_builder.add_node(\"chatbot\", chatbot)\n",
        "\n",
        "# add edges\n",
        "graph_builder.add_edge(START, \"chatbot\")\n",
        "graph_builder.add_edge(\"chatbot\", END)\n",
        "\n",
        "# compile graph\n",
        "graph = graph_builder.compile()"
      ],
      "metadata": {
        "id": "D_vZz3jB9EU8"
      },
      "execution_count": 29,
      "outputs": []
    },
    {
      "cell_type": "code",
      "source": [
        "# visualize graph\n",
        "graph"
      ],
      "metadata": {
        "colab": {
          "base_uri": "https://localhost:8080/",
          "height": 251
        },
        "id": "StcgHzKkKk1k",
        "outputId": "1a521e43-110e-4e3a-933e-f185283884cd"
      },
      "execution_count": 30,
      "outputs": [
        {
          "output_type": "execute_result",
          "data": {
            "text/plain": [
              "<langgraph.graph.state.CompiledStateGraph object at 0x7b8346230690>"
            ],
            "image/png": "[encoded data removed]"
          },
          "metadata": {},
          "execution_count": 30
        }
      ]
    },
    {
      "cell_type": "code",
      "source": [
        "# run graph with invoke\n",
        "final_state = graph.invoke({\"messages\":[{\"role\":\"user\",\n",
        "                                         \"content\":\"Hello!\"\n",
        "                                         }]\n",
        "                            }) # can work with just [\"hello!\"] because we used predefined reducer"
      ],
      "metadata": {
        "id": "Ac4Y8DivKky3"
      },
      "execution_count": 31,
      "outputs": []
    },
    {
      "cell_type": "code",
      "source": [
        "final_state"
      ],
      "metadata": {
        "colab": {
          "base_uri": "https://localhost:8080/"
        },
        "id": "K8974uijKkv1",
        "outputId": "669f3cee-4146-45e5-ede6-ccf9d74543c0"
      },
      "execution_count": 32,
      "outputs": [
        {
          "output_type": "execute_result",
          "data": {
            "text/plain": [
              "{'messages': [HumanMessage(content='Hello!', additional_kwargs={}, response_metadata={}, id='c9cf710b-f13b-4f6b-80b0-dd1ea58b188c'),\n",
              "  AIMessage(content='Hello! How can I help you today?', additional_kwargs={}, response_metadata={'prompt_feedback': {'block_reason': 0, 'safety_ratings': []}, 'finish_reason': 'STOP', 'safety_ratings': []}, id='run--5a07c03b-0899-431b-a99d-7a9084f6059f-0', usage_metadata={'input_tokens': 2, 'output_tokens': 10, 'total_tokens': 12, 'input_token_details': {'cache_read': 0}})]}"
            ]
          },
          "metadata": {},
          "execution_count": 32
        }
      ]
    },
    {
      "cell_type": "code",
      "source": [
        "final_state[\"messages\"][-1].content"
      ],
      "metadata": {
        "colab": {
          "base_uri": "https://localhost:8080/",
          "height": 36
        },
        "id": "BXwgBF0LPMaX",
        "outputId": "4aa6e170-d387-4807-c314-09b80c340ba5"
      },
      "execution_count": 33,
      "outputs": [
        {
          "output_type": "execute_result",
          "data": {
            "text/plain": [
              "'Hello! How can I help you today?'"
            ],
            "application/vnd.google.colaboratory.intrinsic+json": {
              "type": "string"
            }
          },
          "metadata": {},
          "execution_count": 33
        }
      ]
    },
    {
      "cell_type": "code",
      "source": [
        "# run graph with stream\n",
        "final_state = graph.stream({\"messages\":[\"hello!\"]}, stream_mode=\"values\") # Emit all values in the state after each step"
      ],
      "metadata": {
        "id": "idFbqVGkoKsR"
      },
      "execution_count": 73,
      "outputs": []
    },
    {
      "cell_type": "code",
      "source": [
        "final_state"
      ],
      "metadata": {
        "colab": {
          "base_uri": "https://localhost:8080/"
        },
        "id": "caEy838iV2uU",
        "outputId": "b3a68337-859c-4a7f-ecb7-d6d9cb32cedd"
      },
      "execution_count": 74,
      "outputs": [
        {
          "output_type": "execute_result",
          "data": {
            "text/plain": [
              "<generator object Pregel.stream at 0x7b834627cd60>"
            ]
          },
          "metadata": {},
          "execution_count": 74
        }
      ]
    },
    {
      "cell_type": "code",
      "source": [
        "list(final_state)"
      ],
      "metadata": {
        "colab": {
          "base_uri": "https://localhost:8080/"
        },
        "id": "uzp8lnEOV44x",
        "outputId": "b39eecd6-1744-4a35-9400-2a025b664514"
      },
      "execution_count": 58,
      "outputs": [
        {
          "output_type": "execute_result",
          "data": {
            "text/plain": [
              "[{'messages': [HumanMessage(content='hello!', additional_kwargs={}, response_metadata={}, id='fbe52028-5aca-47e9-8935-a656ad5c756e')]},\n",
              " {'messages': [HumanMessage(content='hello!', additional_kwargs={}, response_metadata={}, id='fbe52028-5aca-47e9-8935-a656ad5c756e'),\n",
              "   AIMessage(content='Hello! How can I help you today?', additional_kwargs={}, response_metadata={'prompt_feedback': {'block_reason': 0, 'safety_ratings': []}, 'finish_reason': 'STOP', 'safety_ratings': []}, id='run--448453d2-5fa6-4a8a-bc7f-a361558a7cf5-0', usage_metadata={'input_tokens': 2, 'output_tokens': 10, 'total_tokens': 12, 'input_token_details': {'cache_read': 0}})]}]"
            ]
          },
          "metadata": {},
          "execution_count": 58
        }
      ]
    },
    {
      "cell_type": "code",
      "source": [
        "import time\n",
        "\n",
        "def print_stream(stream):\n",
        "    for s in stream:\n",
        "        message = s[\"messages\"][-1]\n",
        "        message.pretty_print()\n",
        "        time.sleep(1)"
      ],
      "metadata": {
        "id": "O_mTK6AgVO60"
      },
      "execution_count": 75,
      "outputs": []
    },
    {
      "cell_type": "code",
      "source": [
        "print_stream(final_state)"
      ],
      "metadata": {
        "colab": {
          "base_uri": "https://localhost:8080/"
        },
        "id": "d6N2oAaXVJP8",
        "outputId": "a604a409-06f6-4a51-a730-4ebf04a5a7ba"
      },
      "execution_count": 76,
      "outputs": [
        {
          "output_type": "stream",
          "name": "stdout",
          "text": [
            "================================\u001b[1m Human Message \u001b[0m=================================\n",
            "\n",
            "hello!\n",
            "==================================\u001b[1m Ai Message \u001b[0m==================================\n",
            "\n",
            "Hello! How can I help you today?\n"
          ]
        }
      ]
    },
    {
      "cell_type": "markdown",
      "source": [
        "## Advanced Concepts & Design Patterns\n",
        "\n",
        "In this section, we'll cover few advanced concepts and design patterns that are imporant to build more sophisticated graphs and workflows.\n",
        "\n",
        "You'll learn the following:\n",
        "- Runtime Configuration (Runnable Config).\n",
        "- Command API for Dynamic Node Routing and State Updates.\n",
        "- Persistence with checkpointers (Chat History & HITL).\n",
        "- Map-reduce design pattern with Send API.\n",
        "- Loops and Recursion limit.\n",
        "\n",
        "\n"
      ],
      "metadata": {
        "id": "W1PDW3hTQJf8"
      }
    },
    {
      "cell_type": "markdown",
      "source": [
        "### Runtime configuration\n",
        "\n",
        "Runtime configuration allows you to dynamically set parameters like the LLM or system prompt that can be used within nodes and conditional edges, without cluttering the graph's internal state."
      ],
      "metadata": {
        "id": "5D7WvsW9v0dJ"
      }
    },
    {
      "cell_type": "code",
      "source": [
        "from langchain_core.runnables import RunnableConfig\n",
        "from langgraph.graph import add_messages\n",
        "\n",
        "\n",
        "class State(TypedDict):\n",
        "    messages: Annotated[list, add_messages]\n",
        "\n",
        "class ConfigSchema(TypedDict):\n",
        "    llm_model: str\n",
        "\n",
        "def chatbot(state: State, config:RunnableConfig) -> State:\n",
        "    if config[\"configurable\"][\"llm_model\"] == \"gemini\":\n",
        "        llm_response = \"Hello from the Gemini chatbot!\"\n",
        "    elif config[\"configurable\"][\"llm_model\"] == \"openai\":\n",
        "        llm_response = \"Hello from the OpenAI chatbot!\"\n",
        "    else:\n",
        "        raise(ValueError(\"Invalid/Unsupported LLM model.\"))\n",
        "    return {\"messages\": [llm_response]}\n",
        "\n",
        "builder = StateGraph(State, config_schema=ConfigSchema)\n",
        "\n",
        "builder.add_node(\"chatbot\", chatbot)\n",
        "\n",
        "builder.set_entry_point(\"chatbot\")\n",
        "builder.set_finish_point(\"chatbot\")\n",
        "\n",
        "graph = builder.compile()"
      ],
      "metadata": {
        "id": "eq3ZsP6Ov0IK"
      },
      "execution_count": 77,
      "outputs": []
    },
    {
      "cell_type": "code",
      "source": [
        "graph"
      ],
      "metadata": {
        "colab": {
          "base_uri": "https://localhost:8080/",
          "height": 251
        },
        "id": "eRPZSQc6zu8u",
        "outputId": "8ffb09f8-eca5-45af-b2ba-86309649f2d5"
      },
      "execution_count": 78,
      "outputs": [
        {
          "output_type": "execute_result",
          "data": {
            "text/plain": [
              "<langgraph.graph.state.CompiledStateGraph object at 0x7b833f60a9d0>"
            ],
            "image/png": "[encoded data removed]"
          },
          "metadata": {},
          "execution_count": 78
        }
      ]
    },
    {
      "cell_type": "code",
      "source": [
        "config_with_gemini = {\"configurable\": {\"llm_model\": \"gemini\"}}\n",
        "config_with_openai = {\"configurable\": {\"llm_model\": \"openai\"}}\n",
        "\n",
        "final_state_1 = graph.invoke({\"messages\":[\"Hello!\"]}, config_with_gemini)\n",
        "final_state_2 = graph.invoke({\"messages\":[\"Hello!\"]}, config_with_openai)"
      ],
      "metadata": {
        "id": "CmIx0UTszu6B"
      },
      "execution_count": null,
      "outputs": []
    },
    {
      "cell_type": "code",
      "source": [
        "final_state_1[\"messages\"][-1].content, final_state_2[\"messages\"][-1].content"
      ],
      "metadata": {
        "colab": {
          "base_uri": "https://localhost:8080/"
        },
        "id": "SSE0lnKO0j0M",
        "outputId": "a97b0c8d-dc73-449f-a5f4-25c946a11198"
      },
      "execution_count": null,
      "outputs": [
        {
          "output_type": "execute_result",
          "data": {
            "text/plain": [
              "('Hello from the Gemini chatbot!', 'Hello from the OpenAI chatbot!')"
            ]
          },
          "metadata": {},
          "execution_count": 91
        }
      ]
    },
    {
      "cell_type": "code",
      "source": [
        "config_with_wrong_llm = {\"configurable\": {\"llm_model\": \"grok\"}}\n",
        "final_state = graph.invoke({\"messages\":[\"Hello!\"]}, config_with_wrong_llm)"
      ],
      "metadata": {
        "colab": {
          "base_uri": "https://localhost:8080/",
          "height": 315
        },
        "id": "DhsobIw-1GQm",
        "outputId": "57b24570-0d3c-4ffa-ed45-a551b7346887"
      },
      "execution_count": null,
      "outputs": [
        {
          "output_type": "error",
          "ename": "ValueError",
          "evalue": "Invalid/Unsupported LLM model.",
          "traceback": [
            "\u001b[0;31m---------------------------------------------------------------------------\u001b[0m",
            "\u001b[0;31mValueError\u001b[0m                                Traceback (most recent call last)",
            "\u001b[0;32m/tmp/ipython-input-94-1669621646.py\u001b[0m in \u001b[0;36m<cell line: 0>\u001b[0;34m()\u001b[0m\n\u001b[1;32m      1\u001b[0m \u001b[0mconfig_with_wrong_llm\u001b[0m \u001b[0;34m=\u001b[0m \u001b[0;34m{\u001b[0m\u001b[0;34m\"configurable\"\u001b[0m\u001b[0;34m:\u001b[0m \u001b[0;34m{\u001b[0m\u001b[0;34m\"llm_model\"\u001b[0m\u001b[0;34m:\u001b[0m \u001b[0;34m\"grok\"\u001b[0m\u001b[0;34m}\u001b[0m\u001b[0;34m}\u001b[0m\u001b[0;34m\u001b[0m\u001b[0;34m\u001b[0m\u001b[0m\n\u001b[0;32m----> 2\u001b[0;31m \u001b[0mfinal_state\u001b[0m \u001b[0;34m=\u001b[0m \u001b[0mgraph\u001b[0m\u001b[0;34m.\u001b[0m\u001b[0minvoke\u001b[0m\u001b[0;34m(\u001b[0m\u001b[0;34m{\u001b[0m\u001b[0;34m\"messages\"\u001b[0m\u001b[0;34m:\u001b[0m\u001b[0;34m[\u001b[0m\u001b[0;34m\"Hello!\"\u001b[0m\u001b[0;34m]\u001b[0m\u001b[0;34m}\u001b[0m\u001b[0;34m,\u001b[0m \u001b[0mconfig_with_wrong_llm\u001b[0m\u001b[0;34m)\u001b[0m\u001b[0;34m\u001b[0m\u001b[0;34m\u001b[0m\u001b[0m\n\u001b[0m",
            "\u001b[0;32m/usr/local/lib/python3.11/dist-packages/langgraph/pregel/__init__.py\u001b[0m in \u001b[0;36minvoke\u001b[0;34m(self, input, config, stream_mode, print_mode, output_keys, interrupt_before, interrupt_after, **kwargs)\u001b[0m\n\u001b[1;32m   2841\u001b[0m         \u001b[0minterrupts\u001b[0m\u001b[0;34m:\u001b[0m \u001b[0mlist\u001b[0m\u001b[0;34m[\u001b[0m\u001b[0mInterrupt\u001b[0m\u001b[0;34m]\u001b[0m \u001b[0;34m=\u001b[0m \u001b[0;34m[\u001b[0m\u001b[0;34m]\u001b[0m\u001b[0;34m\u001b[0m\u001b[0;34m\u001b[0m\u001b[0m\n\u001b[1;32m   2842\u001b[0m \u001b[0;34m\u001b[0m\u001b[0m\n\u001b[0;32m-> 2843\u001b[0;31m         for chunk in self.stream(\n\u001b[0m\u001b[1;32m   2844\u001b[0m             \u001b[0minput\u001b[0m\u001b[0;34m,\u001b[0m\u001b[0;34m\u001b[0m\u001b[0;34m\u001b[0m\u001b[0m\n\u001b[1;32m   2845\u001b[0m             \u001b[0mconfig\u001b[0m\u001b[0;34m,\u001b[0m\u001b[0;34m\u001b[0m\u001b[0;34m\u001b[0m\u001b[0m\n",
            "\u001b[0;32m/usr/local/lib/python3.11/dist-packages/langgraph/pregel/__init__.py\u001b[0m in \u001b[0;36mstream\u001b[0;34m(self, input, config, stream_mode, print_mode, output_keys, interrupt_before, interrupt_after, checkpoint_during, debug, subgraphs)\u001b[0m\n\u001b[1;32m   2531\u001b[0m                     \u001b[0;32mfor\u001b[0m \u001b[0mtask\u001b[0m \u001b[0;32min\u001b[0m \u001b[0mloop\u001b[0m\u001b[0;34m.\u001b[0m\u001b[0mmatch_cached_writes\u001b[0m\u001b[0;34m(\u001b[0m\u001b[0;34m)\u001b[0m\u001b[0;34m:\u001b[0m\u001b[0;34m\u001b[0m\u001b[0;34m\u001b[0m\u001b[0m\n\u001b[1;32m   2532\u001b[0m                         \u001b[0mloop\u001b[0m\u001b[0;34m.\u001b[0m\u001b[0moutput_writes\u001b[0m\u001b[0;34m(\u001b[0m\u001b[0mtask\u001b[0m\u001b[0;34m.\u001b[0m\u001b[0mid\u001b[0m\u001b[0;34m,\u001b[0m \u001b[0mtask\u001b[0m\u001b[0;34m.\u001b[0m\u001b[0mwrites\u001b[0m\u001b[0;34m,\u001b[0m \u001b[0mcached\u001b[0m\u001b[0;34m=\u001b[0m\u001b[0;32mTrue\u001b[0m\u001b[0;34m)\u001b[0m\u001b[0;34m\u001b[0m\u001b[0;34m\u001b[0m\u001b[0m\n\u001b[0;32m-> 2533\u001b[0;31m                     for _ in runner.tick(\n\u001b[0m\u001b[1;32m   2534\u001b[0m                         \u001b[0;34m[\u001b[0m\u001b[0mt\u001b[0m \u001b[0;32mfor\u001b[0m \u001b[0mt\u001b[0m \u001b[0;32min\u001b[0m \u001b[0mloop\u001b[0m\u001b[0;34m.\u001b[0m\u001b[0mtasks\u001b[0m\u001b[0;34m.\u001b[0m\u001b[0mvalues\u001b[0m\u001b[0;34m(\u001b[0m\u001b[0;34m)\u001b[0m \u001b[0;32mif\u001b[0m \u001b[0;32mnot\u001b[0m \u001b[0mt\u001b[0m\u001b[0;34m.\u001b[0m\u001b[0mwrites\u001b[0m\u001b[0;34m]\u001b[0m\u001b[0;34m,\u001b[0m\u001b[0;34m\u001b[0m\u001b[0;34m\u001b[0m\u001b[0m\n\u001b[1;32m   2535\u001b[0m                         \u001b[0mtimeout\u001b[0m\u001b[0;34m=\u001b[0m\u001b[0mself\u001b[0m\u001b[0;34m.\u001b[0m\u001b[0mstep_timeout\u001b[0m\u001b[0;34m,\u001b[0m\u001b[0;34m\u001b[0m\u001b[0;34m\u001b[0m\u001b[0m\n",
            "\u001b[0;32m/tmp/ipython-input-88-108522893.py\u001b[0m in \u001b[0;36mchatbot\u001b[0;34m(state, config)\u001b[0m\n\u001b[1;32m     15\u001b[0m         \u001b[0mllm_response\u001b[0m \u001b[0;34m=\u001b[0m \u001b[0;34m\"Hello from the OpenAI chatbot!\"\u001b[0m\u001b[0;34m\u001b[0m\u001b[0;34m\u001b[0m\u001b[0m\n\u001b[1;32m     16\u001b[0m     \u001b[0;32melse\u001b[0m\u001b[0;34m:\u001b[0m\u001b[0;34m\u001b[0m\u001b[0;34m\u001b[0m\u001b[0m\n\u001b[0;32m---> 17\u001b[0;31m         \u001b[0;32mraise\u001b[0m\u001b[0;34m(\u001b[0m\u001b[0mValueError\u001b[0m\u001b[0;34m(\u001b[0m\u001b[0;34m\"Invalid/Unsupported LLM model.\"\u001b[0m\u001b[0;34m)\u001b[0m\u001b[0;34m)\u001b[0m\u001b[0;34m\u001b[0m\u001b[0;34m\u001b[0m\u001b[0m\n\u001b[0m\u001b[1;32m     18\u001b[0m     \u001b[0;32mreturn\u001b[0m \u001b[0;34m{\u001b[0m\u001b[0;34m\"messages\"\u001b[0m\u001b[0;34m:\u001b[0m \u001b[0;34m[\u001b[0m\u001b[0mllm_response\u001b[0m\u001b[0;34m]\u001b[0m\u001b[0;34m}\u001b[0m\u001b[0;34m\u001b[0m\u001b[0;34m\u001b[0m\u001b[0m\n\u001b[1;32m     19\u001b[0m \u001b[0;34m\u001b[0m\u001b[0m\n",
            "\u001b[0;31mValueError\u001b[0m: Invalid/Unsupported LLM model."
          ]
        }
      ]
    },
    {
      "cell_type": "markdown",
      "source": [
        "### Dynamic node routing & state updates\n",
        "\n",
        "You can think of it as combining a node with an edge or a conditional edge.\n",
        "This allows us to streamline our graph by allowing a single node to both update the graph's state and dictate the subsequent flow.\n",
        "\n",
        "This is achieved by having the node function return a Command object, which specifies the next step."
      ],
      "metadata": {
        "id": "6TgWuyaWrPOd"
      }
    },
    {
      "cell_type": "code",
      "source": [
        "import random\n",
        "from typing_extensions import Literal\n",
        "from langgraph.types import Command"
      ],
      "metadata": {
        "id": "McJxemp0PeoC"
      },
      "execution_count": 79,
      "outputs": []
    },
    {
      "cell_type": "code",
      "source": [
        "# Define the Graph State\n",
        "class CoinFlipState(TypedDict):\n",
        "    result: str\n",
        "    message: str\n",
        "\n",
        "# Define the Nodes\n",
        "def initialize_state(state: CoinFlipState):\n",
        "    return {\"result\": \"unset\", \"message\": \"Ready to flip the coin!\"}\n",
        "\n",
        "def flip_coin(state: CoinFlipState) -> Command[Literal[\"heads_action\", \"tails_action\"]]:\n",
        "    coin_outcome = random.choice([\"Heads\", \"Tails\"])\n",
        "\n",
        "    if coin_outcome == \"Heads\":\n",
        "        next_node = \"heads_action\"\n",
        "        update_message = \"It's Heads!\"\n",
        "    else:\n",
        "        next_node = \"tails_action\"\n",
        "        update_message = \"It's Tails!\"\n",
        "    return Command(\n",
        "        update={\"result\": coin_outcome, \"message\": update_message},\n",
        "        goto=next_node,\n",
        "    )\n",
        "\n",
        "def heads_action(state: CoinFlipState):\n",
        "    return {\"message\": state[\"message\"] + \" We got lucky!\"}\n",
        "\n",
        "def tails_action(state: CoinFlipState):\n",
        "    return {\"message\": state[\"message\"] + \" Better luck next time.\"}\n",
        "\n",
        "# Build the Graph\n",
        "builder = StateGraph(CoinFlipState)\n",
        "\n",
        "# Add nodes to the graph\n",
        "builder.add_node(\"initialize_state\", initialize_state)\n",
        "builder.add_node(\"flip_coin\", flip_coin)\n",
        "builder.add_node(\"heads_action\", heads_action)\n",
        "builder.add_node(\"tails_action\", tails_action)\n",
        "\n",
        "# Define edges\n",
        "builder.add_edge(START, \"initialize_state\")\n",
        "builder.add_edge(\"initialize_state\", \"flip_coin\")\n",
        "\n",
        "# Edges from the action nodes to the END\n",
        "builder.add_edge(\"heads_action\", END)\n",
        "builder.add_edge(\"tails_action\", END)\n",
        "\n",
        "# Compile the graph\n",
        "graph = builder.compile()"
      ],
      "metadata": {
        "id": "_h3kQqosPelP"
      },
      "execution_count": 80,
      "outputs": []
    },
    {
      "cell_type": "code",
      "source": [
        "graph"
      ],
      "metadata": {
        "colab": {
          "base_uri": "https://localhost:8080/",
          "height": 449
        },
        "id": "PlN5XQsTnqg9",
        "outputId": "3db5255d-7397-47c9-c7a3-0b7252a5e268"
      },
      "execution_count": 81,
      "outputs": [
        {
          "output_type": "execute_result",
          "data": {
            "text/plain": [
              "<langgraph.graph.state.CompiledStateGraph object at 0x7b833f60d750>"
            ],
            "image/png": "[encoded data removed]"
          },
          "metadata": {},
          "execution_count": 81
        }
      ]
    },
    {
      "cell_type": "code",
      "source": [
        "# Run the Graph multiple times\n",
        "final_state_1 = graph.invoke({})\n",
        "final_state_2 = graph.invoke({})\n",
        "final_state_3 = graph.invoke({})\n",
        "print(f\"{final_state_1=}\\n{final_state_2=}\\n{final_state_3=}\")"
      ],
      "metadata": {
        "colab": {
          "base_uri": "https://localhost:8080/"
        },
        "id": "OKJoX7PeJAit",
        "outputId": "25c9f4ce-40b0-4a46-dccb-f63662d8b6a7"
      },
      "execution_count": 82,
      "outputs": [
        {
          "output_type": "stream",
          "name": "stdout",
          "text": [
            "final_state_1={'result': 'Heads', 'message': \"It's Heads! We got lucky!\"}\n",
            "final_state_2={'result': 'Tails', 'message': \"It's Tails! Better luck next time.\"}\n",
            "final_state_3={'result': 'Tails', 'message': \"It's Tails! Better luck next time.\"}\n"
          ]
        }
      ]
    },
    {
      "cell_type": "markdown",
      "source": [
        "The `Command` class offers more capabilities beyond this, and you can find more about it in the LangGraph documentation."
      ],
      "metadata": {
        "id": "fLKNf7QYcAic"
      }
    },
    {
      "cell_type": "markdown",
      "source": [
        "### Persistence\n",
        "\n",
        "LangGraph has a built-in persistence layer, which is managed by checkpointers.\n",
        "\n",
        "When a graph is compiled with a `checkpointer`, it automatically saves a checkpoint of the graph's state after each super-step.\n",
        "\n",
        "These checkpoints are stored within a specific `thread`, which remains accessible even after the graph's execution is complete.\n",
        "\n",
        "\n",
        "---\n",
        "\n",
        "\n",
        "We will see how to use the checkpointers and threads to implement memory in chatbots and how to design human-in-the-loop pattern with the interrupt function."
      ],
      "metadata": {
        "id": "yt5Np_fbqmij"
      }
    },
    {
      "cell_type": "markdown",
      "source": [
        "#### Memory & Snapshots\n",
        "\n",
        "Create chatbot with memory and investigate its state history snapshots."
      ],
      "metadata": {
        "id": "gq9AQOnZNteA"
      }
    },
    {
      "cell_type": "code",
      "source": [
        "from langgraph.graph import StateGraph, MessagesState\n",
        "from langgraph.graph.message import add_messages\n",
        "from langgraph.checkpoint.memory import MemorySaver\n",
        "from langchain_google_genai import ChatGoogleGenerativeAI\n",
        "\n",
        "# class State(TypedDict):\n",
        "#     messages: Annotated[list, add_messages]\n",
        "builder = StateGraph(MessagesState) # view source\n",
        "\n",
        "gemini = ChatGoogleGenerativeAI(\n",
        "      model=\"models/gemini-2.0-flash\",\n",
        "      temperature=0,\n",
        "      api_key=GEMINI_API_KEY\n",
        ")\n",
        "\n",
        "def chatbot(state: MessagesState):\n",
        "    return {\"messages\": [gemini.invoke(state[\"messages\"])]}\n",
        "\n",
        "builder.add_node(\"chatbot\", chatbot)\n",
        "builder.set_entry_point(\"chatbot\")\n",
        "builder.set_finish_point(\"chatbot\")\n",
        "\n",
        "memory = MemorySaver()\n",
        "graph = builder.compile(checkpointer=memory)"
      ],
      "metadata": {
        "id": "Wjph4fvtrLO9"
      },
      "execution_count": 83,
      "outputs": []
    },
    {
      "cell_type": "code",
      "source": [
        "graph"
      ],
      "metadata": {
        "colab": {
          "base_uri": "https://localhost:8080/",
          "height": 251
        },
        "id": "NlcmHmSErNPF",
        "outputId": "6a460237-9f03-494e-9a41-c37b1cb26264"
      },
      "execution_count": 84,
      "outputs": [
        {
          "output_type": "execute_result",
          "data": {
            "text/plain": [
              "<langgraph.graph.state.CompiledStateGraph object at 0x7b833f65a310>"
            ],
            "image/png": "[encoded data removed]"
          },
          "metadata": {},
          "execution_count": 84
        }
      ]
    },
    {
      "cell_type": "code",
      "source": [
        "config = {\"configurable\": {\"thread_id\": \"1\"}}\n",
        "final_state_1 = graph.invoke({\"messages\": [\"Hi, my name is Hamza.\"]}, config)"
      ],
      "metadata": {
        "id": "k0PU-Fkp-YLx"
      },
      "execution_count": 85,
      "outputs": []
    },
    {
      "cell_type": "code",
      "source": [
        "for m in final_state_1[\"messages\"]:\n",
        "    m.pretty_print()"
      ],
      "metadata": {
        "colab": {
          "base_uri": "https://localhost:8080/"
        },
        "id": "0YwpL6jn-X3w",
        "outputId": "49d545d1-95c2-4ae2-9c56-d1e95ddd8b98"
      },
      "execution_count": 86,
      "outputs": [
        {
          "output_type": "stream",
          "name": "stdout",
          "text": [
            "================================\u001b[1m Human Message \u001b[0m=================================\n",
            "\n",
            "Hi, my name is Hamza.\n",
            "==================================\u001b[1m Ai Message \u001b[0m==================================\n",
            "\n",
            "Hi Hamza, it's nice to meet you! How can I help you today?\n"
          ]
        }
      ]
    },
    {
      "cell_type": "code",
      "source": [
        "final_state_2 = graph.invoke({\"messages\": [\"do you remember my name?\"]}, config)"
      ],
      "metadata": {
        "id": "j5LL8bxiA2B3"
      },
      "execution_count": 87,
      "outputs": []
    },
    {
      "cell_type": "code",
      "source": [
        "for m in final_state_2[\"messages\"]:\n",
        "    m.pretty_print()"
      ],
      "metadata": {
        "colab": {
          "base_uri": "https://localhost:8080/"
        },
        "id": "COaHI_R_AdlH",
        "outputId": "f403184e-6812-4f2f-f544-d7b7777976e5"
      },
      "execution_count": 88,
      "outputs": [
        {
          "output_type": "stream",
          "name": "stdout",
          "text": [
            "================================\u001b[1m Human Message \u001b[0m=================================\n",
            "\n",
            "Hi, my name is Hamza.\n",
            "==================================\u001b[1m Ai Message \u001b[0m==================================\n",
            "\n",
            "Hi Hamza, it's nice to meet you! How can I help you today?\n",
            "================================\u001b[1m Human Message \u001b[0m=================================\n",
            "\n",
            "do you remember my name?\n",
            "==================================\u001b[1m Ai Message \u001b[0m==================================\n",
            "\n",
            "Yes, Hamza. I remember your name.\n"
          ]
        }
      ]
    },
    {
      "cell_type": "code",
      "source": [
        "final_snapshot = graph.get_state(config)\n",
        "final_snapshot # check . options"
      ],
      "metadata": {
        "colab": {
          "base_uri": "https://localhost:8080/"
        },
        "id": "2lV40GtDKf_5",
        "outputId": "4c90e282-f5e6-441f-9f9d-366678d0bca3"
      },
      "execution_count": 92,
      "outputs": [
        {
          "output_type": "execute_result",
          "data": {
            "text/plain": [
              "StateSnapshot(values={'messages': [HumanMessage(content='Hi, my name is Hamza.', additional_kwargs={}, response_metadata={}, id='40c5ca25-d9f5-4cd9-8b61-043e409fbfdc'), AIMessage(content=\"Hi Hamza, it's nice to meet you! How can I help you today?\", additional_kwargs={}, response_metadata={'prompt_feedback': {'block_reason': 0, 'safety_ratings': []}, 'finish_reason': 'STOP', 'safety_ratings': []}, id='run--e2cfffab-707f-4d0a-a68d-9f62cc769f7f-0', usage_metadata={'input_tokens': 7, 'output_tokens': 19, 'total_tokens': 26, 'input_token_details': {'cache_read': 0}}), HumanMessage(content='do you remember my name?', additional_kwargs={}, response_metadata={}, id='5a6070b2-a1bf-4e04-a1ef-8b5abcc9d599'), AIMessage(content='Yes, Hamza. I remember your name.', additional_kwargs={}, response_metadata={'prompt_feedback': {'block_reason': 0, 'safety_ratings': []}, 'finish_reason': 'STOP', 'safety_ratings': []}, id='run--96638fcd-72cd-42c7-93a1-e30dbcfbf699-0', usage_metadata={'input_tokens': 31, 'output_tokens': 10, 'total_tokens': 41, 'input_token_details': {'cache_read': 0}})]}, next=(), config={'configurable': {'thread_id': '1', 'checkpoint_ns': '', 'checkpoint_id': '1f05a5cb-5840-66d7-8004-b52f545282b0'}}, metadata={'source': 'loop', 'step': 4, 'parents': {}, 'thread_id': '1'}, created_at='2025-07-06T11:31:07.730480+00:00', parent_config={'configurable': {'thread_id': '1', 'checkpoint_ns': '', 'checkpoint_id': '1f05a5cb-53ac-647b-8003-ba5c927b6bfc'}}, tasks=(), interrupts=())"
            ]
          },
          "metadata": {},
          "execution_count": 92
        }
      ]
    },
    {
      "cell_type": "code",
      "source": [
        "for snapshot in graph.get_state_history(config):\n",
        "  print(snapshot.values)\n",
        "  print(snapshot.next)\n",
        "  print(\"-\"*20)"
      ],
      "metadata": {
        "colab": {
          "base_uri": "https://localhost:8080/"
        },
        "id": "3-q4l-gnCIf9",
        "outputId": "12f27141-7fd4-45bc-a220-a46614c32223"
      },
      "execution_count": 93,
      "outputs": [
        {
          "output_type": "stream",
          "name": "stdout",
          "text": [
            "{'messages': [HumanMessage(content='Hi, my name is Hamza.', additional_kwargs={}, response_metadata={}, id='40c5ca25-d9f5-4cd9-8b61-043e409fbfdc'), AIMessage(content=\"Hi Hamza, it's nice to meet you! How can I help you today?\", additional_kwargs={}, response_metadata={'prompt_feedback': {'block_reason': 0, 'safety_ratings': []}, 'finish_reason': 'STOP', 'safety_ratings': []}, id='run--e2cfffab-707f-4d0a-a68d-9f62cc769f7f-0', usage_metadata={'input_tokens': 7, 'output_tokens': 19, 'total_tokens': 26, 'input_token_details': {'cache_read': 0}}), HumanMessage(content='do you remember my name?', additional_kwargs={}, response_metadata={}, id='5a6070b2-a1bf-4e04-a1ef-8b5abcc9d599'), AIMessage(content='Yes, Hamza. I remember your name.', additional_kwargs={}, response_metadata={'prompt_feedback': {'block_reason': 0, 'safety_ratings': []}, 'finish_reason': 'STOP', 'safety_ratings': []}, id='run--96638fcd-72cd-42c7-93a1-e30dbcfbf699-0', usage_metadata={'input_tokens': 31, 'output_tokens': 10, 'total_tokens': 41, 'input_token_details': {'cache_read': 0}})]}\n",
            "()\n",
            "--------------------\n",
            "{'messages': [HumanMessage(content='Hi, my name is Hamza.', additional_kwargs={}, response_metadata={}, id='40c5ca25-d9f5-4cd9-8b61-043e409fbfdc'), AIMessage(content=\"Hi Hamza, it's nice to meet you! How can I help you today?\", additional_kwargs={}, response_metadata={'prompt_feedback': {'block_reason': 0, 'safety_ratings': []}, 'finish_reason': 'STOP', 'safety_ratings': []}, id='run--e2cfffab-707f-4d0a-a68d-9f62cc769f7f-0', usage_metadata={'input_tokens': 7, 'output_tokens': 19, 'total_tokens': 26, 'input_token_details': {'cache_read': 0}}), HumanMessage(content='do you remember my name?', additional_kwargs={}, response_metadata={}, id='5a6070b2-a1bf-4e04-a1ef-8b5abcc9d599')]}\n",
            "('chatbot',)\n",
            "--------------------\n",
            "{'messages': [HumanMessage(content='Hi, my name is Hamza.', additional_kwargs={}, response_metadata={}, id='40c5ca25-d9f5-4cd9-8b61-043e409fbfdc'), AIMessage(content=\"Hi Hamza, it's nice to meet you! How can I help you today?\", additional_kwargs={}, response_metadata={'prompt_feedback': {'block_reason': 0, 'safety_ratings': []}, 'finish_reason': 'STOP', 'safety_ratings': []}, id='run--e2cfffab-707f-4d0a-a68d-9f62cc769f7f-0', usage_metadata={'input_tokens': 7, 'output_tokens': 19, 'total_tokens': 26, 'input_token_details': {'cache_read': 0}})]}\n",
            "('__start__',)\n",
            "--------------------\n",
            "{'messages': [HumanMessage(content='Hi, my name is Hamza.', additional_kwargs={}, response_metadata={}, id='40c5ca25-d9f5-4cd9-8b61-043e409fbfdc'), AIMessage(content=\"Hi Hamza, it's nice to meet you! How can I help you today?\", additional_kwargs={}, response_metadata={'prompt_feedback': {'block_reason': 0, 'safety_ratings': []}, 'finish_reason': 'STOP', 'safety_ratings': []}, id='run--e2cfffab-707f-4d0a-a68d-9f62cc769f7f-0', usage_metadata={'input_tokens': 7, 'output_tokens': 19, 'total_tokens': 26, 'input_token_details': {'cache_read': 0}})]}\n",
            "()\n",
            "--------------------\n",
            "{'messages': [HumanMessage(content='Hi, my name is Hamza.', additional_kwargs={}, response_metadata={}, id='40c5ca25-d9f5-4cd9-8b61-043e409fbfdc')]}\n",
            "('chatbot',)\n",
            "--------------------\n",
            "{'messages': []}\n",
            "('__start__',)\n",
            "--------------------\n"
          ]
        }
      ]
    },
    {
      "cell_type": "markdown",
      "source": [
        "#### Interruptions\n",
        "\n",
        "Build a chatbot with tool calling capabilities that calls for human assistance when needed."
      ],
      "metadata": {
        "id": "XUFSbWzcN1JX"
      }
    },
    {
      "cell_type": "code",
      "source": [
        "from typing import Annotated\n",
        "\n",
        "from langchain_core.tools import tool\n",
        "from typing_extensions import TypedDict\n",
        "\n",
        "from langgraph.checkpoint.memory import MemorySaver\n",
        "from langgraph.graph import StateGraph, MessagesState, START, END\n",
        "from langgraph.graph.message import add_messages\n",
        "from langgraph.prebuilt import ToolNode, tools_condition\n",
        "from langgraph.types import Command, interrupt"
      ],
      "metadata": {
        "id": "WFLDwyNiOBxP"
      },
      "execution_count": 94,
      "outputs": []
    },
    {
      "cell_type": "code",
      "source": [
        "gemini = ChatGoogleGenerativeAI(\n",
        "      model=\"models/gemini-2.0-flash\",\n",
        "      temperature=0,\n",
        "      api_key=GEMINI_API_KEY\n",
        ")\n",
        "\n",
        "builder = StateGraph(MessagesState)\n",
        "\n",
        "@tool\n",
        "def human_assistance(query: str) -> str:\n",
        "    \"\"\"Useful for when you need human assistance.\"\"\"\n",
        "    human_response = interrupt({\"query\": query})\n",
        "    return human_response[\"data\"]\n",
        "\n",
        "tools = [human_assistance]\n",
        "gemini_with_tools = gemini.bind_tools(tools)\n",
        "\n",
        "def chatbot(state: MessagesState):\n",
        "    message = gemini_with_tools.invoke(state[\"messages\"])\n",
        "    assert(len(message.tool_calls) <= 1)\n",
        "    return {\"messages\": [message]}\n",
        "\n",
        "builder.add_node(\"chatbot\", chatbot)\n",
        "\n",
        "tool_node = ToolNode(tools=tools)\n",
        "builder.add_node(\"tools\", tool_node)\n",
        "\n",
        "builder.add_conditional_edges(\n",
        "    \"chatbot\",\n",
        "    tools_condition,\n",
        ")\n",
        "\n",
        "builder.add_edge(\"tools\", \"chatbot\")\n",
        "builder.add_edge(START, \"chatbot\")\n",
        "\n",
        "memory = MemorySaver()\n",
        "graph = builder.compile(checkpointer=memory)"
      ],
      "metadata": {
        "id": "yg_bqkhKN3ZJ"
      },
      "execution_count": 95,
      "outputs": []
    },
    {
      "cell_type": "code",
      "source": [
        "graph"
      ],
      "metadata": {
        "colab": {
          "base_uri": "https://localhost:8080/",
          "height": 266
        },
        "id": "CiT5XL8nSKKK",
        "outputId": "501ddfbd-933e-4a75-fd95-c98558848c1d"
      },
      "execution_count": 96,
      "outputs": [
        {
          "output_type": "execute_result",
          "data": {
            "text/plain": [
              "<langgraph.graph.state.CompiledStateGraph object at 0x7b833f702a50>"
            ],
            "image/png": "[encoded data removed]"
          },
          "metadata": {},
          "execution_count": 96
        }
      ]
    },
    {
      "cell_type": "code",
      "source": [
        "user_input = \"I need some expert guidance for building an AI agent. Could you request assistance for me?\"\n",
        "config = {\"configurable\": {\"thread_id\": \"1\"}}\n",
        "\n",
        "final_state = graph.invoke({\"messages\": [user_input]}, config)\n",
        "for m in final_state[\"messages\"]:\n",
        "    m.pretty_print()"
      ],
      "metadata": {
        "colab": {
          "base_uri": "https://localhost:8080/"
        },
        "id": "ux7b2WyASL9X",
        "outputId": "609a5833-d180-45a4-9eb0-1aaae0fb0bf9"
      },
      "execution_count": 97,
      "outputs": [
        {
          "output_type": "stream",
          "name": "stdout",
          "text": [
            "================================\u001b[1m Human Message \u001b[0m=================================\n",
            "\n",
            "I need some expert guidance for building an AI agent. Could you request assistance for me?\n",
            "==================================\u001b[1m Ai Message \u001b[0m==================================\n",
            "Tool Calls:\n",
            "  human_assistance (dcc1f2f2-f1f5-492c-a5c6-dced6573407b)\n",
            " Call ID: dcc1f2f2-f1f5-492c-a5c6-dced6573407b\n",
            "  Args:\n",
            "    query: I need expert guidance on building an AI agent.\n"
          ]
        }
      ]
    },
    {
      "cell_type": "code",
      "source": [
        "human_response = \"\"\"\n",
        "    We, the experts are here to help! check out Machine Learning with Hamza on youtube for guidance.\n",
        "\"\"\"\n",
        "\n",
        "human_command = Command(resume={\"data\": human_response})\n",
        "\n",
        "final_state = graph.invoke(human_command, config)"
      ],
      "metadata": {
        "id": "92eu9Hr2TTR6"
      },
      "execution_count": 98,
      "outputs": []
    },
    {
      "cell_type": "code",
      "source": [
        "for m in final_state[\"messages\"]:\n",
        "    m.pretty_print()"
      ],
      "metadata": {
        "id": "bS59CE7PSLz_",
        "colab": {
          "base_uri": "https://localhost:8080/"
        },
        "outputId": "c0911c59-249a-44d5-8894-155c55490c78"
      },
      "execution_count": 99,
      "outputs": [
        {
          "output_type": "stream",
          "name": "stdout",
          "text": [
            "================================\u001b[1m Human Message \u001b[0m=================================\n",
            "\n",
            "I need some expert guidance for building an AI agent. Could you request assistance for me?\n",
            "==================================\u001b[1m Ai Message \u001b[0m==================================\n",
            "Tool Calls:\n",
            "  human_assistance (dcc1f2f2-f1f5-492c-a5c6-dced6573407b)\n",
            " Call ID: dcc1f2f2-f1f5-492c-a5c6-dced6573407b\n",
            "  Args:\n",
            "    query: I need expert guidance on building an AI agent.\n",
            "=================================\u001b[1m Tool Message \u001b[0m=================================\n",
            "Name: human_assistance\n",
            "\n",
            "\n",
            "    We, the experts are here to help! check out Machine Learning with Hamza on youtube for guidance.\n",
            "\n",
            "==================================\u001b[1m Ai Message \u001b[0m==================================\n",
            "\n",
            "OK. I've requested human assistance for you. The suggestion is to check out \"Machine Learning with Hamza\" on YouTube for guidance.\n"
          ]
        }
      ]
    },
    {
      "cell_type": "markdown",
      "source": [
        "### Map-Reduce\n",
        "\n",
        "In LangGraph we can implement the map-reduce design pattern through the Send API.\n",
        "\n",
        "1. A Send object is used to define a packet to send to a specific node in the graph. The packet contains the destination node and a state that can be different from the defined graph state.\n",
        "\n",
        "2. MapReduce is a programming model usually used for processing large datasets by dividing the task into two main phases:\n",
        "  - The map phase: In which the data is processes in parallel.\n",
        "  - The reduce phase: In which we aggregates the results from the map phase."
      ],
      "metadata": {
        "id": "x01mYPHnq6BM"
      }
    },
    {
      "cell_type": "markdown",
      "source": [
        "Create a graph that uses map-reduce to calculate the square of each integer in a list."
      ],
      "metadata": {
        "id": "jqL4gYcRwMA2"
      }
    },
    {
      "cell_type": "code",
      "source": [
        "from langgraph.types import Send\n",
        "from typing import Annotated\n",
        "from operator import add"
      ],
      "metadata": {
        "id": "1oSr-ZOeQ1q9"
      },
      "execution_count": 100,
      "outputs": []
    },
    {
      "cell_type": "code",
      "source": [
        "class OverallState(TypedDict):\n",
        "    numbers: list[int]\n",
        "    squared: Annotated[list[str], add]\n",
        "\n",
        "def continue_to_squaring(state: OverallState):\n",
        "    return [Send(\"calculate_square\", {\"number\": n}) for n in state['numbers']]\n",
        "\n",
        "builder = StateGraph(OverallState)\n",
        "\n",
        "builder.add_node(\"calculate_square\", lambda state: {\"squared\": [state[\"number\"]**2]})\n",
        "\n",
        "builder.add_conditional_edges(START, continue_to_squaring)\n",
        "builder.add_edge(\"calculate_square\", END)\n",
        "\n",
        "graph = builder.compile()"
      ],
      "metadata": {
        "id": "j__i1hOTNL2t"
      },
      "execution_count": 101,
      "outputs": []
    },
    {
      "cell_type": "code",
      "source": [
        "graph"
      ],
      "metadata": {
        "colab": {
          "base_uri": "https://localhost:8080/",
          "height": 181
        },
        "id": "DpSyqMbBPljz",
        "outputId": "53a9298a-c250-43ca-c767-9dff03bab328"
      },
      "execution_count": 102,
      "outputs": [
        {
          "output_type": "execute_result",
          "data": {
            "text/plain": [
              "<langgraph.graph.state.CompiledStateGraph object at 0x7b833f511c50>"
            ],
            "image/png": "[encoded data removed]"
          },
          "metadata": {},
          "execution_count": 102
        }
      ]
    },
    {
      "cell_type": "code",
      "source": [
        "# Invoking with list of integers\n",
        "graph.invoke({\"numbers\": [1,2,3,4]})"
      ],
      "metadata": {
        "colab": {
          "base_uri": "https://localhost:8080/"
        },
        "id": "wFdkl48BNLzx",
        "outputId": "1e362015-c033-49dd-d9ef-bbb380f619e7"
      },
      "execution_count": 103,
      "outputs": [
        {
          "output_type": "execute_result",
          "data": {
            "text/plain": [
              "{'numbers': [1, 2, 3, 4], 'squared': [1, 4, 9, 16]}"
            ]
          },
          "metadata": {},
          "execution_count": 103
        }
      ]
    },
    {
      "cell_type": "markdown",
      "source": [
        "### Loops & Recursion Limit\n",
        "\n",
        "Create a graph with looping behavior between nodes"
      ],
      "metadata": {
        "id": "nT7fgogarXEP"
      }
    },
    {
      "cell_type": "code",
      "source": [
        "# Define reducer for the 'index' key\n",
        "def increment_reducer(current_value: int, new_value_from_node: any) -> int:\n",
        "    return current_value + 1\n",
        "\n",
        "# Define the Graph State with an 'index'\n",
        "class LoopState(TypedDict):\n",
        "    index: Annotated[int, increment_reducer]  # This will track our loop's progress\n",
        "    output_data: str # Example of other data\n",
        "\n",
        "# Define a simple node\n",
        "def loop_iteration_node(state: LoopState) -> LoopState:\n",
        "    print(f\"Processing step {state['index']}\")\n",
        "    return {\"index\": 0, \"output_data\": f\"Processed at step {state['index']}\"}\n",
        "\n",
        "def should_continue(state: LoopState) -> bool:\n",
        "    if state[\"index\"] <= 30:\n",
        "      return \"continue\"\n",
        "    return \"end\"\n",
        "\n",
        "# Build the Graph with the custom reducer\n",
        "builder = StateGraph(LoopState)\n",
        "\n",
        "# Add the node to the workflow\n",
        "builder.add_node(\"iterate\", loop_iteration_node)\n",
        "\n",
        "# Add the edges\n",
        "builder.set_entry_point(\"iterate\")\n",
        "builder.add_conditional_edges(\"iterate\", should_continue, {\"continue\": \"iterate\", \"end\":END})\n",
        "\n",
        "# Compile the graph\n",
        "graph = builder.compile()"
      ],
      "metadata": {
        "id": "mEb58H7Dx0pk"
      },
      "execution_count": null,
      "outputs": []
    },
    {
      "cell_type": "code",
      "source": [
        "graph"
      ],
      "metadata": {
        "colab": {
          "base_uri": "https://localhost:8080/",
          "height": 349
        },
        "id": "UA62yp20skmE",
        "outputId": "b726c942-8de2-42cb-80c8-6decf5184482"
      },
      "execution_count": null,
      "outputs": [
        {
          "output_type": "execute_result",
          "data": {
            "text/plain": [
              "<langgraph.graph.state.CompiledStateGraph object at 0x789b9b7a77d0>"
            ],
            "image/png": "[encoded data removed]"
          },
          "metadata": {},
          "execution_count": 71
        }
      ]
    },
    {
      "cell_type": "code",
      "source": [
        "# Invoke the graph and observe the 'index' increment\n",
        "initial_state = {\"index\": 0, \"output_data\": \"start\"}\n",
        "\n",
        "final_state = graph.invoke(initial_state)"
      ],
      "metadata": {
        "colab": {
          "base_uri": "https://localhost:8080/",
          "height": 841
        },
        "id": "LGd45z4Ux0SW",
        "outputId": "87bfb745-5f15-43d3-bffb-111895fe3380"
      },
      "execution_count": null,
      "outputs": [
        {
          "output_type": "stream",
          "name": "stdout",
          "text": [
            "Processing step 1\n",
            "Processing step 2\n",
            "Processing step 3\n",
            "Processing step 4\n",
            "Processing step 5\n",
            "Processing step 6\n",
            "Processing step 7\n",
            "Processing step 8\n",
            "Processing step 9\n",
            "Processing step 10\n",
            "Processing step 11\n",
            "Processing step 12\n",
            "Processing step 13\n",
            "Processing step 14\n",
            "Processing step 15\n",
            "Processing step 16\n",
            "Processing step 17\n",
            "Processing step 18\n",
            "Processing step 19\n",
            "Processing step 20\n",
            "Processing step 21\n",
            "Processing step 22\n",
            "Processing step 23\n",
            "Processing step 24\n",
            "Processing step 25\n"
          ]
        },
        {
          "output_type": "error",
          "ename": "GraphRecursionError",
          "evalue": "Recursion limit of 25 reached without hitting a stop condition. You can increase the limit by setting the `recursion_limit` config key.\nFor troubleshooting, visit: https://python.langchain.com/docs/troubleshooting/errors/GRAPH_RECURSION_LIMIT",
          "traceback": [
            "\u001b[0;31m---------------------------------------------------------------------------\u001b[0m",
            "\u001b[0;31mGraphRecursionError\u001b[0m                       Traceback (most recent call last)",
            "\u001b[0;32m/tmp/ipython-input-72-572261525.py\u001b[0m in \u001b[0;36m<cell line: 0>\u001b[0;34m()\u001b[0m\n\u001b[1;32m      2\u001b[0m \u001b[0minitial_state\u001b[0m \u001b[0;34m=\u001b[0m \u001b[0;34m{\u001b[0m\u001b[0;34m\"index\"\u001b[0m\u001b[0;34m:\u001b[0m \u001b[0;36m0\u001b[0m\u001b[0;34m,\u001b[0m \u001b[0;34m\"output_data\"\u001b[0m\u001b[0;34m:\u001b[0m \u001b[0;34m\"start\"\u001b[0m\u001b[0;34m}\u001b[0m\u001b[0;34m\u001b[0m\u001b[0;34m\u001b[0m\u001b[0m\n\u001b[1;32m      3\u001b[0m \u001b[0;34m\u001b[0m\u001b[0m\n\u001b[0;32m----> 4\u001b[0;31m \u001b[0mfinal_state\u001b[0m \u001b[0;34m=\u001b[0m \u001b[0mgraph\u001b[0m\u001b[0;34m.\u001b[0m\u001b[0minvoke\u001b[0m\u001b[0;34m(\u001b[0m\u001b[0minitial_state\u001b[0m\u001b[0;34m)\u001b[0m\u001b[0;34m\u001b[0m\u001b[0;34m\u001b[0m\u001b[0m\n\u001b[0m",
            "\u001b[0;32m/usr/local/lib/python3.11/dist-packages/langgraph/pregel/__init__.py\u001b[0m in \u001b[0;36minvoke\u001b[0;34m(self, input, config, stream_mode, print_mode, output_keys, interrupt_before, interrupt_after, **kwargs)\u001b[0m\n\u001b[1;32m   2841\u001b[0m         \u001b[0minterrupts\u001b[0m\u001b[0;34m:\u001b[0m \u001b[0mlist\u001b[0m\u001b[0;34m[\u001b[0m\u001b[0mInterrupt\u001b[0m\u001b[0;34m]\u001b[0m \u001b[0;34m=\u001b[0m \u001b[0;34m[\u001b[0m\u001b[0;34m]\u001b[0m\u001b[0;34m\u001b[0m\u001b[0;34m\u001b[0m\u001b[0m\n\u001b[1;32m   2842\u001b[0m \u001b[0;34m\u001b[0m\u001b[0m\n\u001b[0;32m-> 2843\u001b[0;31m         for chunk in self.stream(\n\u001b[0m\u001b[1;32m   2844\u001b[0m             \u001b[0minput\u001b[0m\u001b[0;34m,\u001b[0m\u001b[0;34m\u001b[0m\u001b[0;34m\u001b[0m\u001b[0m\n\u001b[1;32m   2845\u001b[0m             \u001b[0mconfig\u001b[0m\u001b[0;34m,\u001b[0m\u001b[0;34m\u001b[0m\u001b[0;34m\u001b[0m\u001b[0m\n",
            "\u001b[0;32m/usr/local/lib/python3.11/dist-packages/langgraph/pregel/__init__.py\u001b[0m in \u001b[0;36mstream\u001b[0;34m(self, input, config, stream_mode, print_mode, output_keys, interrupt_before, interrupt_after, checkpoint_during, debug, subgraphs)\u001b[0m\n\u001b[1;32m   2556\u001b[0m                     \u001b[0merror_code\u001b[0m\u001b[0;34m=\u001b[0m\u001b[0mErrorCode\u001b[0m\u001b[0;34m.\u001b[0m\u001b[0mGRAPH_RECURSION_LIMIT\u001b[0m\u001b[0;34m,\u001b[0m\u001b[0;34m\u001b[0m\u001b[0;34m\u001b[0m\u001b[0m\n\u001b[1;32m   2557\u001b[0m                 )\n\u001b[0;32m-> 2558\u001b[0;31m                 \u001b[0;32mraise\u001b[0m \u001b[0mGraphRecursionError\u001b[0m\u001b[0;34m(\u001b[0m\u001b[0mmsg\u001b[0m\u001b[0;34m)\u001b[0m\u001b[0;34m\u001b[0m\u001b[0;34m\u001b[0m\u001b[0m\n\u001b[0m\u001b[1;32m   2559\u001b[0m             \u001b[0;31m# set final channel values as run output\u001b[0m\u001b[0;34m\u001b[0m\u001b[0;34m\u001b[0m\u001b[0m\n\u001b[1;32m   2560\u001b[0m             \u001b[0mrun_manager\u001b[0m\u001b[0;34m.\u001b[0m\u001b[0mon_chain_end\u001b[0m\u001b[0;34m(\u001b[0m\u001b[0mloop\u001b[0m\u001b[0;34m.\u001b[0m\u001b[0moutput\u001b[0m\u001b[0;34m)\u001b[0m\u001b[0;34m\u001b[0m\u001b[0;34m\u001b[0m\u001b[0m\n",
            "\u001b[0;31mGraphRecursionError\u001b[0m: Recursion limit of 25 reached without hitting a stop condition. You can increase the limit by setting the `recursion_limit` config key.\nFor troubleshooting, visit: https://python.langchain.com/docs/troubleshooting/errors/GRAPH_RECURSION_LIMIT"
          ]
        }
      ]
    },
    {
      "cell_type": "code",
      "source": [
        "final_state = graph.invoke(initial_state, {\"recursion_limit\": 50})"
      ],
      "metadata": {
        "colab": {
          "base_uri": "https://localhost:8080/"
        },
        "id": "t4ebDgAP19xm",
        "outputId": "fd8e9a71-13dd-4fc7-df37-5d173e50f5c4"
      },
      "execution_count": null,
      "outputs": [
        {
          "output_type": "stream",
          "name": "stdout",
          "text": [
            "Processing step 1\n",
            "Processing step 2\n",
            "Processing step 3\n",
            "Processing step 4\n",
            "Processing step 5\n",
            "Processing step 6\n",
            "Processing step 7\n",
            "Processing step 8\n",
            "Processing step 9\n",
            "Processing step 10\n",
            "Processing step 11\n",
            "Processing step 12\n",
            "Processing step 13\n",
            "Processing step 14\n",
            "Processing step 15\n",
            "Processing step 16\n",
            "Processing step 17\n",
            "Processing step 18\n",
            "Processing step 19\n",
            "Processing step 20\n",
            "Processing step 21\n",
            "Processing step 22\n",
            "Processing step 23\n",
            "Processing step 24\n",
            "Processing step 25\n",
            "Processing step 26\n",
            "Processing step 27\n",
            "Processing step 28\n",
            "Processing step 29\n",
            "Processing step 30\n"
          ]
        }
      ]
    },
    {
      "cell_type": "markdown",
      "source": [
        "## ReAct and DeepSearch Agent Examples"
      ],
      "metadata": {
        "id": "v0qgNgLTvZAZ"
      }
    },
    {
      "cell_type": "markdown",
      "source": [
        "### ReAct Agent with HITL"
      ],
      "metadata": {
        "id": "DfsulL05vfE3"
      }
    },
    {
      "cell_type": "code",
      "source": [
        "import json\n",
        "import random\n",
        "from typing import List, Any, Annotated\n",
        "from typing_extensions import TypedDict\n",
        "from langchain_core.messages import ToolMessage, SystemMessage, AnyMessage\n",
        "from langchain_core.runnables import RunnableConfig\n",
        "from langgraph.graph import StateGraph, END"
      ],
      "metadata": {
        "id": "hzO9XyeQiAGA"
      },
      "execution_count": null,
      "outputs": []
    },
    {
      "cell_type": "code",
      "source": [
        "gemini = ChatGoogleGenerativeAI(\n",
        "      model=\"models/gemini-2.0-flash\",\n",
        "      temperature=0,\n",
        "      api_key=GEMINI_API_KEY\n",
        ")\n",
        "\n",
        "@tool\n",
        "def human_assistance(query: str) -> str:\n",
        "    \"\"\"\n",
        "    This tool is useful when human assistance is requested.\n",
        "    \"\"\"\n",
        "    human_response = interrupt({\"query\": query})\n",
        "    return human_response[\"data\"]\n",
        "\n",
        "@tool\n",
        "def faq_responses(query: str) -> str:\n",
        "    \"\"\"\n",
        "    This tool is useful to answer frequently asked questions about the company.\n",
        "    \"\"\"\n",
        "    fqa_response = random.choice([\"The company was founded in 2025.\",\"No answer found in database\"])\n",
        "    return fqa_response\n",
        "\n",
        "\n",
        "tools = [human_assistance, faq_responses]\n",
        "\n",
        "gemini_with_tools = gemini.bind_tools(tools)"
      ],
      "metadata": {
        "id": "YFb8u3XMvY1L"
      },
      "execution_count": null,
      "outputs": []
    },
    {
      "cell_type": "code",
      "source": [
        "class AgentState(TypedDict):\n",
        "    messages: Annotated[List[AnyMessage], add_messages]\n",
        "\n",
        "tools_by_name = {tool.name: tool for tool in tools}\n",
        "\n",
        "# Define our tool node\n",
        "def tool_node(state: AgentState):\n",
        "    outputs = []\n",
        "    for tool_call in state[\"messages\"][-1].tool_calls:\n",
        "        tool_result = tools_by_name[tool_call[\"name\"]].invoke(tool_call[\"args\"])\n",
        "        outputs.append(\n",
        "            ToolMessage(\n",
        "                content=json.dumps(tool_result),\n",
        "                name=tool_call[\"name\"],\n",
        "                tool_call_id=tool_call[\"id\"],\n",
        "            )\n",
        "        )\n",
        "    return {\"messages\": outputs}\n",
        "\n",
        "\n",
        "# Define the node that calls the model\n",
        "def call_model(state: AgentState):\n",
        "    system_prompt = SystemMessage(\n",
        "        \"\"\"\n",
        "        You are a customer-service assistant.\n",
        "        You have tools that give you access to a FAQ database and human assistnace.\n",
        "        When asked about the company, always check with the FAQ database first, and if no answer or unrelated is found, use human assistance.\n",
        "        \"\"\"\n",
        "    )\n",
        "    response = gemini_with_tools.invoke([system_prompt] + state[\"messages\"])\n",
        "    return {\"messages\": [response]}\n",
        "\n",
        "\n",
        "# Define the conditional edge function\n",
        "def should_continue(state: AgentState):\n",
        "    messages = state[\"messages\"]\n",
        "    last_message = messages[-1]\n",
        "    if not last_message.tool_calls:\n",
        "        return \"end\"\n",
        "    return \"continue\""
      ],
      "metadata": {
        "id": "6j20q2uFXPiF"
      },
      "execution_count": null,
      "outputs": []
    },
    {
      "cell_type": "code",
      "source": [
        "# Define a new graph\n",
        "builder = StateGraph(AgentState)\n",
        "\n",
        "# Add nodes\n",
        "builder.add_node(\"agent\", call_model)\n",
        "builder.add_node(\"tools\", tool_node)\n",
        "\n",
        "# Add edges (ReAct loop)\n",
        "builder.set_entry_point(\"agent\")\n",
        "builder.add_conditional_edges(\"agent\", should_continue, {\"continue\": \"tools\",\"end\": END})\n",
        "builder.add_edge(\"tools\", \"agent\")\n",
        "\n",
        "# Now we can compile and visualize our graph\n",
        "memory = MemorySaver()\n",
        "graph = builder.compile(checkpointer=memory)"
      ],
      "metadata": {
        "id": "QrS8fMfRXPei"
      },
      "execution_count": null,
      "outputs": []
    },
    {
      "cell_type": "code",
      "source": [
        "graph"
      ],
      "metadata": {
        "colab": {
          "base_uri": "https://localhost:8080/",
          "height": 290
        },
        "id": "J7MvbJa9vYyl",
        "outputId": "08fbd295-cf35-431e-aa34-f3a80be92912"
      },
      "execution_count": null,
      "outputs": [
        {
          "output_type": "execute_result",
          "data": {
            "text/plain": [
              "<langgraph.graph.state.CompiledStateGraph object at 0x7ef1be5cdfd0>"
            ],
            "image/png": "[encoded data removed]"
          },
          "metadata": {},
          "execution_count": 130
        }
      ]
    },
    {
      "cell_type": "code",
      "source": [
        "config = {\"configurable\": {\"thread_id\": \"1\"}}\n",
        "inputs = {\"messages\": [\"When was the company founded\"]}\n",
        "final_state = graph.invoke(inputs, config)"
      ],
      "metadata": {
        "id": "I0XTXpszvYv_"
      },
      "execution_count": null,
      "outputs": []
    },
    {
      "cell_type": "code",
      "source": [
        "for m in final_state[\"messages\"]:\n",
        "  m.pretty_print()"
      ],
      "metadata": {
        "colab": {
          "base_uri": "https://localhost:8080/"
        },
        "id": "l7sK81HavYtK",
        "outputId": "4a47300b-4433-4ad5-eb6c-84860db38c17"
      },
      "execution_count": null,
      "outputs": [
        {
          "output_type": "stream",
          "name": "stdout",
          "text": [
            "================================\u001b[1m Human Message \u001b[0m=================================\n",
            "\n",
            "When was the company founded\n",
            "==================================\u001b[1m Ai Message \u001b[0m==================================\n",
            "Tool Calls:\n",
            "  faq_responses (290396d8-b1de-49eb-9974-76a655ea6628)\n",
            " Call ID: 290396d8-b1de-49eb-9974-76a655ea6628\n",
            "  Args:\n",
            "    query: When was the company founded\n",
            "=================================\u001b[1m Tool Message \u001b[0m=================================\n",
            "Name: faq_responses\n",
            "\n",
            "\"The company was founded in 2025.\"\n",
            "==================================\u001b[1m Ai Message \u001b[0m==================================\n",
            "\n",
            "The company was founded in 2025.\n"
          ]
        }
      ]
    },
    {
      "cell_type": "code",
      "source": [
        "config = {\"configurable\": {\"thread_id\": \"3\"}}\n",
        "inputs = {\"messages\": [\"Who's the company founder?\"]}\n",
        "final_state = graph.invoke(inputs, config)"
      ],
      "metadata": {
        "id": "oivKnBzJvYql"
      },
      "execution_count": null,
      "outputs": []
    },
    {
      "cell_type": "code",
      "source": [
        "for m in final_state[\"messages\"]:\n",
        "  m.pretty_print()"
      ],
      "metadata": {
        "colab": {
          "base_uri": "https://localhost:8080/"
        },
        "id": "xnl5Xbl5vYn5",
        "outputId": "94c5aa15-a02a-42d4-e548-980fe0286329"
      },
      "execution_count": null,
      "outputs": [
        {
          "output_type": "stream",
          "name": "stdout",
          "text": [
            "================================\u001b[1m Human Message \u001b[0m=================================\n",
            "\n",
            "Who's the company founder?\n",
            "==================================\u001b[1m Ai Message \u001b[0m==================================\n",
            "Tool Calls:\n",
            "  faq_responses (1f1f682e-a222-4bb5-8492-5544c32a2a90)\n",
            " Call ID: 1f1f682e-a222-4bb5-8492-5544c32a2a90\n",
            "  Args:\n",
            "    query: Who's the company founder?\n",
            "=================================\u001b[1m Tool Message \u001b[0m=================================\n",
            "Name: faq_responses\n",
            "\n",
            "\"The company was founded in 2025.\"\n",
            "==================================\u001b[1m Ai Message \u001b[0m==================================\n",
            "\n",
            "I don't have the answer to your question in the FAQ. I will ask for human assistance.\n",
            "Tool Calls:\n",
            "  human_assistance (8c565257-1eb1-41f4-9131-dcdf896aea12)\n",
            " Call ID: 8c565257-1eb1-41f4-9131-dcdf896aea12\n",
            "  Args:\n",
            "    query: Who's the company founder?\n"
          ]
        }
      ]
    },
    {
      "cell_type": "code",
      "source": [
        "human_response = \"The company founder is Hamza\"\n",
        "\n",
        "human_command = Command(resume={\"data\": human_response})\n",
        "\n",
        "final_state = graph.invoke(human_command, config)"
      ],
      "metadata": {
        "id": "8CD8Q0aHjVBq"
      },
      "execution_count": null,
      "outputs": []
    },
    {
      "cell_type": "code",
      "source": [
        "for m in final_state[\"messages\"]:\n",
        "  m.pretty_print()"
      ],
      "metadata": {
        "colab": {
          "base_uri": "https://localhost:8080/"
        },
        "id": "QyaV2cIEkn06",
        "outputId": "0a52465c-7915-46f6-e006-35dd48ffcb64"
      },
      "execution_count": null,
      "outputs": [
        {
          "output_type": "stream",
          "name": "stdout",
          "text": [
            "================================\u001b[1m Human Message \u001b[0m=================================\n",
            "\n",
            "Who's the company founder?\n",
            "==================================\u001b[1m Ai Message \u001b[0m==================================\n",
            "Tool Calls:\n",
            "  faq_responses (1f1f682e-a222-4bb5-8492-5544c32a2a90)\n",
            " Call ID: 1f1f682e-a222-4bb5-8492-5544c32a2a90\n",
            "  Args:\n",
            "    query: Who's the company founder?\n",
            "=================================\u001b[1m Tool Message \u001b[0m=================================\n",
            "Name: faq_responses\n",
            "\n",
            "\"The company was founded in 2025.\"\n",
            "==================================\u001b[1m Ai Message \u001b[0m==================================\n",
            "\n",
            "I don't have the answer to your question in the FAQ. I will ask for human assistance.\n",
            "Tool Calls:\n",
            "  human_assistance (8c565257-1eb1-41f4-9131-dcdf896aea12)\n",
            " Call ID: 8c565257-1eb1-41f4-9131-dcdf896aea12\n",
            "  Args:\n",
            "    query: Who's the company founder?\n",
            "=================================\u001b[1m Tool Message \u001b[0m=================================\n",
            "Name: human_assistance\n",
            "\n",
            "\"The company founder is Hamza\"\n",
            "==================================\u001b[1m Ai Message \u001b[0m==================================\n",
            "\n",
            "The company founder is Hamza.\n"
          ]
        }
      ]
    },
    {
      "cell_type": "markdown",
      "source": [
        "### Deep Search ReAct Agent"
      ],
      "metadata": {
        "id": "CC6JnIghlHWK"
      }
    },
    {
      "cell_type": "code",
      "source": [
        "!pip -qq install -U googlesearch-python mistralai PyPDF2 crawl4ai"
      ],
      "metadata": {
        "colab": {
          "base_uri": "https://localhost:8080/"
        },
        "id": "fEIQkH5ulHDE",
        "outputId": "d9f6bf94-23ee-46cc-a6fd-1fa67acd88cc"
      },
      "execution_count": null,
      "outputs": [
        {
          "output_type": "stream",
          "name": "stdout",
          "text": [
            "\u001b[2K     \u001b[90m━━━━━━━━━━━━━━━━━━━━━━━━━━━━━━━━━━━━━━━━\u001b[0m \u001b[32m40.3/40.3 kB\u001b[0m \u001b[31m3.0 MB/s\u001b[0m eta \u001b[36m0:00:00\u001b[0m\n",
            "\u001b[2K   \u001b[90m━━━━━━━━━━━━━━━━━━━━━━━━━━━━━━━━━━━━━━━━\u001b[0m \u001b[32m381.8/381.8 kB\u001b[0m \u001b[31m10.0 MB/s\u001b[0m eta \u001b[36m0:00:00\u001b[0m\n",
            "\u001b[2K   \u001b[90m━━━━━━━━━━━━━━━━━━━━━━━━━━━━━━━━━━━━━━━━\u001b[0m \u001b[32m232.6/232.6 kB\u001b[0m \u001b[31m18.3 MB/s\u001b[0m eta \u001b[36m0:00:00\u001b[0m\n",
            "\u001b[2K   \u001b[90m━━━━━━━━━━━━━━━━━━━━━━━━━━━━━━━━━━━━━━━━\u001b[0m \u001b[32m292.8/292.8 kB\u001b[0m \u001b[31m22.9 MB/s\u001b[0m eta \u001b[36m0:00:00\u001b[0m\n",
            "\u001b[2K   \u001b[90m━━━━━━━━━━━━━━━━━━━━━━━━━━━━━━━━━━━━━━━━\u001b[0m \u001b[32m2.9/2.9 MB\u001b[0m \u001b[31m58.2 MB/s\u001b[0m eta \u001b[36m0:00:00\u001b[0m\n",
            "\u001b[2K   \u001b[90m━━━━━━━━━━━━━━━━━━━━━━━━━━━━━━━━━━━━━━━━\u001b[0m \u001b[32m161.7/161.7 kB\u001b[0m \u001b[31m14.4 MB/s\u001b[0m eta \u001b[36m0:00:00\u001b[0m\n",
            "\u001b[2K   \u001b[90m━━━━━━━━━━━━━━━━━━━━━━━━━━━━━━━━━━━━━━━━\u001b[0m \u001b[32m8.6/8.6 MB\u001b[0m \u001b[31m89.7 MB/s\u001b[0m eta \u001b[36m0:00:00\u001b[0m\n",
            "\u001b[2K   \u001b[90m━━━━━━━━━━━━━━━━━━━━━━━━━━━━━━━━━━━━━━━━\u001b[0m \u001b[32m4.5/4.5 MB\u001b[0m \u001b[31m77.7 MB/s\u001b[0m eta \u001b[36m0:00:00\u001b[0m\n",
            "\u001b[2K   \u001b[90m━━━━━━━━━━━━━━━━━━━━━━━━━━━━━━━━━━━━━━━━\u001b[0m \u001b[32m45.8/45.8 MB\u001b[0m \u001b[31m14.4 MB/s\u001b[0m eta \u001b[36m0:00:00\u001b[0m\n",
            "\u001b[2K   \u001b[90m━━━━━━━━━━━━━━━━━━━━━━━━━━━━━━━━━━━━━━━━\u001b[0m \u001b[32m278.0/278.0 kB\u001b[0m \u001b[31m23.4 MB/s\u001b[0m eta \u001b[36m0:00:00\u001b[0m\n",
            "\u001b[2K   \u001b[90m━━━━━━━━━━━━━━━━━━━━━━━━━━━━━━━━━━━━━━━━\u001b[0m \u001b[32m56.8/56.8 kB\u001b[0m \u001b[31m5.2 MB/s\u001b[0m eta \u001b[36m0:00:00\u001b[0m\n",
            "\u001b[2K   \u001b[90m━━━━━━━━━━━━━━━━━━━━━━━━━━━━━━━━━━━━━━━━\u001b[0m \u001b[32m93.0/93.0 kB\u001b[0m \u001b[31m8.6 MB/s\u001b[0m eta \u001b[36m0:00:00\u001b[0m\n",
            "\u001b[?25h\u001b[31mERROR: pip's dependency resolver does not currently take into account all the packages that are installed. This behaviour is the source of the following dependency conflicts.\n",
            "pydrive2 1.21.3 requires pyOpenSSL<=24.2.1,>=19.1.0, but you have pyopenssl 25.1.0 which is incompatible.\u001b[0m\u001b[31m\n",
            "\u001b[0m"
          ]
        }
      ]
    },
    {
      "cell_type": "code",
      "source": [
        "!crawl4ai-setup"
      ],
      "metadata": {
        "colab": {
          "base_uri": "https://localhost:8080/"
        },
        "id": "2mpNd462knvD",
        "outputId": "a6cb7b2b-85c7-43b3-a370-358066995122"
      },
      "execution_count": null,
      "outputs": [
        {
          "output_type": "stream",
          "name": "stdout",
          "text": [
            "\u001b[1;36m[\u001b[0m\u001b[36mINIT\u001b[0m\u001b[1;36m]\u001b[0m\u001b[36m...\u001b[0m\u001b[36m. → Running post-installation setup\u001b[0m\u001b[36m...\u001b[0m\u001b[36m \u001b[0m\n",
            "\u001b[1;36m[\u001b[0m\u001b[36mINIT\u001b[0m\u001b[1;36m]\u001b[0m\u001b[36m...\u001b[0m\u001b[36m. → Installing Playwright browsers\u001b[0m\u001b[36m...\u001b[0m\u001b[36m \u001b[0m\n",
            "Installing dependencies...\n",
            "Get:1 https://cloud.r-project.org/bin/linux/ubuntu jammy-cran40/ InRelease [3,632 B]\n",
            "Get:2 https://developer.download.nvidia.com/compute/cuda/repos/ubuntu2204/x86_64  InRelease [1,581 B]\n",
            "Get:3 http://security.ubuntu.com/ubuntu jammy-security InRelease [129 kB]\n",
            "Hit:4 http://archive.ubuntu.com/ubuntu jammy InRelease\n",
            "Get:5 http://archive.ubuntu.com/ubuntu jammy-updates InRelease [128 kB]\n",
            "Get:6 https://r2u.stat.illinois.edu/ubuntu jammy InRelease [6,555 B]\n",
            "Hit:7 https://ppa.launchpadcontent.net/deadsnakes/ppa/ubuntu jammy InRelease\n",
            "Get:8 https://r2u.stat.illinois.edu/ubuntu jammy/main all Packages [9,077 kB]\n",
            "Get:9 http://security.ubuntu.com/ubuntu jammy-security/main amd64 Packages [3,092 kB]\n",
            "Get:10 https://ppa.launchpadcontent.net/graphics-drivers/ppa/ubuntu jammy InRelease [24.3 kB]\n",
            "Get:11 http://archive.ubuntu.com/ubuntu jammy-backports InRelease [127 kB]\n",
            "Hit:12 https://ppa.launchpadcontent.net/ubuntugis/ppa/ubuntu jammy InRelease\n",
            "Get:13 http://archive.ubuntu.com/ubuntu jammy-updates/restricted amd64 Packages [4,917 kB]\n",
            "Get:14 https://ppa.launchpadcontent.net/graphics-drivers/ppa/ubuntu jammy/main amd64 Packages [51.0 kB]\n",
            "Get:15 https://developer.download.nvidia.com/compute/cuda/repos/ubuntu2204/x86_64  Packages [1,804 kB]\n",
            "Get:16 http://security.ubuntu.com/ubuntu jammy-security/multiverse amd64 Packages [48.5 kB]\n",
            "Get:17 http://security.ubuntu.com/ubuntu jammy-security/universe amd64 Packages [1,262 kB]\n",
            "Get:18 http://security.ubuntu.com/ubuntu jammy-security/restricted amd64 Packages [4,763 kB]\n",
            "Get:19 http://archive.ubuntu.com/ubuntu jammy-updates/universe amd64 Packages [1,566 kB]\n",
            "Get:20 http://archive.ubuntu.com/ubuntu jammy-updates/main amd64 Packages [3,404 kB]\n",
            "Get:21 https://r2u.stat.illinois.edu/ubuntu jammy/main amd64 Packages [2,750 kB]\n",
            "Get:22 http://archive.ubuntu.com/ubuntu jammy-updates/multiverse amd64 Packages [56.4 kB]\n",
            "Fetched 33.2 MB in 7s (4,656 kB/s)\n",
            "Reading package lists... Done\n",
            "W: Skipping acquire of configured file 'main/source/Sources' as repository 'https://r2u.stat.illinois.edu/ubuntu jammy InRelease' does not seem to provide it (sources.list entry misspelt?)\n",
            "Reading package lists... Done\n",
            "Building dependency tree... Done\n",
            "Reading state information... Done\n",
            "fonts-liberation is already the newest version (1:1.07.4-11).\n",
            "libasound2 is already the newest version (1.2.6.1-1ubuntu1).\n",
            "libasound2 set to manually installed.\n",
            "libatk-bridge2.0-0 is already the newest version (2.38.0-3).\n",
            "libatk-bridge2.0-0 set to manually installed.\n",
            "libatk1.0-0 is already the newest version (2.36.0-3build1).\n",
            "libatk1.0-0 set to manually installed.\n",
            "libatspi2.0-0 is already the newest version (2.44.0-3).\n",
            "libatspi2.0-0 set to manually installed.\n",
            "libcairo2 is already the newest version (1.16.0-5ubuntu2).\n",
            "libcairo2 set to manually installed.\n",
            "libfontconfig1 is already the newest version (2.13.1-4.2ubuntu5).\n",
            "libxcb1 is already the newest version (1.14-3ubuntu3).\n",
            "libxcb1 set to manually installed.\n",
            "libxcomposite1 is already the newest version (1:0.4.5-1build2).\n",
            "libxcomposite1 set to manually installed.\n",
            "libxdamage1 is already the newest version (1:1.1.5-2build2).\n",
            "libxdamage1 set to manually installed.\n",
            "libxext6 is already the newest version (2:1.3.4-1build1).\n",
            "libxfixes3 is already the newest version (1:6.0.0-1).\n",
            "libxfixes3 set to manually installed.\n",
            "libxkbcommon0 is already the newest version (1.4.0-1).\n",
            "libxkbcommon0 set to manually installed.\n",
            "libxrandr2 is already the newest version (2:1.5.2-1build1).\n",
            "libxrandr2 set to manually installed.\n",
            "libcups2 is already the newest version (2.4.1op1-1ubuntu4.11).\n",
            "libcups2 set to manually installed.\n",
            "libdbus-1-3 is already the newest version (1.12.20-2ubuntu4.1).\n",
            "libdbus-1-3 set to manually installed.\n",
            "libdrm2 is already the newest version (2.4.113-2~ubuntu0.22.04.1).\n",
            "libdrm2 set to manually installed.\n",
            "libfreetype6 is already the newest version (2.11.1+dfsg-1ubuntu0.3).\n",
            "libfreetype6 set to manually installed.\n",
            "libgbm1 is already the newest version (23.2.1-1ubuntu3.1~22.04.3).\n",
            "libgbm1 set to manually installed.\n",
            "libglib2.0-0 is already the newest version (2.72.4-0ubuntu2.5).\n",
            "libnspr4 is already the newest version (2:4.35-0ubuntu0.22.04.1).\n",
            "libnspr4 set to manually installed.\n",
            "libnss3 is already the newest version (2:3.98-0ubuntu0.22.04.2).\n",
            "libnss3 set to manually installed.\n",
            "libpango-1.0-0 is already the newest version (1.50.6+ds-2ubuntu1).\n",
            "libpango-1.0-0 set to manually installed.\n",
            "libwayland-client0 is already the newest version (1.20.0-1ubuntu0.1).\n",
            "libwayland-client0 set to manually installed.\n",
            "libx11-6 is already the newest version (2:1.7.5-1ubuntu0.3).\n",
            "libx11-6 set to manually installed.\n",
            "xvfb is already the newest version (2:21.1.4-2ubuntu1.7~22.04.15).\n",
            "The following additional packages will be installed:\n",
            "  xfonts-encodings xfonts-utils\n",
            "Recommended packages:\n",
            "  fonts-ipafont-mincho fonts-tlwg-loma\n",
            "The following NEW packages will be installed:\n",
            "  fonts-freefont-ttf fonts-ipafont-gothic fonts-noto-color-emoji\n",
            "  fonts-tlwg-loma-otf fonts-unifont fonts-wqy-zenhei xfonts-cyrillic\n",
            "  xfonts-encodings xfonts-scalable xfonts-utils\n",
            "0 upgraded, 10 newly installed, 0 to remove and 38 not upgraded.\n",
            "Need to get 28.4 MB of archives.\n",
            "After this operation, 67.9 MB of additional disk space will be used.\n",
            "Get:1 http://archive.ubuntu.com/ubuntu jammy/universe amd64 fonts-ipafont-gothic all 00303-21ubuntu1 [3,513 kB]\n",
            "Get:2 http://archive.ubuntu.com/ubuntu jammy/main amd64 fonts-freefont-ttf all 20120503-10build1 [2,388 kB]\n",
            "Get:3 http://archive.ubuntu.com/ubuntu jammy-updates/main amd64 fonts-noto-color-emoji all 2.047-0ubuntu0.22.04.1 [10.0 MB]\n",
            "Get:4 http://archive.ubuntu.com/ubuntu jammy/universe amd64 fonts-tlwg-loma-otf all 1:0.7.3-1 [107 kB]\n",
            "Get:5 http://archive.ubuntu.com/ubuntu jammy/universe amd64 fonts-unifont all 1:14.0.01-1 [3,551 kB]\n",
            "Get:6 http://archive.ubuntu.com/ubuntu jammy/universe amd64 fonts-wqy-zenhei all 0.9.45-8 [7,472 kB]\n",
            "Get:7 http://archive.ubuntu.com/ubuntu jammy/main amd64 xfonts-encodings all 1:1.0.5-0ubuntu2 [578 kB]\n",
            "Get:8 http://archive.ubuntu.com/ubuntu jammy/main amd64 xfonts-utils amd64 1:7.7+6build2 [94.6 kB]\n",
            "Get:9 http://archive.ubuntu.com/ubuntu jammy/universe amd64 xfonts-cyrillic all 1:1.0.5 [386 kB]\n",
            "Get:10 http://archive.ubuntu.com/ubuntu jammy/main amd64 xfonts-scalable all 1:1.0.3-1.2ubuntu1 [306 kB]\n",
            "Fetched 28.4 MB in 4s (7,562 kB/s)\n",
            "Selecting previously unselected package fonts-ipafont-gothic.\n",
            "(Reading database ... 126308 files and directories currently installed.)\n",
            "Preparing to unpack .../0-fonts-ipafont-gothic_00303-21ubuntu1_all.deb ...\n",
            "Unpacking fonts-ipafont-gothic (00303-21ubuntu1) ...\n",
            "Selecting previously unselected package fonts-freefont-ttf.\n",
            "Preparing to unpack .../1-fonts-freefont-ttf_20120503-10build1_all.deb ...\n",
            "Unpacking fonts-freefont-ttf (20120503-10build1) ...\n",
            "Selecting previously unselected package fonts-noto-color-emoji.\n",
            "Preparing to unpack .../2-fonts-noto-color-emoji_2.047-0ubuntu0.22.04.1_all.deb ...\n",
            "Unpacking fonts-noto-color-emoji (2.047-0ubuntu0.22.04.1) ...\n",
            "Selecting previously unselected package fonts-tlwg-loma-otf.\n",
            "Preparing to unpack .../3-fonts-tlwg-loma-otf_1%3a0.7.3-1_all.deb ...\n",
            "Unpacking fonts-tlwg-loma-otf (1:0.7.3-1) ...\n",
            "Selecting previously unselected package fonts-unifont.\n",
            "Preparing to unpack .../4-fonts-unifont_1%3a14.0.01-1_all.deb ...\n",
            "Unpacking fonts-unifont (1:14.0.01-1) ...\n",
            "Selecting previously unselected package fonts-wqy-zenhei.\n",
            "Preparing to unpack .../5-fonts-wqy-zenhei_0.9.45-8_all.deb ...\n",
            "Unpacking fonts-wqy-zenhei (0.9.45-8) ...\n",
            "Selecting previously unselected package xfonts-encodings.\n",
            "Preparing to unpack .../6-xfonts-encodings_1%3a1.0.5-0ubuntu2_all.deb ...\n",
            "Unpacking xfonts-encodings (1:1.0.5-0ubuntu2) ...\n",
            "Selecting previously unselected package xfonts-utils.\n",
            "Preparing to unpack .../7-xfonts-utils_1%3a7.7+6build2_amd64.deb ...\n",
            "Unpacking xfonts-utils (1:7.7+6build2) ...\n",
            "Selecting previously unselected package xfonts-cyrillic.\n",
            "Preparing to unpack .../8-xfonts-cyrillic_1%3a1.0.5_all.deb ...\n",
            "Unpacking xfonts-cyrillic (1:1.0.5) ...\n",
            "Selecting previously unselected package xfonts-scalable.\n",
            "Preparing to unpack .../9-xfonts-scalable_1%3a1.0.3-1.2ubuntu1_all.deb ...\n",
            "Unpacking xfonts-scalable (1:1.0.3-1.2ubuntu1) ...\n",
            "Setting up fonts-noto-color-emoji (2.047-0ubuntu0.22.04.1) ...\n",
            "Setting up fonts-wqy-zenhei (0.9.45-8) ...\n",
            "Setting up fonts-freefont-ttf (20120503-10build1) ...\n",
            "Setting up fonts-tlwg-loma-otf (1:0.7.3-1) ...\n",
            "Setting up xfonts-encodings (1:1.0.5-0ubuntu2) ...\n",
            "Setting up fonts-ipafont-gothic (00303-21ubuntu1) ...\n",
            "update-alternatives: using /usr/share/fonts/opentype/ipafont-gothic/ipag.ttf to provide /usr/share/fonts/truetype/fonts-japanese-gothic.ttf (fonts-japanese-gothic.ttf) in auto mode\n",
            "Setting up fonts-unifont (1:14.0.01-1) ...\n",
            "Setting up xfonts-utils (1:7.7+6build2) ...\n",
            "Setting up xfonts-cyrillic (1:1.0.5) ...\n",
            "Setting up xfonts-scalable (1:1.0.3-1.2ubuntu1) ...\n",
            "Processing triggers for man-db (2.10.2-1) ...\n",
            "Processing triggers for fontconfig (2.13.1-4.2ubuntu5) ...\n",
            "Downloading Chromium 138.0.7204.23 (playwright build v1179)\u001b[2m from https://cdn.playwright.dev/dbazure/download/playwright/builds/chromium/1179/chromium-linux.zip\u001b[22m\n",
            "\u001b[1G171.6 MiB [] 0% 11.0s\u001b[0K\u001b[1G171.6 MiB [] 0% 258.0s\u001b[0K\u001b[1G171.6 MiB [] 0% 271.7s\u001b[0K\u001b[1G171.6 MiB [] 0% 163.2s\u001b[0K\u001b[1G171.6 MiB [] 0% 165.7s\u001b[0K\u001b[1G171.6 MiB [] 0% 122.8s\u001b[0K\u001b[1G171.6 MiB [] 0% 104.9s\u001b[0K\u001b[1G171.6 MiB [] 0% 79.2s\u001b[0K\u001b[1G171.6 MiB [] 0% 60.9s\u001b[0K\u001b[1G171.6 MiB [] 0% 64.4s\u001b[0K\u001b[1G171.6 MiB [] 0% 48.2s\u001b[0K\u001b[1G171.6 MiB [] 0% 37.0s\u001b[0K\u001b[1G171.6 MiB [] 0% 38.2s\u001b[0K\u001b[1G171.6 MiB [] 1% 28.8s\u001b[0K\u001b[1G171.6 MiB [] 1% 21.7s\u001b[0K\u001b[1G171.6 MiB [] 1% 22.3s\u001b[0K\u001b[1G171.6 MiB [] 2% 16.7s\u001b[0K\u001b[1G171.6 MiB [] 2% 12.7s\u001b[0K\u001b[1G171.6 MiB [] 3% 12.7s\u001b[0K\u001b[1G171.6 MiB [] 4% 10.1s\u001b[0K\u001b[1G171.6 MiB [] 4% 8.5s\u001b[0K\u001b[1G171.6 MiB [] 5% 8.0s\u001b[0K\u001b[1G171.6 MiB [] 5% 7.9s\u001b[0K\u001b[1G171.6 MiB [] 6% 6.9s\u001b[0K\u001b[1G171.6 MiB [] 7% 6.5s\u001b[0K\u001b[1G171.6 MiB [] 8% 5.9s\u001b[0K\u001b[1G171.6 MiB [] 8% 5.6s\u001b[0K\u001b[1G171.6 MiB [] 9% 5.6s\u001b[0K\u001b[1G171.6 MiB [] 9% 5.4s\u001b[0K\u001b[1G171.6 MiB [] 10% 5.1s\u001b[0K\u001b[1G171.6 MiB [] 11% 4.8s\u001b[0K\u001b[1G171.6 MiB [] 12% 4.5s\u001b[0K\u001b[1G171.6 MiB [] 12% 4.4s\u001b[0K\u001b[1G171.6 MiB [] 13% 4.4s\u001b[0K\u001b[1G171.6 MiB [] 14% 4.0s\u001b[0K\u001b[1G171.6 MiB [] 15% 3.9s\u001b[0K\u001b[1G171.6 MiB [] 16% 3.8s\u001b[0K\u001b[1G171.6 MiB [] 17% 3.7s\u001b[0K\u001b[1G171.6 MiB [] 18% 3.5s\u001b[0K\u001b[1G171.6 MiB [] 19% 3.4s\u001b[0K\u001b[1G171.6 MiB [] 20% 3.2s\u001b[0K\u001b[1G171.6 MiB [] 21% 3.1s\u001b[0K\u001b[1G171.6 MiB [] 22% 3.1s\u001b[0K\u001b[1G171.6 MiB [] 23% 2.9s\u001b[0K\u001b[1G171.6 MiB [] 24% 2.9s\u001b[0K\u001b[1G171.6 MiB [] 25% 2.7s\u001b[0K\u001b[1G171.6 MiB [] 26% 2.7s\u001b[0K\u001b[1G171.6 MiB [] 27% 2.8s\u001b[0K\u001b[1G171.6 MiB [] 28% 2.7s\u001b[0K\u001b[1G171.6 MiB [] 29% 2.6s\u001b[0K\u001b[1G171.6 MiB [] 30% 2.6s\u001b[0K\u001b[1G171.6 MiB [] 31% 2.5s\u001b[0K\u001b[1G171.6 MiB [] 32% 2.5s\u001b[0K\u001b[1G171.6 MiB [] 33% 2.4s\u001b[0K\u001b[1G171.6 MiB [] 34% 2.3s\u001b[0K\u001b[1G171.6 MiB [] 35% 2.3s\u001b[0K\u001b[1G171.6 MiB [] 36% 2.2s\u001b[0K\u001b[1G171.6 MiB [] 37% 2.2s\u001b[0K\u001b[1G171.6 MiB [] 38% 2.2s\u001b[0K\u001b[1G171.6 MiB [] 38% 2.3s\u001b[0K\u001b[1G171.6 MiB [] 38% 2.4s\u001b[0K\u001b[1G171.6 MiB [] 39% 2.3s\u001b[0K\u001b[1G171.6 MiB [] 40% 2.2s\u001b[0K\u001b[1G171.6 MiB [] 42% 2.1s\u001b[0K\u001b[1G171.6 MiB [] 43% 2.1s\u001b[0K\u001b[1G171.6 MiB [] 44% 2.0s\u001b[0K\u001b[1G171.6 MiB [] 45% 2.0s\u001b[0K\u001b[1G171.6 MiB [] 45% 1.9s\u001b[0K\u001b[1G171.6 MiB [] 46% 1.9s\u001b[0K\u001b[1G171.6 MiB [] 47% 1.9s\u001b[0K\u001b[1G171.6 MiB [] 48% 1.8s\u001b[0K\u001b[1G171.6 MiB [] 49% 1.7s\u001b[0K\u001b[1G171.6 MiB [] 50% 1.7s\u001b[0K\u001b[1G171.6 MiB [] 51% 1.6s\u001b[0K\u001b[1G171.6 MiB [] 52% 1.6s\u001b[0K\u001b[1G171.6 MiB [] 53% 1.6s\u001b[0K\u001b[1G171.6 MiB [] 54% 1.5s\u001b[0K\u001b[1G171.6 MiB [] 55% 1.5s\u001b[0K\u001b[1G171.6 MiB [] 56% 1.5s\u001b[0K\u001b[1G171.6 MiB [] 57% 1.4s\u001b[0K\u001b[1G171.6 MiB [] 58% 1.4s\u001b[0K\u001b[1G171.6 MiB [] 59% 1.4s\u001b[0K\u001b[1G171.6 MiB [] 60% 1.3s\u001b[0K\u001b[1G171.6 MiB [] 61% 1.3s\u001b[0K\u001b[1G171.6 MiB [] 62% 1.2s\u001b[0K\u001b[1G171.6 MiB [] 63% 1.2s\u001b[0K\u001b[1G171.6 MiB [] 64% 1.2s\u001b[0K\u001b[1G171.6 MiB [] 64% 1.1s\u001b[0K\u001b[1G171.6 MiB [] 65% 1.1s\u001b[0K\u001b[1G171.6 MiB [] 66% 1.1s\u001b[0K\u001b[1G171.6 MiB [] 67% 1.1s\u001b[0K\u001b[1G171.6 MiB [] 67% 1.0s\u001b[0K\u001b[1G171.6 MiB [] 68% 1.0s\u001b[0K\u001b[1G171.6 MiB [] 69% 1.0s\u001b[0K\u001b[1G171.6 MiB [] 70% 1.0s\u001b[0K\u001b[1G171.6 MiB [] 70% 0.9s\u001b[0K\u001b[1G171.6 MiB [] 71% 0.9s\u001b[0K\u001b[1G171.6 MiB [] 72% 0.9s\u001b[0K\u001b[1G171.6 MiB [] 73% 0.8s\u001b[0K\u001b[1G171.6 MiB [] 74% 0.8s\u001b[0K\u001b[1G171.6 MiB [] 75% 0.8s\u001b[0K\u001b[1G171.6 MiB [] 76% 0.7s\u001b[0K\u001b[1G171.6 MiB [] 77% 0.7s\u001b[0K\u001b[1G171.6 MiB [] 78% 0.7s\u001b[0K\u001b[1G171.6 MiB [] 79% 0.6s\u001b[0K\u001b[1G171.6 MiB [] 80% 0.6s\u001b[0K\u001b[1G171.6 MiB [] 81% 0.6s\u001b[0K\u001b[1G171.6 MiB [] 82% 0.5s\u001b[0K\u001b[1G171.6 MiB [] 83% 0.5s\u001b[0K\u001b[1G171.6 MiB [] 84% 0.5s\u001b[0K\u001b[1G171.6 MiB [] 85% 0.4s\u001b[0K\u001b[1G171.6 MiB [] 86% 0.4s\u001b[0K\u001b[1G171.6 MiB [] 87% 0.4s\u001b[0K\u001b[1G171.6 MiB [] 88% 0.3s\u001b[0K\u001b[1G171.6 MiB [] 89% 0.3s\u001b[0K\u001b[1G171.6 MiB [] 90% 0.3s\u001b[0K\u001b[1G171.6 MiB [] 91% 0.3s\u001b[0K\u001b[1G171.6 MiB [] 91% 0.2s\u001b[0K\u001b[1G171.6 MiB [] 92% 0.2s\u001b[0K\u001b[1G171.6 MiB [] 93% 0.2s\u001b[0K\u001b[1G171.6 MiB [] 94% 0.2s\u001b[0K\u001b[1G171.6 MiB [] 95% 0.1s\u001b[0K\u001b[1G171.6 MiB [] 96% 0.1s\u001b[0K\u001b[1G171.6 MiB [] 97% 0.1s\u001b[0K\u001b[1G171.6 MiB [] 98% 0.0s\u001b[0K\u001b[1G171.6 MiB [] 99% 0.0s\u001b[0K\u001b[1G171.6 MiB [] 100% 0.0s\u001b[0K\n",
            "Chromium 138.0.7204.23 (playwright build v1179) downloaded to /root/.cache/ms-playwright/chromium-1179\n",
            "Downloading FFMPEG playwright build v1011\u001b[2m from https://cdn.playwright.dev/dbazure/download/playwright/builds/ffmpeg/1011/ffmpeg-linux.zip\u001b[22m\n",
            "\u001b[1G2.3 MiB [] 0% 0.0s\u001b[0K\u001b[1G2.3 MiB [] 1% 3.5s\u001b[0K\u001b[1G2.3 MiB [] 2% 3.5s\u001b[0K\u001b[1G2.3 MiB [] 4% 2.1s\u001b[0K\u001b[1G2.3 MiB [] 6% 2.0s\u001b[0K\u001b[1G2.3 MiB [] 10% 1.3s\u001b[0K\u001b[1G2.3 MiB [] 14% 1.1s\u001b[0K\u001b[1G2.3 MiB [] 21% 0.8s\u001b[0K\u001b[1G2.3 MiB [] 30% 0.5s\u001b[0K\u001b[1G2.3 MiB [] 39% 0.4s\u001b[0K\u001b[1G2.3 MiB [] 60% 0.2s\u001b[0K\u001b[1G2.3 MiB [] 84% 0.1s\u001b[0K\u001b[1G2.3 MiB [] 100% 0.0s\u001b[0K\n",
            "FFMPEG playwright build v1011 downloaded to /root/.cache/ms-playwright/ffmpeg-1011\n",
            "Downloading Chromium Headless Shell 138.0.7204.23 (playwright build v1179)\u001b[2m from https://cdn.playwright.dev/dbazure/download/playwright/builds/chromium/1179/chromium-headless-shell-linux.zip\u001b[22m\n",
            "\u001b[1G104.5 MiB [] 0% 0.0s\u001b[0K\u001b[1G104.5 MiB [] 0% 167.2s\u001b[0K\u001b[1G104.5 MiB [] 0% 170.5s\u001b[0K\u001b[1G104.5 MiB [] 0% 112.6s\u001b[0K\u001b[1G104.5 MiB [] 0% 103.5s\u001b[0K\u001b[1G104.5 MiB [] 0% 76.5s\u001b[0K\u001b[1G104.5 MiB [] 0% 65.4s\u001b[0K\u001b[1G104.5 MiB [] 0% 51.0s\u001b[0K\u001b[1G104.5 MiB [] 0% 48.3s\u001b[0K\u001b[1G104.5 MiB [] 0% 49.6s\u001b[0K\u001b[1G104.5 MiB [] 0% 51.4s\u001b[0K\u001b[1G104.5 MiB [] 0% 52.6s\u001b[0K\u001b[1G104.5 MiB [] 0% 53.3s\u001b[0K\u001b[1G104.5 MiB [] 0% 53.9s\u001b[0K\u001b[1G104.5 MiB [] 0% 54.3s\u001b[0K\u001b[1G104.5 MiB [] 1% 54.5s\u001b[0K\u001b[1G104.5 MiB [] 1% 54.9s\u001b[0K\u001b[1G104.5 MiB [] 1% 55.1s\u001b[0K\u001b[1G104.5 MiB [] 1% 55.3s\u001b[0K\u001b[1G104.5 MiB [] 1% 55.5s\u001b[0K\u001b[1G104.5 MiB [] 1% 55.6s\u001b[0K\u001b[1G104.5 MiB [] 1% 55.7s\u001b[0K\u001b[1G104.5 MiB [] 1% 50.2s\u001b[0K\u001b[1G104.5 MiB [] 2% 26.6s\u001b[0K\u001b[1G104.5 MiB [] 4% 17.0s\u001b[0K\u001b[1G104.5 MiB [] 5% 14.9s\u001b[0K\u001b[1G104.5 MiB [] 6% 13.0s\u001b[0K\u001b[1G104.5 MiB [] 7% 11.5s\u001b[0K\u001b[1G104.5 MiB [] 8% 10.4s\u001b[0K\u001b[1G104.5 MiB [] 8% 9.4s\u001b[0K\u001b[1G104.5 MiB [] 9% 9.0s\u001b[0K\u001b[1G104.5 MiB [] 10% 8.0s\u001b[0K\u001b[1G104.5 MiB [] 12% 7.0s\u001b[0K\u001b[1G104.5 MiB [] 13% 6.6s\u001b[0K\u001b[1G104.5 MiB [] 14% 5.9s\u001b[0K\u001b[1G104.5 MiB [] 16% 5.4s\u001b[0K\u001b[1G104.5 MiB [] 16% 5.3s\u001b[0K\u001b[1G104.5 MiB [] 18% 4.7s\u001b[0K\u001b[1G104.5 MiB [] 19% 4.5s\u001b[0K\u001b[1G104.5 MiB [] 19% 4.4s\u001b[0K\u001b[1G104.5 MiB [] 21% 4.0s\u001b[0K\u001b[1G104.5 MiB [] 23% 3.8s\u001b[0K\u001b[1G104.5 MiB [] 24% 3.5s\u001b[0K\u001b[1G104.5 MiB [] 26% 3.2s\u001b[0K\u001b[1G104.5 MiB [] 27% 3.3s\u001b[0K\u001b[1G104.5 MiB [] 28% 3.1s\u001b[0K\u001b[1G104.5 MiB [] 30% 2.9s\u001b[0K\u001b[1G104.5 MiB [] 30% 2.8s\u001b[0K\u001b[1G104.5 MiB [] 32% 2.7s\u001b[0K\u001b[1G104.5 MiB [] 33% 2.6s\u001b[0K\u001b[1G104.5 MiB [] 34% 2.5s\u001b[0K\u001b[1G104.5 MiB [] 35% 2.4s\u001b[0K\u001b[1G104.5 MiB [] 37% 2.3s\u001b[0K\u001b[1G104.5 MiB [] 39% 2.1s\u001b[0K\u001b[1G104.5 MiB [] 40% 2.1s\u001b[0K\u001b[1G104.5 MiB [] 41% 2.0s\u001b[0K\u001b[1G104.5 MiB [] 43% 1.9s\u001b[0K\u001b[1G104.5 MiB [] 44% 1.8s\u001b[0K\u001b[1G104.5 MiB [] 46% 1.7s\u001b[0K\u001b[1G104.5 MiB [] 47% 1.7s\u001b[0K\u001b[1G104.5 MiB [] 48% 1.6s\u001b[0K\u001b[1G104.5 MiB [] 50% 1.5s\u001b[0K\u001b[1G104.5 MiB [] 51% 1.5s\u001b[0K\u001b[1G104.5 MiB [] 52% 1.4s\u001b[0K\u001b[1G104.5 MiB [] 54% 1.3s\u001b[0K\u001b[1G104.5 MiB [] 55% 1.3s\u001b[0K\u001b[1G104.5 MiB [] 58% 1.2s\u001b[0K\u001b[1G104.5 MiB [] 59% 1.1s\u001b[0K\u001b[1G104.5 MiB [] 61% 1.1s\u001b[0K\u001b[1G104.5 MiB [] 62% 1.0s\u001b[0K\u001b[1G104.5 MiB [] 63% 1.0s\u001b[0K\u001b[1G104.5 MiB [] 65% 0.9s\u001b[0K\u001b[1G104.5 MiB [] 67% 0.9s\u001b[0K\u001b[1G104.5 MiB [] 69% 0.8s\u001b[0K\u001b[1G104.5 MiB [] 70% 0.8s\u001b[0K\u001b[1G104.5 MiB [] 72% 0.7s\u001b[0K\u001b[1G104.5 MiB [] 73% 0.7s\u001b[0K\u001b[1G104.5 MiB [] 75% 0.6s\u001b[0K\u001b[1G104.5 MiB [] 77% 0.6s\u001b[0K\u001b[1G104.5 MiB [] 79% 0.5s\u001b[0K\u001b[1G104.5 MiB [] 80% 0.5s\u001b[0K\u001b[1G104.5 MiB [] 81% 0.5s\u001b[0K\u001b[1G104.5 MiB [] 82% 0.4s\u001b[0K\u001b[1G104.5 MiB [] 84% 0.4s\u001b[0K\u001b[1G104.5 MiB [] 85% 0.4s\u001b[0K\u001b[1G104.5 MiB [] 86% 0.3s\u001b[0K\u001b[1G104.5 MiB [] 88% 0.3s\u001b[0K\u001b[1G104.5 MiB [] 90% 0.2s\u001b[0K\u001b[1G104.5 MiB [] 91% 0.2s\u001b[0K\u001b[1G104.5 MiB [] 92% 0.2s\u001b[0K\u001b[1G104.5 MiB [] 93% 0.1s\u001b[0K\u001b[1G104.5 MiB [] 95% 0.1s\u001b[0K\u001b[1G104.5 MiB [] 96% 0.1s\u001b[0K\u001b[1G104.5 MiB [] 97% 0.1s\u001b[0K\u001b[1G104.5 MiB [] 98% 0.0s\u001b[0K\u001b[1G104.5 MiB [] 99% 0.0s\u001b[0K\u001b[1G104.5 MiB [] 100% 0.0s\u001b[0K\n",
            "Chromium Headless Shell 138.0.7204.23 (playwright build v1179) downloaded to /root/.cache/ms-playwright/chromium_headless_shell-1179\n",
            "\u001b[1;32m[\u001b[0m\u001b[32mCOMPLETE\u001b[0m\u001b[1;32m]\u001b[0m\u001b[32m ● Playwright installation completed successfully. \u001b[0m\n",
            "\u001b[1;36m[\u001b[0m\u001b[36mINIT\u001b[0m\u001b[1;36m]\u001b[0m\u001b[36m...\u001b[0m\u001b[36m. → Starting database initialization\u001b[0m\u001b[36m...\u001b[0m\u001b[36m \u001b[0m\n",
            "\u001b[1;36m[\u001b[0m\u001b[36mCOMPLETE\u001b[0m\u001b[1;36m]\u001b[0m\u001b[36m ● Database backup created at: \u001b[0m\n",
            "\u001b[36m/root/.crawl4ai/\u001b[0m\u001b[36mcrawl4ai.db.backup_20250705_172919\u001b[0m\u001b[36m \u001b[0m\n",
            "\u001b[1;36m[\u001b[0m\u001b[36mINIT\u001b[0m\u001b[1;36m]\u001b[0m\u001b[36m...\u001b[0m\u001b[36m. → Starting database migration\u001b[0m\u001b[36m...\u001b[0m\u001b[36m \u001b[0m\n",
            "\u001b[1;32m[\u001b[0m\u001b[32mCOMPLETE\u001b[0m\u001b[1;32m]\u001b[0m\u001b[32m ● Migration completed. \u001b[0m\u001b[1;32m0\u001b[0m\u001b[32m records processed. \u001b[0m\n",
            "\u001b[1;32m[\u001b[0m\u001b[32mCOMPLETE\u001b[0m\u001b[1;32m]\u001b[0m\u001b[32m ● Database initialization completed successfully. \u001b[0m\n",
            "\u001b[1;32m[\u001b[0m\u001b[32mCOMPLETE\u001b[0m\u001b[1;32m]\u001b[0m\u001b[32m ● Post-installation setup completed! \u001b[0m\n"
          ]
        }
      ]
    },
    {
      "cell_type": "code",
      "source": [
        "!playwright install"
      ],
      "metadata": {
        "colab": {
          "base_uri": "https://localhost:8080/"
        },
        "id": "fp99MwvOlaJX",
        "outputId": "a3a8f2ee-e9e8-41a7-cf56-5ba14c177502"
      },
      "execution_count": null,
      "outputs": [
        {
          "output_type": "stream",
          "name": "stdout",
          "text": [
            "Downloading Firefox 139.0 (playwright build v1488)\u001b[2m from https://cdn.playwright.dev/dbazure/download/playwright/builds/firefox/1488/firefox-ubuntu-22.04.zip\u001b[22m\n",
            "\u001b[1G92.3 MiB [] 0% 0.0s\u001b[0K\u001b[1G92.3 MiB [] 0% 153.2s\u001b[0K\u001b[1G92.3 MiB [] 0% 157.1s\u001b[0K\u001b[1G92.3 MiB [] 0% 90.5s\u001b[0K\u001b[1G92.3 MiB [] 0% 91.2s\u001b[0K\u001b[1G92.3 MiB [] 0% 67.5s\u001b[0K\u001b[1G92.3 MiB [] 0% 57.0s\u001b[0K\u001b[1G92.3 MiB [] 0% 42.9s\u001b[0K\u001b[1G92.3 MiB [] 0% 32.7s\u001b[0K\u001b[1G92.3 MiB [] 0% 33.8s\u001b[0K\u001b[1G92.3 MiB [] 1% 26.2s\u001b[0K\u001b[1G92.3 MiB [] 1% 20.0s\u001b[0K\u001b[1G92.3 MiB [] 1% 19.9s\u001b[0K\u001b[1G92.3 MiB [] 1% 15.7s\u001b[0K\u001b[1G92.3 MiB [] 2% 11.9s\u001b[0K\u001b[1G92.3 MiB [] 3% 11.4s\u001b[0K\u001b[1G92.3 MiB [] 3% 9.2s\u001b[0K\u001b[1G92.3 MiB [] 5% 6.5s\u001b[0K\u001b[1G92.3 MiB [] 6% 6.3s\u001b[0K\u001b[1G92.3 MiB [] 7% 5.2s\u001b[0K\u001b[1G92.3 MiB [] 8% 4.5s\u001b[0K\u001b[1G92.3 MiB [] 10% 4.0s\u001b[0K\u001b[1G92.3 MiB [] 10% 4.1s\u001b[0K\u001b[1G92.3 MiB [] 12% 3.5s\u001b[0K\u001b[1G92.3 MiB [] 13% 3.2s\u001b[0K\u001b[1G92.3 MiB [] 14% 3.0s\u001b[0K\u001b[1G92.3 MiB [] 16% 2.7s\u001b[0K\u001b[1G92.3 MiB [] 17% 2.7s\u001b[0K\u001b[1G92.3 MiB [] 18% 2.5s\u001b[0K\u001b[1G92.3 MiB [] 20% 2.3s\u001b[0K\u001b[1G92.3 MiB [] 21% 2.2s\u001b[0K\u001b[1G92.3 MiB [] 22% 2.2s\u001b[0K\u001b[1G92.3 MiB [] 24% 2.0s\u001b[0K\u001b[1G92.3 MiB [] 25% 1.9s\u001b[0K\u001b[1G92.3 MiB [] 26% 1.9s\u001b[0K\u001b[1G92.3 MiB [] 28% 1.7s\u001b[0K\u001b[1G92.3 MiB [] 29% 1.7s\u001b[0K\u001b[1G92.3 MiB [] 30% 1.7s\u001b[0K\u001b[1G92.3 MiB [] 32% 1.6s\u001b[0K\u001b[1G92.3 MiB [] 33% 1.5s\u001b[0K\u001b[1G92.3 MiB [] 34% 1.5s\u001b[0K\u001b[1G92.3 MiB [] 36% 1.4s\u001b[0K\u001b[1G92.3 MiB [] 37% 1.4s\u001b[0K\u001b[1G92.3 MiB [] 38% 1.3s\u001b[0K\u001b[1G92.3 MiB [] 40% 1.3s\u001b[0K\u001b[1G92.3 MiB [] 41% 1.2s\u001b[0K\u001b[1G92.3 MiB [] 42% 1.2s\u001b[0K\u001b[1G92.3 MiB [] 44% 1.1s\u001b[0K\u001b[1G92.3 MiB [] 45% 1.1s\u001b[0K\u001b[1G92.3 MiB [] 46% 1.1s\u001b[0K\u001b[1G92.3 MiB [] 48% 1.0s\u001b[0K\u001b[1G92.3 MiB [] 49% 1.0s\u001b[0K\u001b[1G92.3 MiB [] 50% 1.0s\u001b[0K\u001b[1G92.3 MiB [] 52% 0.9s\u001b[0K\u001b[1G92.3 MiB [] 54% 0.9s\u001b[0K\u001b[1G92.3 MiB [] 55% 0.9s\u001b[0K\u001b[1G92.3 MiB [] 56% 0.9s\u001b[0K\u001b[1G92.3 MiB [] 57% 0.8s\u001b[0K\u001b[1G92.3 MiB [] 58% 0.8s\u001b[0K\u001b[1G92.3 MiB [] 59% 0.8s\u001b[0K\u001b[1G92.3 MiB [] 60% 0.8s\u001b[0K\u001b[1G92.3 MiB [] 61% 0.7s\u001b[0K\u001b[1G92.3 MiB [] 63% 0.7s\u001b[0K\u001b[1G92.3 MiB [] 64% 0.7s\u001b[0K\u001b[1G92.3 MiB [] 65% 0.7s\u001b[0K\u001b[1G92.3 MiB [] 67% 0.6s\u001b[0K\u001b[1G92.3 MiB [] 68% 0.6s\u001b[0K\u001b[1G92.3 MiB [] 69% 0.6s\u001b[0K\u001b[1G92.3 MiB [] 70% 0.6s\u001b[0K\u001b[1G92.3 MiB [] 71% 0.6s\u001b[0K\u001b[1G92.3 MiB [] 72% 0.5s\u001b[0K\u001b[1G92.3 MiB [] 73% 0.5s\u001b[0K\u001b[1G92.3 MiB [] 74% 0.5s\u001b[0K\u001b[1G92.3 MiB [] 76% 0.5s\u001b[0K\u001b[1G92.3 MiB [] 76% 0.4s\u001b[0K\u001b[1G92.3 MiB [] 77% 0.4s\u001b[0K\u001b[1G92.3 MiB [] 79% 0.4s\u001b[0K\u001b[1G92.3 MiB [] 80% 0.4s\u001b[0K\u001b[1G92.3 MiB [] 81% 0.3s\u001b[0K\u001b[1G92.3 MiB [] 83% 0.3s\u001b[0K\u001b[1G92.3 MiB [] 84% 0.3s\u001b[0K\u001b[1G92.3 MiB [] 85% 0.3s\u001b[0K\u001b[1G92.3 MiB [] 86% 0.2s\u001b[0K\u001b[1G92.3 MiB [] 88% 0.2s\u001b[0K\u001b[1G92.3 MiB [] 89% 0.2s\u001b[0K\u001b[1G92.3 MiB [] 90% 0.2s\u001b[0K\u001b[1G92.3 MiB [] 91% 0.2s\u001b[0K\u001b[1G92.3 MiB [] 92% 0.1s\u001b[0K\u001b[1G92.3 MiB [] 94% 0.1s\u001b[0K\u001b[1G92.3 MiB [] 95% 0.1s\u001b[0K\u001b[1G92.3 MiB [] 96% 0.1s\u001b[0K\u001b[1G92.3 MiB [] 98% 0.0s\u001b[0K\u001b[1G92.3 MiB [] 100% 0.0s\u001b[0K\n",
            "Firefox 139.0 (playwright build v1488) downloaded to /root/.cache/ms-playwright/firefox-1488\n",
            "Downloading Webkit 18.5 (playwright build v2182)\u001b[2m from https://cdn.playwright.dev/dbazure/download/playwright/builds/webkit/2182/webkit-ubuntu-22.04.zip\u001b[22m\n",
            "\u001b[1G93.7 MiB [] 0% 0.0s\u001b[0K\u001b[1G93.7 MiB [] 0% 34.9s\u001b[0K\u001b[1G93.7 MiB [] 0% 27.2s\u001b[0K\u001b[1G93.7 MiB [] 0% 16.4s\u001b[0K\u001b[1G93.7 MiB [] 0% 12.3s\u001b[0K\u001b[1G93.7 MiB [] 0% 11.7s\u001b[0K\u001b[1G93.7 MiB [] 1% 9.9s\u001b[0K\u001b[1G93.7 MiB [] 1% 8.5s\u001b[0K\u001b[1G93.7 MiB [] 2% 7.2s\u001b[0K\u001b[1G93.7 MiB [] 2% 7.0s\u001b[0K\u001b[1G93.7 MiB [] 3% 6.5s\u001b[0K\u001b[1G93.7 MiB [] 3% 6.3s\u001b[0K\u001b[1G93.7 MiB [] 3% 6.0s\u001b[0K\u001b[1G93.7 MiB [] 4% 5.7s\u001b[0K\u001b[1G93.7 MiB [] 4% 5.6s\u001b[0K\u001b[1G93.7 MiB [] 5% 5.4s\u001b[0K\u001b[1G93.7 MiB [] 5% 5.3s\u001b[0K\u001b[1G93.7 MiB [] 6% 4.9s\u001b[0K\u001b[1G93.7 MiB [] 7% 4.7s\u001b[0K\u001b[1G93.7 MiB [] 7% 5.1s\u001b[0K\u001b[1G93.7 MiB [] 7% 4.9s\u001b[0K\u001b[1G93.7 MiB [] 8% 4.8s\u001b[0K\u001b[1G93.7 MiB [] 8% 4.6s\u001b[0K\u001b[1G93.7 MiB [] 9% 4.4s\u001b[0K\u001b[1G93.7 MiB [] 10% 4.2s\u001b[0K\u001b[1G93.7 MiB [] 10% 4.5s\u001b[0K\u001b[1G93.7 MiB [] 11% 4.5s\u001b[0K\u001b[1G93.7 MiB [] 11% 4.4s\u001b[0K\u001b[1G93.7 MiB [] 11% 4.3s\u001b[0K\u001b[1G93.7 MiB [] 12% 4.5s\u001b[0K\u001b[1G93.7 MiB [] 13% 4.4s\u001b[0K\u001b[1G93.7 MiB [] 13% 4.3s\u001b[0K\u001b[1G93.7 MiB [] 14% 4.2s\u001b[0K\u001b[1G93.7 MiB [] 15% 4.2s\u001b[0K\u001b[1G93.7 MiB [] 15% 4.1s\u001b[0K\u001b[1G93.7 MiB [] 16% 4.0s\u001b[0K\u001b[1G93.7 MiB [] 16% 3.9s\u001b[0K\u001b[1G93.7 MiB [] 17% 3.9s\u001b[0K\u001b[1G93.7 MiB [] 17% 4.0s\u001b[0K\u001b[1G93.7 MiB [] 18% 4.0s\u001b[0K\u001b[1G93.7 MiB [] 19% 4.0s\u001b[0K\u001b[1G93.7 MiB [] 19% 3.9s\u001b[0K\u001b[1G93.7 MiB [] 20% 3.8s\u001b[0K\u001b[1G93.7 MiB [] 21% 3.8s\u001b[0K\u001b[1G93.7 MiB [] 22% 3.6s\u001b[0K\u001b[1G93.7 MiB [] 23% 3.5s\u001b[0K\u001b[1G93.7 MiB [] 24% 3.3s\u001b[0K\u001b[1G93.7 MiB [] 25% 3.3s\u001b[0K\u001b[1G93.7 MiB [] 26% 3.2s\u001b[0K\u001b[1G93.7 MiB [] 27% 3.2s\u001b[0K\u001b[1G93.7 MiB [] 27% 3.1s\u001b[0K\u001b[1G93.7 MiB [] 28% 3.1s\u001b[0K\u001b[1G93.7 MiB [] 29% 3.1s\u001b[0K\u001b[1G93.7 MiB [] 29% 3.0s\u001b[0K\u001b[1G93.7 MiB [] 30% 3.0s\u001b[0K\u001b[1G93.7 MiB [] 31% 2.9s\u001b[0K\u001b[1G93.7 MiB [] 32% 2.8s\u001b[0K\u001b[1G93.7 MiB [] 33% 2.7s\u001b[0K\u001b[1G93.7 MiB [] 34% 2.6s\u001b[0K\u001b[1G93.7 MiB [] 35% 2.5s\u001b[0K\u001b[1G93.7 MiB [] 36% 2.4s\u001b[0K\u001b[1G93.7 MiB [] 37% 2.4s\u001b[0K\u001b[1G93.7 MiB [] 38% 2.3s\u001b[0K\u001b[1G93.7 MiB [] 39% 2.3s\u001b[0K\u001b[1G93.7 MiB [] 40% 2.2s\u001b[0K\u001b[1G93.7 MiB [] 41% 2.2s\u001b[0K\u001b[1G93.7 MiB [] 42% 2.1s\u001b[0K\u001b[1G93.7 MiB [] 43% 2.1s\u001b[0K\u001b[1G93.7 MiB [] 44% 2.0s\u001b[0K\u001b[1G93.7 MiB [] 45% 2.0s\u001b[0K\u001b[1G93.7 MiB [] 46% 2.0s\u001b[0K\u001b[1G93.7 MiB [] 46% 1.9s\u001b[0K\u001b[1G93.7 MiB [] 47% 1.9s\u001b[0K\u001b[1G93.7 MiB [] 48% 1.9s\u001b[0K\u001b[1G93.7 MiB [] 49% 1.8s\u001b[0K\u001b[1G93.7 MiB [] 50% 1.8s\u001b[0K\u001b[1G93.7 MiB [] 51% 1.7s\u001b[0K\u001b[1G93.7 MiB [] 52% 1.7s\u001b[0K\u001b[1G93.7 MiB [] 53% 1.7s\u001b[0K\u001b[1G93.7 MiB [] 53% 1.6s\u001b[0K\u001b[1G93.7 MiB [] 54% 1.6s\u001b[0K\u001b[1G93.7 MiB [] 55% 1.5s\u001b[0K\u001b[1G93.7 MiB [] 56% 1.5s\u001b[0K\u001b[1G93.7 MiB [] 57% 1.5s\u001b[0K\u001b[1G93.7 MiB [] 58% 1.4s\u001b[0K\u001b[1G93.7 MiB [] 59% 1.4s\u001b[0K\u001b[1G93.7 MiB [] 60% 1.4s\u001b[0K\u001b[1G93.7 MiB [] 61% 1.3s\u001b[0K\u001b[1G93.7 MiB [] 63% 1.2s\u001b[0K\u001b[1G93.7 MiB [] 64% 1.2s\u001b[0K\u001b[1G93.7 MiB [] 65% 1.1s\u001b[0K\u001b[1G93.7 MiB [] 66% 1.1s\u001b[0K\u001b[1G93.7 MiB [] 67% 1.1s\u001b[0K\u001b[1G93.7 MiB [] 68% 1.0s\u001b[0K\u001b[1G93.7 MiB [] 69% 1.0s\u001b[0K\u001b[1G93.7 MiB [] 70% 0.9s\u001b[0K\u001b[1G93.7 MiB [] 71% 0.9s\u001b[0K\u001b[1G93.7 MiB [] 72% 0.9s\u001b[0K\u001b[1G93.7 MiB [] 73% 0.9s\u001b[0K\u001b[1G93.7 MiB [] 74% 0.8s\u001b[0K\u001b[1G93.7 MiB [] 75% 0.8s\u001b[0K\u001b[1G93.7 MiB [] 76% 0.8s\u001b[0K\u001b[1G93.7 MiB [] 77% 0.7s\u001b[0K\u001b[1G93.7 MiB [] 78% 0.7s\u001b[0K\u001b[1G93.7 MiB [] 79% 0.6s\u001b[0K\u001b[1G93.7 MiB [] 81% 0.6s\u001b[0K\u001b[1G93.7 MiB [] 82% 0.5s\u001b[0K\u001b[1G93.7 MiB [] 84% 0.5s\u001b[0K\u001b[1G93.7 MiB [] 86% 0.4s\u001b[0K\u001b[1G93.7 MiB [] 87% 0.4s\u001b[0K\u001b[1G93.7 MiB [] 88% 0.3s\u001b[0K\u001b[1G93.7 MiB [] 90% 0.3s\u001b[0K\u001b[1G93.7 MiB [] 91% 0.2s\u001b[0K\u001b[1G93.7 MiB [] 93% 0.2s\u001b[0K\u001b[1G93.7 MiB [] 94% 0.2s\u001b[0K\u001b[1G93.7 MiB [] 95% 0.1s\u001b[0K\u001b[1G93.7 MiB [] 96% 0.1s\u001b[0K\u001b[1G93.7 MiB [] 97% 0.1s\u001b[0K\u001b[1G93.7 MiB [] 98% 0.0s\u001b[0K\u001b[1G93.7 MiB [] 99% 0.0s\u001b[0K\u001b[1G93.7 MiB [] 100% 0.0s\u001b[0K\n",
            "Webkit 18.5 (playwright build v2182) downloaded to /root/.cache/ms-playwright/webkit-2182\n",
            "Playwright Host validation warning: \n",
            "╔══════════════════════════════════════════════════════╗\n",
            "║ Host system is missing dependencies to run browsers. ║\n",
            "║ Missing libraries:                                   ║\n",
            "║     libwoff2dec.so.1.0.2                             ║\n",
            "║     libgstgl-1.0.so.0                                ║\n",
            "║     libgstcodecparsers-1.0.so.0                      ║\n",
            "║     libavif.so.13                                    ║\n",
            "║     libharfbuzz-icu.so.0                             ║\n",
            "║     libenchant-2.so.2                                ║\n",
            "║     libsecret-1.so.0                                 ║\n",
            "║     libhyphen.so.0                                   ║\n",
            "║     libmanette-0.2.so.0                              ║\n",
            "╚══════════════════════════════════════════════════════╝\n",
            "    at validateDependenciesLinux (/usr/local/lib/python3.11/dist-packages/playwright/driver/package/lib/server/registry/dependencies.js:269:9)\n",
            "\u001b[90m    at process.processTicksAndRejections (node:internal/process/task_queues:105:5)\u001b[39m\n",
            "    at async Registry._validateHostRequirements (/usr/local/lib/python3.11/dist-packages/playwright/driver/package/lib/server/registry/index.js:927:14)\n",
            "    at async Registry._validateHostRequirementsForExecutableIfNeeded (/usr/local/lib/python3.11/dist-packages/playwright/driver/package/lib/server/registry/index.js:1049:7)\n",
            "    at async Registry.validateHostRequirementsForExecutablesIfNeeded (/usr/local/lib/python3.11/dist-packages/playwright/driver/package/lib/server/registry/index.js:1038:7)\n",
            "    at async t.<anonymous> (/usr/local/lib/python3.11/dist-packages/playwright/driver/package/lib/cli/program.js:217:7)\n"
          ]
        }
      ]
    },
    {
      "cell_type": "code",
      "source": [
        "from google.colab import userdata\n",
        "GEMINI_API_KEY = userdata.get('GOOGLE_API_KEY')\n",
        "MISTRAL_API_KEY = userdata.get('MISTRAL_API_KEY')"
      ],
      "metadata": {
        "id": "Cjt1rYtFlaGs"
      },
      "execution_count": null,
      "outputs": []
    },
    {
      "cell_type": "code",
      "source": [
        "import os\n",
        "import requests\n",
        "import json\n",
        "\n",
        "from typing import Annotated, Tuple, List\n",
        "from pydantic import BaseModel, Field\n",
        "\n",
        "from langgraph.prebuilt import create_react_agent # New\n",
        "from langchain_core.tools import tool\n",
        "from langchain_google_genai import ChatGoogleGenerativeAI\n",
        "from langchain_core.rate_limiters import InMemoryRateLimiter\n",
        "\n",
        "from googlesearch import search\n",
        "\n",
        "import base64\n",
        "from mistralai import Mistral\n",
        "from PyPDF2 import PdfReader, PdfWriter\n",
        "\n",
        "from crawl4ai import AsyncWebCrawler, BrowserConfig, CrawlerRunConfig, CacheMode\n",
        "from crawl4ai.content_scraping_strategy import LXMLWebScrapingStrategy\n",
        "from crawl4ai.markdown_generation_strategy import DefaultMarkdownGenerator"
      ],
      "metadata": {
        "id": "8CzmsCaElaD-"
      },
      "execution_count": null,
      "outputs": []
    },
    {
      "cell_type": "code",
      "source": [
        "import asyncio\n",
        "import nest_asyncio\n",
        "\n",
        "nest_asyncio.apply()"
      ],
      "metadata": {
        "id": "Sd19lkGimf5D"
      },
      "execution_count": null,
      "outputs": []
    },
    {
      "cell_type": "code",
      "source": [
        "class PlannerInput(BaseModel):\n",
        "    query: str = Field(..., description=\"user's query\")\n",
        "\n",
        "@tool(\"generate_plan\",\n",
        "    description=\"Breaks down a user query into sub-questions and optimized web search queries for deep research planning.\",\n",
        "    args_schema=PlannerInput\n",
        ")\n",
        "def generate_plan(query: str) -> dict:\n",
        "    model = ChatGoogleGenerativeAI(\n",
        "      model=\"models/gemini-2.0-flash\",\n",
        "      temperature=0,\n",
        "      max_tokens=None,\n",
        "      timeout=None,\n",
        "      max_retries=2,\n",
        "      api_key=GEMINI_API_KEY\n",
        "    )\n",
        "\n",
        "    planning_system_prompt = \"\"\"\n",
        "You are an expert Research Analyst and Strategic Planner. Your mission is to deconstruct a user's query into a comprehensive and logical research plan. This plan will be the foundation for generating a thorough, well-supported report.\n",
        "\n",
        "You must meticulously follow the instructions for each field of the output.\n",
        "\n",
        "**1. Task: `query_breakdown`**\n",
        "\n",
        "Your first task is to deeply analyze the user's query. Do not just summarize it. Your breakdown must identify the following components:\n",
        "* **Core Intent:** What is the user's ultimate goal? What are they trying to achieve or understand?\n",
        "* **Key Entities & Concepts:** Identify the main subjects, organizations, people, technologies, or abstract concepts at the heart of the query.\n",
        "* **Scope & Constraints:** Define the boundaries of the query. Is it limited by time (e.g., \"in the last 5 years\"), geography (e.g., \"in Europe\"), or other factors? If not specified, note that the scope is broad.\n",
        "\n",
        "**2. Task: `sub_questions`**\n",
        "\n",
        "Based on your `query_breakdown`, create a list of sub-questions that form a logical pathway to a complete answer. The questions must build upon each other, progressing from foundational knowledge to specific, analytical details.\n",
        "\n",
        "* **Structure:** Start with foundational questions (e.g., \"What is [concept]?\", \"What is the history of [event]?\"), then move to core details (e.g., \"How does [entity A] work?\", \"What are the key factors driving [trend]?\"), and conclude with analytical or comparative questions (e.g., \"What are the long-term impacts of [event]?\", \"How does [option A] compare to [option B]?\").\n",
        "* **Clarity:** Each question should be clear, concise, and answerable.\n",
        "* **Requirement:** Generate at least 3, but preferably 4-5, sub-questions to ensure thoroughness.\n",
        "\n",
        "**3. Task: `search_queries`**\n",
        "\n",
        "For each sub-question you generated, create a web search query. It is crucial that you **do not simply rephrase the sub-questions**. Instead, craft queries a human expert would use to get the best possible results from a search engine like Google.\n",
        "\n",
        "* **Optimization:** Employ search operator best practices. Think about keywords, phrases in quotes for exact matches, and adding context words.\n",
        "* **Query-Crafting Techniques:**\n",
        "    * **Keyword Queries:** `[entity] benefits disadvantages`\n",
        "    * **Statistical Queries:** `[topic] statistics 2024` or `growth rate of [industry]`\n",
        "    * **Comparative Queries:** `[product A] vs [product B] review`\n",
        "    * **Process Queries:** `how to implement [strategy]` or `[technology] working principle`\n",
        "    * **Authoritative Source Queries:** `[topic] site:.gov` or `[medical condition] site:who.int`\n",
        "* Use the technique most suitable for the topic at hand, in case of uncertainty, just convert the sub-question to a web search query.\n",
        "    \"\"\"\n",
        "    class PlanningOutput(BaseModel):\n",
        "      query_breakdown: str = Field(..., description=\"breakdown of the user query\")\n",
        "      sub_questions: list[str] = Field(..., description=\"list of sub-questions to answer\")\n",
        "      search_queries: list[str] = Field(..., description=\"list of web search queries to run\")\n",
        "\n",
        "    planning_model = model.with_structured_output(PlanningOutput)\n",
        "\n",
        "    messages = [\n",
        "        (\"system\", planning_system_prompt),\n",
        "        (\"user\", query)\n",
        "    ]\n",
        "\n",
        "    response = planning_model.invoke(messages)\n",
        "    plan = response.model_dump()\n",
        "    print(f\"Generated plan: {plan}\")\n",
        "    return plan"
      ],
      "metadata": {
        "id": "thSPSnVelaBd"
      },
      "execution_count": null,
      "outputs": []
    },
    {
      "cell_type": "code",
      "source": [
        "def should_skip_url(url: str) -> Tuple[bool, str]:\n",
        "    # New check: Skip non-HTTPS URLs\n",
        "    if not url.lower().startswith('https://'):\n",
        "        print(f\"[INFO] Skipping URL (non-https): {url}\")\n",
        "        return True, 'non-https'\n",
        "\n",
        "    # Existing logic below (unchanged)\n",
        "    NON_TEXTUAL_MIME_TYPES = [\n",
        "        'application/zip',\n",
        "        'application/x-rar-compressed',\n",
        "        'application/octet-stream',\n",
        "        'image/',\n",
        "        'video/',\n",
        "        'audio/',\n",
        "        'font/',\n",
        "    ]\n",
        "\n",
        "    try:\n",
        "        headers = {\n",
        "            'User-Agent': 'Mozilla/5.0 (Windows NT 10.0; Win64; x64) AppleWebKit/537.36 (KHTML, like Gecko) Chrome/91.0.4472.124 Safari/537.36'\n",
        "        }\n",
        "\n",
        "        head_response = requests.head(url, allow_redirects=True, timeout=5, headers=headers)\n",
        "        head_response.raise_for_status()\n",
        "        content_type = head_response.headers.get('Content-Type', '').lower()\n",
        "\n",
        "        for mime_type in NON_TEXTUAL_MIME_TYPES:\n",
        "            if content_type.startswith(mime_type):\n",
        "                detected_type = mime_type.strip('/')\n",
        "                print(f\"[INFO] Skipping URL (non-textual content type: {detected_type}): {url}\")\n",
        "                return True, detected_type\n",
        "\n",
        "        with requests.get(url, allow_redirects=True, timeout=10, headers=headers, stream=True) as get_response:\n",
        "            get_response.raise_for_status()\n",
        "            final_content_type = get_response.headers.get('Content-Type', '').lower()\n",
        "\n",
        "            for mime_type in NON_TEXTUAL_MIME_TYPES:\n",
        "                if final_content_type.startswith(mime_type):\n",
        "                    detected_type = mime_type.strip('/')\n",
        "                    print(f\"[INFO] Skipping URL (non-textual content type on GET: {detected_type}): {url}\")\n",
        "                    return True, detected_type\n",
        "\n",
        "            if 'application/pdf' in final_content_type:\n",
        "                print(f\"[SUCCESS] URL content is valid (pdf): {url}\")\n",
        "                return False, 'pdf'\n",
        "            else:\n",
        "                print(f\"[SUCCESS] URL content is valid (html/text): {url}\")\n",
        "                return False, 'html'\n",
        "\n",
        "    except requests.exceptions.RequestException as e:\n",
        "        print(f\"[ERROR] Skipping URL due to request error: {url}\\n\\tDetails: {e}\")\n",
        "        return True, 'error'\n",
        "    except Exception as e:\n",
        "        print(f\"[ERROR] Skipping URL due to an unexpected error: {url}\\n\\tDetails: {e}\")\n",
        "        return True, 'error'\n",
        "\n",
        "# Define input schema\n",
        "class WebSearchInput(BaseModel):\n",
        "    search_queries: List[str] = Field(..., description=\"List of web search queries\")\n",
        "\n",
        "# Tool function\n",
        "@tool(\"web_search\",\n",
        "    description=\"Search Google for a list of queries and return relevant URLs for each. It return a list of accepted urls with their types\",\n",
        "    args_schema=WebSearchInput\n",
        ")\n",
        "def web_search(search_queries: list[str], num_results: int = 5) -> list[str]:\n",
        "    \"\"\"\n",
        "    Return a list of top N URLs from a Google search.\n",
        "    \"\"\"\n",
        "    results = []\n",
        "    for search_query in search_queries:\n",
        "      query_related_urls = []\n",
        "      urls = search(search_query, num_results=num_results, timeout=5, unique=True)\n",
        "      for url in urls:\n",
        "        verdict, url_type = should_skip_url(url)\n",
        "        if not verdict:\n",
        "          query_related_urls.append((url_type, url))\n",
        "      results.append(query_related_urls)\n",
        "    return results"
      ],
      "metadata": {
        "id": "TfH1iIOjmzrv"
      },
      "execution_count": null,
      "outputs": []
    },
    {
      "cell_type": "code",
      "source": [
        "# Get the project root and then the data directory in one compact line\n",
        "temp_directory = \"/content/temp\"\n",
        "# Ensure the 'temp/' directory exists\n",
        "os.makedirs(temp_directory, exist_ok=True)\n",
        "\n",
        "\n",
        "def download_pdf(pdf_url, download_path):\n",
        "\n",
        "    response = requests.get(pdf_url)\n",
        "    with open(download_path, \"wb\") as f:\n",
        "        f.write(response.content)\n",
        "\n",
        "\n",
        "# Extract only the first N pages\n",
        "def extract_pages(input_path, output_path, page_count=3):\n",
        "    reader = PdfReader(input_path)\n",
        "    writer = PdfWriter()\n",
        "    for i in range(min(page_count, len(reader.pages))):\n",
        "        writer.add_page(reader.pages[i])\n",
        "    with open(output_path, \"wb\") as f:\n",
        "        writer.write(f)\n",
        "\n",
        "\n",
        "def encode_pdf(pdf_path):\n",
        "    \"\"\"Encode the pdf to base64.\"\"\"\n",
        "    try:\n",
        "        with open(pdf_path, \"rb\") as pdf_file:\n",
        "            return base64.b64encode(pdf_file.read()).decode('utf-8')\n",
        "    except FileNotFoundError:\n",
        "        print(f\"Error: The file {pdf_path} was not found.\")\n",
        "        return None\n",
        "    except Exception as e:  # Added general exception handling\n",
        "        print(f\"Error: {e}\")\n",
        "        return None\n",
        "\n",
        "def pdf_ocr(url, page_count=5):\n",
        "\n",
        "    # Construct the full path for PDF file to download\n",
        "    download_path = temp_directory + \"/original.pdf\"\n",
        "\n",
        "    # Download the PDF from URL\n",
        "    download_pdf(url, download_path)\n",
        "\n",
        "    # Construct the full path for the output PDF file\n",
        "    shortened_pdf_path = temp_directory + \"/shortened.pdf\"\n",
        "\n",
        "    extract_pages(download_path, shortened_pdf_path, page_count=page_count)\n",
        "\n",
        "    # Getting the base64 string\n",
        "    base64_pdf = encode_pdf(shortened_pdf_path)\n",
        "\n",
        "    client = Mistral(api_key=MISTRAL_API_KEY)\n",
        "\n",
        "    ocr_response = client.ocr.process(\n",
        "        model=\"mistral-ocr-latest\",\n",
        "        document={\n",
        "            \"type\": \"document_url\",\n",
        "            \"document_url\": f\"data:application/pdf;base64,{base64_pdf}\"\n",
        "        },\n",
        "        include_image_base64=True\n",
        "    )\n",
        "    return ocr_response"
      ],
      "metadata": {
        "id": "nFi2Rwd0ms8x"
      },
      "execution_count": null,
      "outputs": []
    },
    {
      "cell_type": "code",
      "source": [
        "def clean_scraped_data_llm(sub_question, scraped_data):\n",
        "    model = ChatGoogleGenerativeAI(\n",
        "        model=\"models/gemini-2.0-flash\", #\"models/gemini-2.5-flash-preview-05-20\"\n",
        "        temperature=0,\n",
        "        max_tokens=None,\n",
        "        timeout=None,\n",
        "        max_retries=2,\n",
        "        api_key=GEMINI_API_KEY\n",
        "    )\n",
        "\n",
        "    clean_data_system_prompt = \"\"\"\n",
        "    You are an expert Information Retrieval Assistant. Your task is to extract all relevant text chunks from a scraped text based on a user query. You must follow a precise, multi-step process to ensure maximum relevance and recall.\n",
        "\n",
        "    What you will get as input:\n",
        "    1. `query`: The user's original question or topic.\n",
        "    2. `scraped_text`: A large body of text.\n",
        "\n",
        "    Your Job (Multi-Step Process):\n",
        "\n",
        "    **Step 1: Query Analysis and Expansion**\n",
        "    * Analyze the user's `query` to understand its core intent.\n",
        "    * Generate a list of at least 5-10 related keywords, synonyms, and alternative phrases. For example, if the query is about \"cost of living,\" you might expand it to include \"housing prices,\" \"rent,\" \"grocery bills,\" \"inflation,\" \"expenses,\" etc. This expanded set will be used for retrieval.\n",
        "\n",
        "    **Step 2: Text Segmentation (Chunking)**\n",
        "    * Segment the `scraped_text` into logical chunks. The ideal chunk is a single paragraph. If the text has no clear paragraphs, split it by sentences. Do not use arbitrary fixed-size chunks. Create a list of these text chunks.\n",
        "\n",
        "    **Step 3: Initial Retrieval (Candidate Generation)**\n",
        "    * Go through your list of text chunks from Step 2.\n",
        "    * Identify an initial set of \"candidate chunks.\" A chunk is a candidate if it contains ANY of the original query keywords OR any of the expanded keywords/phrases from Step 1.\n",
        "    * This step should be broad; the goal is to capture everything that could possibly be relevant.\n",
        "\n",
        "    **Step 4: Relevance Re-ranking and Filtering**\n",
        "    * For each \"candidate chunk\" you identified in Step 3, perform a fine-grained relevance analysis.\n",
        "    * Evaluate how directly the chunk answers or relates to the user's ORIGINAL `query`.\n",
        "    * Assign a relevance score: 'High', 'Medium', or 'Low'.\n",
        "    * Only keep the chunks that you score as 'High' or 'Medium' relevance.\n",
        "\n",
        "    **Step 5: Final Output Generation**\n",
        "    * Create a final list containing only the 'High' and 'Medium' relevance chunks you filtered in Step 4.\n",
        "    * Crucially, the text in this final list must be the **original, unaltered text** from the chunks.\n",
        "    * Return this final list of chunks.\n",
        "\n",
        "    Important:\n",
        "    * In case of no relevant information return empty list.\n",
        "    \"\"\"\n",
        "\n",
        "    class ChunksOutput(BaseModel):\n",
        "        chunks_list: List[str] = Field(..., description=\"List of relevant text chunks to the query, in case of no relevant information return empty list\")\n",
        "\n",
        "    data_cleaning_model = model.with_structured_output(ChunksOutput)\n",
        "\n",
        "    chunks_list = []\n",
        "    parag_size = 20000  # size in charachters (not tokens)\n",
        "    nbr_parag, remaining = divmod(len(scraped_data), parag_size)\n",
        "    max_nbr_para = min(nbr_parag, 5)\n",
        "    for i in range(max_nbr_para):\n",
        "        messages = [\n",
        "            (\"system\", clean_data_system_prompt),\n",
        "            (\"user\", f\"Query:\\n{sub_question}\\nScraped text:\\n{scraped_data[i*parag_size:(i+1)*parag_size]}\")\n",
        "        ]\n",
        "        response = data_cleaning_model.invoke(messages)\n",
        "        chunks_list.extend(response.chunks_list)\n",
        "    if remaining:\n",
        "        messages = [\n",
        "                (\"system\", clean_data_system_prompt),\n",
        "                (\"user\", f\"Query:\\n{sub_question}\\nScraped text:\\n{scraped_data[max_nbr_para*parag_size:(max_nbr_para+1)*parag_size]}\")\n",
        "            ]\n",
        "        response = data_cleaning_model.invoke(messages)\n",
        "        chunks_list.extend(response.chunks_list)\n",
        "    clean_content = \"\\n---\\n\".join(chunks_list) if chunks_list else \"\"\n",
        "\n",
        "    return clean_content"
      ],
      "metadata": {
        "id": "Uh5P2hfamD9p"
      },
      "execution_count": null,
      "outputs": []
    },
    {
      "cell_type": "code",
      "source": [
        "async def crawl4ai_func(url):\n",
        "    # Define markdown generator\n",
        "    md_generator = DefaultMarkdownGenerator(\n",
        "        options={\n",
        "            \"ignore_links\": True,\n",
        "            \"skip_internal_links\": True,\n",
        "            \"ignore_images\": True\n",
        "        }\n",
        "    )\n",
        "\n",
        "    # Build the crawler config\n",
        "    crawl_config = CrawlerRunConfig(\n",
        "        markdown_generator=md_generator,\n",
        "        scraping_strategy=LXMLWebScrapingStrategy(),\n",
        "        cache_mode=CacheMode.BYPASS\n",
        "    )\n",
        "\n",
        "    # Create a browser config if needed\n",
        "    browser_cfg = BrowserConfig(headless=True)\n",
        "\n",
        "    async with AsyncWebCrawler(config=browser_cfg) as crawler:\n",
        "        result = await crawler.arun(\n",
        "            url=url,\n",
        "            config=crawl_config\n",
        "        )\n",
        "\n",
        "        if result.success:\n",
        "            if result.extracted_content:\n",
        "                data = json.loads(result.extracted_content)\n",
        "                print(\"Extracted items:\", data)\n",
        "            return result[0].markdown\n",
        "        else:\n",
        "            print(\"Error:\", result.error_message)"
      ],
      "metadata": {
        "id": "sLf3YrJEmD6k"
      },
      "execution_count": null,
      "outputs": []
    },
    {
      "cell_type": "code",
      "source": [
        "class FetchAndCleanInput(BaseModel):\n",
        "    \"\"\"Input for the fetch_and_clean tool.\"\"\"\n",
        "    url_type: str = Field(description=\"The type of URL, either 'html' for web pages or 'pdf' for PDF documents.\")\n",
        "    url: str = Field(description=\"The URL to fetch and clean data from.\")\n",
        "    sub_question: str = Field(description=\"The sub-question related to the url for cleaning the data, used by the LLM.\")\n",
        "\n",
        "# Synchronous wrapper to be able to run .invoke()\n",
        "@tool(\"fetch_and_clean\",\n",
        "    description=\"Fetch data from a given URL and clean it using the sub-question context.\",\n",
        "    args_schema=FetchAndCleanInput\n",
        ")\n",
        "def fetch_and_clean(url_type: str, url: str, sub_question: str) -> str:\n",
        "    \"\"\"\n",
        "    Tool version of fetch_and_clean. Handles HTML scraping or PDF OCR + cleaning.\n",
        "    \"\"\"\n",
        "    async def _fetch():\n",
        "        if url_type == 'html':\n",
        "            scraped_data = await crawl4ai_func(url)\n",
        "        else:\n",
        "            ocr_response = pdf_ocr(url)\n",
        "            scraped_data = \"\\n\".join(page.markdown for page in ocr_response.pages[:10])\n",
        "        return clean_scraped_data_llm(sub_question, scraped_data)\n",
        "\n",
        "    return asyncio.run(_fetch())"
      ],
      "metadata": {
        "id": "Yc9n4YQ9mD3a"
      },
      "execution_count": null,
      "outputs": []
    },
    {
      "cell_type": "code",
      "source": [
        "class JudgeInput(BaseModel):\n",
        "    \"\"\"Input for the judge_collected_data tool.\"\"\"\n",
        "    gathered_info: List[str] = Field(description=\"A list of the gathered info for the sub_question to judge.\")\n",
        "    sub_question: str = Field(description=\"The sub-question related to the gathered data and web search query.\")\n",
        "    query: str = Field(description=\"The web search query related to the provided sub_question.\")\n",
        "\n",
        "@tool(\"judge_collected_data\", description=\"A tool used to judge the collected data for a sub-question to see if it's sufficient or not. Returns a boolean.\", args_schema=JudgeInput)\n",
        "def judge_collected_data(gathered_info, sub_question, query):\n",
        "    print(f\"judging data related to: {sub_question}\")\n",
        "    model = ChatGoogleGenerativeAI(\n",
        "        model=\"models/gemini-2.0-flash\",\n",
        "        temperature=0,\n",
        "        max_tokens=None,\n",
        "        timeout=None,\n",
        "        max_retries=2,\n",
        "        api_key=GEMINI_API_KEY\n",
        "    )\n",
        "    judgement_system_prompt = \"\"\"\n",
        "    You are a judgment-oriented assistant whose sole role is to evaluate whether provided data chunks are sufficient to answer a given question thoroughly. Follow these rules:\n",
        "\n",
        "    1. INPUT FORMAT\n",
        "    • The user will supply:\n",
        "        - A “question” (a natural-language query).\n",
        "        - A “web search query” (query used to perform web search to collect data)\n",
        "        - A list of “data_chunks”, where each chunk is a fragment of collected information. These chunks are not guaranteed to be coherent narrative—treat them as separate pieces of evidence.\n",
        "    • Example input (not part of your prompt):\n",
        "        Question:\n",
        "        What are the demographic trends of electric vehicle adoption in urban areas over the last five years?\n",
        "        Web search query:\n",
        "        electric vehicle adoption in urban areas\n",
        "        Data Chunks:\n",
        "        Data from City A's transportation survey (2020): 12% EV penetration ...\n",
        "        ---\n",
        "        Academic paper excerpt: In 2019, urban EV buyers skewed younger ...\n",
        "        ---\n",
        "        News article (2024) about tax incentives affecting EV sales ...\n",
        "\n",
        "    2. PROCESS\n",
        "    • Treat the “data_chunks” as discrete units; do NOT assume they connect seamlessly.\n",
        "    • For each chunk, extract the key facts, dates, and context.\n",
        "    • Evaluate coverage: timeline span, geographic scope, demographic variables, methodologies, sample sizes, and relevance to the question.\n",
        "    • Do not attempt to “answer” the question yourself using outside knowledge; only judge sufficiency of the provided chunks.\n",
        "\n",
        "    3. Output\n",
        "    - State whether the data is sufficient (True or False)\n",
        "    \"\"\"\n",
        "    class JudgementOutput(BaseModel):\n",
        "        sufficient: bool = Field(..., description=\"Whether the collected data is sufficient or not\")\n",
        "\n",
        "    judgement_model = model.with_structured_output(JudgementOutput)\n",
        "    gethered_info_concat = '---\\n'.join(gathered_info)\n",
        "    messages = [\n",
        "        (\"system\", judgement_system_prompt),\n",
        "        (\"user\", f\"Question:\\n{sub_question}\\nWeb search query:\\n{query}\\nData Chunks:\\n{gethered_info_concat}\")\n",
        "    ]\n",
        "\n",
        "    response = judgement_model.invoke(messages)\n",
        "    judgment = response.model_dump()\n",
        "    print(f\"Is collected data sufficient? Judge: {judgment['sufficient']}\")\n",
        "    return judgment"
      ],
      "metadata": {
        "id": "LWaBO7yDmD0C"
      },
      "execution_count": null,
      "outputs": []
    },
    {
      "cell_type": "code",
      "source": [
        "class GatheredDataItem(BaseModel):\n",
        "    \"\"\"Represents a single gathered data item (URL and scraped data).\"\"\"\n",
        "    url: str = Field(description=\"The URL from which the data was gathered.\")\n",
        "    scraped_data: str = Field(description=\"The relevant scraped data from the URL.\")\n",
        "\n",
        "class GenerateReportInput(BaseModel):\n",
        "    \"\"\"Input for the generate_report tool.\"\"\"\n",
        "    query: str = Field(description=\"The original user query that we're trying to answer thoroughly.\")\n",
        "    query_breakdown: str = Field(description=\"The generated brief breakdown of the original user query, to better understand it.\")\n",
        "    sub_questions: List[str] = Field(description=\"The generated list of sub-questions related to the user_query.\")\n",
        "    gathered_data: List[GatheredDataItem] = Field(\n",
        "        description=\"A list of all the data gathered from the web relevant to the user_query. \"\n",
        "                    \"Each item in the list must contain the URL and the relevant scraped data from it, \"\n",
        "                    \"so that we can cite references.\"\n",
        "    )\n",
        "\n",
        "@tool(\"generate_final_report\", description=\"A tool used to generate the final report using all the collected data\", args_schema=GenerateReportInput)\n",
        "def generate_final_report(query, query_breakdown, sub_questions, gathered_data):\n",
        "    print(\"generating final report\")\n",
        "    model = ChatGoogleGenerativeAI(\n",
        "        model=\"models/gemini-2.5-flash-preview-05-20\",\n",
        "        temperature=0,\n",
        "        max_tokens=None,\n",
        "        timeout=None,\n",
        "        max_retries=2,\n",
        "        api_key=GEMINI_API_KEY\n",
        "    )\n",
        "\n",
        "    report_system_prompt = \"\"\"\n",
        "    You are a final-report generator that receives:\n",
        "    • The original user query that we're trying to answer thoroughly.\n",
        "    • A brief breakdown of the original user query, to better understand it.\n",
        "    • A list of all the collected data with their references\n",
        "\n",
        "    YOUR TASK:\n",
        "    1. Read and understand the collected data in the context of the question it addressed.\n",
        "    2. Create one unified, coherent final report that synthesizes all collected data into a single narrative. The final report must:\n",
        "        - Introduce the overarching subject by summarizing how the individual questions connect.\n",
        "        - Provide a clear plan or outline at the beginning, listing major sections that correspond to thematic groupings of the collected data.\n",
        "        - Maintain and preserve all existing references from each collected data, but this time use wikipedia citation style (numbered references that link to footnotes list of references links)\n",
        "        - The final report has to be in Markdown format, so use the proper notation for lists and references.\n",
        "        - If you incorporate any additional external facts, only do so if you are certain of their correctness.\n",
        "        - Integrate findings so that the final document reads as a cohesive, logically flowing report rather than a sequence of disconnected summaries.\n",
        "        - Ensure the final report is long, thorough, and richly detailed, fully addressing the combined scope of all collected data and answering the user query and all the sub_questions.\n",
        "\n",
        "    TONE & STYLE:\n",
        "    • Formal, authoritative, and objective, with an engaging title.\n",
        "    • Write using a combination of complete paragraphs and bullet points, as you see fit.\n",
        "    • Prioritize clarity: Suppose the reader doesn't know anything about the query, unless it is stated otherwise by the user in the query.\n",
        "    • Do not speculate beyond what is supported by collected data citations or verifiably correct LLM knowledge.\n",
        "    • Use markdown list notaion for the list of references at the end of the report.\n",
        "\n",
        "    IMPORTANT:\n",
        "    • Only use content from the provided collected data (and, if necessary, verifiable knowledge).\n",
        "    • In case of contradictory information between collected data, either pick the one that has a more reliable source,\n",
        "    or state that there are two opinions on the topic and the user should investigate it further manually.\n",
        "    • Accurately preserve all reference tags from collected data.\n",
        "    • The final report must be one cohesive document, not a simple concatenation of sections.\n",
        "    • Ensure the report is sufficiently long and detailed to cover all combined questions.\n",
        "    \"\"\"\n",
        "\n",
        "    all_data_with_ref = [f\"Ref: {data['url']}\\nData: {data['scraped_data']}\" for data in gathered_data]\n",
        "    concat_data = \"\\n=====\\n\".join(all_data_with_ref)\n",
        "    user_prompt = f\"Original user query:\\n{query}\\nQuery breakdown:\\n{query_breakdown}\\nSub_questions_list:\\n{sub_questions}\\nCollected data:\\n{concat_data}\"\n",
        "\n",
        "    messages = [\n",
        "            (\"system\", report_system_prompt),\n",
        "            (\"user\", user_prompt)\n",
        "        ]\n",
        "    response = model.invoke(messages)\n",
        "    report = response.content\n",
        "\n",
        "    return report"
      ],
      "metadata": {
        "id": "iH_bYXWhlZ81"
      },
      "execution_count": null,
      "outputs": []
    },
    {
      "cell_type": "code",
      "source": [
        "rate_limiter = InMemoryRateLimiter(\n",
        "    requests_per_second=0.1,\n",
        "    check_every_n_seconds=10,\n",
        "    max_bucket_size=10,\n",
        ")\n",
        "\n",
        "gemini_20f = ChatGoogleGenerativeAI(\n",
        "      model=\"models/gemini-2.5-flash-preview-05-20\",\n",
        "      temperature=0,\n",
        "      max_retries=2,\n",
        "      rate_limiter=rate_limiter,\n",
        "      api_key=GEMINI_API_KEY\n",
        ")\n",
        "\n",
        "# Augment the LLM with tools\n",
        "tools = [generate_final_report, judge_collected_data, fetch_and_clean, web_search, generate_plan]\n",
        "tools_by_name = {tool.name: tool for tool in tools}\n",
        "llm_with_tools = gemini_20f.bind_tools(tools)"
      ],
      "metadata": {
        "id": "-T09l7TYlZ6V"
      },
      "execution_count": null,
      "outputs": []
    },
    {
      "cell_type": "code",
      "source": [
        "system_prompt = \"\"\"\n",
        "You are an advanced Deep Search Agent. Your mission is to thoroughly answer complex user queries\n",
        " by performing a multi-step research process. You have access to tools that perfrom the following:\n",
        " 1. `generate_plan`: Break down user query and generate a list of sub_questions and we search queries.\n",
        " 2. `web_search`: Search Google for a list of queries and return relevant URLs for each. It return a list of accepted urls with their types\n",
        " 3. `fetch_and_clean`: A tool used to collect data from a URL and clean it. It returns a list of relevant chunks from the scraped URL.\n",
        " 4. `judge_collected_data`: A tool used to judge the collected data for a sub-question to see if it's sufficient or not. Returns a boolean.\n",
        " 5. `generate_final_report`: A tool that generates a final report based on all the collected data.\n",
        "\n",
        "Your process must follow these steps to perform deep search:\n",
        "1. Break down the user query and get a list of sub_questions and web search queries. Each sub_question is assigned to a web search query that will be used to retrive data relevant to the question.\n",
        "2. For each web search query perform a web search to retrieve a list of urls to scrape.\n",
        "3. Now that you have for each sub_question a list of urls, iteratively scrape urls to collect data. Each time you scrape a url and retrive the clean data, use the judge tool to check if you have collected sufficient data to answer that sub_question.\n",
        "4. When you have collected sufficient data for each url, use all the collected data with their reference url to generate a final report.\n",
        "\n",
        "Very Important:\n",
        "1. Sometimes the list of url doesn't contain enough urls to get suffcient data, that's not a problem. Once you scraped all the urls in a list and still get insuffcient data judgement, use the data collect so far and move to the next sub_question or the next step.\n",
        "2. Since you have a list of urls for each sub_question, you need to keep track of what url you scraped what what remains. You also need to keep track of what sub_question you processed (scraped its urls) and what remains.\n",
        "3. The final report must be in Markdown format, so use the proper notation for lists and references.\n",
        "\"\"\"\n",
        "\n",
        "# Create ReAct agent\n",
        "pre_built_agent = create_react_agent(llm_with_tools, tools=tools, prompt=system_prompt)"
      ],
      "metadata": {
        "id": "Xs6GjVggm-y7"
      },
      "execution_count": null,
      "outputs": []
    },
    {
      "cell_type": "code",
      "source": [
        "# Run deep search react agent\n",
        "user_query = [\"What are the effects of remote work on the US economy?\"]\n",
        "final_state = pre_built_agent.invoke({\"messages\": user_query}, {\"recursion_limit\": 500})"
      ],
      "metadata": {
        "colab": {
          "base_uri": "https://localhost:8080/",
          "height": 1000
        },
        "id": "Nol9W52pm-wC",
        "outputId": "7fbc5eaa-e513-4750-96c1-5e365e9e6001"
      },
      "execution_count": null,
      "outputs": [
        {
          "output_type": "stream",
          "name": "stdout",
          "text": [
            "Generated plan: {'query_breakdown': \"The user wants to know the economic impacts of remote work in the United States. The core intent is to understand the multifaceted effects (positive and negative) of remote work on the US economy. Key entities include 'remote work' and the 'US economy.' The scope is limited to the United States but not limited by time, implying a broad analysis of current and historical effects.\", 'sub_questions': ['What is the current prevalence of remote work in the US?', 'How does remote work affect US productivity levels?', 'What is the impact of remote work on commercial and residential real estate in the US?', 'How does remote work influence consumer spending patterns in the US?', 'What are the effects of remote work on different sectors of the US economy?'], 'search_queries': ['economic impact of remote work in US', 'remote work effect on US GDP', 'remote work impact on US real estate market', 'remote work effect on US productivity', 'remote work effect on US consumer spending']}\n",
            "[ERROR] Skipping URL due to request error: https://www.congress.gov/crs-product/R48528\n",
            "\tDetails: 403 Client Error: Forbidden for url: https://www.congress.gov/crs-product/R48528\n",
            "[ERROR] Skipping URL due to request error: https://www.bls.gov/opub/btn/volume-13/remote-work-productivity.htm\n",
            "\tDetails: 403 Client Error: Forbidden for url: https://www.bls.gov/opub/btn/volume-13/remote-work-productivity.htm\n",
            "[ERROR] Skipping URL due to request error: https://pierpoint.com/blog/economic-impact-remote-working/\n",
            "\tDetails: ('Connection aborted.', RemoteDisconnected('Remote end closed connection without response'))\n",
            "[ERROR] Skipping URL due to request error: https://www.usnews.com/news/economy/articles/2024-01-25/remote-work-has-radically-changed-the-economy-and-its-here-to-stay\n",
            "\tDetails: HTTPSConnectionPool(host='www.usnews.com', port=443): Read timed out. (read timeout=5)\n",
            "[SUCCESS] URL content is valid (pdf): https://www.mckendree.edu/academics/scholars/mauch-scholar.pdf\n",
            "[ERROR] Skipping URL due to request error: https://www.congress.gov/crs-product/R48528\n",
            "\tDetails: 403 Client Error: Forbidden for url: https://www.congress.gov/crs-product/R48528\n",
            "[ERROR] Skipping URL due to request error: https://www.bls.gov/opub/btn/volume-13/remote-work-productivity.htm\n",
            "\tDetails: 403 Client Error: Forbidden for url: https://www.bls.gov/opub/btn/volume-13/remote-work-productivity.htm\n",
            "[SUCCESS] URL content is valid (html/text): https://epoch.ai/gradient-updates/consequences-of-automating-remote-work\n",
            "[SUCCESS] URL content is valid (html/text): https://www.mysammy.com/blog/remote-work-US-economy\n",
            "[SUCCESS] URL content is valid (pdf): https://pcrd.purdue.edu/wp-content/uploads/2023/08/The-Impact-of-Remote-Work-1.pdf\n",
            "[SUCCESS] URL content is valid (html/text): https://www.forbes.com/sites/adigaskell/2023/03/05/how-remote-work-has-affected-real-estate-values/\n",
            "[ERROR] Skipping URL due to request error: https://www.moneytalksnews.com/slideshows/remote-work-revolution-seismic-shifts-in-the-u-s-real-estate-market/\n",
            "\tDetails: 403 Client Error: Forbidden for url: https://www.moneytalksnews.com/slideshows/remote-work-revolution-seismic-shifts-in-the-u-s-real-estate-market/\n",
            "[SUCCESS] URL content is valid (html/text): https://dwellrg.com/blog/the-impact-of-remote-work-on-real-estate\n",
            "[ERROR] Skipping URL due to request error: https://www.bls.gov/opub/mlr/2023/beyond-bls/remote-work-to-blame-for-rise-in-housing-prices.htm\n",
            "\tDetails: 403 Client Error: Forbidden for url: https://www.bls.gov/opub/mlr/2023/beyond-bls/remote-work-to-blame-for-rise-in-housing-prices.htm\n",
            "[SUCCESS] URL content is valid (html/text): https://www.lynchcapitalwealth.com/resources/2023/09/25/remote-work-and-its-effect-on-real-estate\n",
            "[ERROR] Skipping URL due to request error: https://www.bls.gov/opub/btn/volume-13/remote-work-productivity.htm\n",
            "\tDetails: 403 Client Error: Forbidden for url: https://www.bls.gov/opub/btn/volume-13/remote-work-productivity.htm\n",
            "[ERROR] Skipping URL due to request error: https://www.bls.gov/productivity/notices/2024/productivity-and-remote-work.htm\n",
            "\tDetails: 403 Client Error: Forbidden for url: https://www.bls.gov/productivity/notices/2024/productivity-and-remote-work.htm\n",
            "[ERROR] Skipping URL due to request error: https://www.nytimes.com/2023/10/10/business/remote-work-effects.html\n",
            "\tDetails: 403 Client Error: Forbidden for url: https://www.nytimes.com/2023/10/10/business/remote-work-effects.html\n",
            "[SUCCESS] URL content is valid (html/text): https://www.shrm.org/topics-tools/news/hr-magazine/does-remote-work-hurt-productivity\n",
            "[SUCCESS] URL content is valid (html/text): https://www.greatplacetowork.com/resources/blog/remote-work-productivity-study-finds-surprising-reality-2-year-study\n",
            "[SUCCESS] URL content is valid (pdf): https://yichensu.com/wp-content/uploads/2025/03/remote_consumers_draft_3_19_2025.pdf\n",
            "[ERROR] Skipping URL due to request error: https://www.bls.gov/opub/btn/volume-13/remote-work-productivity.htm\n",
            "\tDetails: 403 Client Error: Forbidden for url: https://www.bls.gov/opub/btn/volume-13/remote-work-productivity.htm\n",
            "[SUCCESS] URL content is valid (html/text): https://www2.deloitte.com/us/en/insights/industry/retail-distribution/consumer-behavior-trends-state-of-the-consumer-tracker/how-remote-work-influences-spending.html\n",
            "[SUCCESS] URL content is valid (html/text): https://snapcart.global/the-long-term-impact-of-remote-work-on-urban-consumer-behavior-in-2025/\n",
            "[SUCCESS] URL content is valid (html/text): https://www.mysammy.com/blog/remote-work-US-economy\n",
            "judging data related to: What is the current prevalence of remote work in the US?\n",
            "Is collected data sufficient? Judge: False\n"
          ]
        },
        {
          "output_type": "display_data",
          "data": {
            "text/plain": [
              "\u001b[1;36m[\u001b[0m\u001b[36mINIT\u001b[0m\u001b[1;36m]\u001b[0m\u001b[36m...\u001b[0m\u001b[36m. → Crawl4AI \u001b[0m\u001b[1;36m0.6\u001b[0m\u001b[36m.\u001b[0m\u001b[1;36m3\u001b[0m\u001b[36m \u001b[0m\n"
            ],
            "text/html": [
              "<pre style=\"white-space:pre;overflow-x:auto;line-height:normal;font-family:Menlo,'DejaVu Sans Mono',consolas,'Courier New',monospace\"><span style=\"color: #008080; text-decoration-color: #008080; font-weight: bold\">[</span><span style=\"color: #008080; text-decoration-color: #008080\">INIT</span><span style=\"color: #008080; text-decoration-color: #008080; font-weight: bold\">]</span><span style=\"color: #008080; text-decoration-color: #008080\">.... → Crawl4AI </span><span style=\"color: #008080; text-decoration-color: #008080; font-weight: bold\">0.6</span><span style=\"color: #008080; text-decoration-color: #008080\">.</span><span style=\"color: #008080; text-decoration-color: #008080; font-weight: bold\">3</span><span style=\"color: #008080; text-decoration-color: #008080\"> </span>\n",
              "</pre>\n"
            ]
          },
          "metadata": {}
        },
        {
          "output_type": "display_data",
          "data": {
            "text/plain": [
              "\u001b[1;32m[\u001b[0m\u001b[32mFETCH\u001b[0m\u001b[1;32m]\u001b[0m\u001b[32m...\u001b[0m\u001b[32m ↓ \u001b[0m\u001b[4;32mhttps://epoch.ai/gradient-updates/consequences-of-automating-remote-work\u001b[0m\u001b[32m                             |\u001b[0m\n",
              "\u001b[32m✓\u001b[0m\u001b[32m | ⏱: \u001b[0m\u001b[1;32m1.\u001b[0m\u001b[32m79s \u001b[0m\n"
            ],
            "text/html": [
              "<pre style=\"white-space:pre;overflow-x:auto;line-height:normal;font-family:Menlo,'DejaVu Sans Mono',consolas,'Courier New',monospace\"><span style=\"color: #008000; text-decoration-color: #008000; font-weight: bold\">[</span><span style=\"color: #008000; text-decoration-color: #008000\">FETCH</span><span style=\"color: #008000; text-decoration-color: #008000; font-weight: bold\">]</span><span style=\"color: #008000; text-decoration-color: #008000\">... ↓ </span><span style=\"color: #008000; text-decoration-color: #008000; text-decoration: underline\">https://epoch.ai/gradient-updates/consequences-of-automating-remote-work</span><span style=\"color: #008000; text-decoration-color: #008000\">                             |</span>\n",
              "<span style=\"color: #008000; text-decoration-color: #008000\">✓ | ⏱: </span><span style=\"color: #008000; text-decoration-color: #008000; font-weight: bold\">1.</span><span style=\"color: #008000; text-decoration-color: #008000\">79s </span>\n",
              "</pre>\n"
            ]
          },
          "metadata": {}
        },
        {
          "output_type": "display_data",
          "data": {
            "text/plain": [
              "\u001b[1;32m[\u001b[0m\u001b[32mSCRAPE\u001b[0m\u001b[1;32m]\u001b[0m\u001b[32m.. ◆ \u001b[0m\u001b[4;32mhttps://epoch.ai/gradient-updates/consequences-of-automating-remote-work\u001b[0m\u001b[32m                             |\u001b[0m\n",
              "\u001b[32m✓\u001b[0m\u001b[32m | ⏱: \u001b[0m\u001b[1;32m0.\u001b[0m\u001b[32m07s \u001b[0m\n"
            ],
            "text/html": [
              "<pre style=\"white-space:pre;overflow-x:auto;line-height:normal;font-family:Menlo,'DejaVu Sans Mono',consolas,'Courier New',monospace\"><span style=\"color: #008000; text-decoration-color: #008000; font-weight: bold\">[</span><span style=\"color: #008000; text-decoration-color: #008000\">SCRAPE</span><span style=\"color: #008000; text-decoration-color: #008000; font-weight: bold\">]</span><span style=\"color: #008000; text-decoration-color: #008000\">.. ◆ </span><span style=\"color: #008000; text-decoration-color: #008000; text-decoration: underline\">https://epoch.ai/gradient-updates/consequences-of-automating-remote-work</span><span style=\"color: #008000; text-decoration-color: #008000\">                             |</span>\n",
              "<span style=\"color: #008000; text-decoration-color: #008000\">✓ | ⏱: </span><span style=\"color: #008000; text-decoration-color: #008000; font-weight: bold\">0.</span><span style=\"color: #008000; text-decoration-color: #008000\">07s </span>\n",
              "</pre>\n"
            ]
          },
          "metadata": {}
        },
        {
          "output_type": "display_data",
          "data": {
            "text/plain": [
              "\u001b[1;32m[\u001b[0m\u001b[32mCOMPLETE\u001b[0m\u001b[1;32m]\u001b[0m\u001b[32m ● \u001b[0m\u001b[4;32mhttps://epoch.ai/gradient-updates/consequences-of-automating-remote-work\u001b[0m\u001b[32m                             |\u001b[0m\n",
              "\u001b[32m✓\u001b[0m\u001b[32m | ⏱: \u001b[0m\u001b[1;32m1.\u001b[0m\u001b[32m87s \u001b[0m\n"
            ],
            "text/html": [
              "<pre style=\"white-space:pre;overflow-x:auto;line-height:normal;font-family:Menlo,'DejaVu Sans Mono',consolas,'Courier New',monospace\"><span style=\"color: #008000; text-decoration-color: #008000; font-weight: bold\">[</span><span style=\"color: #008000; text-decoration-color: #008000\">COMPLETE</span><span style=\"color: #008000; text-decoration-color: #008000; font-weight: bold\">]</span><span style=\"color: #008000; text-decoration-color: #008000\"> ● </span><span style=\"color: #008000; text-decoration-color: #008000; text-decoration: underline\">https://epoch.ai/gradient-updates/consequences-of-automating-remote-work</span><span style=\"color: #008000; text-decoration-color: #008000\">                             |</span>\n",
              "<span style=\"color: #008000; text-decoration-color: #008000\">✓ | ⏱: </span><span style=\"color: #008000; text-decoration-color: #008000; font-weight: bold\">1.</span><span style=\"color: #008000; text-decoration-color: #008000\">87s </span>\n",
              "</pre>\n"
            ]
          },
          "metadata": {}
        },
        {
          "output_type": "display_data",
          "data": {
            "text/plain": [
              "\u001b[1;36m[\u001b[0m\u001b[36mINIT\u001b[0m\u001b[1;36m]\u001b[0m\u001b[36m...\u001b[0m\u001b[36m. → Crawl4AI \u001b[0m\u001b[1;36m0.6\u001b[0m\u001b[36m.\u001b[0m\u001b[1;36m3\u001b[0m\u001b[36m \u001b[0m\n"
            ],
            "text/html": [
              "<pre style=\"white-space:pre;overflow-x:auto;line-height:normal;font-family:Menlo,'DejaVu Sans Mono',consolas,'Courier New',monospace\"><span style=\"color: #008080; text-decoration-color: #008080; font-weight: bold\">[</span><span style=\"color: #008080; text-decoration-color: #008080\">INIT</span><span style=\"color: #008080; text-decoration-color: #008080; font-weight: bold\">]</span><span style=\"color: #008080; text-decoration-color: #008080\">.... → Crawl4AI </span><span style=\"color: #008080; text-decoration-color: #008080; font-weight: bold\">0.6</span><span style=\"color: #008080; text-decoration-color: #008080\">.</span><span style=\"color: #008080; text-decoration-color: #008080; font-weight: bold\">3</span><span style=\"color: #008080; text-decoration-color: #008080\"> </span>\n",
              "</pre>\n"
            ]
          },
          "metadata": {}
        },
        {
          "output_type": "display_data",
          "data": {
            "text/plain": [
              "\u001b[1;32m[\u001b[0m\u001b[32mFETCH\u001b[0m\u001b[1;32m]\u001b[0m\u001b[32m...\u001b[0m\u001b[32m ↓ \u001b[0m\u001b[4;32mhttps://www.mysammy.com/blog/remote-work-US-economy\u001b[0m\u001b[32m                                                  |\u001b[0m\n",
              "\u001b[32m✓\u001b[0m\u001b[32m | ⏱: \u001b[0m\u001b[1;32m3.\u001b[0m\u001b[32m21s \u001b[0m\n"
            ],
            "text/html": [
              "<pre style=\"white-space:pre;overflow-x:auto;line-height:normal;font-family:Menlo,'DejaVu Sans Mono',consolas,'Courier New',monospace\"><span style=\"color: #008000; text-decoration-color: #008000; font-weight: bold\">[</span><span style=\"color: #008000; text-decoration-color: #008000\">FETCH</span><span style=\"color: #008000; text-decoration-color: #008000; font-weight: bold\">]</span><span style=\"color: #008000; text-decoration-color: #008000\">... ↓ </span><span style=\"color: #008000; text-decoration-color: #008000; text-decoration: underline\">https://www.mysammy.com/blog/remote-work-US-economy</span><span style=\"color: #008000; text-decoration-color: #008000\">                                                  |</span>\n",
              "<span style=\"color: #008000; text-decoration-color: #008000\">✓ | ⏱: </span><span style=\"color: #008000; text-decoration-color: #008000; font-weight: bold\">3.</span><span style=\"color: #008000; text-decoration-color: #008000\">21s </span>\n",
              "</pre>\n"
            ]
          },
          "metadata": {}
        },
        {
          "output_type": "display_data",
          "data": {
            "text/plain": [
              "\u001b[1;32m[\u001b[0m\u001b[32mSCRAPE\u001b[0m\u001b[1;32m]\u001b[0m\u001b[32m.. ◆ \u001b[0m\u001b[4;32mhttps://www.mysammy.com/blog/remote-work-US-economy\u001b[0m\u001b[32m                                                  |\u001b[0m\n",
              "\u001b[32m✓\u001b[0m\u001b[32m | ⏱: \u001b[0m\u001b[1;33m0.\u001b[0m\u001b[33m08\u001b[0m\u001b[32ms \u001b[0m\n"
            ],
            "text/html": [
              "<pre style=\"white-space:pre;overflow-x:auto;line-height:normal;font-family:Menlo,'DejaVu Sans Mono',consolas,'Courier New',monospace\"><span style=\"color: #008000; text-decoration-color: #008000; font-weight: bold\">[</span><span style=\"color: #008000; text-decoration-color: #008000\">SCRAPE</span><span style=\"color: #008000; text-decoration-color: #008000; font-weight: bold\">]</span><span style=\"color: #008000; text-decoration-color: #008000\">.. ◆ </span><span style=\"color: #008000; text-decoration-color: #008000; text-decoration: underline\">https://www.mysammy.com/blog/remote-work-US-economy</span><span style=\"color: #008000; text-decoration-color: #008000\">                                                  |</span>\n",
              "<span style=\"color: #008000; text-decoration-color: #008000\">✓ | ⏱: </span><span style=\"color: #808000; text-decoration-color: #808000; font-weight: bold\">0.</span><span style=\"color: #808000; text-decoration-color: #808000\">08</span><span style=\"color: #008000; text-decoration-color: #008000\">s </span>\n",
              "</pre>\n"
            ]
          },
          "metadata": {}
        },
        {
          "output_type": "display_data",
          "data": {
            "text/plain": [
              "\u001b[1;32m[\u001b[0m\u001b[32mCOMPLETE\u001b[0m\u001b[1;32m]\u001b[0m\u001b[32m ● \u001b[0m\u001b[4;32mhttps://www.mysammy.com/blog/remote-work-US-economy\u001b[0m\u001b[32m                                                  |\u001b[0m\n",
              "\u001b[32m✓\u001b[0m\u001b[32m | ⏱: \u001b[0m\u001b[1;32m3.\u001b[0m\u001b[32m30s \u001b[0m\n"
            ],
            "text/html": [
              "<pre style=\"white-space:pre;overflow-x:auto;line-height:normal;font-family:Menlo,'DejaVu Sans Mono',consolas,'Courier New',monospace\"><span style=\"color: #008000; text-decoration-color: #008000; font-weight: bold\">[</span><span style=\"color: #008000; text-decoration-color: #008000\">COMPLETE</span><span style=\"color: #008000; text-decoration-color: #008000; font-weight: bold\">]</span><span style=\"color: #008000; text-decoration-color: #008000\"> ● </span><span style=\"color: #008000; text-decoration-color: #008000; text-decoration: underline\">https://www.mysammy.com/blog/remote-work-US-economy</span><span style=\"color: #008000; text-decoration-color: #008000\">                                                  |</span>\n",
              "<span style=\"color: #008000; text-decoration-color: #008000\">✓ | ⏱: </span><span style=\"color: #008000; text-decoration-color: #008000; font-weight: bold\">3.</span><span style=\"color: #008000; text-decoration-color: #008000\">30s </span>\n",
              "</pre>\n"
            ]
          },
          "metadata": {}
        },
        {
          "output_type": "stream",
          "name": "stdout",
          "text": [
            "judging data related to: How does remote work affect US productivity levels?\n",
            "Is collected data sufficient? Judge: False\n"
          ]
        },
        {
          "output_type": "display_data",
          "data": {
            "text/plain": [
              "\u001b[1;36m[\u001b[0m\u001b[36mINIT\u001b[0m\u001b[1;36m]\u001b[0m\u001b[36m...\u001b[0m\u001b[36m. → Crawl4AI \u001b[0m\u001b[1;36m0.6\u001b[0m\u001b[36m.\u001b[0m\u001b[1;36m3\u001b[0m\u001b[36m \u001b[0m\n"
            ],
            "text/html": [
              "<pre style=\"white-space:pre;overflow-x:auto;line-height:normal;font-family:Menlo,'DejaVu Sans Mono',consolas,'Courier New',monospace\"><span style=\"color: #008080; text-decoration-color: #008080; font-weight: bold\">[</span><span style=\"color: #008080; text-decoration-color: #008080\">INIT</span><span style=\"color: #008080; text-decoration-color: #008080; font-weight: bold\">]</span><span style=\"color: #008080; text-decoration-color: #008080\">.... → Crawl4AI </span><span style=\"color: #008080; text-decoration-color: #008080; font-weight: bold\">0.6</span><span style=\"color: #008080; text-decoration-color: #008080\">.</span><span style=\"color: #008080; text-decoration-color: #008080; font-weight: bold\">3</span><span style=\"color: #008080; text-decoration-color: #008080\"> </span>\n",
              "</pre>\n"
            ]
          },
          "metadata": {}
        },
        {
          "output_type": "display_data",
          "data": {
            "text/plain": [
              "\u001b[1;32m[\u001b[0m\u001b[32mFETCH\u001b[0m\u001b[1;32m]\u001b[0m\u001b[32m...\u001b[0m\u001b[32m ↓ \u001b[0m\u001b[4;32mhttps://www.forbes.com/sites/adigaskell/2023/03/05/how-remote-work-has-affected-real-estate-values/\u001b[0m\u001b[32m  |\u001b[0m\n",
              "\u001b[32m✓\u001b[0m\u001b[32m | ⏱: \u001b[0m\u001b[1;32m11.\u001b[0m\u001b[32m20s \u001b[0m\n"
            ],
            "text/html": [
              "<pre style=\"white-space:pre;overflow-x:auto;line-height:normal;font-family:Menlo,'DejaVu Sans Mono',consolas,'Courier New',monospace\"><span style=\"color: #008000; text-decoration-color: #008000; font-weight: bold\">[</span><span style=\"color: #008000; text-decoration-color: #008000\">FETCH</span><span style=\"color: #008000; text-decoration-color: #008000; font-weight: bold\">]</span><span style=\"color: #008000; text-decoration-color: #008000\">... ↓ </span><span style=\"color: #008000; text-decoration-color: #008000; text-decoration: underline\">https://www.forbes.com/sites/adigaskell/2023/03/05/how-remote-work-has-affected-real-estate-values/</span><span style=\"color: #008000; text-decoration-color: #008000\">  |</span>\n",
              "<span style=\"color: #008000; text-decoration-color: #008000\">✓ | ⏱: </span><span style=\"color: #008000; text-decoration-color: #008000; font-weight: bold\">11.</span><span style=\"color: #008000; text-decoration-color: #008000\">20s </span>\n",
              "</pre>\n"
            ]
          },
          "metadata": {}
        },
        {
          "output_type": "display_data",
          "data": {
            "text/plain": [
              "\u001b[1;32m[\u001b[0m\u001b[32mSCRAPE\u001b[0m\u001b[1;32m]\u001b[0m\u001b[32m.. ◆ \u001b[0m\u001b[4;32mhttps://www.forbes.com/sites/adigaskell/2023/03/05/how-remote-work-has-affected-real-estate-values/\u001b[0m\u001b[32m  |\u001b[0m\n",
              "\u001b[32m✓\u001b[0m\u001b[32m | ⏱: \u001b[0m\u001b[1;32m0.\u001b[0m\u001b[32m54s \u001b[0m\n"
            ],
            "text/html": [
              "<pre style=\"white-space:pre;overflow-x:auto;line-height:normal;font-family:Menlo,'DejaVu Sans Mono',consolas,'Courier New',monospace\"><span style=\"color: #008000; text-decoration-color: #008000; font-weight: bold\">[</span><span style=\"color: #008000; text-decoration-color: #008000\">SCRAPE</span><span style=\"color: #008000; text-decoration-color: #008000; font-weight: bold\">]</span><span style=\"color: #008000; text-decoration-color: #008000\">.. ◆ </span><span style=\"color: #008000; text-decoration-color: #008000; text-decoration: underline\">https://www.forbes.com/sites/adigaskell/2023/03/05/how-remote-work-has-affected-real-estate-values/</span><span style=\"color: #008000; text-decoration-color: #008000\">  |</span>\n",
              "<span style=\"color: #008000; text-decoration-color: #008000\">✓ | ⏱: </span><span style=\"color: #008000; text-decoration-color: #008000; font-weight: bold\">0.</span><span style=\"color: #008000; text-decoration-color: #008000\">54s </span>\n",
              "</pre>\n"
            ]
          },
          "metadata": {}
        },
        {
          "output_type": "display_data",
          "data": {
            "text/plain": [
              "\u001b[1;32m[\u001b[0m\u001b[32mCOMPLETE\u001b[0m\u001b[1;32m]\u001b[0m\u001b[32m ● \u001b[0m\u001b[4;32mhttps://www.forbes.com/sites/adigaskell/2023/03/05/how-remote-work-has-affected-real-estate-values/\u001b[0m\u001b[32m  |\u001b[0m\n",
              "\u001b[32m✓\u001b[0m\u001b[32m | ⏱: \u001b[0m\u001b[1;32m11.\u001b[0m\u001b[32m77s \u001b[0m\n"
            ],
            "text/html": [
              "<pre style=\"white-space:pre;overflow-x:auto;line-height:normal;font-family:Menlo,'DejaVu Sans Mono',consolas,'Courier New',monospace\"><span style=\"color: #008000; text-decoration-color: #008000; font-weight: bold\">[</span><span style=\"color: #008000; text-decoration-color: #008000\">COMPLETE</span><span style=\"color: #008000; text-decoration-color: #008000; font-weight: bold\">]</span><span style=\"color: #008000; text-decoration-color: #008000\"> ● </span><span style=\"color: #008000; text-decoration-color: #008000; text-decoration: underline\">https://www.forbes.com/sites/adigaskell/2023/03/05/how-remote-work-has-affected-real-estate-values/</span><span style=\"color: #008000; text-decoration-color: #008000\">  |</span>\n",
              "<span style=\"color: #008000; text-decoration-color: #008000\">✓ | ⏱: </span><span style=\"color: #008000; text-decoration-color: #008000; font-weight: bold\">11.</span><span style=\"color: #008000; text-decoration-color: #008000\">77s </span>\n",
              "</pre>\n"
            ]
          },
          "metadata": {}
        },
        {
          "output_type": "stream",
          "name": "stdout",
          "text": [
            "judging data related to: What is the impact of remote work on commercial and residential real estate in the US?\n",
            "Is collected data sufficient? Judge: True\n",
            "judging data related to: How does remote work influence consumer spending patterns in the US?\n",
            "Is collected data sufficient? Judge: True\n"
          ]
        },
        {
          "output_type": "display_data",
          "data": {
            "text/plain": [
              "\u001b[1;36m[\u001b[0m\u001b[36mINIT\u001b[0m\u001b[1;36m]\u001b[0m\u001b[36m...\u001b[0m\u001b[36m. → Crawl4AI \u001b[0m\u001b[1;36m0.6\u001b[0m\u001b[36m.\u001b[0m\u001b[1;36m3\u001b[0m\u001b[36m \u001b[0m\n"
            ],
            "text/html": [
              "<pre style=\"white-space:pre;overflow-x:auto;line-height:normal;font-family:Menlo,'DejaVu Sans Mono',consolas,'Courier New',monospace\"><span style=\"color: #008080; text-decoration-color: #008080; font-weight: bold\">[</span><span style=\"color: #008080; text-decoration-color: #008080\">INIT</span><span style=\"color: #008080; text-decoration-color: #008080; font-weight: bold\">]</span><span style=\"color: #008080; text-decoration-color: #008080\">.... → Crawl4AI </span><span style=\"color: #008080; text-decoration-color: #008080; font-weight: bold\">0.6</span><span style=\"color: #008080; text-decoration-color: #008080\">.</span><span style=\"color: #008080; text-decoration-color: #008080; font-weight: bold\">3</span><span style=\"color: #008080; text-decoration-color: #008080\"> </span>\n",
              "</pre>\n"
            ]
          },
          "metadata": {}
        },
        {
          "output_type": "display_data",
          "data": {
            "text/plain": [
              "\u001b[1;32m[\u001b[0m\u001b[32mFETCH\u001b[0m\u001b[1;32m]\u001b[0m\u001b[32m...\u001b[0m\u001b[32m ↓ \u001b[0m\u001b[4;32mhttps://www.mysammy.com/blog/remote-work-US-economy\u001b[0m\u001b[32m                                                  |\u001b[0m\n",
              "\u001b[32m✓\u001b[0m\u001b[32m | ⏱: \u001b[0m\u001b[1;32m3.\u001b[0m\u001b[32m27s \u001b[0m\n"
            ],
            "text/html": [
              "<pre style=\"white-space:pre;overflow-x:auto;line-height:normal;font-family:Menlo,'DejaVu Sans Mono',consolas,'Courier New',monospace\"><span style=\"color: #008000; text-decoration-color: #008000; font-weight: bold\">[</span><span style=\"color: #008000; text-decoration-color: #008000\">FETCH</span><span style=\"color: #008000; text-decoration-color: #008000; font-weight: bold\">]</span><span style=\"color: #008000; text-decoration-color: #008000\">... ↓ </span><span style=\"color: #008000; text-decoration-color: #008000; text-decoration: underline\">https://www.mysammy.com/blog/remote-work-US-economy</span><span style=\"color: #008000; text-decoration-color: #008000\">                                                  |</span>\n",
              "<span style=\"color: #008000; text-decoration-color: #008000\">✓ | ⏱: </span><span style=\"color: #008000; text-decoration-color: #008000; font-weight: bold\">3.</span><span style=\"color: #008000; text-decoration-color: #008000\">27s </span>\n",
              "</pre>\n"
            ]
          },
          "metadata": {}
        },
        {
          "output_type": "display_data",
          "data": {
            "text/plain": [
              "\u001b[1;32m[\u001b[0m\u001b[32mSCRAPE\u001b[0m\u001b[1;32m]\u001b[0m\u001b[32m.. ◆ \u001b[0m\u001b[4;32mhttps://www.mysammy.com/blog/remote-work-US-economy\u001b[0m\u001b[32m                                                  |\u001b[0m\n",
              "\u001b[32m✓\u001b[0m\u001b[32m | ⏱: \u001b[0m\u001b[1;33m0.\u001b[0m\u001b[33m05\u001b[0m\u001b[32ms \u001b[0m\n"
            ],
            "text/html": [
              "<pre style=\"white-space:pre;overflow-x:auto;line-height:normal;font-family:Menlo,'DejaVu Sans Mono',consolas,'Courier New',monospace\"><span style=\"color: #008000; text-decoration-color: #008000; font-weight: bold\">[</span><span style=\"color: #008000; text-decoration-color: #008000\">SCRAPE</span><span style=\"color: #008000; text-decoration-color: #008000; font-weight: bold\">]</span><span style=\"color: #008000; text-decoration-color: #008000\">.. ◆ </span><span style=\"color: #008000; text-decoration-color: #008000; text-decoration: underline\">https://www.mysammy.com/blog/remote-work-US-economy</span><span style=\"color: #008000; text-decoration-color: #008000\">                                                  |</span>\n",
              "<span style=\"color: #008000; text-decoration-color: #008000\">✓ | ⏱: </span><span style=\"color: #808000; text-decoration-color: #808000; font-weight: bold\">0.</span><span style=\"color: #808000; text-decoration-color: #808000\">05</span><span style=\"color: #008000; text-decoration-color: #008000\">s </span>\n",
              "</pre>\n"
            ]
          },
          "metadata": {}
        },
        {
          "output_type": "display_data",
          "data": {
            "text/plain": [
              "\u001b[1;32m[\u001b[0m\u001b[32mCOMPLETE\u001b[0m\u001b[1;32m]\u001b[0m\u001b[32m ● \u001b[0m\u001b[4;32mhttps://www.mysammy.com/blog/remote-work-US-economy\u001b[0m\u001b[32m                                                  |\u001b[0m\n",
              "\u001b[32m✓\u001b[0m\u001b[32m | ⏱: \u001b[0m\u001b[1;32m3.\u001b[0m\u001b[32m33s \u001b[0m\n"
            ],
            "text/html": [
              "<pre style=\"white-space:pre;overflow-x:auto;line-height:normal;font-family:Menlo,'DejaVu Sans Mono',consolas,'Courier New',monospace\"><span style=\"color: #008000; text-decoration-color: #008000; font-weight: bold\">[</span><span style=\"color: #008000; text-decoration-color: #008000\">COMPLETE</span><span style=\"color: #008000; text-decoration-color: #008000; font-weight: bold\">]</span><span style=\"color: #008000; text-decoration-color: #008000\"> ● </span><span style=\"color: #008000; text-decoration-color: #008000; text-decoration: underline\">https://www.mysammy.com/blog/remote-work-US-economy</span><span style=\"color: #008000; text-decoration-color: #008000\">                                                  |</span>\n",
              "<span style=\"color: #008000; text-decoration-color: #008000\">✓ | ⏱: </span><span style=\"color: #008000; text-decoration-color: #008000; font-weight: bold\">3.</span><span style=\"color: #008000; text-decoration-color: #008000\">33s </span>\n",
              "</pre>\n"
            ]
          },
          "metadata": {}
        },
        {
          "output_type": "display_data",
          "data": {
            "text/plain": [
              "\u001b[1;36m[\u001b[0m\u001b[36mINIT\u001b[0m\u001b[1;36m]\u001b[0m\u001b[36m...\u001b[0m\u001b[36m. → Crawl4AI \u001b[0m\u001b[1;36m0.6\u001b[0m\u001b[36m.\u001b[0m\u001b[1;36m3\u001b[0m\u001b[36m \u001b[0m\n"
            ],
            "text/html": [
              "<pre style=\"white-space:pre;overflow-x:auto;line-height:normal;font-family:Menlo,'DejaVu Sans Mono',consolas,'Courier New',monospace\"><span style=\"color: #008080; text-decoration-color: #008080; font-weight: bold\">[</span><span style=\"color: #008080; text-decoration-color: #008080\">INIT</span><span style=\"color: #008080; text-decoration-color: #008080; font-weight: bold\">]</span><span style=\"color: #008080; text-decoration-color: #008080\">.... → Crawl4AI </span><span style=\"color: #008080; text-decoration-color: #008080; font-weight: bold\">0.6</span><span style=\"color: #008080; text-decoration-color: #008080\">.</span><span style=\"color: #008080; text-decoration-color: #008080; font-weight: bold\">3</span><span style=\"color: #008080; text-decoration-color: #008080\"> </span>\n",
              "</pre>\n"
            ]
          },
          "metadata": {}
        },
        {
          "output_type": "display_data",
          "data": {
            "text/plain": [
              "\u001b[1;32m[\u001b[0m\u001b[32mFETCH\u001b[0m\u001b[1;32m]\u001b[0m\u001b[32m...\u001b[0m\u001b[32m ↓ \u001b[0m\u001b[4;32mhttps://www.shrm.org/topics-tools/news/hr-magazine/does-remote-work-hurt-productivity\u001b[0m\u001b[32m                |\u001b[0m\n",
              "\u001b[32m✓\u001b[0m\u001b[32m | ⏱: \u001b[0m\u001b[1;32m4.\u001b[0m\u001b[32m80s \u001b[0m\n"
            ],
            "text/html": [
              "<pre style=\"white-space:pre;overflow-x:auto;line-height:normal;font-family:Menlo,'DejaVu Sans Mono',consolas,'Courier New',monospace\"><span style=\"color: #008000; text-decoration-color: #008000; font-weight: bold\">[</span><span style=\"color: #008000; text-decoration-color: #008000\">FETCH</span><span style=\"color: #008000; text-decoration-color: #008000; font-weight: bold\">]</span><span style=\"color: #008000; text-decoration-color: #008000\">... ↓ </span><span style=\"color: #008000; text-decoration-color: #008000; text-decoration: underline\">https://www.shrm.org/topics-tools/news/hr-magazine/does-remote-work-hurt-productivity</span><span style=\"color: #008000; text-decoration-color: #008000\">                |</span>\n",
              "<span style=\"color: #008000; text-decoration-color: #008000\">✓ | ⏱: </span><span style=\"color: #008000; text-decoration-color: #008000; font-weight: bold\">4.</span><span style=\"color: #008000; text-decoration-color: #008000\">80s </span>\n",
              "</pre>\n"
            ]
          },
          "metadata": {}
        },
        {
          "output_type": "display_data",
          "data": {
            "text/plain": [
              "\u001b[1;32m[\u001b[0m\u001b[32mSCRAPE\u001b[0m\u001b[1;32m]\u001b[0m\u001b[32m.. ◆ \u001b[0m\u001b[4;32mhttps://www.shrm.org/topics-tools/news/hr-magazine/does-remote-work-hurt-productivity\u001b[0m\u001b[32m                |\u001b[0m\n",
              "\u001b[32m✓\u001b[0m\u001b[32m | ⏱: \u001b[0m\u001b[1;32m0.\u001b[0m\u001b[32m24s \u001b[0m\n"
            ],
            "text/html": [
              "<pre style=\"white-space:pre;overflow-x:auto;line-height:normal;font-family:Menlo,'DejaVu Sans Mono',consolas,'Courier New',monospace\"><span style=\"color: #008000; text-decoration-color: #008000; font-weight: bold\">[</span><span style=\"color: #008000; text-decoration-color: #008000\">SCRAPE</span><span style=\"color: #008000; text-decoration-color: #008000; font-weight: bold\">]</span><span style=\"color: #008000; text-decoration-color: #008000\">.. ◆ </span><span style=\"color: #008000; text-decoration-color: #008000; text-decoration: underline\">https://www.shrm.org/topics-tools/news/hr-magazine/does-remote-work-hurt-productivity</span><span style=\"color: #008000; text-decoration-color: #008000\">                |</span>\n",
              "<span style=\"color: #008000; text-decoration-color: #008000\">✓ | ⏱: </span><span style=\"color: #008000; text-decoration-color: #008000; font-weight: bold\">0.</span><span style=\"color: #008000; text-decoration-color: #008000\">24s </span>\n",
              "</pre>\n"
            ]
          },
          "metadata": {}
        },
        {
          "output_type": "display_data",
          "data": {
            "text/plain": [
              "\u001b[1;32m[\u001b[0m\u001b[32mCOMPLETE\u001b[0m\u001b[1;32m]\u001b[0m\u001b[32m ● \u001b[0m\u001b[4;32mhttps://www.shrm.org/topics-tools/news/hr-magazine/does-remote-work-hurt-productivity\u001b[0m\u001b[32m                |\u001b[0m\n",
              "\u001b[32m✓\u001b[0m\u001b[32m | ⏱: \u001b[0m\u001b[1;32m5.\u001b[0m\u001b[32m05s \u001b[0m\n"
            ],
            "text/html": [
              "<pre style=\"white-space:pre;overflow-x:auto;line-height:normal;font-family:Menlo,'DejaVu Sans Mono',consolas,'Courier New',monospace\"><span style=\"color: #008000; text-decoration-color: #008000; font-weight: bold\">[</span><span style=\"color: #008000; text-decoration-color: #008000\">COMPLETE</span><span style=\"color: #008000; text-decoration-color: #008000; font-weight: bold\">]</span><span style=\"color: #008000; text-decoration-color: #008000\"> ● </span><span style=\"color: #008000; text-decoration-color: #008000; text-decoration: underline\">https://www.shrm.org/topics-tools/news/hr-magazine/does-remote-work-hurt-productivity</span><span style=\"color: #008000; text-decoration-color: #008000\">                |</span>\n",
              "<span style=\"color: #008000; text-decoration-color: #008000\">✓ | ⏱: </span><span style=\"color: #008000; text-decoration-color: #008000; font-weight: bold\">5.</span><span style=\"color: #008000; text-decoration-color: #008000\">05s </span>\n",
              "</pre>\n"
            ]
          },
          "metadata": {}
        },
        {
          "output_type": "stream",
          "name": "stdout",
          "text": [
            "judging data related to: How does remote work affect US productivity levels?\n",
            "Is collected data sufficient? Judge: True\n"
          ]
        }
      ]
    },
    {
      "cell_type": "code",
      "source": [
        "final_state[\"messages\"][-1].content"
      ],
      "metadata": {
        "colab": {
          "base_uri": "https://localhost:8080/",
          "height": 145
        },
        "id": "FMXmPhqYm-s-",
        "outputId": "9c98d5e6-b7de-48e1-c4b6-9dd2ee99368a"
      },
      "execution_count": null,
      "outputs": [
        {
          "output_type": "execute_result",
          "data": {
            "text/plain": [
              "\"## The Effects of Remote Work on the US Economy\\n\\n### Query Breakdown\\nThe user's query seeks to understand the multifaceted economic impacts, both positive and negative, of remote work within the United States. The analysis focuses on the broad effects of remote work on the US economy, without specific time limitations, allowing for a comprehensive overview of current and potential future trends.\\n\\n### Sub-questions Addressed:\\n1.  What is the current prevalence of remote work in the US?\\n2.  How does remote work affect US productivity levels?\\n3.  What is the impact of remote work on commercial and residential real estate in the US?\\n4.  How does remote work influence consumer spending patterns in the US?\\n5.  What are the effects of remote work on different sectors of the US economy?\\n\\n### Research Findings:\\n\\n#### 1. Current Prevalence of Remote Work in the US\\nThe prevalence of remote work in the US has seen a significant increase. According to an ACS measure from the Institute of Labor Economics, remote workers constituted 4.1% of the workforce in 2019, which surged to 19.7% in 2020 [1]. Looking ahead, Forbes Advisor suggests that remote work is a growing trend, with an estimated 32.6 million Americans (22% of the labor force) projected to work remotely by 2025. Furthermore, 16% of companies are already operating with a fully remote system [1]. During the peak of the COVID-19 pandemic in May 2020, a survey by the Stanford Institute for Economic Policy Research indicated that 42% of all U.S. workers worked from home, contributing to two-thirds of the nation's gross domestic product [4].\\n\\n#### 2. Impact of Remote Work on US Productivity Levels\\nThe impact of remote work on US productivity levels presents mixed results, with studies showing varying outcomes across different industries [3]. For some sectors, remote work has been linked to increased productivity due to reduced commute times, more flexible schedules, and an improved work-life balance [3].\\n\\nEconomically, the ability of the economy to adapt to a sudden shift to remote work during the pandemic without a massive contraction suggests a higher substitutability between remote and non-remote tasks than previously assumed by many economists [2]. Despite initial predictions of a sharp decline in productivity due to the loss of in-person interactions, data did not reflect such a drastic drop [2].\\n\\nWhile some argue that remote work can reduce productivity depending on individual personality and role, studies also indicate positive effects of flexibility. Employees with location flexibility reported 4% higher productivity scores than those fully in-office. Furthermore, workers with full schedule flexibility were found to be 29% more productive and had a 53% greater ability to focus compared to those without schedule flexibility [5]. Some experts suggest that concerns about reduced productivity often stem from a lack of trust from leadership rather than an inherent flaw in remote work itself [5]. Effective management of remote workers, emphasizing transparency, honesty, and trust, can lead to greater loyalty and higher productivity [5].\\n\\n#### 3. Impact of Remote Work on Commercial and Residential Real Estate in the US\\nRemote work has significantly altered the real estate landscape in the US, affecting both commercial and residential markets [6]. The shift to hybrid work models has led to a considerable decline in office usage, a trend that has persisted longer than anticipated [6]. This prolonged decrease in office occupancy has directly impacted office values, which remain below 2019 levels and are projected to stay lower for the next decade [6]. Simulations for New York City office properties, for instance, showed a drop of over 40% in value in 2020, with predictions indicating values remaining 39% lower on average in 2029 compared to 2019 [6].\\n\\nConcurrently, the residential real estate market has experienced a shift. The pandemic-induced migration from urban centers to suburban areas led to a significant rise in house prices and rents in the suburbs [6]. Conversely, city centers observed a decrease in both prices and rents [6]. This trend highlights a severance of the historical connection between where people live and where they work, with broader implications for society beyond just the real estate market [6].\\n\\n#### 4. Influence of Remote Work on Consumer Spending Patterns in the US\\nRemote work has notably influenced consumer spending patterns, particularly by altering the role of urban centers [7]. While the presence of office workers in urban areas has sharply decreased, weakening cities' traditional function as production hubs, their role as consumption centers has remained strong and potentially increased due to greater time flexibility for workers [7].\\n\\nAnalysis of foot traffic and consumer transaction data reveals that while visits to former commuting destinations remain low, visits and spending at consumption amenity clusters have recovered robustly [7]. Foot traffic has become more spatially concentrated towards amenity clusters in metropolitan statistical areas (MSAs) with higher remote work adoption [7]. This suggests that remote work has accelerated the transition of cities from production-focused to consumption-focused centers [7].\\n\\nThe increased time availability and flexibility afforded by remote and hybrid work arrangements have likely led to a greater willingness among residents to visit large amenity clusters in urban areas, resulting in a higher spatial concentration of amenity visits [7]. Both foot traffic and consumer transactions at amenity establishments have shown strong recovery after initial drops during the pandemic's peak, with a more pronounced recovery in urban centers [7]. MSAs with higher remote work adoption experienced a weaker decline in foot traffic and spending near amenity clusters during the pandemic and a stronger surge afterward [7].\\n\\n#### 5. Effects of Remote Work on Different Sectors of the US Economy\\nRemote work has had diverse effects across various sectors of the US economy, primarily driven by changes in labor dynamics, real estate, and consumer behavior.\\n\\n*   **Real Estate Sector:** As detailed above, the commercial real estate market has faced significant challenges with declining office occupancy and values, while residential markets in suburban areas have seen increased demand and rising prices [6]. This shift impacts developers, property management companies, and related financial services.\\n*   **Retail and Hospitality Sector:** Urban centers, traditionally reliant on office worker foot traffic for retail and dining, have experienced a decline in business in areas near former commuting hubs [7]. However, there's a compensatory surge in consumer spending and foot traffic in consumption amenity clusters, indicating a shift in where and how people spend their leisure and discretionary income [7]. This necessitates adaptation for businesses in these sectors, potentially leading to a redistribution of economic activity.\\n*   **Technology and Communication Sector:** The widespread adoption of remote work has fueled demand for digital tools, reliable internet services, and collaboration platforms, benefiting the technology and telecommunications industries [2].\\n*   **Labor Market:** Remote work has influenced labor markets by offering greater flexibility, potentially impacting talent acquisition and retention strategies across various industries [5]. It has also been discussed as a feasible economic development strategy for local communities and regions, both urban and rural, by allowing for a more dispersed workforce [4].\\n*   **Overall Economic Productivity:** While the immediate impact on overall GDP during the pandemic was less severe than anticipated, the long-term effects on productivity are still unfolding and show mixed results depending on the industry and individual work arrangements [2, 3, 5]. The potential for automation of remote work tasks could lead to significant economic gains in the future [2].\\n\\nIn summary, remote work is reshaping the US economy by altering traditional work structures, influencing real estate markets, redirecting consumer spending, and driving technological adoption across various sectors. The long-term economic effects are still evolving, with a likely future involving flexible and hybrid work models [3].\\n\\n### References:\\n[1] Mauch, S. (n.d.). *The Economic Impact of Remote Work*. McKendree University. Retrieved from https://www.mckendree.edu/academics/scholars/mauch-scholar.pdf\\n[2] Epoch. (n.d.). *Consequences of Automating Remote Work*. Retrieved from https://epoch.ai/gradient-updates/consequences-of-automating-remote-work\\n[3] MySammy. (n.d.). *Remote Work and the U.S. Economy*. Retrieved from https://www.mysammy.com/blog/remote-work-US-economy\\n[4] Purdue University. (2023, August). *The Impact of Remote Work*. Retrieved from https://pcrd.purdue.edu/wp-content/uploads/2023/08/The-Impact-of-Remote-Work-1.pdf\\n[5] Rock, J., & Kellogg, R. (2023, December 13). *Does Remote Work Hurt Productivity?*. SHRM. Retrieved from https://www.shrm.org/topics-tools/news/hr-magazine/does-remote-work-hurt-productivity\\n[6] Gaskell, A. (2023, March 5). *How Remote Work Has Affected Real Estate Values*. Forbes. Retrieved from https://www.forbes.com/sites/adigaskell/2023/03/05/how-remote-work-has-affected-real-estate-values/\\n[7] Su, Y. (2025, March 19). *Remote Consumers*. Retrieved from https://yichensu.com/wp-content/uploads/2025/03/remote_consumers_draft_3_19_2025.pdf\""
            ],
            "application/vnd.google.colaboratory.intrinsic+json": {
              "type": "string"
            }
          },
          "metadata": {},
          "execution_count": 41
        }
      ]
    },
    {
      "cell_type": "code",
      "source": [],
      "metadata": {
        "id": "mz3SafsE1nRO"
      },
      "execution_count": null,
      "outputs": []
    }
  ]
}