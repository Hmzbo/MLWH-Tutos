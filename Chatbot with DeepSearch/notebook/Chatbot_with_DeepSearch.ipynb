{
  "nbformat": 4,
  "nbformat_minor": 0,
  "metadata": {
    "colab": {
      "provenance": []
    },
    "kernelspec": {
      "name": "python3",
      "display_name": "Python 3"
    },
    "language_info": {
      "name": "python"
    }
  },
  "cells": [
    {
      "cell_type": "markdown",
      "source": [
        "# Deep Search Agent"
      ],
      "metadata": {
        "id": "XQJ0fclvnQqs"
      }
    },
    {
      "cell_type": "code",
      "execution_count": null,
      "metadata": {
        "colab": {
          "base_uri": "https://localhost:8080/"
        },
        "id": "pElfZz1TGb7Y",
        "outputId": "0845e408-75d0-477d-a923-3f8df3ad31c8"
      },
      "outputs": [
        {
          "output_type": "stream",
          "name": "stdout",
          "text": [
            "\u001b[?25l   \u001b[90m━━━━━━━━━━━━━━━━━━━━━━━━━━━━━━━━━━━━━━━━\u001b[0m \u001b[32m0.0/292.8 kB\u001b[0m \u001b[31m?\u001b[0m eta \u001b[36m-:--:--\u001b[0m\r\u001b[2K   \u001b[90m━━━━━━━━━━━━━━━━━━━━━━━━━━━━━━━━━━━━━━━━\u001b[0m \u001b[32m292.8/292.8 kB\u001b[0m \u001b[31m10.7 MB/s\u001b[0m eta \u001b[36m0:00:00\u001b[0m\n",
            "\u001b[2K   \u001b[90m━━━━━━━━━━━━━━━━━━━━━━━━━━━━━━━━━━━━━━━━\u001b[0m \u001b[32m2.9/2.9 MB\u001b[0m \u001b[31m32.5 MB/s\u001b[0m eta \u001b[36m0:00:00\u001b[0m\n",
            "\u001b[2K   \u001b[90m━━━━━━━━━━━━━━━━━━━━━━━━━━━━━━━━━━━━━━━━\u001b[0m \u001b[32m161.7/161.7 kB\u001b[0m \u001b[31m10.3 MB/s\u001b[0m eta \u001b[36m0:00:00\u001b[0m\n",
            "\u001b[2K   \u001b[90m━━━━━━━━━━━━━━━━━━━━━━━━━━━━━━━━━━━━━━━━\u001b[0m \u001b[32m8.3/8.3 MB\u001b[0m \u001b[31m51.7 MB/s\u001b[0m eta \u001b[36m0:00:00\u001b[0m\n",
            "\u001b[2K   \u001b[90m━━━━━━━━━━━━━━━━━━━━━━━━━━━━━━━━━━━━━━━━\u001b[0m \u001b[32m4.5/4.5 MB\u001b[0m \u001b[31m56.8 MB/s\u001b[0m eta \u001b[36m0:00:00\u001b[0m\n",
            "\u001b[2K   \u001b[90m━━━━━━━━━━━━━━━━━━━━━━━━━━━━━━━━━━━━━━━━\u001b[0m \u001b[32m45.1/45.1 MB\u001b[0m \u001b[31m10.5 MB/s\u001b[0m eta \u001b[36m0:00:00\u001b[0m\n",
            "\u001b[2K   \u001b[90m━━━━━━━━━━━━━━━━━━━━━━━━━━━━━━━━━━━━━━━━\u001b[0m \u001b[32m278.0/278.0 kB\u001b[0m \u001b[31m15.2 MB/s\u001b[0m eta \u001b[36m0:00:00\u001b[0m\n",
            "\u001b[2K   \u001b[90m━━━━━━━━━━━━━━━━━━━━━━━━━━━━━━━━━━━━━━━━\u001b[0m \u001b[32m56.8/56.8 kB\u001b[0m \u001b[31m3.3 MB/s\u001b[0m eta \u001b[36m0:00:00\u001b[0m\n",
            "\u001b[2K   \u001b[90m━━━━━━━━━━━━━━━━━━━━━━━━━━━━━━━━━━━━━━━━\u001b[0m \u001b[32m93.0/93.0 kB\u001b[0m \u001b[31m6.6 MB/s\u001b[0m eta \u001b[36m0:00:00\u001b[0m\n",
            "\u001b[?25h\u001b[31mERROR: pip's dependency resolver does not currently take into account all the packages that are installed. This behaviour is the source of the following dependency conflicts.\n",
            "pydrive2 1.21.3 requires pyOpenSSL<=24.2.1,>=19.1.0, but you have pyopenssl 25.1.0 which is incompatible.\u001b[0m\u001b[31m\n",
            "\u001b[0m\u001b[1;36m[\u001b[0m\u001b[36mINIT\u001b[0m\u001b[1;36m]\u001b[0m\u001b[36m...\u001b[0m\u001b[36m. → Running post-installation setup\u001b[0m\u001b[36m...\u001b[0m\u001b[36m \u001b[0m\n",
            "\u001b[1;36m[\u001b[0m\u001b[36mINIT\u001b[0m\u001b[1;36m]\u001b[0m\u001b[36m...\u001b[0m\u001b[36m. → Installing Playwright browsers\u001b[0m\u001b[36m...\u001b[0m\u001b[36m \u001b[0m\n",
            "Installing dependencies...\n",
            "Get:1 http://security.ubuntu.com/ubuntu jammy-security InRelease [129 kB]\n",
            "Get:2 https://cloud.r-project.org/bin/linux/ubuntu jammy-cran40/ InRelease [3,632 B]\n",
            "Get:3 https://developer.download.nvidia.com/compute/cuda/repos/ubuntu2204/x86_64  InRelease [1,581 B]\n",
            "Get:4 https://r2u.stat.illinois.edu/ubuntu jammy InRelease [6,555 B]\n",
            "Hit:5 http://archive.ubuntu.com/ubuntu jammy InRelease\n",
            "Get:6 http://archive.ubuntu.com/ubuntu jammy-updates InRelease [128 kB]\n",
            "Get:7 https://developer.download.nvidia.com/compute/cuda/repos/ubuntu2204/x86_64  Packages [1,798 kB]\n",
            "Get:8 http://security.ubuntu.com/ubuntu jammy-security/universe amd64 Packages [1,253 kB]\n",
            "Get:9 https://ppa.launchpadcontent.net/deadsnakes/ppa/ubuntu jammy InRelease [18.1 kB]\n",
            "Get:10 http://archive.ubuntu.com/ubuntu jammy-backports InRelease [127 kB]\n",
            "Get:11 http://security.ubuntu.com/ubuntu jammy-security/main amd64 Packages [3,024 kB]\n",
            "Get:12 http://security.ubuntu.com/ubuntu jammy-security/restricted amd64 Packages [4,532 kB]\n",
            "Hit:13 https://ppa.launchpadcontent.net/graphics-drivers/ppa/ubuntu jammy InRelease\n",
            "Hit:14 https://ppa.launchpadcontent.net/ubuntugis/ppa/ubuntu jammy InRelease\n",
            "Get:15 https://r2u.stat.illinois.edu/ubuntu jammy/main all Packages [9,051 kB]\n",
            "Get:16 https://r2u.stat.illinois.edu/ubuntu jammy/main amd64 Packages [2,747 kB]\n",
            "Get:17 https://ppa.launchpadcontent.net/deadsnakes/ppa/ubuntu jammy/main amd64 Packages [33.2 kB]\n",
            "Get:18 http://archive.ubuntu.com/ubuntu jammy-updates/restricted amd64 Packages [4,703 kB]\n",
            "Get:19 http://archive.ubuntu.com/ubuntu jammy-updates/main amd64 Packages [3,340 kB]\n",
            "Get:20 http://archive.ubuntu.com/ubuntu jammy-updates/universe amd64 Packages [1,561 kB]\n",
            "Fetched 32.5 MB in 3s (10.4 MB/s)\n",
            "Reading package lists... Done\n",
            "W: Skipping acquire of configured file 'main/source/Sources' as repository 'https://r2u.stat.illinois.edu/ubuntu jammy InRelease' does not seem to provide it (sources.list entry misspelt?)\n",
            "Reading package lists... Done\n",
            "Building dependency tree... Done\n",
            "Reading state information... Done\n",
            "fonts-liberation is already the newest version (1:1.07.4-11).\n",
            "libasound2 is already the newest version (1.2.6.1-1ubuntu1).\n",
            "libasound2 set to manually installed.\n",
            "libatk-bridge2.0-0 is already the newest version (2.38.0-3).\n",
            "libatk-bridge2.0-0 set to manually installed.\n",
            "libatk1.0-0 is already the newest version (2.36.0-3build1).\n",
            "libatk1.0-0 set to manually installed.\n",
            "libatspi2.0-0 is already the newest version (2.44.0-3).\n",
            "libatspi2.0-0 set to manually installed.\n",
            "libcairo2 is already the newest version (1.16.0-5ubuntu2).\n",
            "libcairo2 set to manually installed.\n",
            "libfontconfig1 is already the newest version (2.13.1-4.2ubuntu5).\n",
            "libxcb1 is already the newest version (1.14-3ubuntu3).\n",
            "libxcb1 set to manually installed.\n",
            "libxcomposite1 is already the newest version (1:0.4.5-1build2).\n",
            "libxcomposite1 set to manually installed.\n",
            "libxdamage1 is already the newest version (1:1.1.5-2build2).\n",
            "libxdamage1 set to manually installed.\n",
            "libxext6 is already the newest version (2:1.3.4-1build1).\n",
            "libxfixes3 is already the newest version (1:6.0.0-1).\n",
            "libxfixes3 set to manually installed.\n",
            "libxkbcommon0 is already the newest version (1.4.0-1).\n",
            "libxkbcommon0 set to manually installed.\n",
            "libxrandr2 is already the newest version (2:1.5.2-1build1).\n",
            "libxrandr2 set to manually installed.\n",
            "libcups2 is already the newest version (2.4.1op1-1ubuntu4.11).\n",
            "libcups2 set to manually installed.\n",
            "libdbus-1-3 is already the newest version (1.12.20-2ubuntu4.1).\n",
            "libdbus-1-3 set to manually installed.\n",
            "libdrm2 is already the newest version (2.4.113-2~ubuntu0.22.04.1).\n",
            "libdrm2 set to manually installed.\n",
            "libfreetype6 is already the newest version (2.11.1+dfsg-1ubuntu0.3).\n",
            "libfreetype6 set to manually installed.\n",
            "libgbm1 is already the newest version (23.2.1-1ubuntu3.1~22.04.3).\n",
            "libgbm1 set to manually installed.\n",
            "libglib2.0-0 is already the newest version (2.72.4-0ubuntu2.5).\n",
            "libnspr4 is already the newest version (2:4.35-0ubuntu0.22.04.1).\n",
            "libnspr4 set to manually installed.\n",
            "libnss3 is already the newest version (2:3.98-0ubuntu0.22.04.2).\n",
            "libnss3 set to manually installed.\n",
            "libpango-1.0-0 is already the newest version (1.50.6+ds-2ubuntu1).\n",
            "libpango-1.0-0 set to manually installed.\n",
            "libwayland-client0 is already the newest version (1.20.0-1ubuntu0.1).\n",
            "libwayland-client0 set to manually installed.\n",
            "libx11-6 is already the newest version (2:1.7.5-1ubuntu0.3).\n",
            "libx11-6 set to manually installed.\n",
            "The following additional packages will be installed:\n",
            "  xfonts-encodings xfonts-utils xserver-common\n",
            "Recommended packages:\n",
            "  fonts-ipafont-mincho fonts-tlwg-loma xfonts-base\n",
            "The following NEW packages will be installed:\n",
            "  fonts-freefont-ttf fonts-ipafont-gothic fonts-noto-color-emoji\n",
            "  fonts-tlwg-loma-otf fonts-unifont fonts-wqy-zenhei xfonts-cyrillic\n",
            "  xfonts-encodings xfonts-scalable xfonts-utils\n",
            "The following packages will be upgraded:\n",
            "  xserver-common xvfb\n",
            "2 upgraded, 10 newly installed, 0 to remove and 38 not upgraded.\n",
            "Need to get 29.3 MB of archives.\n",
            "After this operation, 67.9 MB of additional disk space will be used.\n",
            "Get:1 http://archive.ubuntu.com/ubuntu jammy/universe amd64 fonts-ipafont-gothic all 00303-21ubuntu1 [3,513 kB]\n",
            "Get:2 http://archive.ubuntu.com/ubuntu jammy/main amd64 fonts-freefont-ttf all 20120503-10build1 [2,388 kB]\n",
            "Get:3 http://archive.ubuntu.com/ubuntu jammy-updates/main amd64 fonts-noto-color-emoji all 2.047-0ubuntu0.22.04.1 [10.0 MB]\n",
            "Get:4 http://archive.ubuntu.com/ubuntu jammy/universe amd64 fonts-tlwg-loma-otf all 1:0.7.3-1 [107 kB]\n",
            "Get:5 http://archive.ubuntu.com/ubuntu jammy/universe amd64 fonts-unifont all 1:14.0.01-1 [3,551 kB]\n",
            "Get:6 http://archive.ubuntu.com/ubuntu jammy/universe amd64 fonts-wqy-zenhei all 0.9.45-8 [7,472 kB]\n",
            "Get:7 http://archive.ubuntu.com/ubuntu jammy/main amd64 xfonts-encodings all 1:1.0.5-0ubuntu2 [578 kB]\n",
            "Get:8 http://archive.ubuntu.com/ubuntu jammy/main amd64 xfonts-utils amd64 1:7.7+6build2 [94.6 kB]\n",
            "Get:9 http://archive.ubuntu.com/ubuntu jammy/universe amd64 xfonts-cyrillic all 1:1.0.5 [386 kB]\n",
            "Get:10 http://archive.ubuntu.com/ubuntu jammy/main amd64 xfonts-scalable all 1:1.0.3-1.2ubuntu1 [306 kB]\n",
            "Get:11 http://archive.ubuntu.com/ubuntu jammy-updates/main amd64 xserver-common all 2:21.1.4-2ubuntu1.7~22.04.15 [29.5 kB]\n",
            "Get:12 http://archive.ubuntu.com/ubuntu jammy-updates/universe amd64 xvfb amd64 2:21.1.4-2ubuntu1.7~22.04.15 [866 kB]\n",
            "Fetched 29.3 MB in 2s (14.9 MB/s)\n",
            "Selecting previously unselected package fonts-ipafont-gothic.\n",
            "(Reading database ... 126319 files and directories currently installed.)\n",
            "Preparing to unpack .../00-fonts-ipafont-gothic_00303-21ubuntu1_all.deb ...\n",
            "Unpacking fonts-ipafont-gothic (00303-21ubuntu1) ...\n",
            "Selecting previously unselected package fonts-freefont-ttf.\n",
            "Preparing to unpack .../01-fonts-freefont-ttf_20120503-10build1_all.deb ...\n",
            "Unpacking fonts-freefont-ttf (20120503-10build1) ...\n",
            "Selecting previously unselected package fonts-noto-color-emoji.\n",
            "Preparing to unpack .../02-fonts-noto-color-emoji_2.047-0ubuntu0.22.04.1_all.deb ...\n",
            "Unpacking fonts-noto-color-emoji (2.047-0ubuntu0.22.04.1) ...\n",
            "Selecting previously unselected package fonts-tlwg-loma-otf.\n",
            "Preparing to unpack .../03-fonts-tlwg-loma-otf_1%3a0.7.3-1_all.deb ...\n",
            "Unpacking fonts-tlwg-loma-otf (1:0.7.3-1) ...\n",
            "Selecting previously unselected package fonts-unifont.\n",
            "Preparing to unpack .../04-fonts-unifont_1%3a14.0.01-1_all.deb ...\n",
            "Unpacking fonts-unifont (1:14.0.01-1) ...\n",
            "Selecting previously unselected package fonts-wqy-zenhei.\n",
            "Preparing to unpack .../05-fonts-wqy-zenhei_0.9.45-8_all.deb ...\n",
            "Unpacking fonts-wqy-zenhei (0.9.45-8) ...\n",
            "Selecting previously unselected package xfonts-encodings.\n",
            "Preparing to unpack .../06-xfonts-encodings_1%3a1.0.5-0ubuntu2_all.deb ...\n",
            "Unpacking xfonts-encodings (1:1.0.5-0ubuntu2) ...\n",
            "Selecting previously unselected package xfonts-utils.\n",
            "Preparing to unpack .../07-xfonts-utils_1%3a7.7+6build2_amd64.deb ...\n",
            "Unpacking xfonts-utils (1:7.7+6build2) ...\n",
            "Selecting previously unselected package xfonts-cyrillic.\n",
            "Preparing to unpack .../08-xfonts-cyrillic_1%3a1.0.5_all.deb ...\n",
            "Unpacking xfonts-cyrillic (1:1.0.5) ...\n",
            "Selecting previously unselected package xfonts-scalable.\n",
            "Preparing to unpack .../09-xfonts-scalable_1%3a1.0.3-1.2ubuntu1_all.deb ...\n",
            "Unpacking xfonts-scalable (1:1.0.3-1.2ubuntu1) ...\n",
            "Preparing to unpack .../10-xserver-common_2%3a21.1.4-2ubuntu1.7~22.04.15_all.deb ...\n",
            "Unpacking xserver-common (2:21.1.4-2ubuntu1.7~22.04.15) over (2:21.1.4-2ubuntu1.7~22.04.14) ...\n",
            "Preparing to unpack .../11-xvfb_2%3a21.1.4-2ubuntu1.7~22.04.15_amd64.deb ...\n",
            "Unpacking xvfb (2:21.1.4-2ubuntu1.7~22.04.15) over (2:21.1.4-2ubuntu1.7~22.04.14) ...\n",
            "Setting up fonts-noto-color-emoji (2.047-0ubuntu0.22.04.1) ...\n",
            "Setting up fonts-wqy-zenhei (0.9.45-8) ...\n",
            "Setting up fonts-freefont-ttf (20120503-10build1) ...\n",
            "Setting up fonts-tlwg-loma-otf (1:0.7.3-1) ...\n",
            "Setting up xfonts-encodings (1:1.0.5-0ubuntu2) ...\n",
            "Setting up fonts-ipafont-gothic (00303-21ubuntu1) ...\n",
            "update-alternatives: using /usr/share/fonts/opentype/ipafont-gothic/ipag.ttf to provide /usr/share/fonts/truetype/fonts-japanese-gothic.ttf (fonts-japanese-gothic.ttf) in auto mode\n",
            "Setting up xserver-common (2:21.1.4-2ubuntu1.7~22.04.15) ...\n",
            "Setting up fonts-unifont (1:14.0.01-1) ...\n",
            "Setting up xvfb (2:21.1.4-2ubuntu1.7~22.04.15) ...\n",
            "Setting up xfonts-utils (1:7.7+6build2) ...\n",
            "Setting up xfonts-cyrillic (1:1.0.5) ...\n",
            "Setting up xfonts-scalable (1:1.0.3-1.2ubuntu1) ...\n",
            "Processing triggers for man-db (2.10.2-1) ...\n",
            "Processing triggers for fontconfig (2.13.1-4.2ubuntu5) ...\n",
            "Downloading Chromium 136.0.7103.25 (playwright build v1169)\u001b[2m from https://cdn.playwright.dev/dbazure/download/playwright/builds/chromium/1169/chromium-linux.zip\u001b[22m\n",
            "\u001b[1G167.7 MiB [] 0% 127.6s\u001b[0K\u001b[1G167.7 MiB [] 0% 50.4s\u001b[0K\u001b[1G167.7 MiB [] 0% 23.0s\u001b[0K\u001b[1G167.7 MiB [] 0% 15.1s\u001b[0K\u001b[1G167.7 MiB [] 0% 7.0s\u001b[0K\u001b[1G167.7 MiB [] 2% 3.9s\u001b[0K\u001b[1G167.7 MiB [] 2% 3.3s\u001b[0K\u001b[1G167.7 MiB [] 4% 2.8s\u001b[0K\u001b[1G167.7 MiB [] 5% 2.4s\u001b[0K\u001b[1G167.7 MiB [] 5% 2.5s\u001b[0K\u001b[1G167.7 MiB [] 7% 2.3s\u001b[0K\u001b[1G167.7 MiB [] 8% 2.1s\u001b[0K\u001b[1G167.7 MiB [] 9% 2.0s\u001b[0K\u001b[1G167.7 MiB [] 10% 1.9s\u001b[0K\u001b[1G167.7 MiB [] 11% 1.8s\u001b[0K\u001b[1G167.7 MiB [] 13% 1.7s\u001b[0K\u001b[1G167.7 MiB [] 14% 1.6s\u001b[0K\u001b[1G167.7 MiB [] 15% 1.6s\u001b[0K\u001b[1G167.7 MiB [] 17% 1.5s\u001b[0K\u001b[1G167.7 MiB [] 18% 1.4s\u001b[0K\u001b[1G167.7 MiB [] 20% 1.3s\u001b[0K\u001b[1G167.7 MiB [] 21% 1.3s\u001b[0K\u001b[1G167.7 MiB [] 23% 1.2s\u001b[0K\u001b[1G167.7 MiB [] 24% 1.2s\u001b[0K\u001b[1G167.7 MiB [] 26% 1.1s\u001b[0K\u001b[1G167.7 MiB [] 27% 1.1s\u001b[0K\u001b[1G167.7 MiB [] 27% 1.2s\u001b[0K\u001b[1G167.7 MiB [] 29% 1.1s\u001b[0K\u001b[1G167.7 MiB [] 31% 1.0s\u001b[0K\u001b[1G167.7 MiB [] 33% 1.0s\u001b[0K\u001b[1G167.7 MiB [] 35% 0.9s\u001b[0K\u001b[1G167.7 MiB [] 37% 0.9s\u001b[0K\u001b[1G167.7 MiB [] 38% 0.8s\u001b[0K\u001b[1G167.7 MiB [] 40% 0.8s\u001b[0K\u001b[1G167.7 MiB [] 42% 0.8s\u001b[0K\u001b[1G167.7 MiB [] 44% 0.7s\u001b[0K\u001b[1G167.7 MiB [] 46% 0.7s\u001b[0K\u001b[1G167.7 MiB [] 48% 0.7s\u001b[0K\u001b[1G167.7 MiB [] 49% 0.6s\u001b[0K\u001b[1G167.7 MiB [] 51% 0.6s\u001b[0K\u001b[1G167.7 MiB [] 53% 0.6s\u001b[0K\u001b[1G167.7 MiB [] 55% 0.5s\u001b[0K\u001b[1G167.7 MiB [] 57% 0.5s\u001b[0K\u001b[1G167.7 MiB [] 59% 0.5s\u001b[0K\u001b[1G167.7 MiB [] 60% 0.5s\u001b[0K\u001b[1G167.7 MiB [] 62% 0.4s\u001b[0K\u001b[1G167.7 MiB [] 64% 0.4s\u001b[0K\u001b[1G167.7 MiB [] 65% 0.4s\u001b[0K\u001b[1G167.7 MiB [] 66% 0.4s\u001b[0K\u001b[1G167.7 MiB [] 67% 0.4s\u001b[0K\u001b[1G167.7 MiB [] 68% 0.4s\u001b[0K\u001b[1G167.7 MiB [] 70% 0.3s\u001b[0K\u001b[1G167.7 MiB [] 72% 0.3s\u001b[0K\u001b[1G167.7 MiB [] 74% 0.3s\u001b[0K\u001b[1G167.7 MiB [] 76% 0.3s\u001b[0K\u001b[1G167.7 MiB [] 78% 0.3s\u001b[0K\u001b[1G167.7 MiB [] 80% 0.2s\u001b[0K\u001b[1G167.7 MiB [] 82% 0.2s\u001b[0K\u001b[1G167.7 MiB [] 84% 0.2s\u001b[0K\u001b[1G167.7 MiB [] 85% 0.2s\u001b[0K\u001b[1G167.7 MiB [] 86% 0.2s\u001b[0K\u001b[1G167.7 MiB [] 88% 0.1s\u001b[0K\u001b[1G167.7 MiB [] 90% 0.1s\u001b[0K\u001b[1G167.7 MiB [] 92% 0.1s\u001b[0K\u001b[1G167.7 MiB [] 95% 0.1s\u001b[0K\u001b[1G167.7 MiB [] 96% 0.0s\u001b[0K\u001b[1G167.7 MiB [] 98% 0.0s\u001b[0K\u001b[1G167.7 MiB [] 100% 0.0s\u001b[0K\n",
            "Chromium 136.0.7103.25 (playwright build v1169) downloaded to /root/.cache/ms-playwright/chromium-1169\n",
            "Downloading FFMPEG playwright build v1011\u001b[2m from https://cdn.playwright.dev/dbazure/download/playwright/builds/ffmpeg/1011/ffmpeg-linux.zip\u001b[22m\n",
            "\u001b[1G2.3 MiB [] 0% 1.7s\u001b[0K\u001b[1G2.3 MiB [] 2% 0.7s\u001b[0K\u001b[1G2.3 MiB [] 10% 0.3s\u001b[0K\u001b[1G2.3 MiB [] 24% 0.2s\u001b[0K\u001b[1G2.3 MiB [] 60% 0.0s\u001b[0K\u001b[1G2.3 MiB [] 100% 0.0s\u001b[0K\n",
            "FFMPEG playwright build v1011 downloaded to /root/.cache/ms-playwright/ffmpeg-1011\n",
            "Downloading Chromium Headless Shell 136.0.7103.25 (playwright build v1169)\u001b[2m from https://cdn.playwright.dev/dbazure/download/playwright/builds/chromium/1169/chromium-headless-shell-linux.zip\u001b[22m\n",
            "\u001b[1G101.4 MiB [] 0% 0.0s\u001b[0K\u001b[1G101.4 MiB [] 0% 32.8s\u001b[0K\u001b[1G101.4 MiB [] 0% 14.7s\u001b[0K\u001b[1G101.4 MiB [] 0% 9.0s\u001b[0K\u001b[1G101.4 MiB [] 1% 4.6s\u001b[0K\u001b[1G101.4 MiB [] 2% 2.8s\u001b[0K\u001b[1G101.4 MiB [] 4% 2.1s\u001b[0K\u001b[1G101.4 MiB [] 6% 1.7s\u001b[0K\u001b[1G101.4 MiB [] 8% 1.5s\u001b[0K\u001b[1G101.4 MiB [] 9% 1.4s\u001b[0K\u001b[1G101.4 MiB [] 10% 1.4s\u001b[0K\u001b[1G101.4 MiB [] 12% 1.3s\u001b[0K\u001b[1G101.4 MiB [] 13% 1.2s\u001b[0K\u001b[1G101.4 MiB [] 15% 1.2s\u001b[0K\u001b[1G101.4 MiB [] 17% 1.1s\u001b[0K\u001b[1G101.4 MiB [] 19% 1.0s\u001b[0K\u001b[1G101.4 MiB [] 22% 0.9s\u001b[0K\u001b[1G101.4 MiB [] 24% 0.9s\u001b[0K\u001b[1G101.4 MiB [] 26% 0.8s\u001b[0K\u001b[1G101.4 MiB [] 29% 0.8s\u001b[0K\u001b[1G101.4 MiB [] 30% 0.7s\u001b[0K\u001b[1G101.4 MiB [] 33% 0.7s\u001b[0K\u001b[1G101.4 MiB [] 36% 0.6s\u001b[0K\u001b[1G101.4 MiB [] 38% 0.6s\u001b[0K\u001b[1G101.4 MiB [] 40% 0.6s\u001b[0K\u001b[1G101.4 MiB [] 42% 0.5s\u001b[0K\u001b[1G101.4 MiB [] 44% 0.5s\u001b[0K\u001b[1G101.4 MiB [] 45% 0.5s\u001b[0K\u001b[1G101.4 MiB [] 47% 0.5s\u001b[0K\u001b[1G101.4 MiB [] 51% 0.5s\u001b[0K\u001b[1G101.4 MiB [] 54% 0.4s\u001b[0K\u001b[1G101.4 MiB [] 55% 0.4s\u001b[0K\u001b[1G101.4 MiB [] 57% 0.4s\u001b[0K\u001b[1G101.4 MiB [] 60% 0.4s\u001b[0K\u001b[1G101.4 MiB [] 63% 0.3s\u001b[0K\u001b[1G101.4 MiB [] 65% 0.3s\u001b[0K\u001b[1G101.4 MiB [] 67% 0.3s\u001b[0K\u001b[1G101.4 MiB [] 70% 0.3s\u001b[0K\u001b[1G101.4 MiB [] 72% 0.2s\u001b[0K\u001b[1G101.4 MiB [] 74% 0.2s\u001b[0K\u001b[1G101.4 MiB [] 77% 0.2s\u001b[0K\u001b[1G101.4 MiB [] 79% 0.2s\u001b[0K\u001b[1G101.4 MiB [] 83% 0.1s\u001b[0K\u001b[1G101.4 MiB [] 86% 0.1s\u001b[0K\u001b[1G101.4 MiB [] 88% 0.1s\u001b[0K\u001b[1G101.4 MiB [] 91% 0.1s\u001b[0K\u001b[1G101.4 MiB [] 94% 0.0s\u001b[0K\u001b[1G101.4 MiB [] 96% 0.0s\u001b[0K\u001b[1G101.4 MiB [] 98% 0.0s\u001b[0K\u001b[1G101.4 MiB [] 100% 0.0s\u001b[0K\n",
            "Chromium Headless Shell 136.0.7103.25 (playwright build v1169) downloaded to /root/.cache/ms-playwright/chromium_headless_shell-1169\n",
            "\u001b[1;32m[\u001b[0m\u001b[32mCOMPLETE\u001b[0m\u001b[1;32m]\u001b[0m\u001b[32m ● Playwright installation completed successfully. \u001b[0m\n",
            "\u001b[1;36m[\u001b[0m\u001b[36mINIT\u001b[0m\u001b[1;36m]\u001b[0m\u001b[36m...\u001b[0m\u001b[36m. → Starting database initialization\u001b[0m\u001b[36m...\u001b[0m\u001b[36m \u001b[0m\n",
            "\u001b[1;36m[\u001b[0m\u001b[36mCOMPLETE\u001b[0m\u001b[1;36m]\u001b[0m\u001b[36m ● Database backup created at: \u001b[0m\n",
            "\u001b[36m/root/.crawl4ai/\u001b[0m\u001b[36mcrawl4ai.db.backup_20250620_100817\u001b[0m\u001b[36m \u001b[0m\n",
            "\u001b[1;36m[\u001b[0m\u001b[36mINIT\u001b[0m\u001b[1;36m]\u001b[0m\u001b[36m...\u001b[0m\u001b[36m. → Starting database migration\u001b[0m\u001b[36m...\u001b[0m\u001b[36m \u001b[0m\n",
            "\u001b[1;32m[\u001b[0m\u001b[32mCOMPLETE\u001b[0m\u001b[1;32m]\u001b[0m\u001b[32m ● Migration completed. \u001b[0m\u001b[1;32m0\u001b[0m\u001b[32m records processed. \u001b[0m\n",
            "\u001b[1;32m[\u001b[0m\u001b[32mCOMPLETE\u001b[0m\u001b[1;32m]\u001b[0m\u001b[32m ● Database initialization completed successfully. \u001b[0m\n",
            "\u001b[1;32m[\u001b[0m\u001b[32mCOMPLETE\u001b[0m\u001b[1;32m]\u001b[0m\u001b[32m ● Post-installation setup completed! \u001b[0m\n",
            "\u001b[2K   \u001b[90m━━━━━━━━━━━━━━━━━━━━━━━━━━━━━━━━━━━━━━━━\u001b[0m \u001b[32m2.5/2.5 MB\u001b[0m \u001b[31m34.9 MB/s\u001b[0m eta \u001b[36m0:00:00\u001b[0m\n",
            "\u001b[2K   \u001b[90m━━━━━━━━━━━━━━━━━━━━━━━━━━━━━━━━━━━━━━━━\u001b[0m \u001b[32m44.4/44.4 kB\u001b[0m \u001b[31m3.0 MB/s\u001b[0m eta \u001b[36m0:00:00\u001b[0m\n",
            "\u001b[2K   \u001b[90m━━━━━━━━━━━━━━━━━━━━━━━━━━━━━━━━━━━━━━━━\u001b[0m \u001b[32m50.9/50.9 kB\u001b[0m \u001b[31m3.3 MB/s\u001b[0m eta \u001b[36m0:00:00\u001b[0m\n",
            "\u001b[2K   \u001b[90m━━━━━━━━━━━━━━━━━━━━━━━━━━━━━━━━━━━━━━━━\u001b[0m \u001b[32m44.8/44.8 kB\u001b[0m \u001b[31m1.7 MB/s\u001b[0m eta \u001b[36m0:00:00\u001b[0m\n",
            "\u001b[2K   \u001b[90m━━━━━━━━━━━━━━━━━━━━━━━━━━━━━━━━━━━━━━━━\u001b[0m \u001b[32m1.4/1.4 MB\u001b[0m \u001b[31m21.9 MB/s\u001b[0m eta \u001b[36m0:00:00\u001b[0m\n",
            "\u001b[?25h\u001b[31mERROR: pip's dependency resolver does not currently take into account all the packages that are installed. This behaviour is the source of the following dependency conflicts.\n",
            "google-generativeai 0.8.5 requires google-ai-generativelanguage==0.6.15, but you have google-ai-generativelanguage 0.6.18 which is incompatible.\u001b[0m\u001b[31m\n",
            "\u001b[2K   \u001b[90m━━━━━━━━━━━━━━━━━━━━━━━━━━━━━━━━━━━━━━━━\u001b[0m \u001b[32m374.1/374.1 kB\u001b[0m \u001b[31m10.1 MB/s\u001b[0m eta \u001b[36m0:00:00\u001b[0m\n",
            "\u001b[2K   \u001b[90m━━━━━━━━━━━━━━━━━━━━━━━━━━━━━━━━━━━━━━━━\u001b[0m \u001b[32m232.6/232.6 kB\u001b[0m \u001b[31m14.2 MB/s\u001b[0m eta \u001b[36m0:00:00\u001b[0m\n",
            "\u001b[?25h"
          ]
        }
      ],
      "source": [
        "!pip install -qqq crawl4ai\n",
        "!crawl4ai-setup\n",
        "!pip install -qqq langchain langchain-community google-ai-generativelanguage==0.6.15\n",
        "!pip install -qqq langchain-google-genai\n",
        "!pip install -qqq googlesearch-python mistralai PyPDF2"
      ]
    },
    {
      "cell_type": "code",
      "source": [
        "import os\n",
        "import json\n",
        "import base64\n",
        "import requests\n",
        "from tqdm.auto import tqdm\n",
        "from mistralai import Mistral\n",
        "from PyPDF2 import PdfReader, PdfWriter\n",
        "\n",
        "from pydantic import BaseModel, Field\n",
        "from typing import List, Tuple\n",
        "\n",
        "from googlesearch import search\n",
        "\n",
        "from langchain_core.tools import tool\n",
        "from langchain_google_genai import ChatGoogleGenerativeAI\n",
        "from langchain_core.prompts import ChatPromptTemplate\n",
        "from langchain_core.messages import SystemMessage, AIMessage, HumanMessage, ToolMessage\n",
        "\n",
        "from crawl4ai import AsyncWebCrawler, BrowserConfig, CrawlerRunConfig, CacheMode, LLMConfig\n",
        "from crawl4ai.content_scraping_strategy import LXMLWebScrapingStrategy\n",
        "from crawl4ai.markdown_generation_strategy import DefaultMarkdownGenerator"
      ],
      "metadata": {
        "id": "Su19CNF6VjJl"
      },
      "execution_count": null,
      "outputs": []
    },
    {
      "cell_type": "code",
      "source": [
        "# API KEYS\n",
        "import os\n",
        "from google.colab import userdata\n",
        "\n",
        "GEMINI_API_KEY = userdata.get('GOOGLE_API_MLWH')\n",
        "MISTRAL_API_KEY = userdata.get('MISTRAL_API_KEY')"
      ],
      "metadata": {
        "id": "Enl0LzzWZ9rO"
      },
      "execution_count": null,
      "outputs": []
    },
    {
      "cell_type": "markdown",
      "source": [
        "## Helper functions"
      ],
      "metadata": {
        "id": "h8GJluGYoxka"
      }
    },
    {
      "cell_type": "code",
      "source": [
        "def generate_plan(query: str) -> dict:\n",
        "    model = ChatGoogleGenerativeAI(\n",
        "      model=\"models/gemini-2.0-flash\",\n",
        "      temperature=0,\n",
        "      max_tokens=None,\n",
        "      timeout=None,\n",
        "      max_retries=2,\n",
        "      api_key=GEMINI_API_KEY\n",
        "    )\n",
        "\n",
        "    planning_system_prompt = \"\"\"\n",
        "You are an expert Research Analyst and Strategic Planner. Your mission is to deconstruct a user's query into a comprehensive and logical research plan. This plan will be the foundation for generating a thorough, well-supported report.\n",
        "\n",
        "You must meticulously follow the instructions for each field of the output.\n",
        "\n",
        "**1. Task: `query_breakdown`**\n",
        "\n",
        "Your first task is to deeply analyze the user's query. Do not just summarize it. Your breakdown must identify the following components:\n",
        "* **Core Intent:** What is the user's ultimate goal? What are they trying to achieve or understand?\n",
        "* **Key Entities & Concepts:** Identify the main subjects, organizations, people, technologies, or abstract concepts at the heart of the query.\n",
        "* **Scope & Constraints:** Define the boundaries of the query. Is it limited by time (e.g., \"in the last 5 years\"), geography (e.g., \"in Europe\"), or other factors? If not specified, note that the scope is broad.\n",
        "\n",
        "**2. Task: `sub_questions`**\n",
        "\n",
        "Based on your `query_breakdown`, create a list of sub-questions that form a logical pathway to a complete answer. The questions must build upon each other, progressing from foundational knowledge to specific, analytical details.\n",
        "\n",
        "* **Structure:** Start with foundational questions (e.g., \"What is [concept]?\", \"What is the history of [event]?\"), then move to core details (e.g., \"How does [entity A] work?\", \"What are the key factors driving [trend]?\"), and conclude with analytical or comparative questions (e.g., \"What are the long-term impacts of [event]?\", \"How does [option A] compare to [option B]?\").\n",
        "* **Clarity:** Each question should be clear, concise, and answerable.\n",
        "* **Requirement:** Generate at least 3, but preferably 4-5, sub-questions to ensure thoroughness.\n",
        "\n",
        "**3. Task: `search_queries`**\n",
        "\n",
        "For each sub-question you generated, create a web search query. It is crucial that you **do not simply rephrase the sub-questions**. Instead, craft queries a human expert would use to get the best possible results from a search engine like Google.\n",
        "\n",
        "* **Optimization:** Employ search operator best practices. Think about keywords, phrases in quotes for exact matches, and adding context words.\n",
        "* **Query-Crafting Techniques:**\n",
        "    * **Keyword Queries:** `[entity] benefits disadvantages`\n",
        "    * **Statistical Queries:** `[topic] statistics 2024` or `growth rate of [industry]`\n",
        "    * **Comparative Queries:** `[product A] vs [product B] review`\n",
        "    * **Process Queries:** `how to implement [strategy]` or `[technology] working principle`\n",
        "    * **Authoritative Source Queries:** `[topic] site:.gov` or `[medical condition] site:who.int`\n",
        "* Use the technique most suitable for the topic at hand, in case of uncertainty, just convert the sub-question to a web search query.\n",
        "    \"\"\"\n",
        "    class PlanningOutput(BaseModel):\n",
        "      query_breakdown: str = Field(..., description=\"breakdown of the user query\")\n",
        "      sub_questions: list[str] = Field(..., description=\"list of sub-questions to answer\")\n",
        "      search_queries: list[str] = Field(..., description=\"list of web search queries to run\")\n",
        "\n",
        "    planning_model = model.with_structured_output(PlanningOutput)\n",
        "\n",
        "    messages = [\n",
        "        (\"system\", planning_system_prompt),\n",
        "        (\"user\", query)\n",
        "    ]\n",
        "\n",
        "    response = planning_model.invoke(messages)\n",
        "    plan = response.model_dump()\n",
        "\n",
        "    return plan"
      ],
      "metadata": {
        "id": "vqsO9eJHBT9G"
      },
      "execution_count": null,
      "outputs": []
    },
    {
      "cell_type": "code",
      "source": [
        "res = generate_plan(\"How the retail industry has changed in the past 3 years\")"
      ],
      "metadata": {
        "id": "zdZ7p2M37bjL"
      },
      "execution_count": null,
      "outputs": []
    },
    {
      "cell_type": "code",
      "source": [
        "res"
      ],
      "metadata": {
        "colab": {
          "base_uri": "https://localhost:8080/"
        },
        "id": "-4csMfwr7lfq",
        "outputId": "68ac8c5f-6944-473a-89d4-9dc2fc7ea723"
      },
      "execution_count": null,
      "outputs": [
        {
          "output_type": "execute_result",
          "data": {
            "text/plain": [
              "{'query_breakdown': \"The user wants to understand the changes that have occurred in the retail industry over the past three years. The core intent is to get an overview of the transformations within the retail sector. Key entities include the 'retail industry' and the timeframe is 'past 3 years'. The scope is broad, covering all aspects of the retail industry without specific geographic or sub-sector limitations.\",\n",
              " 'sub_questions': ['What were the major trends affecting the retail industry in the past 3 years?',\n",
              "  'How did the COVID-19 pandemic impact the retail industry in the past 3 years?',\n",
              "  'What has been the growth rate of e-commerce in the retail sector over the past 3 years?',\n",
              "  'How have supply chain disruptions affected the retail industry in the past 3 years?',\n",
              "  'What new technologies have been adopted by the retail industry in the past 3 years?'],\n",
              " 'search_queries': ['\"retail industry trends\" 2021-2024',\n",
              "  '\"impact of COVID-19 on retail\" 2021-2024',\n",
              "  '\"e-commerce growth\" statistics 2021-2024',\n",
              "  '\"supply chain disruptions\" retail 2021-2024',\n",
              "  '\"technology adoption\" retail industry 2021-2024']}"
            ]
          },
          "metadata": {},
          "execution_count": 8
        }
      ]
    },
    {
      "cell_type": "code",
      "source": [
        "def web_search(search_queries: list[str], num_results: int = 5) -> list[str]:\n",
        "    \"\"\"\n",
        "    Return a list of top N URLs from a Google search.\n",
        "    \"\"\"\n",
        "    results = []\n",
        "    for search_query in search_queries:\n",
        "      query_related_urls = []\n",
        "      urls = search(search_query, num_results=num_results, timeout=5, unique=True)\n",
        "      for url in urls:\n",
        "        verdict, url_type = should_skip_url(url)\n",
        "        if not verdict:\n",
        "          query_related_urls.append((url_type, url))\n",
        "      results.append(query_related_urls)\n",
        "    return results"
      ],
      "metadata": {
        "id": "jf48Z6UOLqd3"
      },
      "execution_count": null,
      "outputs": []
    },
    {
      "cell_type": "code",
      "source": [
        "def should_skip_url(url: str) -> Tuple[bool, str]:\n",
        "    # New check: Skip non-HTTPS URLs\n",
        "    if not url.lower().startswith('https://'):\n",
        "        print(f\"[INFO] Skipping URL (non-https): {url}\")\n",
        "        return True, 'non-https'\n",
        "\n",
        "    # Existing logic below (unchanged)\n",
        "    NON_TEXTUAL_MIME_TYPES = [\n",
        "        'application/zip',\n",
        "        'application/x-rar-compressed',\n",
        "        'application/octet-stream',\n",
        "        'image/',\n",
        "        'video/',\n",
        "        'audio/',\n",
        "        'font/',\n",
        "    ]\n",
        "\n",
        "    try:\n",
        "        headers = {\n",
        "            'User-Agent': 'Mozilla/5.0 (Windows NT 10.0; Win64; x64) AppleWebKit/537.36 (KHTML, like Gecko) Chrome/91.0.4472.124 Safari/537.36'\n",
        "        }\n",
        "\n",
        "        head_response = requests.head(url, allow_redirects=True, timeout=5, headers=headers)\n",
        "        head_response.raise_for_status()\n",
        "        content_type = head_response.headers.get('Content-Type', '').lower()\n",
        "\n",
        "        for mime_type in NON_TEXTUAL_MIME_TYPES:\n",
        "            if content_type.startswith(mime_type):\n",
        "                detected_type = mime_type.strip('/')\n",
        "                print(f\"[INFO] Skipping URL (non-textual content type: {detected_type}): {url}\")\n",
        "                return True, detected_type\n",
        "\n",
        "        with requests.get(url, allow_redirects=True, timeout=10, headers=headers, stream=True) as get_response:\n",
        "            get_response.raise_for_status()\n",
        "            final_content_type = get_response.headers.get('Content-Type', '').lower()\n",
        "\n",
        "            for mime_type in NON_TEXTUAL_MIME_TYPES:\n",
        "                if final_content_type.startswith(mime_type):\n",
        "                    detected_type = mime_type.strip('/')\n",
        "                    print(f\"[INFO] Skipping URL (non-textual content type on GET: {detected_type}): {url}\")\n",
        "                    return True, detected_type\n",
        "\n",
        "            if 'application/pdf' in final_content_type:\n",
        "                print(f\"[SUCCESS] URL content is valid (pdf): {url}\")\n",
        "                return False, 'pdf'\n",
        "            else:\n",
        "                print(f\"[SUCCESS] URL content is valid (html/text): {url}\")\n",
        "                return False, 'html'\n",
        "\n",
        "    except requests.exceptions.RequestException as e:\n",
        "        print(f\"[ERROR] Skipping URL due to request error: {url}\\n\\tDetails: {e}\")\n",
        "        return True, 'error'\n",
        "    except Exception as e:\n",
        "        print(f\"[ERROR] Skipping URL due to an unexpected error: {url}\\n\\tDetails: {e}\")\n",
        "        return True, 'error'"
      ],
      "metadata": {
        "id": "4TYfMPNpbhz5"
      },
      "execution_count": null,
      "outputs": []
    },
    {
      "cell_type": "code",
      "source": [
        "async def crawl4ai_func(url):\n",
        "    # Define markdown generator\n",
        "    md_generator = DefaultMarkdownGenerator(\n",
        "        options={\n",
        "            \"ignore_links\": True,\n",
        "            \"skip_internal_links\": True,\n",
        "            \"ignore_images\": True\n",
        "        }\n",
        "    )\n",
        "\n",
        "    # Build the crawler config\n",
        "    crawl_config = CrawlerRunConfig(\n",
        "        markdown_generator=md_generator,\n",
        "        scraping_strategy=LXMLWebScrapingStrategy(),\n",
        "        cache_mode=CacheMode.BYPASS\n",
        "    )\n",
        "\n",
        "    # Create a browser config if needed\n",
        "    browser_cfg = BrowserConfig(headless=True)\n",
        "\n",
        "    async with AsyncWebCrawler(config=browser_cfg) as crawler:\n",
        "        result = await crawler.arun(\n",
        "            url=url,\n",
        "            config=crawl_config\n",
        "        )\n",
        "\n",
        "        if result.success:\n",
        "            if result.extracted_content:\n",
        "                data = json.loads(result.extracted_content)\n",
        "                print(\"Extracted items:\", data)\n",
        "            return result[0].markdown\n",
        "        else:\n",
        "            print(\"Error:\", result.error_message)"
      ],
      "metadata": {
        "id": "cOQWR698JcYv"
      },
      "execution_count": null,
      "outputs": []
    },
    {
      "cell_type": "code",
      "source": [
        "def download_pdf(pdf_url, file_name=\"original\"):\n",
        "  response = requests.get(pdf_url)\n",
        "  original_pdf_path = f\"{file_name}.pdf\"\n",
        "\n",
        "  with open(original_pdf_path, \"wb\") as f:\n",
        "      f.write(response.content)\n",
        "  return original_pdf_path"
      ],
      "metadata": {
        "id": "WkIj3RWK5D1W"
      },
      "execution_count": null,
      "outputs": []
    },
    {
      "cell_type": "code",
      "source": [
        "# Extract only the first N pages\n",
        "def extract_pages(input_path, output_path, page_count=3):\n",
        "    reader = PdfReader(input_path)\n",
        "    writer = PdfWriter()\n",
        "    for i in range(min(page_count, len(reader.pages))):\n",
        "        writer.add_page(reader.pages[i])\n",
        "    with open(output_path, \"wb\") as f:\n",
        "        writer.write(f)"
      ],
      "metadata": {
        "id": "ZoqEyQYQ4_ss"
      },
      "execution_count": null,
      "outputs": []
    },
    {
      "cell_type": "code",
      "source": [
        "def encode_pdf(pdf_path):\n",
        "    \"\"\"Encode the pdf to base64.\"\"\"\n",
        "    try:\n",
        "        with open(pdf_path, \"rb\") as pdf_file:\n",
        "            return base64.b64encode(pdf_file.read()).decode('utf-8')\n",
        "    except FileNotFoundError:\n",
        "        print(f\"Error: The file {pdf_path} was not found.\")\n",
        "        return None\n",
        "    except Exception as e:  # Added general exception handling\n",
        "        print(f\"Error: {e}\")\n",
        "        return None"
      ],
      "metadata": {
        "id": "7BJyyRK85A9K"
      },
      "execution_count": null,
      "outputs": []
    },
    {
      "cell_type": "code",
      "source": [
        "def pdf_ocr(url, page_count=5):\n",
        "  # Download the PDF from URL\n",
        "  original_pdf_path = download_pdf(url)\n",
        "\n",
        "  shortened_pdf_path = \"shortened.pdf\"\n",
        "  extract_pages(original_pdf_path, shortened_pdf_path, page_count=page_count)\n",
        "\n",
        "  # Getting the base64 string\n",
        "  base64_pdf = encode_pdf(shortened_pdf_path)\n",
        "\n",
        "  client = Mistral(api_key=MISTRAL_API_KEY)\n",
        "\n",
        "  ocr_response = client.ocr.process(\n",
        "      model=\"mistral-ocr-latest\",\n",
        "      document={\n",
        "          \"type\": \"document_url\",\n",
        "          \"document_url\": f\"data:application/pdf;base64,{base64_pdf}\"\n",
        "      },\n",
        "      include_image_base64=True\n",
        "  )\n",
        "  return ocr_response"
      ],
      "metadata": {
        "id": "42iueGrwPjl4"
      },
      "execution_count": null,
      "outputs": []
    },
    {
      "cell_type": "code",
      "source": [
        "def clean_scraped_data_llm(sub_question, scraped_data):\n",
        "  model = ChatGoogleGenerativeAI(\n",
        "      model=\"models/gemini-2.0-flash\", #\"models/gemini-2.5-flash-preview-05-20\"\n",
        "      temperature=0,\n",
        "      max_tokens=None,\n",
        "      timeout=None,\n",
        "      max_retries=2,\n",
        "      api_key=GEMINI_API_KEY\n",
        "    )\n",
        "\n",
        "  clean_data_system_prompt = \"\"\"\n",
        "You are an expert Information Retrieval Assistant. Your task is to extract all relevant text chunks from a scraped text based on a user query. You must follow a precise, multi-step process to ensure maximum relevance and recall.\n",
        "\n",
        "What you will get as input:\n",
        "1. `query`: The user's original question or topic.\n",
        "2. `scraped_text`: A large body of text.\n",
        "\n",
        "Your Job (Multi-Step Process):\n",
        "\n",
        "**Step 1: Query Analysis and Expansion**\n",
        "* Analyze the user's `query` to understand its core intent.\n",
        "* Generate a list of at least 5-10 related keywords, synonyms, and alternative phrases. For example, if the query is about \"cost of living,\" you might expand it to include \"housing prices,\" \"rent,\" \"grocery bills,\" \"inflation,\" \"expenses,\" etc. This expanded set will be used for retrieval.\n",
        "\n",
        "**Step 2: Text Segmentation (Chunking)**\n",
        "* Segment the `scraped_text` into logical chunks. The ideal chunk is a single paragraph. If the text has no clear paragraphs, split it by sentences. Do not use arbitrary fixed-size chunks. Create a list of these text chunks.\n",
        "\n",
        "**Step 3: Initial Retrieval (Candidate Generation)**\n",
        "* Go through your list of text chunks from Step 2.\n",
        "* Identify an initial set of \"candidate chunks.\" A chunk is a candidate if it contains ANY of the original query keywords OR any of the expanded keywords/phrases from Step 1.\n",
        "* This step should be broad; the goal is to capture everything that could possibly be relevant.\n",
        "\n",
        "**Step 4: Relevance Re-ranking and Filtering**\n",
        "* For each \"candidate chunk\" you identified in Step 3, perform a fine-grained relevance analysis.\n",
        "* Evaluate how directly the chunk answers or relates to the user's ORIGINAL `query`.\n",
        "* Assign a relevance score: 'High', 'Medium', or 'Low'.\n",
        "* Only keep the chunks that you score as 'High' or 'Medium' relevance.\n",
        "\n",
        "**Step 5: Final Output Generation**\n",
        "* Create a final list containing only the 'High' and 'Medium' relevance chunks you filtered in Step 4.\n",
        "* Crucially, the text in this final list must be the **original, unaltered text** from the chunks.\n",
        "* Return this final list of chunks.\n",
        "\n",
        "Important:\n",
        "* In case of no relevant information return empty list.\n",
        "\"\"\"\n",
        "\n",
        "  class ChunksOutput(BaseModel):\n",
        "    chunks_list: List[str] = Field(..., description=\"List of relevant text chunks to the query, in case of no relevant information return empty list\")\n",
        "\n",
        "  data_cleaning_model = model.with_structured_output(ChunksOutput)\n",
        "\n",
        "  chunks_list = []\n",
        "  parag_size = 20000  # size in charachters (not tokens)\n",
        "  nbr_parag, remaining = divmod(len(scraped_data), parag_size)\n",
        "  max_nbr_para = min(nbr_parag, 5)\n",
        "  for i in range(max_nbr_para):\n",
        "    messages = [\n",
        "        (\"system\", clean_data_system_prompt),\n",
        "        (\"user\", f\"Query:\\n{sub_question}\\nScraped text:\\n{scraped_data[i*parag_size:(i+1)*parag_size]}\")\n",
        "    ]\n",
        "    response = data_cleaning_model.invoke(messages)\n",
        "    chunks_list.extend(response.chunks_list)\n",
        "  if remaining:\n",
        "    messages = [\n",
        "          (\"system\", clean_data_system_prompt),\n",
        "          (\"user\", f\"Query:\\n{sub_question}\\nScraped text:\\n{scraped_data[max_nbr_para*parag_size:(max_nbr_para+1)*parag_size]}\")\n",
        "      ]\n",
        "    response = data_cleaning_model.invoke(messages)\n",
        "    chunks_list.extend(response.chunks_list)\n",
        "  clean_content = \"\\n---\\n\".join(chunks_list) if chunks_list else \"\"\n",
        "\n",
        "  return clean_content"
      ],
      "metadata": {
        "id": "A01OfZ47stNW"
      },
      "execution_count": null,
      "outputs": []
    },
    {
      "cell_type": "code",
      "source": [
        "async def fetch_and_clean(url_info, sub_question):\n",
        "    \"\"\"Helper to fetch and clean data from a single URL\"\"\"\n",
        "    if url_info[0] == 'html':\n",
        "        scraped_data = await crawl4ai_func(url_info[1])\n",
        "        return clean_scraped_data_llm(sub_question, scraped_data)\n",
        "    else:\n",
        "        ocr_response = pdf_ocr(url_info[1])\n",
        "        scraped_data = \"\\n\".join(page.markdown for page in ocr_response.pages[:10])\n",
        "        return clean_scraped_data_llm(sub_question, scraped_data)"
      ],
      "metadata": {
        "id": "85Noq6EABO1b"
      },
      "execution_count": null,
      "outputs": []
    },
    {
      "cell_type": "code",
      "source": [
        "def judging_collected_data(gathered_info, sub_question, query):\n",
        "  model = ChatGoogleGenerativeAI(\n",
        "      model=\"models/gemini-2.0-flash\",\n",
        "      temperature=0,\n",
        "      max_tokens=None,\n",
        "      timeout=None,\n",
        "      max_retries=2,\n",
        "      api_key=GEMINI_API_KEY\n",
        "    )\n",
        "  judgement_system_prompt = \"\"\"\n",
        "You are a judgment-oriented assistant whose sole role is to evaluate whether provided data chunks are sufficient to answer a given question thoroughly. Follow these rules:\n",
        "\n",
        "1. INPUT FORMAT\n",
        "   • The user will supply:\n",
        "     – A “question” (a natural-language query).\n",
        "     - A “web search query” (query used to perform web search to collect data)\n",
        "     – A list of “data_chunks”, where each chunk is a fragment of collected information. These chunks are not guaranteed to be coherent narrative—treat them as separate pieces of evidence.\n",
        "   • Example input (not part of your prompt):\n",
        "     Question:\n",
        "     What are the demographic trends of electric vehicle adoption in urban areas over the last five years?\n",
        "     Web search query:\n",
        "     electric vehicle adoption in urban areas\n",
        "     Data Chunks:\n",
        "     Data from City A’s transportation survey (2020): 12% EV penetration ...\n",
        "     ---\n",
        "     Academic paper excerpt: In 2019, urban EV buyers skewed younger ...\n",
        "     ---\n",
        "     News article (2024) about tax incentives affecting EV sales ...\n",
        "\n",
        "2. PROCESS\n",
        "   • Treat the “data_chunks” as discrete units; do NOT assume they connect seamlessly.\n",
        "   • For each chunk, extract the key facts, dates, and context.\n",
        "   • Evaluate coverage: timeline span, geographic scope, demographic variables, methodologies, sample sizes, and relevance to the question.\n",
        "   • Do not attempt to “answer” the question yourself using outside knowledge; only judge sufficiency of the provided chunks.\n",
        "\n",
        "3. Output\n",
        "  - State whether the data is sufficient (True or False)\n",
        "  \"\"\"\n",
        "  class JudgementOutput(BaseModel):\n",
        "    sufficient: bool = Field(..., description=\"Whether the collected data is sufficient or not\")\n",
        "\n",
        "  judgement_model = model.with_structured_output(JudgementOutput)\n",
        "  gethered_info_concat = '---\\n'.join(gathered_info)\n",
        "  messages = [\n",
        "      (\"system\", judgement_system_prompt),\n",
        "      (\"user\", f\"Question:\\n{sub_question}\\nWeb search query:\\n{query}\\nData Chunks:\\n{gethered_info_concat}\")\n",
        "  ]\n",
        "\n",
        "  response = judgement_model.invoke(messages)\n",
        "  judgment = response.model_dump()\n",
        "\n",
        "  return judgment"
      ],
      "metadata": {
        "id": "6HC1TAnnQSEa"
      },
      "execution_count": null,
      "outputs": []
    },
    {
      "cell_type": "code",
      "source": [
        "def sub_report_generation(sub_question, accepted_gathered_data):\n",
        "  model = ChatGoogleGenerativeAI(\n",
        "      model=\"models/gemini-2.5-flash-preview-05-20\",\n",
        "      temperature=0,\n",
        "      max_tokens=None,\n",
        "      timeout=None,\n",
        "      max_retries=2,\n",
        "      api_key=GEMINI_API_KEY\n",
        "    )\n",
        "\n",
        "  sub_report_system_prompt = \"\"\"\n",
        "You are a detailed-report generator that receives:\n",
        "  • A “question” (a natural-language query).\n",
        "  • A collection of “data_chunks” grouped by references (e.g., “[Ref: Source A url] Chunk 1 \\n\\n\\n[Ref: Source B url] Chunk 2....), containing gathered information relevant to the question.\n",
        "\n",
        "YOUR TASK:\n",
        "  1. Read and extract key facts from each data_chunk, noting its reference.\n",
        "  2. Generate a comprehensive report that answers the question in no more than three main paragraphs.\n",
        "     – Each paragraph should flow logically: e.g., context/setup, analysis/details, and conclusion/insight.\n",
        "     – Use the provided data_chunks as the primary source of evidence.\n",
        "     – You may incorporate your own external knowledge only if you are certain of its correctness; otherwise, rely solely on the chunks.\n",
        "  3. In the report, whenever you use specific information from a chunk, include its reference in brackets immediately after the fact (e.g., “According to the 2022 survey, 45% of respondents… [Source B](url)”).\n",
        "  4. Don't add any extra information from your own knowledge, unless you're absolutely certain that it is correct.\n",
        "  5. Capture as many relevant details as possible: dates, figures, definitions, context, and any qualifying conditions.\n",
        "\n",
        "RESPONSE FORMAT:\n",
        "  • Each time you reference a chunk, use its exact reference tag with the url (e.g., “[Source A](url)”) immediately after the cited information.\n",
        "  • Do not exceed five main paragraphs. Maintain coherent prose.\n",
        "\n",
        "TONE & STYLE:\n",
        "  • Formal, precise, and objective.\n",
        "  • Prioritize clarity and completeness.\n",
        "  • Avoid speculation—only state what is directly supported by references or by verifiably correct knowledge.\n",
        "\"\"\"\n",
        "\n",
        "  data_chunks_with_ref = \"\\n\\n\\n\".join([f\"[Ref: {url}]\\n {chunks}\" for url, chunks in zip(*accepted_gathered_data)])\n",
        "  user_prompt = f\"Question:\\n{sub_question}\\nData Chunks:\\n{data_chunks_with_ref}\"\n",
        "\n",
        "  messages = [\n",
        "          (\"system\", sub_report_system_prompt),\n",
        "          (\"user\", user_prompt)\n",
        "      ]\n",
        "  response = model.invoke(messages)\n",
        "  sub_report = response.content\n",
        "\n",
        "  return sub_report\n"
      ],
      "metadata": {
        "id": "lGEeXQtp_zaY"
      },
      "execution_count": null,
      "outputs": []
    },
    {
      "cell_type": "code",
      "source": [
        "def final_report_generation(query, query_breakdown, sub_questions, sub_reports):\n",
        "  model = ChatGoogleGenerativeAI(\n",
        "      model=\"models/gemini-2.5-flash-preview-05-20\",\n",
        "      temperature=0,\n",
        "      max_tokens=None,\n",
        "      timeout=None,\n",
        "      max_retries=2,\n",
        "      api_key=GEMINI_API_KEY\n",
        "    )\n",
        "\n",
        "  sub_report_system_prompt = \"\"\"\n",
        "You are a final-report generator that receives:\n",
        "  • The original user query that we're trying to answer thoroughly.\n",
        "  • A brief breakdown of the original user query, to better understand it.\n",
        "  • A list of miticoulously crafted “sub_reports”. Each sub_report consists of:\n",
        "    – A “sub_question” it was intended to answer, related to the original user query.\n",
        "    – The complete text of the sub_report, which already includes detailed analysis and citations in the form different sources (e.g., “[Source X]”)\n",
        "\n",
        "YOUR TASK:\n",
        "  1. Read and understand each sub_report in the context of the question it addressed.\n",
        "  2. Create one unified, coherent final report that synthesizes all sub_reports into a single narrative. The final report must:\n",
        "     – Introduce the overarching subject by summarizing how the individual questions connect.\n",
        "     – Provide a clear plan or outline at the beginning, listing major sections that correspond to thematic groupings of the sub_reports.\n",
        "     – Maintain and preserve all existing references from each sub_report, but this time use wikipedia citation style (numbered references that link to footnotes list of references links)\n",
        "     - The final report has to be in Markdown format, so use the proper notation for lists and references.\n",
        "     – If you incorporate any additional external facts, only do so if you are certain of their correctness.\n",
        "     – Integrate findings so that the final document reads as a cohesive, logically flowing report rather than a sequence of disconnected summaries.\n",
        "     – Ensure the final report is long, thorough, and richly detailed, fully addressing the combined scope of all sub_reports and answering the user query and all the sub_questions.\n",
        "\n",
        "TONE & STYLE:\n",
        "  • Formal, authoritative, and objective, with an engaging title.\n",
        "  • Write using a combination of complete paragraphs and bullet points, as you see fit.\n",
        "  • Prioritize clarity: Suppose the reader doesn't know anything about the query, unless it is stated otherwise by the user in the query.\n",
        "  • Do not speculate beyond what is supported by sub_report citations or verifiably correct LLM knowledge.\n",
        "\n",
        "IMPORTANT:\n",
        "  • Only use content from the provided sub_reports (and, if necessary, verifiable knowledge).\n",
        "  • In case of contradictory information between sub_reports, either pick the one that has a more reliable source,\n",
        "  or state that there are two opinions on the topic and the user should investigate it further manually.\n",
        "  • Accurately preserve all reference tags from sub_reports.\n",
        "  • The final report must be one cohesive document, not a simple concatenation of sections.\n",
        "  • Ensure the report is sufficiently long and detailed to cover all combined questions.\n",
        "\"\"\"\n",
        "\n",
        "  sub_reports_concat = \"\\n\".join([f\"### Sub_question: {sub_question}\\nSub_report: {sub_report}\" for sub_question, sub_report in zip(sub_questions, sub_reports)])\n",
        "  user_prompt = f\"Original user query:\\n{query}\\nQuery breakdown:\\n{query_breakdown}\\n{sub_reports_concat}\"\n",
        "\n",
        "  messages = [\n",
        "          (\"system\", sub_report_system_prompt),\n",
        "          (\"user\", user_prompt)\n",
        "      ]\n",
        "  response = model.invoke(messages)\n",
        "  final_report = response.content\n",
        "\n",
        "  return final_report"
      ],
      "metadata": {
        "id": "iH_j35kTLu1g"
      },
      "execution_count": null,
      "outputs": []
    },
    {
      "cell_type": "markdown",
      "source": [
        "## Agent code"
      ],
      "metadata": {
        "id": "eqsq2zYanqku"
      }
    },
    {
      "cell_type": "code",
      "source": [
        "user_query = \"Compile a research report on how the retail industry has changed in the past 3 years\"\n",
        "plan = generate_plan(user_query)\n",
        "query_breakdown, sub_questions, search_queries = plan[\"query_breakdown\"], plan[\"sub_questions\"], plan[\"search_queries\"]\n",
        "print(\"plan generated!\")\n",
        "\n",
        "search_results = web_search(search_queries, num_results=15)\n",
        "print(\"search results generated!\")\n",
        "\n",
        "# Data collection phase\n",
        "gathered_info = []\n",
        "for sq, urls in zip(sub_questions, search_results):\n",
        "    query_data = []\n",
        "    if urls:\n",
        "        query_data.append(await fetch_and_clean(urls[0], sq))\n",
        "    gathered_info.append(query_data)\n",
        "print(\"data collected!\")\n",
        "\n",
        "# Data validation and supplementation\n",
        "accepted_data = []\n",
        "for sq, query, data_list, urls in zip(sub_questions, search_queries, gathered_info, search_results):\n",
        "    sufficient = bool(''.join(data_list)) and judging_collected_data(data_list, sq, query)[\"sufficient\"]\n",
        "    print(f\"Sub-question: {sq}\\nJudgment: {sufficient}\")\n",
        "\n",
        "    idx = 1\n",
        "    while not sufficient and idx < len(urls):\n",
        "        data_list.append(await fetch_and_clean(urls[idx], sq))\n",
        "        sufficient = bool(''.join(data_list)) and judging_collected_data(data_list, sq, query)[\"sufficient\"]\n",
        "        idx += 1\n",
        "\n",
        "    accepted_data.append((urls, data_list))\n",
        "print(\"data accepted!\")\n",
        "\n",
        "# Report generation\n",
        "sub_reports = [sub_report_generation(sq, data) for sq, data in zip(sub_questions, accepted_data)]\n",
        "print(\"sub reports generated!\")\n",
        "\n",
        "final_report = final_report_generation(user_query, query_breakdown, sub_questions, sub_reports)\n",
        "print(\"final report generated!\")"
      ],
      "metadata": {
        "colab": {
          "base_uri": "https://localhost:8080/",
          "height": 1000
        },
        "id": "Zj9CJ0llBHI2",
        "outputId": "928f9a23-dbac-4a0a-a192-cf18eee0833a"
      },
      "execution_count": null,
      "outputs": [
        {
          "output_type": "stream",
          "name": "stdout",
          "text": [
            "plan generated!\n",
            "[SUCCESS] URL content is valid (html/text): https://www2.deloitte.com/us/en/pages/consumer-business/articles/retail-distribution-industry-outlook.html\n",
            "[SUCCESS] URL content is valid (html/text): https://www.abiresearch.com/blog/retail-trends-2024\n",
            "[SUCCESS] URL content is valid (html/text): https://www.mastercardservices.com/en/industries/retail/insights/retail-industry-trends-2024\n",
            "[ERROR] Skipping URL due to request error: https://pos.toasttab.com/blog/on-the-line/retail-trends?srsltid=AfmBOoq3mZDWdKkZ1mIeIZUVseIAgaoNvFf3QjvDKlUY4sBFxhRrYwgM\n",
            "\tDetails: 403 Client Error: Forbidden for url: https://pos.toasttab.com/blog/on-the-line/retail-trends?srsltid=AfmBOoq3mZDWdKkZ1mIeIZUVseIAgaoNvFf3QjvDKlUY4sBFxhRrYwgM\n",
            "[SUCCESS] URL content is valid (html/text): https://www2.deloitte.com/us/en/insights/industry/retail-distribution/retail-distribution-industry-outlook.html\n",
            "[SUCCESS] URL content is valid (html/text): https://www.westrock.com/blog/7-biggest-retail-trends-of-2024\n",
            "[ERROR] Skipping URL due to request error: https://www.cbre.com/insights/reports/five-forces-shaping-the-future-of-retail\n",
            "\tDetails: 403 Client Error: Forbidden for url: https://www.cbre.com/insights/reports/five-forces-shaping-the-future-of-retail\n",
            "[SUCCESS] URL content is valid (html/text): https://www.gwi.com/blog/retail-trends\n",
            "[SUCCESS] URL content is valid (html/text): https://www.pwc.com/us/en/industries/consumer-markets/library/retail-technology-trends.html\n",
            "[SUCCESS] URL content is valid (html/text): https://www.oberlo.com/statistics/retail-industry-growth-rate\n",
            "[ERROR] Skipping URL due to request error: https://www.the-future-of-commerce.com/2024/01/15/retail-trends-2024/\n",
            "\tDetails: 403 Client Error: Forbidden for url: https://www.the-future-of-commerce.com/2024/01/15/retail-trends-2024/\n",
            "[ERROR] Skipping URL due to request error: https://tinuiti.com/blog/ecommerce/retail-trends-emerging/\n",
            "\tDetails: 403 Client Error: Forbidden for url: https://tinuiti.com/blog/ecommerce/retail-trends-emerging/\n",
            "[ERROR] Skipping URL due to request error: https://www.bcg.com/industries/retail/insights\n",
            "\tDetails: 403 Client Error: Forbidden for url: https://www.bcg.com/industries/retail/insights\n",
            "[SUCCESS] URL content is valid (html/text): https://explodingtopics.com/blog/retail-trends\n",
            "[SUCCESS] URL content is valid (html/text): https://www.mckinsey.com/industries/retail/our-insights\n",
            "[ERROR] Skipping URL due to request error: https://www.ecommboardroom.com/the-impact-of-e-commerce-on-the-retail-industry\n",
            "\tDetails: ('Connection aborted.', RemoteDisconnected('Remote end closed connection without response'))\n",
            "[SUCCESS] URL content is valid (html/text): https://www.nber.org/digest/202208/effect-e-commerce-expansion-local-retail\n",
            "[ERROR] Skipping URL due to request error: https://afeusa.org/articles/the-rise-of-e-commerce-and-its-impact-on-brick-and-mortar-stores/\n",
            "\tDetails: 403 Client Error: Forbidden for url: https://afeusa.org/articles/the-rise-of-e-commerce-and-its-impact-on-brick-and-mortar-stores/\n",
            "[SUCCESS] URL content is valid (html/text): https://www.crowdstreet.com/resources/properties-perspectives/how-e-commerce-helps-and-hurts-brick-and-mortar-retail\n",
            "[SUCCESS] URL content is valid (html/text): https://capturly.com/blog/how-e-commerce-is-changing-the-retail-landscape/\n",
            "[SUCCESS] URL content is valid (html/text): https://www.bigcommerce.com/articles/ecommerce/\n",
            "[SUCCESS] URL content is valid (html/text): https://www.papercrane.ca/blog/ecommerce-and-how-it-has-changed-the-retail-market\n",
            "[SUCCESS] URL content is valid (html/text): https://siepr.stanford.edu/publications/policy-brief/how-valuable-e-commerce\n",
            "[ERROR] Skipping URL due to request error: https://www.benchmarkemail.com/blog/impact-of-ecommerce-on-traditional-retail/\n",
            "\tDetails: 403 Client Error: Forbidden for url: https://www.benchmarkemail.com/blog/impact-of-ecommerce-on-traditional-retail/\n",
            "[ERROR] Skipping URL due to request error: https://www.sciencedirect.com/science/article/pii/S2666412723000156\n",
            "\tDetails: 400 Client Error: Bad Request for url: https://www.sciencedirect.com/unsupported_browser\n",
            "[ERROR] Skipping URL due to request error: https://girlsforbusiness.org/index.php/blog/item/the-rise-of-e-commerce-and-its-effects-on-brick-and-mortar-stores\n",
            "\tDetails: HTTPSConnectionPool(host='girlsforbusiness.org', port=443): Max retries exceeded with url: /index.php/blog/item/the-rise-of-e-commerce-and-its-effects-on-brick-and-mortar-stores (Caused by SSLError(SSLCertVerificationError(1, '[SSL: CERTIFICATE_VERIFY_FAILED] certificate verify failed: unable to get local issuer certificate (_ssl.c:1016)')))\n",
            "[SUCCESS] URL content is valid (html/text): https://www.linkedin.com/pulse/impact-e-commerce-retail-growth-ram-chandnani-cdbpc\n",
            "[SUCCESS] URL content is valid (pdf): https://www.nber.org/system/files/working_papers/w30077/w30077.pdf\n",
            "[SUCCESS] URL content is valid (html/text): https://medium.com/@MAMeer841/the-rise-of-e-commerce-and-its-impact-on-retail-ae1c9260d431\n",
            "[SUCCESS] URL content is valid (html/text): https://consensus.app/questions/impact-ecommerce-retail-business-models-consumer/\n",
            "[SUCCESS] URL content is valid (pdf): https://impact.economist.com/perspectives/sites/default/files/eiu_maersk_-_retail_report.pdf\n",
            "[SUCCESS] URL content is valid (html/text): https://www.anaplan.com/blog/blog-supply-chain-disruption-causing-severe-impact-on-retail-industry/\n",
            "[SUCCESS] URL content is valid (html/text): https://www.retaildive.com/spons/top-3-supply-chain-challenges-for-retailers-in-2024/695866/\n",
            "[SUCCESS] URL content is valid (html/text): https://www.forbes.com/sites/pamdanziger/2025/04/21/trump-tariffs-to-put-retail-supply-chains-to-the-test/\n",
            "[SUCCESS] URL content is valid (html/text): https://www.stateless.nyc/blog/supply-chain-disruption\n",
            "[SUCCESS] URL content is valid (html/text): https://www.sedex.com/blog/retail-trends-supply-chain-due-diligence-2025/\n",
            "[ERROR] Skipping URL due to request error: https://blogs.opentext.com/retail-as-peak-season-approaches-so-does-a-perfect-storm-of-supply-chain-challenges/\n",
            "\tDetails: 403 Client Error: Forbidden for url: https://blogs.opentext.com/retail-as-peak-season-approaches-so-does-a-perfect-storm-of-supply-chain-challenges/\n",
            "[SUCCESS] URL content is valid (html/text): https://www.ftc.gov/news-events/news/press-releases/2024/03/ftc-releases-report-grocery-supply-chain-disruptions\n",
            "[ERROR] Skipping URL due to request error: https://www.rpesolutions.com/top-5-retail-supply-chain-challenges-and-how-to-overcome-them/\n",
            "\tDetails: 403 Client Error: Forbidden for url: https://www.rpesolutions.com/top-5-retail-supply-chain-challenges-and-how-to-overcome-them/\n",
            "[ERROR] Skipping URL due to request error: https://www.centricsoftware.com/blog/supply-chain-disruption/\n",
            "\tDetails: 403 Client Error: Forbidden for url: https://www.centricsoftware.com/blog/supply-chain-disruption/\n",
            "[ERROR] Skipping URL due to request error: https://www.logisticsbureau.com/retail-supply-chains/\n",
            "\tDetails: 520 Server Error: <none> for url: https://www.logisticsbureau.com/retail-supply-chains/\n",
            "[SUCCESS] URL content is valid (html/text): https://softco.com/blog/harnessing-technology-how-retail-supply-chain-challenges-can-be-navigated/\n",
            "[SUCCESS] URL content is valid (html/text): https://safetyculture.com/topics/supply-chain-disruption/\n",
            "[SUCCESS] URL content is valid (html/text): https://www.thinkbrg.com/news/supply-chain-disruption-for-retailers-worsens/\n",
            "[ERROR] Skipping URL due to request error: https://www.spauldingridge.com/articles/retail-disruption-scenario-planning/\n",
            "\tDetails: 403 Client Error: Forbidden for url: https://www.spauldingridge.com/articles/retail-disruption-scenario-planning/\n",
            "[SUCCESS] URL content is valid (html/text): https://www.pwc.com/us/en/industries/consumer-markets/library/retail-technology-trends.html\n",
            "[ERROR] Skipping URL due to request error: https://olive.app/blog/retail-technology-trends/\n",
            "\tDetails: 403 Client Error: Forbidden for url: https://olive.app/blog/retail-technology-trends/\n",
            "[SUCCESS] URL content is valid (html/text): https://fluentcommerce.com/resources/blog/2024-retail-technology-trends-what-we-know-so-far/\n",
            "[SUCCESS] URL content is valid (html/text): https://mobidev.biz/blog/7-technology-trends-to-change-retail-industry\n",
            "[SUCCESS] URL content is valid (html/text): https://www.abiresearch.com/blog/retail-trends-2024\n",
            "[ERROR] Skipping URL due to request error: https://www.cascadiacapital.com/wp-content/uploads/Retail-Tech-Industry-Report-2H-2024.pdf\n",
            "\tDetails: ('Connection aborted.', RemoteDisconnected('Remote end closed connection without response'))\n",
            "[ERROR] Skipping URL due to request error: https://www.statista.com/markets/423/topic/2521/retail-technology/\n",
            "\tDetails: 403 Client Error: Forbidden for url: https://services.sso.statista.com/ip/authorize?login_hint=&response_type=code&redirect_uri=https%3A%2F%2Flogin.statista.com%2Flogin%2Fcallback&state=jOs6BqDHT1-oizFpUTIlKOrMb1fWh64X&client_id=9a7cf70e-1be6-40a1-ba02-6e6e6654b93d\n",
            "[SUCCESS] URL content is valid (html/text): https://www.numberanalytics.com/blog/key-retail-tech-trends-shaping-future-ecommerce-growth\n",
            "[SUCCESS] URL content is valid (html/text): https://www.ey.com/en_gl/insights/consumer-products/how-technology-can-drive-transformation-in-retail\n",
            "[SUCCESS] URL content is valid (html/text): https://www.forbes.com/councils/forbestechcouncil/2023/07/24/5-technological-trends-that-are-redefining-the-retail-sector/\n",
            "[SUCCESS] URL content is valid (html/text): https://www.techuk.org/resource/technology-is-revolutionising-retail-but-are-retailers-ready.html\n",
            "[SUCCESS] URL content is valid (html/text): https://www.newstore.com/articles/technology-trends-in-retail/\n",
            "[SUCCESS] URL content is valid (html/text): https://www.mckinsey.com/industries/retail/our-insights/the-tech-transformation-imperative-in-retail\n",
            "[ERROR] Skipping URL due to request error: https://interfacesystems.com/blog/retail-technology-trends/\n",
            "\tDetails: 403 Client Error: Forbidden for url: https://interfacesystems.com/blog/retail-technology-trends/\n",
            "[ERROR] Skipping URL due to request error: https://www.statista.com/topics/10749/retail-technology-worldwide/\n",
            "\tDetails: 403 Client Error: Forbidden for url: https://services.sso.statista.com/ip/authorize?login_hint=&response_type=code&redirect_uri=https%3A%2F%2Flogin.statista.com%2Flogin%2Fcallback&state=3GBL7HZNztEBNGteMfojh4hbuolaUdzl&client_id=9a7cf70e-1be6-40a1-ba02-6e6e6654b93d\n",
            "[SUCCESS] URL content is valid (html/text): https://www.salsify.com/blog/how-consumer-buying-behavior-is-changing-in-2025-salsify\n",
            "[SUCCESS] URL content is valid (html/text): https://goodway-media.com/blog/retailers-changing-consumer-behavior\n",
            "[SUCCESS] URL content is valid (html/text): https://www.retailcustomerexperience.com/blogs/the-future-of-shopping-is-now-5-consumer-behavior-shifts-retailers-must-embrace/\n",
            "[SUCCESS] URL content is valid (html/text): https://www.forbes.com/councils/forbesagencycouncil/2024/06/27/16-big-shifts-in-consumer-behavior-that-are-impacting-marketing-today/\n",
            "[SUCCESS] URL content is valid (html/text): https://nielseniq.com/global/en/insights/analysis/2024/how-gen-z-consumer-behavior-is-reshaping-retail/\n",
            "[SUCCESS] URL content is valid (html/text): https://explodingtopics.com/blog/consumer-behavior\n",
            "[SUCCESS] URL content is valid (html/text): https://www.mckinsey.com/industries/consumer-packaged-goods/our-insights/state-of-consumer\n",
            "[ERROR] Skipping URL due to request error: https://qualifio.com/blog/how-changing-consumer-behaviour-is-challenging-the-retail-industry/\n",
            "\tDetails: 403 Client Error: Forbidden for url: https://qualifio.com/blog/how-changing-consumer-behaviour-is-challenging-the-retail-industry/\n",
            "[SUCCESS] URL content is valid (html/text): https://advertisingweek.com/2024s-retail-trends-how-consumer-behavior-is-driving-the-future-of-retail-experiences/\n",
            "[SUCCESS] URL content is valid (html/text): https://www.shopify.com/enterprise/blog/consumer-behavior-trends\n",
            "[SUCCESS] URL content is valid (html/text): https://www.nudgenow.com/blogs/retail-consumer-behaviour-changing-trends\n",
            "[INFO] Skipping URL (non-https): /search?num=17\n",
            "[SUCCESS] URL content is valid (html/text): https://retailtechinnovationhub.com/home/2024/8/26/the-future-of-retail-how-technology-and-consumer-behaviour-are-shaping-the-industry\n",
            "[SUCCESS] URL content is valid (html/text): https://www.persado.com/articles/consumer-shopping-behavior-trends/\n",
            "[SUCCESS] URL content is valid (html/text): https://vispera.co/consumer-behaviors-preferences-and-shifts-in-physical-retail-stores/\n",
            "search results generated!\n"
          ]
        },
        {
          "output_type": "display_data",
          "data": {
            "text/plain": [
              "\u001b[1;36m[\u001b[0m\u001b[36mINIT\u001b[0m\u001b[1;36m]\u001b[0m\u001b[36m...\u001b[0m\u001b[36m. → Crawl4AI \u001b[0m\u001b[1;36m0.6\u001b[0m\u001b[36m.\u001b[0m\u001b[1;36m3\u001b[0m\u001b[36m \u001b[0m\n"
            ],
            "text/html": [
              "<pre style=\"white-space:pre;overflow-x:auto;line-height:normal;font-family:Menlo,'DejaVu Sans Mono',consolas,'Courier New',monospace\"><span style=\"color: #008080; text-decoration-color: #008080; font-weight: bold\">[</span><span style=\"color: #008080; text-decoration-color: #008080\">INIT</span><span style=\"color: #008080; text-decoration-color: #008080; font-weight: bold\">]</span><span style=\"color: #008080; text-decoration-color: #008080\">.... → Crawl4AI </span><span style=\"color: #008080; text-decoration-color: #008080; font-weight: bold\">0.6</span><span style=\"color: #008080; text-decoration-color: #008080\">.</span><span style=\"color: #008080; text-decoration-color: #008080; font-weight: bold\">3</span><span style=\"color: #008080; text-decoration-color: #008080\"> </span>\n",
              "</pre>\n"
            ]
          },
          "metadata": {}
        },
        {
          "output_type": "display_data",
          "data": {
            "text/plain": [
              "\u001b[1;32m[\u001b[0m\u001b[32mFETCH\u001b[0m\u001b[1;32m]\u001b[0m\u001b[32m...\u001b[0m\u001b[32m ↓ \u001b[0m\u001b[4;32mhttps://www2.deloitte.com/us/en/pages/consumer-b...ticles/retail-distribution-industry-outlook.html\u001b[0m\u001b[32m  |\u001b[0m\n",
              "\u001b[32m✓\u001b[0m\u001b[32m | ⏱: \u001b[0m\u001b[1;32m8.\u001b[0m\u001b[32m89s \u001b[0m\n"
            ],
            "text/html": [
              "<pre style=\"white-space:pre;overflow-x:auto;line-height:normal;font-family:Menlo,'DejaVu Sans Mono',consolas,'Courier New',monospace\"><span style=\"color: #008000; text-decoration-color: #008000; font-weight: bold\">[</span><span style=\"color: #008000; text-decoration-color: #008000\">FETCH</span><span style=\"color: #008000; text-decoration-color: #008000; font-weight: bold\">]</span><span style=\"color: #008000; text-decoration-color: #008000\">... ↓ </span><span style=\"color: #008000; text-decoration-color: #008000; text-decoration: underline\">https://www2.deloitte.com/us/en/pages/consumer-b...ticles/retail-distribution-industry-outlook.html</span><span style=\"color: #008000; text-decoration-color: #008000\">  |</span>\n",
              "<span style=\"color: #008000; text-decoration-color: #008000\">✓ | ⏱: </span><span style=\"color: #008000; text-decoration-color: #008000; font-weight: bold\">8.</span><span style=\"color: #008000; text-decoration-color: #008000\">89s </span>\n",
              "</pre>\n"
            ]
          },
          "metadata": {}
        },
        {
          "output_type": "display_data",
          "data": {
            "text/plain": [
              "\u001b[1;32m[\u001b[0m\u001b[32mSCRAPE\u001b[0m\u001b[1;32m]\u001b[0m\u001b[32m.. ◆ \u001b[0m\u001b[4;32mhttps://www2.deloitte.com/us/en/pages/consumer-b...ticles/retail-distribution-industry-outlook.html\u001b[0m\u001b[32m  |\u001b[0m\n",
              "\u001b[32m✓\u001b[0m\u001b[32m | ⏱: \u001b[0m\u001b[1;32m0.\u001b[0m\u001b[32m19s \u001b[0m\n"
            ],
            "text/html": [
              "<pre style=\"white-space:pre;overflow-x:auto;line-height:normal;font-family:Menlo,'DejaVu Sans Mono',consolas,'Courier New',monospace\"><span style=\"color: #008000; text-decoration-color: #008000; font-weight: bold\">[</span><span style=\"color: #008000; text-decoration-color: #008000\">SCRAPE</span><span style=\"color: #008000; text-decoration-color: #008000; font-weight: bold\">]</span><span style=\"color: #008000; text-decoration-color: #008000\">.. ◆ </span><span style=\"color: #008000; text-decoration-color: #008000; text-decoration: underline\">https://www2.deloitte.com/us/en/pages/consumer-b...ticles/retail-distribution-industry-outlook.html</span><span style=\"color: #008000; text-decoration-color: #008000\">  |</span>\n",
              "<span style=\"color: #008000; text-decoration-color: #008000\">✓ | ⏱: </span><span style=\"color: #008000; text-decoration-color: #008000; font-weight: bold\">0.</span><span style=\"color: #008000; text-decoration-color: #008000\">19s </span>\n",
              "</pre>\n"
            ]
          },
          "metadata": {}
        },
        {
          "output_type": "display_data",
          "data": {
            "text/plain": [
              "\u001b[1;32m[\u001b[0m\u001b[32mCOMPLETE\u001b[0m\u001b[1;32m]\u001b[0m\u001b[32m ● \u001b[0m\u001b[4;32mhttps://www2.deloitte.com/us/en/pages/consumer-b...ticles/retail-distribution-industry-outlook.html\u001b[0m\u001b[32m  |\u001b[0m\n",
              "\u001b[32m✓\u001b[0m\u001b[32m | ⏱: \u001b[0m\u001b[1;32m9.\u001b[0m\u001b[32m09s \u001b[0m\n"
            ],
            "text/html": [
              "<pre style=\"white-space:pre;overflow-x:auto;line-height:normal;font-family:Menlo,'DejaVu Sans Mono',consolas,'Courier New',monospace\"><span style=\"color: #008000; text-decoration-color: #008000; font-weight: bold\">[</span><span style=\"color: #008000; text-decoration-color: #008000\">COMPLETE</span><span style=\"color: #008000; text-decoration-color: #008000; font-weight: bold\">]</span><span style=\"color: #008000; text-decoration-color: #008000\"> ● </span><span style=\"color: #008000; text-decoration-color: #008000; text-decoration: underline\">https://www2.deloitte.com/us/en/pages/consumer-b...ticles/retail-distribution-industry-outlook.html</span><span style=\"color: #008000; text-decoration-color: #008000\">  |</span>\n",
              "<span style=\"color: #008000; text-decoration-color: #008000\">✓ | ⏱: </span><span style=\"color: #008000; text-decoration-color: #008000; font-weight: bold\">9.</span><span style=\"color: #008000; text-decoration-color: #008000\">09s </span>\n",
              "</pre>\n"
            ]
          },
          "metadata": {}
        },
        {
          "output_type": "display_data",
          "data": {
            "text/plain": [
              "\u001b[1;36m[\u001b[0m\u001b[36mINIT\u001b[0m\u001b[1;36m]\u001b[0m\u001b[36m...\u001b[0m\u001b[36m. → Crawl4AI \u001b[0m\u001b[1;36m0.6\u001b[0m\u001b[36m.\u001b[0m\u001b[1;36m3\u001b[0m\u001b[36m \u001b[0m\n"
            ],
            "text/html": [
              "<pre style=\"white-space:pre;overflow-x:auto;line-height:normal;font-family:Menlo,'DejaVu Sans Mono',consolas,'Courier New',monospace\"><span style=\"color: #008080; text-decoration-color: #008080; font-weight: bold\">[</span><span style=\"color: #008080; text-decoration-color: #008080\">INIT</span><span style=\"color: #008080; text-decoration-color: #008080; font-weight: bold\">]</span><span style=\"color: #008080; text-decoration-color: #008080\">.... → Crawl4AI </span><span style=\"color: #008080; text-decoration-color: #008080; font-weight: bold\">0.6</span><span style=\"color: #008080; text-decoration-color: #008080\">.</span><span style=\"color: #008080; text-decoration-color: #008080; font-weight: bold\">3</span><span style=\"color: #008080; text-decoration-color: #008080\"> </span>\n",
              "</pre>\n"
            ]
          },
          "metadata": {}
        },
        {
          "output_type": "display_data",
          "data": {
            "text/plain": [
              "\u001b[1;32m[\u001b[0m\u001b[32mFETCH\u001b[0m\u001b[1;32m]\u001b[0m\u001b[32m...\u001b[0m\u001b[32m ↓ \u001b[0m\u001b[4;32mhttps://www.nber.org/digest/202208/effect-e-commerce-expansion-local-retail\u001b[0m\u001b[32m                          |\u001b[0m\n",
              "\u001b[32m✓\u001b[0m\u001b[32m | ⏱: \u001b[0m\u001b[1;32m2.\u001b[0m\u001b[32m12s \u001b[0m\n"
            ],
            "text/html": [
              "<pre style=\"white-space:pre;overflow-x:auto;line-height:normal;font-family:Menlo,'DejaVu Sans Mono',consolas,'Courier New',monospace\"><span style=\"color: #008000; text-decoration-color: #008000; font-weight: bold\">[</span><span style=\"color: #008000; text-decoration-color: #008000\">FETCH</span><span style=\"color: #008000; text-decoration-color: #008000; font-weight: bold\">]</span><span style=\"color: #008000; text-decoration-color: #008000\">... ↓ </span><span style=\"color: #008000; text-decoration-color: #008000; text-decoration: underline\">https://www.nber.org/digest/202208/effect-e-commerce-expansion-local-retail</span><span style=\"color: #008000; text-decoration-color: #008000\">                          |</span>\n",
              "<span style=\"color: #008000; text-decoration-color: #008000\">✓ | ⏱: </span><span style=\"color: #008000; text-decoration-color: #008000; font-weight: bold\">2.</span><span style=\"color: #008000; text-decoration-color: #008000\">12s </span>\n",
              "</pre>\n"
            ]
          },
          "metadata": {}
        },
        {
          "output_type": "display_data",
          "data": {
            "text/plain": [
              "\u001b[1;32m[\u001b[0m\u001b[32mSCRAPE\u001b[0m\u001b[1;32m]\u001b[0m\u001b[32m.. ◆ \u001b[0m\u001b[4;32mhttps://www.nber.org/digest/202208/effect-e-commerce-expansion-local-retail\u001b[0m\u001b[32m                          |\u001b[0m\n",
              "\u001b[32m✓\u001b[0m\u001b[32m | ⏱: \u001b[0m\u001b[1;32m0.\u001b[0m\u001b[32m13s \u001b[0m\n"
            ],
            "text/html": [
              "<pre style=\"white-space:pre;overflow-x:auto;line-height:normal;font-family:Menlo,'DejaVu Sans Mono',consolas,'Courier New',monospace\"><span style=\"color: #008000; text-decoration-color: #008000; font-weight: bold\">[</span><span style=\"color: #008000; text-decoration-color: #008000\">SCRAPE</span><span style=\"color: #008000; text-decoration-color: #008000; font-weight: bold\">]</span><span style=\"color: #008000; text-decoration-color: #008000\">.. ◆ </span><span style=\"color: #008000; text-decoration-color: #008000; text-decoration: underline\">https://www.nber.org/digest/202208/effect-e-commerce-expansion-local-retail</span><span style=\"color: #008000; text-decoration-color: #008000\">                          |</span>\n",
              "<span style=\"color: #008000; text-decoration-color: #008000\">✓ | ⏱: </span><span style=\"color: #008000; text-decoration-color: #008000; font-weight: bold\">0.</span><span style=\"color: #008000; text-decoration-color: #008000\">13s </span>\n",
              "</pre>\n"
            ]
          },
          "metadata": {}
        },
        {
          "output_type": "display_data",
          "data": {
            "text/plain": [
              "\u001b[1;32m[\u001b[0m\u001b[32mCOMPLETE\u001b[0m\u001b[1;32m]\u001b[0m\u001b[32m ● \u001b[0m\u001b[4;32mhttps://www.nber.org/digest/202208/effect-e-commerce-expansion-local-retail\u001b[0m\u001b[32m                          |\u001b[0m\n",
              "\u001b[32m✓\u001b[0m\u001b[32m | ⏱: \u001b[0m\u001b[1;32m2.\u001b[0m\u001b[32m26s \u001b[0m\n"
            ],
            "text/html": [
              "<pre style=\"white-space:pre;overflow-x:auto;line-height:normal;font-family:Menlo,'DejaVu Sans Mono',consolas,'Courier New',monospace\"><span style=\"color: #008000; text-decoration-color: #008000; font-weight: bold\">[</span><span style=\"color: #008000; text-decoration-color: #008000\">COMPLETE</span><span style=\"color: #008000; text-decoration-color: #008000; font-weight: bold\">]</span><span style=\"color: #008000; text-decoration-color: #008000\"> ● </span><span style=\"color: #008000; text-decoration-color: #008000; text-decoration: underline\">https://www.nber.org/digest/202208/effect-e-commerce-expansion-local-retail</span><span style=\"color: #008000; text-decoration-color: #008000\">                          |</span>\n",
              "<span style=\"color: #008000; text-decoration-color: #008000\">✓ | ⏱: </span><span style=\"color: #008000; text-decoration-color: #008000; font-weight: bold\">2.</span><span style=\"color: #008000; text-decoration-color: #008000\">26s </span>\n",
              "</pre>\n"
            ]
          },
          "metadata": {}
        },
        {
          "output_type": "display_data",
          "data": {
            "text/plain": [
              "\u001b[1;36m[\u001b[0m\u001b[36mINIT\u001b[0m\u001b[1;36m]\u001b[0m\u001b[36m...\u001b[0m\u001b[36m. → Crawl4AI \u001b[0m\u001b[1;36m0.6\u001b[0m\u001b[36m.\u001b[0m\u001b[1;36m3\u001b[0m\u001b[36m \u001b[0m\n"
            ],
            "text/html": [
              "<pre style=\"white-space:pre;overflow-x:auto;line-height:normal;font-family:Menlo,'DejaVu Sans Mono',consolas,'Courier New',monospace\"><span style=\"color: #008080; text-decoration-color: #008080; font-weight: bold\">[</span><span style=\"color: #008080; text-decoration-color: #008080\">INIT</span><span style=\"color: #008080; text-decoration-color: #008080; font-weight: bold\">]</span><span style=\"color: #008080; text-decoration-color: #008080\">.... → Crawl4AI </span><span style=\"color: #008080; text-decoration-color: #008080; font-weight: bold\">0.6</span><span style=\"color: #008080; text-decoration-color: #008080\">.</span><span style=\"color: #008080; text-decoration-color: #008080; font-weight: bold\">3</span><span style=\"color: #008080; text-decoration-color: #008080\"> </span>\n",
              "</pre>\n"
            ]
          },
          "metadata": {}
        },
        {
          "output_type": "display_data",
          "data": {
            "text/plain": [
              "\u001b[1;32m[\u001b[0m\u001b[32mFETCH\u001b[0m\u001b[1;32m]\u001b[0m\u001b[32m...\u001b[0m\u001b[32m ↓ \u001b[0m\u001b[4;32mhttps://www.pwc.com/us/en/industries/consumer-markets/library/retail-technology-trends.html\u001b[0m\u001b[32m          |\u001b[0m\n",
              "\u001b[32m✓\u001b[0m\u001b[32m | ⏱: \u001b[0m\u001b[1;32m5.\u001b[0m\u001b[32m21s \u001b[0m\n"
            ],
            "text/html": [
              "<pre style=\"white-space:pre;overflow-x:auto;line-height:normal;font-family:Menlo,'DejaVu Sans Mono',consolas,'Courier New',monospace\"><span style=\"color: #008000; text-decoration-color: #008000; font-weight: bold\">[</span><span style=\"color: #008000; text-decoration-color: #008000\">FETCH</span><span style=\"color: #008000; text-decoration-color: #008000; font-weight: bold\">]</span><span style=\"color: #008000; text-decoration-color: #008000\">... ↓ </span><span style=\"color: #008000; text-decoration-color: #008000; text-decoration: underline\">https://www.pwc.com/us/en/industries/consumer-markets/library/retail-technology-trends.html</span><span style=\"color: #008000; text-decoration-color: #008000\">          |</span>\n",
              "<span style=\"color: #008000; text-decoration-color: #008000\">✓ | ⏱: </span><span style=\"color: #008000; text-decoration-color: #008000; font-weight: bold\">5.</span><span style=\"color: #008000; text-decoration-color: #008000\">21s </span>\n",
              "</pre>\n"
            ]
          },
          "metadata": {}
        },
        {
          "output_type": "display_data",
          "data": {
            "text/plain": [
              "\u001b[1;32m[\u001b[0m\u001b[32mSCRAPE\u001b[0m\u001b[1;32m]\u001b[0m\u001b[32m.. ◆ \u001b[0m\u001b[4;32mhttps://www.pwc.com/us/en/industries/consumer-markets/library/retail-technology-trends.html\u001b[0m\u001b[32m          |\u001b[0m\n",
              "\u001b[32m✓\u001b[0m\u001b[32m | ⏱: \u001b[0m\u001b[1;32m0.\u001b[0m\u001b[32m22s \u001b[0m\n"
            ],
            "text/html": [
              "<pre style=\"white-space:pre;overflow-x:auto;line-height:normal;font-family:Menlo,'DejaVu Sans Mono',consolas,'Courier New',monospace\"><span style=\"color: #008000; text-decoration-color: #008000; font-weight: bold\">[</span><span style=\"color: #008000; text-decoration-color: #008000\">SCRAPE</span><span style=\"color: #008000; text-decoration-color: #008000; font-weight: bold\">]</span><span style=\"color: #008000; text-decoration-color: #008000\">.. ◆ </span><span style=\"color: #008000; text-decoration-color: #008000; text-decoration: underline\">https://www.pwc.com/us/en/industries/consumer-markets/library/retail-technology-trends.html</span><span style=\"color: #008000; text-decoration-color: #008000\">          |</span>\n",
              "<span style=\"color: #008000; text-decoration-color: #008000\">✓ | ⏱: </span><span style=\"color: #008000; text-decoration-color: #008000; font-weight: bold\">0.</span><span style=\"color: #008000; text-decoration-color: #008000\">22s </span>\n",
              "</pre>\n"
            ]
          },
          "metadata": {}
        },
        {
          "output_type": "display_data",
          "data": {
            "text/plain": [
              "\u001b[1;32m[\u001b[0m\u001b[32mCOMPLETE\u001b[0m\u001b[1;32m]\u001b[0m\u001b[32m ● \u001b[0m\u001b[4;32mhttps://www.pwc.com/us/en/industries/consumer-markets/library/retail-technology-trends.html\u001b[0m\u001b[32m          |\u001b[0m\n",
              "\u001b[32m✓\u001b[0m\u001b[32m | ⏱: \u001b[0m\u001b[1;32m5.\u001b[0m\u001b[32m43s \u001b[0m\n"
            ],
            "text/html": [
              "<pre style=\"white-space:pre;overflow-x:auto;line-height:normal;font-family:Menlo,'DejaVu Sans Mono',consolas,'Courier New',monospace\"><span style=\"color: #008000; text-decoration-color: #008000; font-weight: bold\">[</span><span style=\"color: #008000; text-decoration-color: #008000\">COMPLETE</span><span style=\"color: #008000; text-decoration-color: #008000; font-weight: bold\">]</span><span style=\"color: #008000; text-decoration-color: #008000\"> ● </span><span style=\"color: #008000; text-decoration-color: #008000; text-decoration: underline\">https://www.pwc.com/us/en/industries/consumer-markets/library/retail-technology-trends.html</span><span style=\"color: #008000; text-decoration-color: #008000\">          |</span>\n",
              "<span style=\"color: #008000; text-decoration-color: #008000\">✓ | ⏱: </span><span style=\"color: #008000; text-decoration-color: #008000; font-weight: bold\">5.</span><span style=\"color: #008000; text-decoration-color: #008000\">43s </span>\n",
              "</pre>\n"
            ]
          },
          "metadata": {}
        },
        {
          "output_type": "display_data",
          "data": {
            "text/plain": [
              "\u001b[1;36m[\u001b[0m\u001b[36mINIT\u001b[0m\u001b[1;36m]\u001b[0m\u001b[36m...\u001b[0m\u001b[36m. → Crawl4AI \u001b[0m\u001b[1;36m0.6\u001b[0m\u001b[36m.\u001b[0m\u001b[1;36m3\u001b[0m\u001b[36m \u001b[0m\n"
            ],
            "text/html": [
              "<pre style=\"white-space:pre;overflow-x:auto;line-height:normal;font-family:Menlo,'DejaVu Sans Mono',consolas,'Courier New',monospace\"><span style=\"color: #008080; text-decoration-color: #008080; font-weight: bold\">[</span><span style=\"color: #008080; text-decoration-color: #008080\">INIT</span><span style=\"color: #008080; text-decoration-color: #008080; font-weight: bold\">]</span><span style=\"color: #008080; text-decoration-color: #008080\">.... → Crawl4AI </span><span style=\"color: #008080; text-decoration-color: #008080; font-weight: bold\">0.6</span><span style=\"color: #008080; text-decoration-color: #008080\">.</span><span style=\"color: #008080; text-decoration-color: #008080; font-weight: bold\">3</span><span style=\"color: #008080; text-decoration-color: #008080\"> </span>\n",
              "</pre>\n"
            ]
          },
          "metadata": {}
        },
        {
          "output_type": "display_data",
          "data": {
            "text/plain": [
              "\u001b[1;32m[\u001b[0m\u001b[32mFETCH\u001b[0m\u001b[1;32m]\u001b[0m\u001b[32m...\u001b[0m\u001b[32m ↓ \u001b[0m\u001b[4;32mhttps://www.salsify.com/blog/how-consumer-buying-behavior-is-changing-in-2025-salsify\u001b[0m\u001b[32m                |\u001b[0m\n",
              "\u001b[32m✓\u001b[0m\u001b[32m | ⏱: \u001b[0m\u001b[1;32m4.\u001b[0m\u001b[32m09s \u001b[0m\n"
            ],
            "text/html": [
              "<pre style=\"white-space:pre;overflow-x:auto;line-height:normal;font-family:Menlo,'DejaVu Sans Mono',consolas,'Courier New',monospace\"><span style=\"color: #008000; text-decoration-color: #008000; font-weight: bold\">[</span><span style=\"color: #008000; text-decoration-color: #008000\">FETCH</span><span style=\"color: #008000; text-decoration-color: #008000; font-weight: bold\">]</span><span style=\"color: #008000; text-decoration-color: #008000\">... ↓ </span><span style=\"color: #008000; text-decoration-color: #008000; text-decoration: underline\">https://www.salsify.com/blog/how-consumer-buying-behavior-is-changing-in-2025-salsify</span><span style=\"color: #008000; text-decoration-color: #008000\">                |</span>\n",
              "<span style=\"color: #008000; text-decoration-color: #008000\">✓ | ⏱: </span><span style=\"color: #008000; text-decoration-color: #008000; font-weight: bold\">4.</span><span style=\"color: #008000; text-decoration-color: #008000\">09s </span>\n",
              "</pre>\n"
            ]
          },
          "metadata": {}
        },
        {
          "output_type": "display_data",
          "data": {
            "text/plain": [
              "\u001b[1;32m[\u001b[0m\u001b[32mSCRAPE\u001b[0m\u001b[1;32m]\u001b[0m\u001b[32m.. ◆ \u001b[0m\u001b[4;32mhttps://www.salsify.com/blog/how-consumer-buying-behavior-is-changing-in-2025-salsify\u001b[0m\u001b[32m                |\u001b[0m\n",
              "\u001b[32m✓\u001b[0m\u001b[32m | ⏱: \u001b[0m\u001b[1;32m0.\u001b[0m\u001b[32m13s \u001b[0m\n"
            ],
            "text/html": [
              "<pre style=\"white-space:pre;overflow-x:auto;line-height:normal;font-family:Menlo,'DejaVu Sans Mono',consolas,'Courier New',monospace\"><span style=\"color: #008000; text-decoration-color: #008000; font-weight: bold\">[</span><span style=\"color: #008000; text-decoration-color: #008000\">SCRAPE</span><span style=\"color: #008000; text-decoration-color: #008000; font-weight: bold\">]</span><span style=\"color: #008000; text-decoration-color: #008000\">.. ◆ </span><span style=\"color: #008000; text-decoration-color: #008000; text-decoration: underline\">https://www.salsify.com/blog/how-consumer-buying-behavior-is-changing-in-2025-salsify</span><span style=\"color: #008000; text-decoration-color: #008000\">                |</span>\n",
              "<span style=\"color: #008000; text-decoration-color: #008000\">✓ | ⏱: </span><span style=\"color: #008000; text-decoration-color: #008000; font-weight: bold\">0.</span><span style=\"color: #008000; text-decoration-color: #008000\">13s </span>\n",
              "</pre>\n"
            ]
          },
          "metadata": {}
        },
        {
          "output_type": "display_data",
          "data": {
            "text/plain": [
              "\u001b[1;32m[\u001b[0m\u001b[32mCOMPLETE\u001b[0m\u001b[1;32m]\u001b[0m\u001b[32m ● \u001b[0m\u001b[4;32mhttps://www.salsify.com/blog/how-consumer-buying-behavior-is-changing-in-2025-salsify\u001b[0m\u001b[32m                |\u001b[0m\n",
              "\u001b[32m✓\u001b[0m\u001b[32m | ⏱: \u001b[0m\u001b[1;32m4.\u001b[0m\u001b[32m22s \u001b[0m\n"
            ],
            "text/html": [
              "<pre style=\"white-space:pre;overflow-x:auto;line-height:normal;font-family:Menlo,'DejaVu Sans Mono',consolas,'Courier New',monospace\"><span style=\"color: #008000; text-decoration-color: #008000; font-weight: bold\">[</span><span style=\"color: #008000; text-decoration-color: #008000\">COMPLETE</span><span style=\"color: #008000; text-decoration-color: #008000; font-weight: bold\">]</span><span style=\"color: #008000; text-decoration-color: #008000\"> ● </span><span style=\"color: #008000; text-decoration-color: #008000; text-decoration: underline\">https://www.salsify.com/blog/how-consumer-buying-behavior-is-changing-in-2025-salsify</span><span style=\"color: #008000; text-decoration-color: #008000\">                |</span>\n",
              "<span style=\"color: #008000; text-decoration-color: #008000\">✓ | ⏱: </span><span style=\"color: #008000; text-decoration-color: #008000; font-weight: bold\">4.</span><span style=\"color: #008000; text-decoration-color: #008000\">22s </span>\n",
              "</pre>\n"
            ]
          },
          "metadata": {}
        },
        {
          "output_type": "stream",
          "name": "stdout",
          "text": [
            "data collected!\n",
            "Sub-question: What were the major trends and events that shaped the retail industry between 2021 and 2024?\n",
            "Judgment: False\n"
          ]
        },
        {
          "output_type": "display_data",
          "data": {
            "text/plain": [
              "\u001b[1;36m[\u001b[0m\u001b[36mINIT\u001b[0m\u001b[1;36m]\u001b[0m\u001b[36m...\u001b[0m\u001b[36m. → Crawl4AI \u001b[0m\u001b[1;36m0.6\u001b[0m\u001b[36m.\u001b[0m\u001b[1;36m3\u001b[0m\u001b[36m \u001b[0m\n"
            ],
            "text/html": [
              "<pre style=\"white-space:pre;overflow-x:auto;line-height:normal;font-family:Menlo,'DejaVu Sans Mono',consolas,'Courier New',monospace\"><span style=\"color: #008080; text-decoration-color: #008080; font-weight: bold\">[</span><span style=\"color: #008080; text-decoration-color: #008080\">INIT</span><span style=\"color: #008080; text-decoration-color: #008080; font-weight: bold\">]</span><span style=\"color: #008080; text-decoration-color: #008080\">.... → Crawl4AI </span><span style=\"color: #008080; text-decoration-color: #008080; font-weight: bold\">0.6</span><span style=\"color: #008080; text-decoration-color: #008080\">.</span><span style=\"color: #008080; text-decoration-color: #008080; font-weight: bold\">3</span><span style=\"color: #008080; text-decoration-color: #008080\"> </span>\n",
              "</pre>\n"
            ]
          },
          "metadata": {}
        },
        {
          "output_type": "display_data",
          "data": {
            "text/plain": [
              "\u001b[1;32m[\u001b[0m\u001b[32mFETCH\u001b[0m\u001b[1;32m]\u001b[0m\u001b[32m...\u001b[0m\u001b[32m ↓ \u001b[0m\u001b[4;32mhttps://www.abiresearch.com/blog/retail-trends-2024\u001b[0m\u001b[32m                                                  |\u001b[0m\n",
              "\u001b[32m✓\u001b[0m\u001b[32m | ⏱: \u001b[0m\u001b[1;32m12.\u001b[0m\u001b[32m94s \u001b[0m\n"
            ],
            "text/html": [
              "<pre style=\"white-space:pre;overflow-x:auto;line-height:normal;font-family:Menlo,'DejaVu Sans Mono',consolas,'Courier New',monospace\"><span style=\"color: #008000; text-decoration-color: #008000; font-weight: bold\">[</span><span style=\"color: #008000; text-decoration-color: #008000\">FETCH</span><span style=\"color: #008000; text-decoration-color: #008000; font-weight: bold\">]</span><span style=\"color: #008000; text-decoration-color: #008000\">... ↓ </span><span style=\"color: #008000; text-decoration-color: #008000; text-decoration: underline\">https://www.abiresearch.com/blog/retail-trends-2024</span><span style=\"color: #008000; text-decoration-color: #008000\">                                                  |</span>\n",
              "<span style=\"color: #008000; text-decoration-color: #008000\">✓ | ⏱: </span><span style=\"color: #008000; text-decoration-color: #008000; font-weight: bold\">12.</span><span style=\"color: #008000; text-decoration-color: #008000\">94s </span>\n",
              "</pre>\n"
            ]
          },
          "metadata": {}
        },
        {
          "output_type": "display_data",
          "data": {
            "text/plain": [
              "\u001b[1;32m[\u001b[0m\u001b[32mSCRAPE\u001b[0m\u001b[1;32m]\u001b[0m\u001b[32m.. ◆ \u001b[0m\u001b[4;32mhttps://www.abiresearch.com/blog/retail-trends-2024\u001b[0m\u001b[32m                                                  |\u001b[0m\n",
              "\u001b[32m✓\u001b[0m\u001b[32m | ⏱: \u001b[0m\u001b[1;32m0.\u001b[0m\u001b[32m40s \u001b[0m\n"
            ],
            "text/html": [
              "<pre style=\"white-space:pre;overflow-x:auto;line-height:normal;font-family:Menlo,'DejaVu Sans Mono',consolas,'Courier New',monospace\"><span style=\"color: #008000; text-decoration-color: #008000; font-weight: bold\">[</span><span style=\"color: #008000; text-decoration-color: #008000\">SCRAPE</span><span style=\"color: #008000; text-decoration-color: #008000; font-weight: bold\">]</span><span style=\"color: #008000; text-decoration-color: #008000\">.. ◆ </span><span style=\"color: #008000; text-decoration-color: #008000; text-decoration: underline\">https://www.abiresearch.com/blog/retail-trends-2024</span><span style=\"color: #008000; text-decoration-color: #008000\">                                                  |</span>\n",
              "<span style=\"color: #008000; text-decoration-color: #008000\">✓ | ⏱: </span><span style=\"color: #008000; text-decoration-color: #008000; font-weight: bold\">0.</span><span style=\"color: #008000; text-decoration-color: #008000\">40s </span>\n",
              "</pre>\n"
            ]
          },
          "metadata": {}
        },
        {
          "output_type": "display_data",
          "data": {
            "text/plain": [
              "\u001b[1;32m[\u001b[0m\u001b[32mCOMPLETE\u001b[0m\u001b[1;32m]\u001b[0m\u001b[32m ● \u001b[0m\u001b[4;32mhttps://www.abiresearch.com/blog/retail-trends-2024\u001b[0m\u001b[32m                                                  |\u001b[0m\n",
              "\u001b[32m✓\u001b[0m\u001b[32m | ⏱: \u001b[0m\u001b[1;32m13.\u001b[0m\u001b[32m35s \u001b[0m\n"
            ],
            "text/html": [
              "<pre style=\"white-space:pre;overflow-x:auto;line-height:normal;font-family:Menlo,'DejaVu Sans Mono',consolas,'Courier New',monospace\"><span style=\"color: #008000; text-decoration-color: #008000; font-weight: bold\">[</span><span style=\"color: #008000; text-decoration-color: #008000\">COMPLETE</span><span style=\"color: #008000; text-decoration-color: #008000; font-weight: bold\">]</span><span style=\"color: #008000; text-decoration-color: #008000\"> ● </span><span style=\"color: #008000; text-decoration-color: #008000; text-decoration: underline\">https://www.abiresearch.com/blog/retail-trends-2024</span><span style=\"color: #008000; text-decoration-color: #008000\">                                                  |</span>\n",
              "<span style=\"color: #008000; text-decoration-color: #008000\">✓ | ⏱: </span><span style=\"color: #008000; text-decoration-color: #008000; font-weight: bold\">13.</span><span style=\"color: #008000; text-decoration-color: #008000\">35s </span>\n",
              "</pre>\n"
            ]
          },
          "metadata": {}
        },
        {
          "output_type": "display_data",
          "data": {
            "text/plain": [
              "\u001b[1;36m[\u001b[0m\u001b[36mINIT\u001b[0m\u001b[1;36m]\u001b[0m\u001b[36m...\u001b[0m\u001b[36m. → Crawl4AI \u001b[0m\u001b[1;36m0.6\u001b[0m\u001b[36m.\u001b[0m\u001b[1;36m3\u001b[0m\u001b[36m \u001b[0m\n"
            ],
            "text/html": [
              "<pre style=\"white-space:pre;overflow-x:auto;line-height:normal;font-family:Menlo,'DejaVu Sans Mono',consolas,'Courier New',monospace\"><span style=\"color: #008080; text-decoration-color: #008080; font-weight: bold\">[</span><span style=\"color: #008080; text-decoration-color: #008080\">INIT</span><span style=\"color: #008080; text-decoration-color: #008080; font-weight: bold\">]</span><span style=\"color: #008080; text-decoration-color: #008080\">.... → Crawl4AI </span><span style=\"color: #008080; text-decoration-color: #008080; font-weight: bold\">0.6</span><span style=\"color: #008080; text-decoration-color: #008080\">.</span><span style=\"color: #008080; text-decoration-color: #008080; font-weight: bold\">3</span><span style=\"color: #008080; text-decoration-color: #008080\"> </span>\n",
              "</pre>\n"
            ]
          },
          "metadata": {}
        },
        {
          "output_type": "display_data",
          "data": {
            "text/plain": [
              "\u001b[1;32m[\u001b[0m\u001b[32mFETCH\u001b[0m\u001b[1;32m]\u001b[0m\u001b[32m...\u001b[0m\u001b[32m ↓ \u001b[0m\u001b[4;32mhttps://www.mastercardservices.com/en/industries/retail/insights/retail-industry-trends-2024\u001b[0m\u001b[32m         |\u001b[0m\n",
              "\u001b[32m✓\u001b[0m\u001b[32m | ⏱: \u001b[0m\u001b[1;32m3.\u001b[0m\u001b[32m01s \u001b[0m\n"
            ],
            "text/html": [
              "<pre style=\"white-space:pre;overflow-x:auto;line-height:normal;font-family:Menlo,'DejaVu Sans Mono',consolas,'Courier New',monospace\"><span style=\"color: #008000; text-decoration-color: #008000; font-weight: bold\">[</span><span style=\"color: #008000; text-decoration-color: #008000\">FETCH</span><span style=\"color: #008000; text-decoration-color: #008000; font-weight: bold\">]</span><span style=\"color: #008000; text-decoration-color: #008000\">... ↓ </span><span style=\"color: #008000; text-decoration-color: #008000; text-decoration: underline\">https://www.mastercardservices.com/en/industries/retail/insights/retail-industry-trends-2024</span><span style=\"color: #008000; text-decoration-color: #008000\">         |</span>\n",
              "<span style=\"color: #008000; text-decoration-color: #008000\">✓ | ⏱: </span><span style=\"color: #008000; text-decoration-color: #008000; font-weight: bold\">3.</span><span style=\"color: #008000; text-decoration-color: #008000\">01s </span>\n",
              "</pre>\n"
            ]
          },
          "metadata": {}
        },
        {
          "output_type": "display_data",
          "data": {
            "text/plain": [
              "\u001b[1;32m[\u001b[0m\u001b[32mSCRAPE\u001b[0m\u001b[1;32m]\u001b[0m\u001b[32m.. ◆ \u001b[0m\u001b[4;32mhttps://www.mastercardservices.com/en/industries/retail/insights/retail-industry-trends-2024\u001b[0m\u001b[32m         |\u001b[0m\n",
              "\u001b[32m✓\u001b[0m\u001b[32m | ⏱: \u001b[0m\u001b[1;32m0.\u001b[0m\u001b[32m19s \u001b[0m\n"
            ],
            "text/html": [
              "<pre style=\"white-space:pre;overflow-x:auto;line-height:normal;font-family:Menlo,'DejaVu Sans Mono',consolas,'Courier New',monospace\"><span style=\"color: #008000; text-decoration-color: #008000; font-weight: bold\">[</span><span style=\"color: #008000; text-decoration-color: #008000\">SCRAPE</span><span style=\"color: #008000; text-decoration-color: #008000; font-weight: bold\">]</span><span style=\"color: #008000; text-decoration-color: #008000\">.. ◆ </span><span style=\"color: #008000; text-decoration-color: #008000; text-decoration: underline\">https://www.mastercardservices.com/en/industries/retail/insights/retail-industry-trends-2024</span><span style=\"color: #008000; text-decoration-color: #008000\">         |</span>\n",
              "<span style=\"color: #008000; text-decoration-color: #008000\">✓ | ⏱: </span><span style=\"color: #008000; text-decoration-color: #008000; font-weight: bold\">0.</span><span style=\"color: #008000; text-decoration-color: #008000\">19s </span>\n",
              "</pre>\n"
            ]
          },
          "metadata": {}
        },
        {
          "output_type": "display_data",
          "data": {
            "text/plain": [
              "\u001b[1;32m[\u001b[0m\u001b[32mCOMPLETE\u001b[0m\u001b[1;32m]\u001b[0m\u001b[32m ● \u001b[0m\u001b[4;32mhttps://www.mastercardservices.com/en/industries/retail/insights/retail-industry-trends-2024\u001b[0m\u001b[32m         |\u001b[0m\n",
              "\u001b[32m✓\u001b[0m\u001b[32m | ⏱: \u001b[0m\u001b[1;32m3.\u001b[0m\u001b[32m21s \u001b[0m\n"
            ],
            "text/html": [
              "<pre style=\"white-space:pre;overflow-x:auto;line-height:normal;font-family:Menlo,'DejaVu Sans Mono',consolas,'Courier New',monospace\"><span style=\"color: #008000; text-decoration-color: #008000; font-weight: bold\">[</span><span style=\"color: #008000; text-decoration-color: #008000\">COMPLETE</span><span style=\"color: #008000; text-decoration-color: #008000; font-weight: bold\">]</span><span style=\"color: #008000; text-decoration-color: #008000\"> ● </span><span style=\"color: #008000; text-decoration-color: #008000; text-decoration: underline\">https://www.mastercardservices.com/en/industries/retail/insights/retail-industry-trends-2024</span><span style=\"color: #008000; text-decoration-color: #008000\">         |</span>\n",
              "<span style=\"color: #008000; text-decoration-color: #008000\">✓ | ⏱: </span><span style=\"color: #008000; text-decoration-color: #008000; font-weight: bold\">3.</span><span style=\"color: #008000; text-decoration-color: #008000\">21s </span>\n",
              "</pre>\n"
            ]
          },
          "metadata": {}
        },
        {
          "output_type": "display_data",
          "data": {
            "text/plain": [
              "\u001b[1;36m[\u001b[0m\u001b[36mINIT\u001b[0m\u001b[1;36m]\u001b[0m\u001b[36m...\u001b[0m\u001b[36m. → Crawl4AI \u001b[0m\u001b[1;36m0.6\u001b[0m\u001b[36m.\u001b[0m\u001b[1;36m3\u001b[0m\u001b[36m \u001b[0m\n"
            ],
            "text/html": [
              "<pre style=\"white-space:pre;overflow-x:auto;line-height:normal;font-family:Menlo,'DejaVu Sans Mono',consolas,'Courier New',monospace\"><span style=\"color: #008080; text-decoration-color: #008080; font-weight: bold\">[</span><span style=\"color: #008080; text-decoration-color: #008080\">INIT</span><span style=\"color: #008080; text-decoration-color: #008080; font-weight: bold\">]</span><span style=\"color: #008080; text-decoration-color: #008080\">.... → Crawl4AI </span><span style=\"color: #008080; text-decoration-color: #008080; font-weight: bold\">0.6</span><span style=\"color: #008080; text-decoration-color: #008080\">.</span><span style=\"color: #008080; text-decoration-color: #008080; font-weight: bold\">3</span><span style=\"color: #008080; text-decoration-color: #008080\"> </span>\n",
              "</pre>\n"
            ]
          },
          "metadata": {}
        },
        {
          "output_type": "display_data",
          "data": {
            "text/plain": [
              "\u001b[1;32m[\u001b[0m\u001b[32mFETCH\u001b[0m\u001b[1;32m]\u001b[0m\u001b[32m...\u001b[0m\u001b[32m ↓ \u001b[0m\u001b[4;32mhttps://www2.deloitte.com/us/en/insights/industr...bution/retail-distribution-industry-outlook.html\u001b[0m\u001b[32m  |\u001b[0m\n",
              "\u001b[32m✓\u001b[0m\u001b[32m | ⏱: \u001b[0m\u001b[1;32m9.\u001b[0m\u001b[32m48s \u001b[0m\n"
            ],
            "text/html": [
              "<pre style=\"white-space:pre;overflow-x:auto;line-height:normal;font-family:Menlo,'DejaVu Sans Mono',consolas,'Courier New',monospace\"><span style=\"color: #008000; text-decoration-color: #008000; font-weight: bold\">[</span><span style=\"color: #008000; text-decoration-color: #008000\">FETCH</span><span style=\"color: #008000; text-decoration-color: #008000; font-weight: bold\">]</span><span style=\"color: #008000; text-decoration-color: #008000\">... ↓ </span><span style=\"color: #008000; text-decoration-color: #008000; text-decoration: underline\">https://www2.deloitte.com/us/en/insights/industr...bution/retail-distribution-industry-outlook.html</span><span style=\"color: #008000; text-decoration-color: #008000\">  |</span>\n",
              "<span style=\"color: #008000; text-decoration-color: #008000\">✓ | ⏱: </span><span style=\"color: #008000; text-decoration-color: #008000; font-weight: bold\">9.</span><span style=\"color: #008000; text-decoration-color: #008000\">48s </span>\n",
              "</pre>\n"
            ]
          },
          "metadata": {}
        },
        {
          "output_type": "display_data",
          "data": {
            "text/plain": [
              "\u001b[1;32m[\u001b[0m\u001b[32mSCRAPE\u001b[0m\u001b[1;32m]\u001b[0m\u001b[32m.. ◆ \u001b[0m\u001b[4;32mhttps://www2.deloitte.com/us/en/insights/industr...bution/retail-distribution-industry-outlook.html\u001b[0m\u001b[32m  |\u001b[0m\n",
              "\u001b[32m✓\u001b[0m\u001b[32m | ⏱: \u001b[0m\u001b[1;32m0.\u001b[0m\u001b[32m60s \u001b[0m\n"
            ],
            "text/html": [
              "<pre style=\"white-space:pre;overflow-x:auto;line-height:normal;font-family:Menlo,'DejaVu Sans Mono',consolas,'Courier New',monospace\"><span style=\"color: #008000; text-decoration-color: #008000; font-weight: bold\">[</span><span style=\"color: #008000; text-decoration-color: #008000\">SCRAPE</span><span style=\"color: #008000; text-decoration-color: #008000; font-weight: bold\">]</span><span style=\"color: #008000; text-decoration-color: #008000\">.. ◆ </span><span style=\"color: #008000; text-decoration-color: #008000; text-decoration: underline\">https://www2.deloitte.com/us/en/insights/industr...bution/retail-distribution-industry-outlook.html</span><span style=\"color: #008000; text-decoration-color: #008000\">  |</span>\n",
              "<span style=\"color: #008000; text-decoration-color: #008000\">✓ | ⏱: </span><span style=\"color: #008000; text-decoration-color: #008000; font-weight: bold\">0.</span><span style=\"color: #008000; text-decoration-color: #008000\">60s </span>\n",
              "</pre>\n"
            ]
          },
          "metadata": {}
        },
        {
          "output_type": "display_data",
          "data": {
            "text/plain": [
              "\u001b[1;32m[\u001b[0m\u001b[32mCOMPLETE\u001b[0m\u001b[1;32m]\u001b[0m\u001b[32m ● \u001b[0m\u001b[4;32mhttps://www2.deloitte.com/us/en/insights/industr...bution/retail-distribution-industry-outlook.html\u001b[0m\u001b[32m  |\u001b[0m\n",
              "\u001b[32m✓\u001b[0m\u001b[32m | ⏱: \u001b[0m\u001b[1;32m10.\u001b[0m\u001b[32m10s \u001b[0m\n"
            ],
            "text/html": [
              "<pre style=\"white-space:pre;overflow-x:auto;line-height:normal;font-family:Menlo,'DejaVu Sans Mono',consolas,'Courier New',monospace\"><span style=\"color: #008000; text-decoration-color: #008000; font-weight: bold\">[</span><span style=\"color: #008000; text-decoration-color: #008000\">COMPLETE</span><span style=\"color: #008000; text-decoration-color: #008000; font-weight: bold\">]</span><span style=\"color: #008000; text-decoration-color: #008000\"> ● </span><span style=\"color: #008000; text-decoration-color: #008000; text-decoration: underline\">https://www2.deloitte.com/us/en/insights/industr...bution/retail-distribution-industry-outlook.html</span><span style=\"color: #008000; text-decoration-color: #008000\">  |</span>\n",
              "<span style=\"color: #008000; text-decoration-color: #008000\">✓ | ⏱: </span><span style=\"color: #008000; text-decoration-color: #008000; font-weight: bold\">10.</span><span style=\"color: #008000; text-decoration-color: #008000\">10s </span>\n",
              "</pre>\n"
            ]
          },
          "metadata": {}
        },
        {
          "output_type": "stream",
          "name": "stdout",
          "text": [
            "Sub-question: How has e-commerce impacted traditional brick-and-mortar retail in the past 3 years?\n",
            "Judgment: False\n"
          ]
        },
        {
          "output_type": "display_data",
          "data": {
            "text/plain": [
              "\u001b[1;36m[\u001b[0m\u001b[36mINIT\u001b[0m\u001b[1;36m]\u001b[0m\u001b[36m...\u001b[0m\u001b[36m. → Crawl4AI \u001b[0m\u001b[1;36m0.6\u001b[0m\u001b[36m.\u001b[0m\u001b[1;36m3\u001b[0m\u001b[36m \u001b[0m\n"
            ],
            "text/html": [
              "<pre style=\"white-space:pre;overflow-x:auto;line-height:normal;font-family:Menlo,'DejaVu Sans Mono',consolas,'Courier New',monospace\"><span style=\"color: #008080; text-decoration-color: #008080; font-weight: bold\">[</span><span style=\"color: #008080; text-decoration-color: #008080\">INIT</span><span style=\"color: #008080; text-decoration-color: #008080; font-weight: bold\">]</span><span style=\"color: #008080; text-decoration-color: #008080\">.... → Crawl4AI </span><span style=\"color: #008080; text-decoration-color: #008080; font-weight: bold\">0.6</span><span style=\"color: #008080; text-decoration-color: #008080\">.</span><span style=\"color: #008080; text-decoration-color: #008080; font-weight: bold\">3</span><span style=\"color: #008080; text-decoration-color: #008080\"> </span>\n",
              "</pre>\n"
            ]
          },
          "metadata": {}
        },
        {
          "output_type": "display_data",
          "data": {
            "text/plain": [
              "\u001b[1;32m[\u001b[0m\u001b[32mFETCH\u001b[0m\u001b[1;32m]\u001b[0m\u001b[32m...\u001b[0m\u001b[32m ↓ \u001b[0m\u001b[4;32mhttps://www.crowdstreet.com/resources/properties...commerce-helps-and-hurts-brick-and-mortar-retail\u001b[0m\u001b[32m  |\u001b[0m\n",
              "\u001b[32m✓\u001b[0m\u001b[32m | ⏱: \u001b[0m\u001b[1;32m5.\u001b[0m\u001b[32m44s \u001b[0m\n"
            ],
            "text/html": [
              "<pre style=\"white-space:pre;overflow-x:auto;line-height:normal;font-family:Menlo,'DejaVu Sans Mono',consolas,'Courier New',monospace\"><span style=\"color: #008000; text-decoration-color: #008000; font-weight: bold\">[</span><span style=\"color: #008000; text-decoration-color: #008000\">FETCH</span><span style=\"color: #008000; text-decoration-color: #008000; font-weight: bold\">]</span><span style=\"color: #008000; text-decoration-color: #008000\">... ↓ </span><span style=\"color: #008000; text-decoration-color: #008000; text-decoration: underline\">https://www.crowdstreet.com/resources/properties...commerce-helps-and-hurts-brick-and-mortar-retail</span><span style=\"color: #008000; text-decoration-color: #008000\">  |</span>\n",
              "<span style=\"color: #008000; text-decoration-color: #008000\">✓ | ⏱: </span><span style=\"color: #008000; text-decoration-color: #008000; font-weight: bold\">5.</span><span style=\"color: #008000; text-decoration-color: #008000\">44s </span>\n",
              "</pre>\n"
            ]
          },
          "metadata": {}
        },
        {
          "output_type": "display_data",
          "data": {
            "text/plain": [
              "\u001b[1;32m[\u001b[0m\u001b[32mSCRAPE\u001b[0m\u001b[1;32m]\u001b[0m\u001b[32m.. ◆ \u001b[0m\u001b[4;32mhttps://www.crowdstreet.com/resources/properties...commerce-helps-and-hurts-brick-and-mortar-retail\u001b[0m\u001b[32m  |\u001b[0m\n",
              "\u001b[32m✓\u001b[0m\u001b[32m | ⏱: \u001b[0m\u001b[1;33m0.\u001b[0m\u001b[33m08\u001b[0m\u001b[32ms \u001b[0m\n"
            ],
            "text/html": [
              "<pre style=\"white-space:pre;overflow-x:auto;line-height:normal;font-family:Menlo,'DejaVu Sans Mono',consolas,'Courier New',monospace\"><span style=\"color: #008000; text-decoration-color: #008000; font-weight: bold\">[</span><span style=\"color: #008000; text-decoration-color: #008000\">SCRAPE</span><span style=\"color: #008000; text-decoration-color: #008000; font-weight: bold\">]</span><span style=\"color: #008000; text-decoration-color: #008000\">.. ◆ </span><span style=\"color: #008000; text-decoration-color: #008000; text-decoration: underline\">https://www.crowdstreet.com/resources/properties...commerce-helps-and-hurts-brick-and-mortar-retail</span><span style=\"color: #008000; text-decoration-color: #008000\">  |</span>\n",
              "<span style=\"color: #008000; text-decoration-color: #008000\">✓ | ⏱: </span><span style=\"color: #808000; text-decoration-color: #808000; font-weight: bold\">0.</span><span style=\"color: #808000; text-decoration-color: #808000\">08</span><span style=\"color: #008000; text-decoration-color: #008000\">s </span>\n",
              "</pre>\n"
            ]
          },
          "metadata": {}
        },
        {
          "output_type": "display_data",
          "data": {
            "text/plain": [
              "\u001b[1;32m[\u001b[0m\u001b[32mCOMPLETE\u001b[0m\u001b[1;32m]\u001b[0m\u001b[32m ● \u001b[0m\u001b[4;32mhttps://www.crowdstreet.com/resources/properties...commerce-helps-and-hurts-brick-and-mortar-retail\u001b[0m\u001b[32m  |\u001b[0m\n",
              "\u001b[32m✓\u001b[0m\u001b[32m | ⏱: \u001b[0m\u001b[1;32m5.\u001b[0m\u001b[32m53s \u001b[0m\n"
            ],
            "text/html": [
              "<pre style=\"white-space:pre;overflow-x:auto;line-height:normal;font-family:Menlo,'DejaVu Sans Mono',consolas,'Courier New',monospace\"><span style=\"color: #008000; text-decoration-color: #008000; font-weight: bold\">[</span><span style=\"color: #008000; text-decoration-color: #008000\">COMPLETE</span><span style=\"color: #008000; text-decoration-color: #008000; font-weight: bold\">]</span><span style=\"color: #008000; text-decoration-color: #008000\"> ● </span><span style=\"color: #008000; text-decoration-color: #008000; text-decoration: underline\">https://www.crowdstreet.com/resources/properties...commerce-helps-and-hurts-brick-and-mortar-retail</span><span style=\"color: #008000; text-decoration-color: #008000\">  |</span>\n",
              "<span style=\"color: #008000; text-decoration-color: #008000\">✓ | ⏱: </span><span style=\"color: #008000; text-decoration-color: #008000; font-weight: bold\">5.</span><span style=\"color: #008000; text-decoration-color: #008000\">53s </span>\n",
              "</pre>\n"
            ]
          },
          "metadata": {}
        },
        {
          "output_type": "display_data",
          "data": {
            "text/plain": [
              "\u001b[1;36m[\u001b[0m\u001b[36mINIT\u001b[0m\u001b[1;36m]\u001b[0m\u001b[36m...\u001b[0m\u001b[36m. → Crawl4AI \u001b[0m\u001b[1;36m0.6\u001b[0m\u001b[36m.\u001b[0m\u001b[1;36m3\u001b[0m\u001b[36m \u001b[0m\n"
            ],
            "text/html": [
              "<pre style=\"white-space:pre;overflow-x:auto;line-height:normal;font-family:Menlo,'DejaVu Sans Mono',consolas,'Courier New',monospace\"><span style=\"color: #008080; text-decoration-color: #008080; font-weight: bold\">[</span><span style=\"color: #008080; text-decoration-color: #008080\">INIT</span><span style=\"color: #008080; text-decoration-color: #008080; font-weight: bold\">]</span><span style=\"color: #008080; text-decoration-color: #008080\">.... → Crawl4AI </span><span style=\"color: #008080; text-decoration-color: #008080; font-weight: bold\">0.6</span><span style=\"color: #008080; text-decoration-color: #008080\">.</span><span style=\"color: #008080; text-decoration-color: #008080; font-weight: bold\">3</span><span style=\"color: #008080; text-decoration-color: #008080\"> </span>\n",
              "</pre>\n"
            ]
          },
          "metadata": {}
        },
        {
          "output_type": "display_data",
          "data": {
            "text/plain": [
              "\u001b[1;32m[\u001b[0m\u001b[32mFETCH\u001b[0m\u001b[1;32m]\u001b[0m\u001b[32m...\u001b[0m\u001b[32m ↓ \u001b[0m\u001b[4;32mhttps://capturly.com/blog/how-e-commerce-is-changing-the-retail-landscape/\u001b[0m\u001b[32m                           |\u001b[0m\n",
              "\u001b[32m✓\u001b[0m\u001b[32m | ⏱: \u001b[0m\u001b[1;32m5.\u001b[0m\u001b[32m14s \u001b[0m\n"
            ],
            "text/html": [
              "<pre style=\"white-space:pre;overflow-x:auto;line-height:normal;font-family:Menlo,'DejaVu Sans Mono',consolas,'Courier New',monospace\"><span style=\"color: #008000; text-decoration-color: #008000; font-weight: bold\">[</span><span style=\"color: #008000; text-decoration-color: #008000\">FETCH</span><span style=\"color: #008000; text-decoration-color: #008000; font-weight: bold\">]</span><span style=\"color: #008000; text-decoration-color: #008000\">... ↓ </span><span style=\"color: #008000; text-decoration-color: #008000; text-decoration: underline\">https://capturly.com/blog/how-e-commerce-is-changing-the-retail-landscape/</span><span style=\"color: #008000; text-decoration-color: #008000\">                           |</span>\n",
              "<span style=\"color: #008000; text-decoration-color: #008000\">✓ | ⏱: </span><span style=\"color: #008000; text-decoration-color: #008000; font-weight: bold\">5.</span><span style=\"color: #008000; text-decoration-color: #008000\">14s </span>\n",
              "</pre>\n"
            ]
          },
          "metadata": {}
        },
        {
          "output_type": "display_data",
          "data": {
            "text/plain": [
              "\u001b[1;32m[\u001b[0m\u001b[32mSCRAPE\u001b[0m\u001b[1;32m]\u001b[0m\u001b[32m.. ◆ \u001b[0m\u001b[4;32mhttps://capturly.com/blog/how-e-commerce-is-changing-the-retail-landscape/\u001b[0m\u001b[32m                           |\u001b[0m\n",
              "\u001b[32m✓\u001b[0m\u001b[32m | ⏱: \u001b[0m\u001b[1;32m0.\u001b[0m\u001b[32m08s \u001b[0m\n"
            ],
            "text/html": [
              "<pre style=\"white-space:pre;overflow-x:auto;line-height:normal;font-family:Menlo,'DejaVu Sans Mono',consolas,'Courier New',monospace\"><span style=\"color: #008000; text-decoration-color: #008000; font-weight: bold\">[</span><span style=\"color: #008000; text-decoration-color: #008000\">SCRAPE</span><span style=\"color: #008000; text-decoration-color: #008000; font-weight: bold\">]</span><span style=\"color: #008000; text-decoration-color: #008000\">.. ◆ </span><span style=\"color: #008000; text-decoration-color: #008000; text-decoration: underline\">https://capturly.com/blog/how-e-commerce-is-changing-the-retail-landscape/</span><span style=\"color: #008000; text-decoration-color: #008000\">                           |</span>\n",
              "<span style=\"color: #008000; text-decoration-color: #008000\">✓ | ⏱: </span><span style=\"color: #008000; text-decoration-color: #008000; font-weight: bold\">0.</span><span style=\"color: #008000; text-decoration-color: #008000\">08s </span>\n",
              "</pre>\n"
            ]
          },
          "metadata": {}
        },
        {
          "output_type": "display_data",
          "data": {
            "text/plain": [
              "\u001b[1;32m[\u001b[0m\u001b[32mCOMPLETE\u001b[0m\u001b[1;32m]\u001b[0m\u001b[32m ● \u001b[0m\u001b[4;32mhttps://capturly.com/blog/how-e-commerce-is-changing-the-retail-landscape/\u001b[0m\u001b[32m                           |\u001b[0m\n",
              "\u001b[32m✓\u001b[0m\u001b[32m | ⏱: \u001b[0m\u001b[1;32m5.\u001b[0m\u001b[32m23s \u001b[0m\n"
            ],
            "text/html": [
              "<pre style=\"white-space:pre;overflow-x:auto;line-height:normal;font-family:Menlo,'DejaVu Sans Mono',consolas,'Courier New',monospace\"><span style=\"color: #008000; text-decoration-color: #008000; font-weight: bold\">[</span><span style=\"color: #008000; text-decoration-color: #008000\">COMPLETE</span><span style=\"color: #008000; text-decoration-color: #008000; font-weight: bold\">]</span><span style=\"color: #008000; text-decoration-color: #008000\"> ● </span><span style=\"color: #008000; text-decoration-color: #008000; text-decoration: underline\">https://capturly.com/blog/how-e-commerce-is-changing-the-retail-landscape/</span><span style=\"color: #008000; text-decoration-color: #008000\">                           |</span>\n",
              "<span style=\"color: #008000; text-decoration-color: #008000\">✓ | ⏱: </span><span style=\"color: #008000; text-decoration-color: #008000; font-weight: bold\">5.</span><span style=\"color: #008000; text-decoration-color: #008000\">23s </span>\n",
              "</pre>\n"
            ]
          },
          "metadata": {}
        },
        {
          "output_type": "display_data",
          "data": {
            "text/plain": [
              "\u001b[1;36m[\u001b[0m\u001b[36mINIT\u001b[0m\u001b[1;36m]\u001b[0m\u001b[36m...\u001b[0m\u001b[36m. → Crawl4AI \u001b[0m\u001b[1;36m0.6\u001b[0m\u001b[36m.\u001b[0m\u001b[1;36m3\u001b[0m\u001b[36m \u001b[0m\n"
            ],
            "text/html": [
              "<pre style=\"white-space:pre;overflow-x:auto;line-height:normal;font-family:Menlo,'DejaVu Sans Mono',consolas,'Courier New',monospace\"><span style=\"color: #008080; text-decoration-color: #008080; font-weight: bold\">[</span><span style=\"color: #008080; text-decoration-color: #008080\">INIT</span><span style=\"color: #008080; text-decoration-color: #008080; font-weight: bold\">]</span><span style=\"color: #008080; text-decoration-color: #008080\">.... → Crawl4AI </span><span style=\"color: #008080; text-decoration-color: #008080; font-weight: bold\">0.6</span><span style=\"color: #008080; text-decoration-color: #008080\">.</span><span style=\"color: #008080; text-decoration-color: #008080; font-weight: bold\">3</span><span style=\"color: #008080; text-decoration-color: #008080\"> </span>\n",
              "</pre>\n"
            ]
          },
          "metadata": {}
        },
        {
          "output_type": "display_data",
          "data": {
            "text/plain": [
              "\u001b[1;32m[\u001b[0m\u001b[32mFETCH\u001b[0m\u001b[1;32m]\u001b[0m\u001b[32m...\u001b[0m\u001b[32m ↓ \u001b[0m\u001b[4;32mhttps://www.bigcommerce.com/articles/ecommerce/\u001b[0m\u001b[32m                                                      |\u001b[0m\n",
              "\u001b[32m✓\u001b[0m\u001b[32m | ⏱: \u001b[0m\u001b[1;32m5.\u001b[0m\u001b[32m06s \u001b[0m\n"
            ],
            "text/html": [
              "<pre style=\"white-space:pre;overflow-x:auto;line-height:normal;font-family:Menlo,'DejaVu Sans Mono',consolas,'Courier New',monospace\"><span style=\"color: #008000; text-decoration-color: #008000; font-weight: bold\">[</span><span style=\"color: #008000; text-decoration-color: #008000\">FETCH</span><span style=\"color: #008000; text-decoration-color: #008000; font-weight: bold\">]</span><span style=\"color: #008000; text-decoration-color: #008000\">... ↓ </span><span style=\"color: #008000; text-decoration-color: #008000; text-decoration: underline\">https://www.bigcommerce.com/articles/ecommerce/</span><span style=\"color: #008000; text-decoration-color: #008000\">                                                      |</span>\n",
              "<span style=\"color: #008000; text-decoration-color: #008000\">✓ | ⏱: </span><span style=\"color: #008000; text-decoration-color: #008000; font-weight: bold\">5.</span><span style=\"color: #008000; text-decoration-color: #008000\">06s </span>\n",
              "</pre>\n"
            ]
          },
          "metadata": {}
        },
        {
          "output_type": "display_data",
          "data": {
            "text/plain": [
              "\u001b[1;32m[\u001b[0m\u001b[32mSCRAPE\u001b[0m\u001b[1;32m]\u001b[0m\u001b[32m.. ◆ \u001b[0m\u001b[4;32mhttps://www.bigcommerce.com/articles/ecommerce/\u001b[0m\u001b[32m                                                      |\u001b[0m\n",
              "\u001b[32m✓\u001b[0m\u001b[32m | ⏱: \u001b[0m\u001b[1;32m0.\u001b[0m\u001b[32m28s \u001b[0m\n"
            ],
            "text/html": [
              "<pre style=\"white-space:pre;overflow-x:auto;line-height:normal;font-family:Menlo,'DejaVu Sans Mono',consolas,'Courier New',monospace\"><span style=\"color: #008000; text-decoration-color: #008000; font-weight: bold\">[</span><span style=\"color: #008000; text-decoration-color: #008000\">SCRAPE</span><span style=\"color: #008000; text-decoration-color: #008000; font-weight: bold\">]</span><span style=\"color: #008000; text-decoration-color: #008000\">.. ◆ </span><span style=\"color: #008000; text-decoration-color: #008000; text-decoration: underline\">https://www.bigcommerce.com/articles/ecommerce/</span><span style=\"color: #008000; text-decoration-color: #008000\">                                                      |</span>\n",
              "<span style=\"color: #008000; text-decoration-color: #008000\">✓ | ⏱: </span><span style=\"color: #008000; text-decoration-color: #008000; font-weight: bold\">0.</span><span style=\"color: #008000; text-decoration-color: #008000\">28s </span>\n",
              "</pre>\n"
            ]
          },
          "metadata": {}
        },
        {
          "output_type": "display_data",
          "data": {
            "text/plain": [
              "\u001b[1;32m[\u001b[0m\u001b[32mCOMPLETE\u001b[0m\u001b[1;32m]\u001b[0m\u001b[32m ● \u001b[0m\u001b[4;32mhttps://www.bigcommerce.com/articles/ecommerce/\u001b[0m\u001b[32m                                                      |\u001b[0m\n",
              "\u001b[32m✓\u001b[0m\u001b[32m | ⏱: \u001b[0m\u001b[1;32m5.\u001b[0m\u001b[32m36s \u001b[0m\n"
            ],
            "text/html": [
              "<pre style=\"white-space:pre;overflow-x:auto;line-height:normal;font-family:Menlo,'DejaVu Sans Mono',consolas,'Courier New',monospace\"><span style=\"color: #008000; text-decoration-color: #008000; font-weight: bold\">[</span><span style=\"color: #008000; text-decoration-color: #008000\">COMPLETE</span><span style=\"color: #008000; text-decoration-color: #008000; font-weight: bold\">]</span><span style=\"color: #008000; text-decoration-color: #008000\"> ● </span><span style=\"color: #008000; text-decoration-color: #008000; text-decoration: underline\">https://www.bigcommerce.com/articles/ecommerce/</span><span style=\"color: #008000; text-decoration-color: #008000\">                                                      |</span>\n",
              "<span style=\"color: #008000; text-decoration-color: #008000\">✓ | ⏱: </span><span style=\"color: #008000; text-decoration-color: #008000; font-weight: bold\">5.</span><span style=\"color: #008000; text-decoration-color: #008000\">36s </span>\n",
              "</pre>\n"
            ]
          },
          "metadata": {}
        },
        {
          "output_type": "display_data",
          "data": {
            "text/plain": [
              "\u001b[1;36m[\u001b[0m\u001b[36mINIT\u001b[0m\u001b[1;36m]\u001b[0m\u001b[36m...\u001b[0m\u001b[36m. → Crawl4AI \u001b[0m\u001b[1;36m0.6\u001b[0m\u001b[36m.\u001b[0m\u001b[1;36m3\u001b[0m\u001b[36m \u001b[0m\n"
            ],
            "text/html": [
              "<pre style=\"white-space:pre;overflow-x:auto;line-height:normal;font-family:Menlo,'DejaVu Sans Mono',consolas,'Courier New',monospace\"><span style=\"color: #008080; text-decoration-color: #008080; font-weight: bold\">[</span><span style=\"color: #008080; text-decoration-color: #008080\">INIT</span><span style=\"color: #008080; text-decoration-color: #008080; font-weight: bold\">]</span><span style=\"color: #008080; text-decoration-color: #008080\">.... → Crawl4AI </span><span style=\"color: #008080; text-decoration-color: #008080; font-weight: bold\">0.6</span><span style=\"color: #008080; text-decoration-color: #008080\">.</span><span style=\"color: #008080; text-decoration-color: #008080; font-weight: bold\">3</span><span style=\"color: #008080; text-decoration-color: #008080\"> </span>\n",
              "</pre>\n"
            ]
          },
          "metadata": {}
        },
        {
          "output_type": "display_data",
          "data": {
            "text/plain": [
              "\u001b[1;32m[\u001b[0m\u001b[32mFETCH\u001b[0m\u001b[1;32m]\u001b[0m\u001b[32m...\u001b[0m\u001b[32m ↓ \u001b[0m\u001b[4;32mhttps://www.papercrane.ca/blog/ecommerce-and-how-it-has-changed-the-retail-market\u001b[0m\u001b[32m                    |\u001b[0m\n",
              "\u001b[32m✓\u001b[0m\u001b[32m | ⏱: \u001b[0m\u001b[1;32m4.\u001b[0m\u001b[32m98s \u001b[0m\n"
            ],
            "text/html": [
              "<pre style=\"white-space:pre;overflow-x:auto;line-height:normal;font-family:Menlo,'DejaVu Sans Mono',consolas,'Courier New',monospace\"><span style=\"color: #008000; text-decoration-color: #008000; font-weight: bold\">[</span><span style=\"color: #008000; text-decoration-color: #008000\">FETCH</span><span style=\"color: #008000; text-decoration-color: #008000; font-weight: bold\">]</span><span style=\"color: #008000; text-decoration-color: #008000\">... ↓ </span><span style=\"color: #008000; text-decoration-color: #008000; text-decoration: underline\">https://www.papercrane.ca/blog/ecommerce-and-how-it-has-changed-the-retail-market</span><span style=\"color: #008000; text-decoration-color: #008000\">                    |</span>\n",
              "<span style=\"color: #008000; text-decoration-color: #008000\">✓ | ⏱: </span><span style=\"color: #008000; text-decoration-color: #008000; font-weight: bold\">4.</span><span style=\"color: #008000; text-decoration-color: #008000\">98s </span>\n",
              "</pre>\n"
            ]
          },
          "metadata": {}
        },
        {
          "output_type": "display_data",
          "data": {
            "text/plain": [
              "\u001b[1;32m[\u001b[0m\u001b[32mSCRAPE\u001b[0m\u001b[1;32m]\u001b[0m\u001b[32m.. ◆ \u001b[0m\u001b[4;32mhttps://www.papercrane.ca/blog/ecommerce-and-how-it-has-changed-the-retail-market\u001b[0m\u001b[32m                    |\u001b[0m\n",
              "\u001b[32m✓\u001b[0m\u001b[32m | ⏱: \u001b[0m\u001b[1;32m0.\u001b[0m\u001b[32m18s \u001b[0m\n"
            ],
            "text/html": [
              "<pre style=\"white-space:pre;overflow-x:auto;line-height:normal;font-family:Menlo,'DejaVu Sans Mono',consolas,'Courier New',monospace\"><span style=\"color: #008000; text-decoration-color: #008000; font-weight: bold\">[</span><span style=\"color: #008000; text-decoration-color: #008000\">SCRAPE</span><span style=\"color: #008000; text-decoration-color: #008000; font-weight: bold\">]</span><span style=\"color: #008000; text-decoration-color: #008000\">.. ◆ </span><span style=\"color: #008000; text-decoration-color: #008000; text-decoration: underline\">https://www.papercrane.ca/blog/ecommerce-and-how-it-has-changed-the-retail-market</span><span style=\"color: #008000; text-decoration-color: #008000\">                    |</span>\n",
              "<span style=\"color: #008000; text-decoration-color: #008000\">✓ | ⏱: </span><span style=\"color: #008000; text-decoration-color: #008000; font-weight: bold\">0.</span><span style=\"color: #008000; text-decoration-color: #008000\">18s </span>\n",
              "</pre>\n"
            ]
          },
          "metadata": {}
        },
        {
          "output_type": "display_data",
          "data": {
            "text/plain": [
              "\u001b[1;32m[\u001b[0m\u001b[32mCOMPLETE\u001b[0m\u001b[1;32m]\u001b[0m\u001b[32m ● \u001b[0m\u001b[4;32mhttps://www.papercrane.ca/blog/ecommerce-and-how-it-has-changed-the-retail-market\u001b[0m\u001b[32m                    |\u001b[0m\n",
              "\u001b[32m✓\u001b[0m\u001b[32m | ⏱: \u001b[0m\u001b[1;32m5.\u001b[0m\u001b[32m17s \u001b[0m\n"
            ],
            "text/html": [
              "<pre style=\"white-space:pre;overflow-x:auto;line-height:normal;font-family:Menlo,'DejaVu Sans Mono',consolas,'Courier New',monospace\"><span style=\"color: #008000; text-decoration-color: #008000; font-weight: bold\">[</span><span style=\"color: #008000; text-decoration-color: #008000\">COMPLETE</span><span style=\"color: #008000; text-decoration-color: #008000; font-weight: bold\">]</span><span style=\"color: #008000; text-decoration-color: #008000\"> ● </span><span style=\"color: #008000; text-decoration-color: #008000; text-decoration: underline\">https://www.papercrane.ca/blog/ecommerce-and-how-it-has-changed-the-retail-market</span><span style=\"color: #008000; text-decoration-color: #008000\">                    |</span>\n",
              "<span style=\"color: #008000; text-decoration-color: #008000\">✓ | ⏱: </span><span style=\"color: #008000; text-decoration-color: #008000; font-weight: bold\">5.</span><span style=\"color: #008000; text-decoration-color: #008000\">17s </span>\n",
              "</pre>\n"
            ]
          },
          "metadata": {}
        },
        {
          "output_type": "display_data",
          "data": {
            "text/plain": [
              "\u001b[1;36m[\u001b[0m\u001b[36mINIT\u001b[0m\u001b[1;36m]\u001b[0m\u001b[36m...\u001b[0m\u001b[36m. → Crawl4AI \u001b[0m\u001b[1;36m0.6\u001b[0m\u001b[36m.\u001b[0m\u001b[1;36m3\u001b[0m\u001b[36m \u001b[0m\n"
            ],
            "text/html": [
              "<pre style=\"white-space:pre;overflow-x:auto;line-height:normal;font-family:Menlo,'DejaVu Sans Mono',consolas,'Courier New',monospace\"><span style=\"color: #008080; text-decoration-color: #008080; font-weight: bold\">[</span><span style=\"color: #008080; text-decoration-color: #008080\">INIT</span><span style=\"color: #008080; text-decoration-color: #008080; font-weight: bold\">]</span><span style=\"color: #008080; text-decoration-color: #008080\">.... → Crawl4AI </span><span style=\"color: #008080; text-decoration-color: #008080; font-weight: bold\">0.6</span><span style=\"color: #008080; text-decoration-color: #008080\">.</span><span style=\"color: #008080; text-decoration-color: #008080; font-weight: bold\">3</span><span style=\"color: #008080; text-decoration-color: #008080\"> </span>\n",
              "</pre>\n"
            ]
          },
          "metadata": {}
        },
        {
          "output_type": "display_data",
          "data": {
            "text/plain": [
              "\u001b[1;32m[\u001b[0m\u001b[32mFETCH\u001b[0m\u001b[1;32m]\u001b[0m\u001b[32m...\u001b[0m\u001b[32m ↓ \u001b[0m\u001b[4;32mhttps://siepr.stanford.edu/publications/policy-brief/how-valuable-e-commerce\u001b[0m\u001b[32m                         |\u001b[0m\n",
              "\u001b[32m✓\u001b[0m\u001b[32m | ⏱: \u001b[0m\u001b[1;32m2.\u001b[0m\u001b[32m30s \u001b[0m\n"
            ],
            "text/html": [
              "<pre style=\"white-space:pre;overflow-x:auto;line-height:normal;font-family:Menlo,'DejaVu Sans Mono',consolas,'Courier New',monospace\"><span style=\"color: #008000; text-decoration-color: #008000; font-weight: bold\">[</span><span style=\"color: #008000; text-decoration-color: #008000\">FETCH</span><span style=\"color: #008000; text-decoration-color: #008000; font-weight: bold\">]</span><span style=\"color: #008000; text-decoration-color: #008000\">... ↓ </span><span style=\"color: #008000; text-decoration-color: #008000; text-decoration: underline\">https://siepr.stanford.edu/publications/policy-brief/how-valuable-e-commerce</span><span style=\"color: #008000; text-decoration-color: #008000\">                         |</span>\n",
              "<span style=\"color: #008000; text-decoration-color: #008000\">✓ | ⏱: </span><span style=\"color: #008000; text-decoration-color: #008000; font-weight: bold\">2.</span><span style=\"color: #008000; text-decoration-color: #008000\">30s </span>\n",
              "</pre>\n"
            ]
          },
          "metadata": {}
        },
        {
          "output_type": "display_data",
          "data": {
            "text/plain": [
              "\u001b[1;32m[\u001b[0m\u001b[32mSCRAPE\u001b[0m\u001b[1;32m]\u001b[0m\u001b[32m.. ◆ \u001b[0m\u001b[4;32mhttps://siepr.stanford.edu/publications/policy-brief/how-valuable-e-commerce\u001b[0m\u001b[32m                         |\u001b[0m\n",
              "\u001b[32m✓\u001b[0m\u001b[32m | ⏱: \u001b[0m\u001b[1;32m0.\u001b[0m\u001b[32m09s \u001b[0m\n"
            ],
            "text/html": [
              "<pre style=\"white-space:pre;overflow-x:auto;line-height:normal;font-family:Menlo,'DejaVu Sans Mono',consolas,'Courier New',monospace\"><span style=\"color: #008000; text-decoration-color: #008000; font-weight: bold\">[</span><span style=\"color: #008000; text-decoration-color: #008000\">SCRAPE</span><span style=\"color: #008000; text-decoration-color: #008000; font-weight: bold\">]</span><span style=\"color: #008000; text-decoration-color: #008000\">.. ◆ </span><span style=\"color: #008000; text-decoration-color: #008000; text-decoration: underline\">https://siepr.stanford.edu/publications/policy-brief/how-valuable-e-commerce</span><span style=\"color: #008000; text-decoration-color: #008000\">                         |</span>\n",
              "<span style=\"color: #008000; text-decoration-color: #008000\">✓ | ⏱: </span><span style=\"color: #008000; text-decoration-color: #008000; font-weight: bold\">0.</span><span style=\"color: #008000; text-decoration-color: #008000\">09s </span>\n",
              "</pre>\n"
            ]
          },
          "metadata": {}
        },
        {
          "output_type": "display_data",
          "data": {
            "text/plain": [
              "\u001b[1;32m[\u001b[0m\u001b[32mCOMPLETE\u001b[0m\u001b[1;32m]\u001b[0m\u001b[32m ● \u001b[0m\u001b[4;32mhttps://siepr.stanford.edu/publications/policy-brief/how-valuable-e-commerce\u001b[0m\u001b[32m                         |\u001b[0m\n",
              "\u001b[32m✓\u001b[0m\u001b[32m | ⏱: \u001b[0m\u001b[1;32m2.\u001b[0m\u001b[32m39s \u001b[0m\n"
            ],
            "text/html": [
              "<pre style=\"white-space:pre;overflow-x:auto;line-height:normal;font-family:Menlo,'DejaVu Sans Mono',consolas,'Courier New',monospace\"><span style=\"color: #008000; text-decoration-color: #008000; font-weight: bold\">[</span><span style=\"color: #008000; text-decoration-color: #008000\">COMPLETE</span><span style=\"color: #008000; text-decoration-color: #008000; font-weight: bold\">]</span><span style=\"color: #008000; text-decoration-color: #008000\"> ● </span><span style=\"color: #008000; text-decoration-color: #008000; text-decoration: underline\">https://siepr.stanford.edu/publications/policy-brief/how-valuable-e-commerce</span><span style=\"color: #008000; text-decoration-color: #008000\">                         |</span>\n",
              "<span style=\"color: #008000; text-decoration-color: #008000\">✓ | ⏱: </span><span style=\"color: #008000; text-decoration-color: #008000; font-weight: bold\">2.</span><span style=\"color: #008000; text-decoration-color: #008000\">39s </span>\n",
              "</pre>\n"
            ]
          },
          "metadata": {}
        },
        {
          "output_type": "display_data",
          "data": {
            "text/plain": [
              "\u001b[1;36m[\u001b[0m\u001b[36mINIT\u001b[0m\u001b[1;36m]\u001b[0m\u001b[36m...\u001b[0m\u001b[36m. → Crawl4AI \u001b[0m\u001b[1;36m0.6\u001b[0m\u001b[36m.\u001b[0m\u001b[1;36m3\u001b[0m\u001b[36m \u001b[0m\n"
            ],
            "text/html": [
              "<pre style=\"white-space:pre;overflow-x:auto;line-height:normal;font-family:Menlo,'DejaVu Sans Mono',consolas,'Courier New',monospace\"><span style=\"color: #008080; text-decoration-color: #008080; font-weight: bold\">[</span><span style=\"color: #008080; text-decoration-color: #008080\">INIT</span><span style=\"color: #008080; text-decoration-color: #008080; font-weight: bold\">]</span><span style=\"color: #008080; text-decoration-color: #008080\">.... → Crawl4AI </span><span style=\"color: #008080; text-decoration-color: #008080; font-weight: bold\">0.6</span><span style=\"color: #008080; text-decoration-color: #008080\">.</span><span style=\"color: #008080; text-decoration-color: #008080; font-weight: bold\">3</span><span style=\"color: #008080; text-decoration-color: #008080\"> </span>\n",
              "</pre>\n"
            ]
          },
          "metadata": {}
        },
        {
          "output_type": "display_data",
          "data": {
            "text/plain": [
              "\u001b[1;32m[\u001b[0m\u001b[32mFETCH\u001b[0m\u001b[1;32m]\u001b[0m\u001b[32m...\u001b[0m\u001b[32m ↓ \u001b[0m\u001b[4;32mhttps://www.linkedin.com/pulse/impact-e-commerce-retail-growth-ram-chandnani-cdbpc\u001b[0m\u001b[32m                   |\u001b[0m\n",
              "\u001b[32m✓\u001b[0m\u001b[32m | ⏱: \u001b[0m\u001b[1;32m5.\u001b[0m\u001b[32m13s \u001b[0m\n"
            ],
            "text/html": [
              "<pre style=\"white-space:pre;overflow-x:auto;line-height:normal;font-family:Menlo,'DejaVu Sans Mono',consolas,'Courier New',monospace\"><span style=\"color: #008000; text-decoration-color: #008000; font-weight: bold\">[</span><span style=\"color: #008000; text-decoration-color: #008000\">FETCH</span><span style=\"color: #008000; text-decoration-color: #008000; font-weight: bold\">]</span><span style=\"color: #008000; text-decoration-color: #008000\">... ↓ </span><span style=\"color: #008000; text-decoration-color: #008000; text-decoration: underline\">https://www.linkedin.com/pulse/impact-e-commerce-retail-growth-ram-chandnani-cdbpc</span><span style=\"color: #008000; text-decoration-color: #008000\">                   |</span>\n",
              "<span style=\"color: #008000; text-decoration-color: #008000\">✓ | ⏱: </span><span style=\"color: #008000; text-decoration-color: #008000; font-weight: bold\">5.</span><span style=\"color: #008000; text-decoration-color: #008000\">13s </span>\n",
              "</pre>\n"
            ]
          },
          "metadata": {}
        },
        {
          "output_type": "display_data",
          "data": {
            "text/plain": [
              "\u001b[1;32m[\u001b[0m\u001b[32mSCRAPE\u001b[0m\u001b[1;32m]\u001b[0m\u001b[32m.. ◆ \u001b[0m\u001b[4;32mhttps://www.linkedin.com/pulse/impact-e-commerce-retail-growth-ram-chandnani-cdbpc\u001b[0m\u001b[32m                   |\u001b[0m\n",
              "\u001b[32m✓\u001b[0m\u001b[32m | ⏱: \u001b[0m\u001b[1;32m0.\u001b[0m\u001b[32m27s \u001b[0m\n"
            ],
            "text/html": [
              "<pre style=\"white-space:pre;overflow-x:auto;line-height:normal;font-family:Menlo,'DejaVu Sans Mono',consolas,'Courier New',monospace\"><span style=\"color: #008000; text-decoration-color: #008000; font-weight: bold\">[</span><span style=\"color: #008000; text-decoration-color: #008000\">SCRAPE</span><span style=\"color: #008000; text-decoration-color: #008000; font-weight: bold\">]</span><span style=\"color: #008000; text-decoration-color: #008000\">.. ◆ </span><span style=\"color: #008000; text-decoration-color: #008000; text-decoration: underline\">https://www.linkedin.com/pulse/impact-e-commerce-retail-growth-ram-chandnani-cdbpc</span><span style=\"color: #008000; text-decoration-color: #008000\">                   |</span>\n",
              "<span style=\"color: #008000; text-decoration-color: #008000\">✓ | ⏱: </span><span style=\"color: #008000; text-decoration-color: #008000; font-weight: bold\">0.</span><span style=\"color: #008000; text-decoration-color: #008000\">27s </span>\n",
              "</pre>\n"
            ]
          },
          "metadata": {}
        },
        {
          "output_type": "display_data",
          "data": {
            "text/plain": [
              "\u001b[1;32m[\u001b[0m\u001b[32mCOMPLETE\u001b[0m\u001b[1;32m]\u001b[0m\u001b[32m ● \u001b[0m\u001b[4;32mhttps://www.linkedin.com/pulse/impact-e-commerce-retail-growth-ram-chandnani-cdbpc\u001b[0m\u001b[32m                   |\u001b[0m\n",
              "\u001b[32m✓\u001b[0m\u001b[32m | ⏱: \u001b[0m\u001b[1;32m5.\u001b[0m\u001b[32m41s \u001b[0m\n"
            ],
            "text/html": [
              "<pre style=\"white-space:pre;overflow-x:auto;line-height:normal;font-family:Menlo,'DejaVu Sans Mono',consolas,'Courier New',monospace\"><span style=\"color: #008000; text-decoration-color: #008000; font-weight: bold\">[</span><span style=\"color: #008000; text-decoration-color: #008000\">COMPLETE</span><span style=\"color: #008000; text-decoration-color: #008000; font-weight: bold\">]</span><span style=\"color: #008000; text-decoration-color: #008000\"> ● </span><span style=\"color: #008000; text-decoration-color: #008000; text-decoration: underline\">https://www.linkedin.com/pulse/impact-e-commerce-retail-growth-ram-chandnani-cdbpc</span><span style=\"color: #008000; text-decoration-color: #008000\">                   |</span>\n",
              "<span style=\"color: #008000; text-decoration-color: #008000\">✓ | ⏱: </span><span style=\"color: #008000; text-decoration-color: #008000; font-weight: bold\">5.</span><span style=\"color: #008000; text-decoration-color: #008000\">41s </span>\n",
              "</pre>\n"
            ]
          },
          "metadata": {}
        },
        {
          "output_type": "display_data",
          "data": {
            "text/plain": [
              "\u001b[1;36m[\u001b[0m\u001b[36mINIT\u001b[0m\u001b[1;36m]\u001b[0m\u001b[36m...\u001b[0m\u001b[36m. → Crawl4AI \u001b[0m\u001b[1;36m0.6\u001b[0m\u001b[36m.\u001b[0m\u001b[1;36m3\u001b[0m\u001b[36m \u001b[0m\n"
            ],
            "text/html": [
              "<pre style=\"white-space:pre;overflow-x:auto;line-height:normal;font-family:Menlo,'DejaVu Sans Mono',consolas,'Courier New',monospace\"><span style=\"color: #008080; text-decoration-color: #008080; font-weight: bold\">[</span><span style=\"color: #008080; text-decoration-color: #008080\">INIT</span><span style=\"color: #008080; text-decoration-color: #008080; font-weight: bold\">]</span><span style=\"color: #008080; text-decoration-color: #008080\">.... → Crawl4AI </span><span style=\"color: #008080; text-decoration-color: #008080; font-weight: bold\">0.6</span><span style=\"color: #008080; text-decoration-color: #008080\">.</span><span style=\"color: #008080; text-decoration-color: #008080; font-weight: bold\">3</span><span style=\"color: #008080; text-decoration-color: #008080\"> </span>\n",
              "</pre>\n"
            ]
          },
          "metadata": {}
        },
        {
          "output_type": "display_data",
          "data": {
            "text/plain": [
              "\u001b[1;32m[\u001b[0m\u001b[32mFETCH\u001b[0m\u001b[1;32m]\u001b[0m\u001b[32m...\u001b[0m\u001b[32m ↓ \u001b[0m\u001b[4;32mhttps://medium.com/@MAMeer841/the-rise-of-e-commerce-and-its-impact-on-retail-ae1c9260d431\u001b[0m\u001b[32m           |\u001b[0m\n",
              "\u001b[32m✓\u001b[0m\u001b[32m | ⏱: \u001b[0m\u001b[1;32m8.\u001b[0m\u001b[32m50s \u001b[0m\n"
            ],
            "text/html": [
              "<pre style=\"white-space:pre;overflow-x:auto;line-height:normal;font-family:Menlo,'DejaVu Sans Mono',consolas,'Courier New',monospace\"><span style=\"color: #008000; text-decoration-color: #008000; font-weight: bold\">[</span><span style=\"color: #008000; text-decoration-color: #008000\">FETCH</span><span style=\"color: #008000; text-decoration-color: #008000; font-weight: bold\">]</span><span style=\"color: #008000; text-decoration-color: #008000\">... ↓ </span><span style=\"color: #008000; text-decoration-color: #008000; text-decoration: underline\">https://medium.com/@MAMeer841/the-rise-of-e-commerce-and-its-impact-on-retail-ae1c9260d431</span><span style=\"color: #008000; text-decoration-color: #008000\">           |</span>\n",
              "<span style=\"color: #008000; text-decoration-color: #008000\">✓ | ⏱: </span><span style=\"color: #008000; text-decoration-color: #008000; font-weight: bold\">8.</span><span style=\"color: #008000; text-decoration-color: #008000\">50s </span>\n",
              "</pre>\n"
            ]
          },
          "metadata": {}
        },
        {
          "output_type": "display_data",
          "data": {
            "text/plain": [
              "\u001b[1;32m[\u001b[0m\u001b[32mSCRAPE\u001b[0m\u001b[1;32m]\u001b[0m\u001b[32m.. ◆ \u001b[0m\u001b[4;32mhttps://medium.com/@MAMeer841/the-rise-of-e-commerce-and-its-impact-on-retail-ae1c9260d431\u001b[0m\u001b[32m           |\u001b[0m\n",
              "\u001b[32m✓\u001b[0m\u001b[32m | ⏱: \u001b[0m\u001b[1;32m0.\u001b[0m\u001b[32m17s \u001b[0m\n"
            ],
            "text/html": [
              "<pre style=\"white-space:pre;overflow-x:auto;line-height:normal;font-family:Menlo,'DejaVu Sans Mono',consolas,'Courier New',monospace\"><span style=\"color: #008000; text-decoration-color: #008000; font-weight: bold\">[</span><span style=\"color: #008000; text-decoration-color: #008000\">SCRAPE</span><span style=\"color: #008000; text-decoration-color: #008000; font-weight: bold\">]</span><span style=\"color: #008000; text-decoration-color: #008000\">.. ◆ </span><span style=\"color: #008000; text-decoration-color: #008000; text-decoration: underline\">https://medium.com/@MAMeer841/the-rise-of-e-commerce-and-its-impact-on-retail-ae1c9260d431</span><span style=\"color: #008000; text-decoration-color: #008000\">           |</span>\n",
              "<span style=\"color: #008000; text-decoration-color: #008000\">✓ | ⏱: </span><span style=\"color: #008000; text-decoration-color: #008000; font-weight: bold\">0.</span><span style=\"color: #008000; text-decoration-color: #008000\">17s </span>\n",
              "</pre>\n"
            ]
          },
          "metadata": {}
        },
        {
          "output_type": "display_data",
          "data": {
            "text/plain": [
              "\u001b[1;32m[\u001b[0m\u001b[32mCOMPLETE\u001b[0m\u001b[1;32m]\u001b[0m\u001b[32m ● \u001b[0m\u001b[4;32mhttps://medium.com/@MAMeer841/the-rise-of-e-commerce-and-its-impact-on-retail-ae1c9260d431\u001b[0m\u001b[32m           |\u001b[0m\n",
              "\u001b[32m✓\u001b[0m\u001b[32m | ⏱: \u001b[0m\u001b[1;32m8.\u001b[0m\u001b[32m70s \u001b[0m\n"
            ],
            "text/html": [
              "<pre style=\"white-space:pre;overflow-x:auto;line-height:normal;font-family:Menlo,'DejaVu Sans Mono',consolas,'Courier New',monospace\"><span style=\"color: #008000; text-decoration-color: #008000; font-weight: bold\">[</span><span style=\"color: #008000; text-decoration-color: #008000\">COMPLETE</span><span style=\"color: #008000; text-decoration-color: #008000; font-weight: bold\">]</span><span style=\"color: #008000; text-decoration-color: #008000\"> ● </span><span style=\"color: #008000; text-decoration-color: #008000; text-decoration: underline\">https://medium.com/@MAMeer841/the-rise-of-e-commerce-and-its-impact-on-retail-ae1c9260d431</span><span style=\"color: #008000; text-decoration-color: #008000\">           |</span>\n",
              "<span style=\"color: #008000; text-decoration-color: #008000\">✓ | ⏱: </span><span style=\"color: #008000; text-decoration-color: #008000; font-weight: bold\">8.</span><span style=\"color: #008000; text-decoration-color: #008000\">70s </span>\n",
              "</pre>\n"
            ]
          },
          "metadata": {}
        },
        {
          "output_type": "display_data",
          "data": {
            "text/plain": [
              "\u001b[1;36m[\u001b[0m\u001b[36mINIT\u001b[0m\u001b[1;36m]\u001b[0m\u001b[36m...\u001b[0m\u001b[36m. → Crawl4AI \u001b[0m\u001b[1;36m0.6\u001b[0m\u001b[36m.\u001b[0m\u001b[1;36m3\u001b[0m\u001b[36m \u001b[0m\n"
            ],
            "text/html": [
              "<pre style=\"white-space:pre;overflow-x:auto;line-height:normal;font-family:Menlo,'DejaVu Sans Mono',consolas,'Courier New',monospace\"><span style=\"color: #008080; text-decoration-color: #008080; font-weight: bold\">[</span><span style=\"color: #008080; text-decoration-color: #008080\">INIT</span><span style=\"color: #008080; text-decoration-color: #008080; font-weight: bold\">]</span><span style=\"color: #008080; text-decoration-color: #008080\">.... → Crawl4AI </span><span style=\"color: #008080; text-decoration-color: #008080; font-weight: bold\">0.6</span><span style=\"color: #008080; text-decoration-color: #008080\">.</span><span style=\"color: #008080; text-decoration-color: #008080; font-weight: bold\">3</span><span style=\"color: #008080; text-decoration-color: #008080\"> </span>\n",
              "</pre>\n"
            ]
          },
          "metadata": {}
        },
        {
          "output_type": "display_data",
          "data": {
            "text/plain": [
              "\u001b[1;32m[\u001b[0m\u001b[32mFETCH\u001b[0m\u001b[1;32m]\u001b[0m\u001b[32m...\u001b[0m\u001b[32m ↓ \u001b[0m\u001b[4;32mhttps://consensus.app/questions/impact-ecommerce-retail-business-models-consumer/\u001b[0m\u001b[32m                    |\u001b[0m\n",
              "\u001b[32m✓\u001b[0m\u001b[32m | ⏱: \u001b[0m\u001b[1;32m9.\u001b[0m\u001b[32m46s \u001b[0m\n"
            ],
            "text/html": [
              "<pre style=\"white-space:pre;overflow-x:auto;line-height:normal;font-family:Menlo,'DejaVu Sans Mono',consolas,'Courier New',monospace\"><span style=\"color: #008000; text-decoration-color: #008000; font-weight: bold\">[</span><span style=\"color: #008000; text-decoration-color: #008000\">FETCH</span><span style=\"color: #008000; text-decoration-color: #008000; font-weight: bold\">]</span><span style=\"color: #008000; text-decoration-color: #008000\">... ↓ </span><span style=\"color: #008000; text-decoration-color: #008000; text-decoration: underline\">https://consensus.app/questions/impact-ecommerce-retail-business-models-consumer/</span><span style=\"color: #008000; text-decoration-color: #008000\">                    |</span>\n",
              "<span style=\"color: #008000; text-decoration-color: #008000\">✓ | ⏱: </span><span style=\"color: #008000; text-decoration-color: #008000; font-weight: bold\">9.</span><span style=\"color: #008000; text-decoration-color: #008000\">46s </span>\n",
              "</pre>\n"
            ]
          },
          "metadata": {}
        },
        {
          "output_type": "display_data",
          "data": {
            "text/plain": [
              "\u001b[1;32m[\u001b[0m\u001b[32mSCRAPE\u001b[0m\u001b[1;32m]\u001b[0m\u001b[32m.. ◆ \u001b[0m\u001b[4;32mhttps://consensus.app/questions/impact-ecommerce-retail-business-models-consumer/\u001b[0m\u001b[32m                    |\u001b[0m\n",
              "\u001b[32m✓\u001b[0m\u001b[32m | ⏱: \u001b[0m\u001b[1;32m0.\u001b[0m\u001b[32m20s \u001b[0m\n"
            ],
            "text/html": [
              "<pre style=\"white-space:pre;overflow-x:auto;line-height:normal;font-family:Menlo,'DejaVu Sans Mono',consolas,'Courier New',monospace\"><span style=\"color: #008000; text-decoration-color: #008000; font-weight: bold\">[</span><span style=\"color: #008000; text-decoration-color: #008000\">SCRAPE</span><span style=\"color: #008000; text-decoration-color: #008000; font-weight: bold\">]</span><span style=\"color: #008000; text-decoration-color: #008000\">.. ◆ </span><span style=\"color: #008000; text-decoration-color: #008000; text-decoration: underline\">https://consensus.app/questions/impact-ecommerce-retail-business-models-consumer/</span><span style=\"color: #008000; text-decoration-color: #008000\">                    |</span>\n",
              "<span style=\"color: #008000; text-decoration-color: #008000\">✓ | ⏱: </span><span style=\"color: #008000; text-decoration-color: #008000; font-weight: bold\">0.</span><span style=\"color: #008000; text-decoration-color: #008000\">20s </span>\n",
              "</pre>\n"
            ]
          },
          "metadata": {}
        },
        {
          "output_type": "display_data",
          "data": {
            "text/plain": [
              "\u001b[1;32m[\u001b[0m\u001b[32mCOMPLETE\u001b[0m\u001b[1;32m]\u001b[0m\u001b[32m ● \u001b[0m\u001b[4;32mhttps://consensus.app/questions/impact-ecommerce-retail-business-models-consumer/\u001b[0m\u001b[32m                    |\u001b[0m\n",
              "\u001b[32m✓\u001b[0m\u001b[32m | ⏱: \u001b[0m\u001b[1;32m9.\u001b[0m\u001b[32m68s \u001b[0m\n"
            ],
            "text/html": [
              "<pre style=\"white-space:pre;overflow-x:auto;line-height:normal;font-family:Menlo,'DejaVu Sans Mono',consolas,'Courier New',monospace\"><span style=\"color: #008000; text-decoration-color: #008000; font-weight: bold\">[</span><span style=\"color: #008000; text-decoration-color: #008000\">COMPLETE</span><span style=\"color: #008000; text-decoration-color: #008000; font-weight: bold\">]</span><span style=\"color: #008000; text-decoration-color: #008000\"> ● </span><span style=\"color: #008000; text-decoration-color: #008000; text-decoration: underline\">https://consensus.app/questions/impact-ecommerce-retail-business-models-consumer/</span><span style=\"color: #008000; text-decoration-color: #008000\">                    |</span>\n",
              "<span style=\"color: #008000; text-decoration-color: #008000\">✓ | ⏱: </span><span style=\"color: #008000; text-decoration-color: #008000; font-weight: bold\">9.</span><span style=\"color: #008000; text-decoration-color: #008000\">68s </span>\n",
              "</pre>\n"
            ]
          },
          "metadata": {}
        },
        {
          "output_type": "stream",
          "name": "stdout",
          "text": [
            "Sub-question: What technological advancements have been most transformative in the retail sector during this period?\n",
            "Judgment: False\n"
          ]
        },
        {
          "output_type": "display_data",
          "data": {
            "text/plain": [
              "\u001b[1;36m[\u001b[0m\u001b[36mINIT\u001b[0m\u001b[1;36m]\u001b[0m\u001b[36m...\u001b[0m\u001b[36m. → Crawl4AI \u001b[0m\u001b[1;36m0.6\u001b[0m\u001b[36m.\u001b[0m\u001b[1;36m3\u001b[0m\u001b[36m \u001b[0m\n"
            ],
            "text/html": [
              "<pre style=\"white-space:pre;overflow-x:auto;line-height:normal;font-family:Menlo,'DejaVu Sans Mono',consolas,'Courier New',monospace\"><span style=\"color: #008080; text-decoration-color: #008080; font-weight: bold\">[</span><span style=\"color: #008080; text-decoration-color: #008080\">INIT</span><span style=\"color: #008080; text-decoration-color: #008080; font-weight: bold\">]</span><span style=\"color: #008080; text-decoration-color: #008080\">.... → Crawl4AI </span><span style=\"color: #008080; text-decoration-color: #008080; font-weight: bold\">0.6</span><span style=\"color: #008080; text-decoration-color: #008080\">.</span><span style=\"color: #008080; text-decoration-color: #008080; font-weight: bold\">3</span><span style=\"color: #008080; text-decoration-color: #008080\"> </span>\n",
              "</pre>\n"
            ]
          },
          "metadata": {}
        },
        {
          "output_type": "display_data",
          "data": {
            "text/plain": [
              "\u001b[1;32m[\u001b[0m\u001b[32mFETCH\u001b[0m\u001b[1;32m]\u001b[0m\u001b[32m...\u001b[0m\u001b[32m ↓ \u001b[0m\u001b[4;32mhttps://www.anaplan.com/blog/blog-supply-chain-disruption-causing-severe-impact-on-retail-industry/\u001b[0m\u001b[32m  |\u001b[0m\n",
              "\u001b[32m✓\u001b[0m\u001b[32m | ⏱: \u001b[0m\u001b[1;32m3.\u001b[0m\u001b[32m93s \u001b[0m\n"
            ],
            "text/html": [
              "<pre style=\"white-space:pre;overflow-x:auto;line-height:normal;font-family:Menlo,'DejaVu Sans Mono',consolas,'Courier New',monospace\"><span style=\"color: #008000; text-decoration-color: #008000; font-weight: bold\">[</span><span style=\"color: #008000; text-decoration-color: #008000\">FETCH</span><span style=\"color: #008000; text-decoration-color: #008000; font-weight: bold\">]</span><span style=\"color: #008000; text-decoration-color: #008000\">... ↓ </span><span style=\"color: #008000; text-decoration-color: #008000; text-decoration: underline\">https://www.anaplan.com/blog/blog-supply-chain-disruption-causing-severe-impact-on-retail-industry/</span><span style=\"color: #008000; text-decoration-color: #008000\">  |</span>\n",
              "<span style=\"color: #008000; text-decoration-color: #008000\">✓ | ⏱: </span><span style=\"color: #008000; text-decoration-color: #008000; font-weight: bold\">3.</span><span style=\"color: #008000; text-decoration-color: #008000\">93s </span>\n",
              "</pre>\n"
            ]
          },
          "metadata": {}
        },
        {
          "output_type": "display_data",
          "data": {
            "text/plain": [
              "\u001b[1;32m[\u001b[0m\u001b[32mSCRAPE\u001b[0m\u001b[1;32m]\u001b[0m\u001b[32m.. ◆ \u001b[0m\u001b[4;32mhttps://www.anaplan.com/blog/blog-supply-chain-disruption-causing-severe-impact-on-retail-industry/\u001b[0m\u001b[32m  |\u001b[0m\n",
              "\u001b[32m✓\u001b[0m\u001b[32m | ⏱: \u001b[0m\u001b[1;32m0.\u001b[0m\u001b[32m17s \u001b[0m\n"
            ],
            "text/html": [
              "<pre style=\"white-space:pre;overflow-x:auto;line-height:normal;font-family:Menlo,'DejaVu Sans Mono',consolas,'Courier New',monospace\"><span style=\"color: #008000; text-decoration-color: #008000; font-weight: bold\">[</span><span style=\"color: #008000; text-decoration-color: #008000\">SCRAPE</span><span style=\"color: #008000; text-decoration-color: #008000; font-weight: bold\">]</span><span style=\"color: #008000; text-decoration-color: #008000\">.. ◆ </span><span style=\"color: #008000; text-decoration-color: #008000; text-decoration: underline\">https://www.anaplan.com/blog/blog-supply-chain-disruption-causing-severe-impact-on-retail-industry/</span><span style=\"color: #008000; text-decoration-color: #008000\">  |</span>\n",
              "<span style=\"color: #008000; text-decoration-color: #008000\">✓ | ⏱: </span><span style=\"color: #008000; text-decoration-color: #008000; font-weight: bold\">0.</span><span style=\"color: #008000; text-decoration-color: #008000\">17s </span>\n",
              "</pre>\n"
            ]
          },
          "metadata": {}
        },
        {
          "output_type": "display_data",
          "data": {
            "text/plain": [
              "\u001b[1;32m[\u001b[0m\u001b[32mCOMPLETE\u001b[0m\u001b[1;32m]\u001b[0m\u001b[32m ● \u001b[0m\u001b[4;32mhttps://www.anaplan.com/blog/blog-supply-chain-disruption-causing-severe-impact-on-retail-industry/\u001b[0m\u001b[32m  |\u001b[0m\n",
              "\u001b[32m✓\u001b[0m\u001b[32m | ⏱: \u001b[0m\u001b[1;32m4.\u001b[0m\u001b[32m11s \u001b[0m\n"
            ],
            "text/html": [
              "<pre style=\"white-space:pre;overflow-x:auto;line-height:normal;font-family:Menlo,'DejaVu Sans Mono',consolas,'Courier New',monospace\"><span style=\"color: #008000; text-decoration-color: #008000; font-weight: bold\">[</span><span style=\"color: #008000; text-decoration-color: #008000\">COMPLETE</span><span style=\"color: #008000; text-decoration-color: #008000; font-weight: bold\">]</span><span style=\"color: #008000; text-decoration-color: #008000\"> ● </span><span style=\"color: #008000; text-decoration-color: #008000; text-decoration: underline\">https://www.anaplan.com/blog/blog-supply-chain-disruption-causing-severe-impact-on-retail-industry/</span><span style=\"color: #008000; text-decoration-color: #008000\">  |</span>\n",
              "<span style=\"color: #008000; text-decoration-color: #008000\">✓ | ⏱: </span><span style=\"color: #008000; text-decoration-color: #008000; font-weight: bold\">4.</span><span style=\"color: #008000; text-decoration-color: #008000\">11s </span>\n",
              "</pre>\n"
            ]
          },
          "metadata": {}
        },
        {
          "output_type": "display_data",
          "data": {
            "text/plain": [
              "\u001b[1;36m[\u001b[0m\u001b[36mINIT\u001b[0m\u001b[1;36m]\u001b[0m\u001b[36m...\u001b[0m\u001b[36m. → Crawl4AI \u001b[0m\u001b[1;36m0.6\u001b[0m\u001b[36m.\u001b[0m\u001b[1;36m3\u001b[0m\u001b[36m \u001b[0m\n"
            ],
            "text/html": [
              "<pre style=\"white-space:pre;overflow-x:auto;line-height:normal;font-family:Menlo,'DejaVu Sans Mono',consolas,'Courier New',monospace\"><span style=\"color: #008080; text-decoration-color: #008080; font-weight: bold\">[</span><span style=\"color: #008080; text-decoration-color: #008080\">INIT</span><span style=\"color: #008080; text-decoration-color: #008080; font-weight: bold\">]</span><span style=\"color: #008080; text-decoration-color: #008080\">.... → Crawl4AI </span><span style=\"color: #008080; text-decoration-color: #008080; font-weight: bold\">0.6</span><span style=\"color: #008080; text-decoration-color: #008080\">.</span><span style=\"color: #008080; text-decoration-color: #008080; font-weight: bold\">3</span><span style=\"color: #008080; text-decoration-color: #008080\"> </span>\n",
              "</pre>\n"
            ]
          },
          "metadata": {}
        },
        {
          "output_type": "display_data",
          "data": {
            "text/plain": [
              "\u001b[1;32m[\u001b[0m\u001b[32mFETCH\u001b[0m\u001b[1;32m]\u001b[0m\u001b[32m...\u001b[0m\u001b[32m ↓ \u001b[0m\u001b[4;32mhttps://www.retaildive.com/spons/top-3-supply-chain-challenges-for-retailers-in-2024/695866/\u001b[0m\u001b[32m         |\u001b[0m\n",
              "\u001b[32m✓\u001b[0m\u001b[32m | ⏱: \u001b[0m\u001b[1;32m6.\u001b[0m\u001b[32m36s \u001b[0m\n"
            ],
            "text/html": [
              "<pre style=\"white-space:pre;overflow-x:auto;line-height:normal;font-family:Menlo,'DejaVu Sans Mono',consolas,'Courier New',monospace\"><span style=\"color: #008000; text-decoration-color: #008000; font-weight: bold\">[</span><span style=\"color: #008000; text-decoration-color: #008000\">FETCH</span><span style=\"color: #008000; text-decoration-color: #008000; font-weight: bold\">]</span><span style=\"color: #008000; text-decoration-color: #008000\">... ↓ </span><span style=\"color: #008000; text-decoration-color: #008000; text-decoration: underline\">https://www.retaildive.com/spons/top-3-supply-chain-challenges-for-retailers-in-2024/695866/</span><span style=\"color: #008000; text-decoration-color: #008000\">         |</span>\n",
              "<span style=\"color: #008000; text-decoration-color: #008000\">✓ | ⏱: </span><span style=\"color: #008000; text-decoration-color: #008000; font-weight: bold\">6.</span><span style=\"color: #008000; text-decoration-color: #008000\">36s </span>\n",
              "</pre>\n"
            ]
          },
          "metadata": {}
        },
        {
          "output_type": "display_data",
          "data": {
            "text/plain": [
              "\u001b[1;32m[\u001b[0m\u001b[32mSCRAPE\u001b[0m\u001b[1;32m]\u001b[0m\u001b[32m.. ◆ \u001b[0m\u001b[4;32mhttps://www.retaildive.com/spons/top-3-supply-chain-challenges-for-retailers-in-2024/695866/\u001b[0m\u001b[32m         |\u001b[0m\n",
              "\u001b[32m✓\u001b[0m\u001b[32m | ⏱: \u001b[0m\u001b[1;32m0.\u001b[0m\u001b[32m29s \u001b[0m\n"
            ],
            "text/html": [
              "<pre style=\"white-space:pre;overflow-x:auto;line-height:normal;font-family:Menlo,'DejaVu Sans Mono',consolas,'Courier New',monospace\"><span style=\"color: #008000; text-decoration-color: #008000; font-weight: bold\">[</span><span style=\"color: #008000; text-decoration-color: #008000\">SCRAPE</span><span style=\"color: #008000; text-decoration-color: #008000; font-weight: bold\">]</span><span style=\"color: #008000; text-decoration-color: #008000\">.. ◆ </span><span style=\"color: #008000; text-decoration-color: #008000; text-decoration: underline\">https://www.retaildive.com/spons/top-3-supply-chain-challenges-for-retailers-in-2024/695866/</span><span style=\"color: #008000; text-decoration-color: #008000\">         |</span>\n",
              "<span style=\"color: #008000; text-decoration-color: #008000\">✓ | ⏱: </span><span style=\"color: #008000; text-decoration-color: #008000; font-weight: bold\">0.</span><span style=\"color: #008000; text-decoration-color: #008000\">29s </span>\n",
              "</pre>\n"
            ]
          },
          "metadata": {}
        },
        {
          "output_type": "display_data",
          "data": {
            "text/plain": [
              "\u001b[1;32m[\u001b[0m\u001b[32mCOMPLETE\u001b[0m\u001b[1;32m]\u001b[0m\u001b[32m ● \u001b[0m\u001b[4;32mhttps://www.retaildive.com/spons/top-3-supply-chain-challenges-for-retailers-in-2024/695866/\u001b[0m\u001b[32m         |\u001b[0m\n",
              "\u001b[32m✓\u001b[0m\u001b[32m | ⏱: \u001b[0m\u001b[1;32m6.\u001b[0m\u001b[32m70s \u001b[0m\n"
            ],
            "text/html": [
              "<pre style=\"white-space:pre;overflow-x:auto;line-height:normal;font-family:Menlo,'DejaVu Sans Mono',consolas,'Courier New',monospace\"><span style=\"color: #008000; text-decoration-color: #008000; font-weight: bold\">[</span><span style=\"color: #008000; text-decoration-color: #008000\">COMPLETE</span><span style=\"color: #008000; text-decoration-color: #008000; font-weight: bold\">]</span><span style=\"color: #008000; text-decoration-color: #008000\"> ● </span><span style=\"color: #008000; text-decoration-color: #008000; text-decoration: underline\">https://www.retaildive.com/spons/top-3-supply-chain-challenges-for-retailers-in-2024/695866/</span><span style=\"color: #008000; text-decoration-color: #008000\">         |</span>\n",
              "<span style=\"color: #008000; text-decoration-color: #008000\">✓ | ⏱: </span><span style=\"color: #008000; text-decoration-color: #008000; font-weight: bold\">6.</span><span style=\"color: #008000; text-decoration-color: #008000\">70s </span>\n",
              "</pre>\n"
            ]
          },
          "metadata": {}
        },
        {
          "output_type": "display_data",
          "data": {
            "text/plain": [
              "\u001b[1;36m[\u001b[0m\u001b[36mINIT\u001b[0m\u001b[1;36m]\u001b[0m\u001b[36m...\u001b[0m\u001b[36m. → Crawl4AI \u001b[0m\u001b[1;36m0.6\u001b[0m\u001b[36m.\u001b[0m\u001b[1;36m3\u001b[0m\u001b[36m \u001b[0m\n"
            ],
            "text/html": [
              "<pre style=\"white-space:pre;overflow-x:auto;line-height:normal;font-family:Menlo,'DejaVu Sans Mono',consolas,'Courier New',monospace\"><span style=\"color: #008080; text-decoration-color: #008080; font-weight: bold\">[</span><span style=\"color: #008080; text-decoration-color: #008080\">INIT</span><span style=\"color: #008080; text-decoration-color: #008080; font-weight: bold\">]</span><span style=\"color: #008080; text-decoration-color: #008080\">.... → Crawl4AI </span><span style=\"color: #008080; text-decoration-color: #008080; font-weight: bold\">0.6</span><span style=\"color: #008080; text-decoration-color: #008080\">.</span><span style=\"color: #008080; text-decoration-color: #008080; font-weight: bold\">3</span><span style=\"color: #008080; text-decoration-color: #008080\"> </span>\n",
              "</pre>\n"
            ]
          },
          "metadata": {}
        },
        {
          "output_type": "display_data",
          "data": {
            "text/plain": [
              "\u001b[1;32m[\u001b[0m\u001b[32mFETCH\u001b[0m\u001b[1;32m]\u001b[0m\u001b[32m...\u001b[0m\u001b[32m ↓ \u001b[0m\u001b[4;32mhttps://www.forbes.com/sites/pamdanziger/2025/04...tariffs-to-put-retail-supply-chains-to-the-test/\u001b[0m\u001b[32m  |\u001b[0m\n",
              "\u001b[32m✓\u001b[0m\u001b[32m | ⏱: \u001b[0m\u001b[1;32m9.\u001b[0m\u001b[32m39s \u001b[0m\n"
            ],
            "text/html": [
              "<pre style=\"white-space:pre;overflow-x:auto;line-height:normal;font-family:Menlo,'DejaVu Sans Mono',consolas,'Courier New',monospace\"><span style=\"color: #008000; text-decoration-color: #008000; font-weight: bold\">[</span><span style=\"color: #008000; text-decoration-color: #008000\">FETCH</span><span style=\"color: #008000; text-decoration-color: #008000; font-weight: bold\">]</span><span style=\"color: #008000; text-decoration-color: #008000\">... ↓ </span><span style=\"color: #008000; text-decoration-color: #008000; text-decoration: underline\">https://www.forbes.com/sites/pamdanziger/2025/04...tariffs-to-put-retail-supply-chains-to-the-test/</span><span style=\"color: #008000; text-decoration-color: #008000\">  |</span>\n",
              "<span style=\"color: #008000; text-decoration-color: #008000\">✓ | ⏱: </span><span style=\"color: #008000; text-decoration-color: #008000; font-weight: bold\">9.</span><span style=\"color: #008000; text-decoration-color: #008000\">39s </span>\n",
              "</pre>\n"
            ]
          },
          "metadata": {}
        },
        {
          "output_type": "display_data",
          "data": {
            "text/plain": [
              "\u001b[1;32m[\u001b[0m\u001b[32mSCRAPE\u001b[0m\u001b[1;32m]\u001b[0m\u001b[32m.. ◆ \u001b[0m\u001b[4;32mhttps://www.forbes.com/sites/pamdanziger/2025/04...tariffs-to-put-retail-supply-chains-to-the-test/\u001b[0m\u001b[32m  |\u001b[0m\n",
              "\u001b[32m✓\u001b[0m\u001b[32m | ⏱: \u001b[0m\u001b[1;32m0.\u001b[0m\u001b[32m36s \u001b[0m\n"
            ],
            "text/html": [
              "<pre style=\"white-space:pre;overflow-x:auto;line-height:normal;font-family:Menlo,'DejaVu Sans Mono',consolas,'Courier New',monospace\"><span style=\"color: #008000; text-decoration-color: #008000; font-weight: bold\">[</span><span style=\"color: #008000; text-decoration-color: #008000\">SCRAPE</span><span style=\"color: #008000; text-decoration-color: #008000; font-weight: bold\">]</span><span style=\"color: #008000; text-decoration-color: #008000\">.. ◆ </span><span style=\"color: #008000; text-decoration-color: #008000; text-decoration: underline\">https://www.forbes.com/sites/pamdanziger/2025/04...tariffs-to-put-retail-supply-chains-to-the-test/</span><span style=\"color: #008000; text-decoration-color: #008000\">  |</span>\n",
              "<span style=\"color: #008000; text-decoration-color: #008000\">✓ | ⏱: </span><span style=\"color: #008000; text-decoration-color: #008000; font-weight: bold\">0.</span><span style=\"color: #008000; text-decoration-color: #008000\">36s </span>\n",
              "</pre>\n"
            ]
          },
          "metadata": {}
        },
        {
          "output_type": "display_data",
          "data": {
            "text/plain": [
              "\u001b[1;32m[\u001b[0m\u001b[32mCOMPLETE\u001b[0m\u001b[1;32m]\u001b[0m\u001b[32m ● \u001b[0m\u001b[4;32mhttps://www.forbes.com/sites/pamdanziger/2025/04...tariffs-to-put-retail-supply-chains-to-the-test/\u001b[0m\u001b[32m  |\u001b[0m\n",
              "\u001b[32m✓\u001b[0m\u001b[32m | ⏱: \u001b[0m\u001b[1;32m9.\u001b[0m\u001b[32m77s \u001b[0m\n"
            ],
            "text/html": [
              "<pre style=\"white-space:pre;overflow-x:auto;line-height:normal;font-family:Menlo,'DejaVu Sans Mono',consolas,'Courier New',monospace\"><span style=\"color: #008000; text-decoration-color: #008000; font-weight: bold\">[</span><span style=\"color: #008000; text-decoration-color: #008000\">COMPLETE</span><span style=\"color: #008000; text-decoration-color: #008000; font-weight: bold\">]</span><span style=\"color: #008000; text-decoration-color: #008000\"> ● </span><span style=\"color: #008000; text-decoration-color: #008000; text-decoration: underline\">https://www.forbes.com/sites/pamdanziger/2025/04...tariffs-to-put-retail-supply-chains-to-the-test/</span><span style=\"color: #008000; text-decoration-color: #008000\">  |</span>\n",
              "<span style=\"color: #008000; text-decoration-color: #008000\">✓ | ⏱: </span><span style=\"color: #008000; text-decoration-color: #008000; font-weight: bold\">9.</span><span style=\"color: #008000; text-decoration-color: #008000\">77s </span>\n",
              "</pre>\n"
            ]
          },
          "metadata": {}
        },
        {
          "output_type": "display_data",
          "data": {
            "text/plain": [
              "\u001b[1;36m[\u001b[0m\u001b[36mINIT\u001b[0m\u001b[1;36m]\u001b[0m\u001b[36m...\u001b[0m\u001b[36m. → Crawl4AI \u001b[0m\u001b[1;36m0.6\u001b[0m\u001b[36m.\u001b[0m\u001b[1;36m3\u001b[0m\u001b[36m \u001b[0m\n"
            ],
            "text/html": [
              "<pre style=\"white-space:pre;overflow-x:auto;line-height:normal;font-family:Menlo,'DejaVu Sans Mono',consolas,'Courier New',monospace\"><span style=\"color: #008080; text-decoration-color: #008080; font-weight: bold\">[</span><span style=\"color: #008080; text-decoration-color: #008080\">INIT</span><span style=\"color: #008080; text-decoration-color: #008080; font-weight: bold\">]</span><span style=\"color: #008080; text-decoration-color: #008080\">.... → Crawl4AI </span><span style=\"color: #008080; text-decoration-color: #008080; font-weight: bold\">0.6</span><span style=\"color: #008080; text-decoration-color: #008080\">.</span><span style=\"color: #008080; text-decoration-color: #008080; font-weight: bold\">3</span><span style=\"color: #008080; text-decoration-color: #008080\"> </span>\n",
              "</pre>\n"
            ]
          },
          "metadata": {}
        },
        {
          "output_type": "display_data",
          "data": {
            "text/plain": [
              "\u001b[1;32m[\u001b[0m\u001b[32mFETCH\u001b[0m\u001b[1;32m]\u001b[0m\u001b[32m...\u001b[0m\u001b[32m ↓ \u001b[0m\u001b[4;32mhttps://www.stateless.nyc/blog/supply-chain-disruption\u001b[0m\u001b[32m                                               |\u001b[0m\n",
              "\u001b[32m✓\u001b[0m\u001b[32m | ⏱: \u001b[0m\u001b[1;32m3.\u001b[0m\u001b[32m01s \u001b[0m\n"
            ],
            "text/html": [
              "<pre style=\"white-space:pre;overflow-x:auto;line-height:normal;font-family:Menlo,'DejaVu Sans Mono',consolas,'Courier New',monospace\"><span style=\"color: #008000; text-decoration-color: #008000; font-weight: bold\">[</span><span style=\"color: #008000; text-decoration-color: #008000\">FETCH</span><span style=\"color: #008000; text-decoration-color: #008000; font-weight: bold\">]</span><span style=\"color: #008000; text-decoration-color: #008000\">... ↓ </span><span style=\"color: #008000; text-decoration-color: #008000; text-decoration: underline\">https://www.stateless.nyc/blog/supply-chain-disruption</span><span style=\"color: #008000; text-decoration-color: #008000\">                                               |</span>\n",
              "<span style=\"color: #008000; text-decoration-color: #008000\">✓ | ⏱: </span><span style=\"color: #008000; text-decoration-color: #008000; font-weight: bold\">3.</span><span style=\"color: #008000; text-decoration-color: #008000\">01s </span>\n",
              "</pre>\n"
            ]
          },
          "metadata": {}
        },
        {
          "output_type": "display_data",
          "data": {
            "text/plain": [
              "\u001b[1;32m[\u001b[0m\u001b[32mSCRAPE\u001b[0m\u001b[1;32m]\u001b[0m\u001b[32m.. ◆ \u001b[0m\u001b[4;32mhttps://www.stateless.nyc/blog/supply-chain-disruption\u001b[0m\u001b[32m                                               |\u001b[0m\n",
              "\u001b[32m✓\u001b[0m\u001b[32m | ⏱: \u001b[0m\u001b[1;32m0.\u001b[0m\u001b[32m06s \u001b[0m\n"
            ],
            "text/html": [
              "<pre style=\"white-space:pre;overflow-x:auto;line-height:normal;font-family:Menlo,'DejaVu Sans Mono',consolas,'Courier New',monospace\"><span style=\"color: #008000; text-decoration-color: #008000; font-weight: bold\">[</span><span style=\"color: #008000; text-decoration-color: #008000\">SCRAPE</span><span style=\"color: #008000; text-decoration-color: #008000; font-weight: bold\">]</span><span style=\"color: #008000; text-decoration-color: #008000\">.. ◆ </span><span style=\"color: #008000; text-decoration-color: #008000; text-decoration: underline\">https://www.stateless.nyc/blog/supply-chain-disruption</span><span style=\"color: #008000; text-decoration-color: #008000\">                                               |</span>\n",
              "<span style=\"color: #008000; text-decoration-color: #008000\">✓ | ⏱: </span><span style=\"color: #008000; text-decoration-color: #008000; font-weight: bold\">0.</span><span style=\"color: #008000; text-decoration-color: #008000\">06s </span>\n",
              "</pre>\n"
            ]
          },
          "metadata": {}
        },
        {
          "output_type": "display_data",
          "data": {
            "text/plain": [
              "\u001b[1;32m[\u001b[0m\u001b[32mCOMPLETE\u001b[0m\u001b[1;32m]\u001b[0m\u001b[32m ● \u001b[0m\u001b[4;32mhttps://www.stateless.nyc/blog/supply-chain-disruption\u001b[0m\u001b[32m                                               |\u001b[0m\n",
              "\u001b[32m✓\u001b[0m\u001b[32m | ⏱: \u001b[0m\u001b[1;32m3.\u001b[0m\u001b[32m08s \u001b[0m\n"
            ],
            "text/html": [
              "<pre style=\"white-space:pre;overflow-x:auto;line-height:normal;font-family:Menlo,'DejaVu Sans Mono',consolas,'Courier New',monospace\"><span style=\"color: #008000; text-decoration-color: #008000; font-weight: bold\">[</span><span style=\"color: #008000; text-decoration-color: #008000\">COMPLETE</span><span style=\"color: #008000; text-decoration-color: #008000; font-weight: bold\">]</span><span style=\"color: #008000; text-decoration-color: #008000\"> ● </span><span style=\"color: #008000; text-decoration-color: #008000; text-decoration: underline\">https://www.stateless.nyc/blog/supply-chain-disruption</span><span style=\"color: #008000; text-decoration-color: #008000\">                                               |</span>\n",
              "<span style=\"color: #008000; text-decoration-color: #008000\">✓ | ⏱: </span><span style=\"color: #008000; text-decoration-color: #008000; font-weight: bold\">3.</span><span style=\"color: #008000; text-decoration-color: #008000\">08s </span>\n",
              "</pre>\n"
            ]
          },
          "metadata": {}
        },
        {
          "output_type": "display_data",
          "data": {
            "text/plain": [
              "\u001b[1;36m[\u001b[0m\u001b[36mINIT\u001b[0m\u001b[1;36m]\u001b[0m\u001b[36m...\u001b[0m\u001b[36m. → Crawl4AI \u001b[0m\u001b[1;36m0.6\u001b[0m\u001b[36m.\u001b[0m\u001b[1;36m3\u001b[0m\u001b[36m \u001b[0m\n"
            ],
            "text/html": [
              "<pre style=\"white-space:pre;overflow-x:auto;line-height:normal;font-family:Menlo,'DejaVu Sans Mono',consolas,'Courier New',monospace\"><span style=\"color: #008080; text-decoration-color: #008080; font-weight: bold\">[</span><span style=\"color: #008080; text-decoration-color: #008080\">INIT</span><span style=\"color: #008080; text-decoration-color: #008080; font-weight: bold\">]</span><span style=\"color: #008080; text-decoration-color: #008080\">.... → Crawl4AI </span><span style=\"color: #008080; text-decoration-color: #008080; font-weight: bold\">0.6</span><span style=\"color: #008080; text-decoration-color: #008080\">.</span><span style=\"color: #008080; text-decoration-color: #008080; font-weight: bold\">3</span><span style=\"color: #008080; text-decoration-color: #008080\"> </span>\n",
              "</pre>\n"
            ]
          },
          "metadata": {}
        },
        {
          "output_type": "display_data",
          "data": {
            "text/plain": [
              "\u001b[1;32m[\u001b[0m\u001b[32mFETCH\u001b[0m\u001b[1;32m]\u001b[0m\u001b[32m...\u001b[0m\u001b[32m ↓ \u001b[0m\u001b[4;32mhttps://www.sedex.com/blog/retail-trends-supply-chain-due-diligence-2025/\u001b[0m\u001b[32m                            |\u001b[0m\n",
              "\u001b[32m✓\u001b[0m\u001b[32m | ⏱: \u001b[0m\u001b[1;32m2.\u001b[0m\u001b[32m09s \u001b[0m\n"
            ],
            "text/html": [
              "<pre style=\"white-space:pre;overflow-x:auto;line-height:normal;font-family:Menlo,'DejaVu Sans Mono',consolas,'Courier New',monospace\"><span style=\"color: #008000; text-decoration-color: #008000; font-weight: bold\">[</span><span style=\"color: #008000; text-decoration-color: #008000\">FETCH</span><span style=\"color: #008000; text-decoration-color: #008000; font-weight: bold\">]</span><span style=\"color: #008000; text-decoration-color: #008000\">... ↓ </span><span style=\"color: #008000; text-decoration-color: #008000; text-decoration: underline\">https://www.sedex.com/blog/retail-trends-supply-chain-due-diligence-2025/</span><span style=\"color: #008000; text-decoration-color: #008000\">                            |</span>\n",
              "<span style=\"color: #008000; text-decoration-color: #008000\">✓ | ⏱: </span><span style=\"color: #008000; text-decoration-color: #008000; font-weight: bold\">2.</span><span style=\"color: #008000; text-decoration-color: #008000\">09s </span>\n",
              "</pre>\n"
            ]
          },
          "metadata": {}
        },
        {
          "output_type": "display_data",
          "data": {
            "text/plain": [
              "\u001b[1;32m[\u001b[0m\u001b[32mSCRAPE\u001b[0m\u001b[1;32m]\u001b[0m\u001b[32m.. ◆ \u001b[0m\u001b[4;32mhttps://www.sedex.com/blog/retail-trends-supply-chain-due-diligence-2025/\u001b[0m\u001b[32m                            |\u001b[0m\n",
              "\u001b[32m✓\u001b[0m\u001b[32m | ⏱: \u001b[0m\u001b[1;32m0.\u001b[0m\u001b[32m06s \u001b[0m\n"
            ],
            "text/html": [
              "<pre style=\"white-space:pre;overflow-x:auto;line-height:normal;font-family:Menlo,'DejaVu Sans Mono',consolas,'Courier New',monospace\"><span style=\"color: #008000; text-decoration-color: #008000; font-weight: bold\">[</span><span style=\"color: #008000; text-decoration-color: #008000\">SCRAPE</span><span style=\"color: #008000; text-decoration-color: #008000; font-weight: bold\">]</span><span style=\"color: #008000; text-decoration-color: #008000\">.. ◆ </span><span style=\"color: #008000; text-decoration-color: #008000; text-decoration: underline\">https://www.sedex.com/blog/retail-trends-supply-chain-due-diligence-2025/</span><span style=\"color: #008000; text-decoration-color: #008000\">                            |</span>\n",
              "<span style=\"color: #008000; text-decoration-color: #008000\">✓ | ⏱: </span><span style=\"color: #008000; text-decoration-color: #008000; font-weight: bold\">0.</span><span style=\"color: #008000; text-decoration-color: #008000\">06s </span>\n",
              "</pre>\n"
            ]
          },
          "metadata": {}
        },
        {
          "output_type": "display_data",
          "data": {
            "text/plain": [
              "\u001b[1;32m[\u001b[0m\u001b[32mCOMPLETE\u001b[0m\u001b[1;32m]\u001b[0m\u001b[32m ● \u001b[0m\u001b[4;32mhttps://www.sedex.com/blog/retail-trends-supply-chain-due-diligence-2025/\u001b[0m\u001b[32m                            |\u001b[0m\n",
              "\u001b[32m✓\u001b[0m\u001b[32m | ⏱: \u001b[0m\u001b[1;32m2.\u001b[0m\u001b[32m16s \u001b[0m\n"
            ],
            "text/html": [
              "<pre style=\"white-space:pre;overflow-x:auto;line-height:normal;font-family:Menlo,'DejaVu Sans Mono',consolas,'Courier New',monospace\"><span style=\"color: #008000; text-decoration-color: #008000; font-weight: bold\">[</span><span style=\"color: #008000; text-decoration-color: #008000\">COMPLETE</span><span style=\"color: #008000; text-decoration-color: #008000; font-weight: bold\">]</span><span style=\"color: #008000; text-decoration-color: #008000\"> ● </span><span style=\"color: #008000; text-decoration-color: #008000; text-decoration: underline\">https://www.sedex.com/blog/retail-trends-supply-chain-due-diligence-2025/</span><span style=\"color: #008000; text-decoration-color: #008000\">                            |</span>\n",
              "<span style=\"color: #008000; text-decoration-color: #008000\">✓ | ⏱: </span><span style=\"color: #008000; text-decoration-color: #008000; font-weight: bold\">2.</span><span style=\"color: #008000; text-decoration-color: #008000\">16s </span>\n",
              "</pre>\n"
            ]
          },
          "metadata": {}
        },
        {
          "output_type": "display_data",
          "data": {
            "text/plain": [
              "\u001b[1;36m[\u001b[0m\u001b[36mINIT\u001b[0m\u001b[1;36m]\u001b[0m\u001b[36m...\u001b[0m\u001b[36m. → Crawl4AI \u001b[0m\u001b[1;36m0.6\u001b[0m\u001b[36m.\u001b[0m\u001b[1;36m3\u001b[0m\u001b[36m \u001b[0m\n"
            ],
            "text/html": [
              "<pre style=\"white-space:pre;overflow-x:auto;line-height:normal;font-family:Menlo,'DejaVu Sans Mono',consolas,'Courier New',monospace\"><span style=\"color: #008080; text-decoration-color: #008080; font-weight: bold\">[</span><span style=\"color: #008080; text-decoration-color: #008080\">INIT</span><span style=\"color: #008080; text-decoration-color: #008080; font-weight: bold\">]</span><span style=\"color: #008080; text-decoration-color: #008080\">.... → Crawl4AI </span><span style=\"color: #008080; text-decoration-color: #008080; font-weight: bold\">0.6</span><span style=\"color: #008080; text-decoration-color: #008080\">.</span><span style=\"color: #008080; text-decoration-color: #008080; font-weight: bold\">3</span><span style=\"color: #008080; text-decoration-color: #008080\"> </span>\n",
              "</pre>\n"
            ]
          },
          "metadata": {}
        },
        {
          "output_type": "display_data",
          "data": {
            "text/plain": [
              "\u001b[1;32m[\u001b[0m\u001b[32mFETCH\u001b[0m\u001b[1;32m]\u001b[0m\u001b[32m...\u001b[0m\u001b[32m ↓ \u001b[0m\u001b[4;32mhttps://www.ftc.gov/news-events/news/press-relea...releases-report-grocery-supply-chain-disruptions\u001b[0m\u001b[32m  |\u001b[0m\n",
              "\u001b[32m✓\u001b[0m\u001b[32m | ⏱: \u001b[0m\u001b[1;32m5.\u001b[0m\u001b[32m79s \u001b[0m\n"
            ],
            "text/html": [
              "<pre style=\"white-space:pre;overflow-x:auto;line-height:normal;font-family:Menlo,'DejaVu Sans Mono',consolas,'Courier New',monospace\"><span style=\"color: #008000; text-decoration-color: #008000; font-weight: bold\">[</span><span style=\"color: #008000; text-decoration-color: #008000\">FETCH</span><span style=\"color: #008000; text-decoration-color: #008000; font-weight: bold\">]</span><span style=\"color: #008000; text-decoration-color: #008000\">... ↓ </span><span style=\"color: #008000; text-decoration-color: #008000; text-decoration: underline\">https://www.ftc.gov/news-events/news/press-relea...releases-report-grocery-supply-chain-disruptions</span><span style=\"color: #008000; text-decoration-color: #008000\">  |</span>\n",
              "<span style=\"color: #008000; text-decoration-color: #008000\">✓ | ⏱: </span><span style=\"color: #008000; text-decoration-color: #008000; font-weight: bold\">5.</span><span style=\"color: #008000; text-decoration-color: #008000\">79s </span>\n",
              "</pre>\n"
            ]
          },
          "metadata": {}
        },
        {
          "output_type": "display_data",
          "data": {
            "text/plain": [
              "\u001b[1;32m[\u001b[0m\u001b[32mSCRAPE\u001b[0m\u001b[1;32m]\u001b[0m\u001b[32m.. ◆ \u001b[0m\u001b[4;32mhttps://www.ftc.gov/news-events/news/press-relea...releases-report-grocery-supply-chain-disruptions\u001b[0m\u001b[32m  |\u001b[0m\n",
              "\u001b[32m✓\u001b[0m\u001b[32m | ⏱: \u001b[0m\u001b[1;32m0.\u001b[0m\u001b[32m18s \u001b[0m\n"
            ],
            "text/html": [
              "<pre style=\"white-space:pre;overflow-x:auto;line-height:normal;font-family:Menlo,'DejaVu Sans Mono',consolas,'Courier New',monospace\"><span style=\"color: #008000; text-decoration-color: #008000; font-weight: bold\">[</span><span style=\"color: #008000; text-decoration-color: #008000\">SCRAPE</span><span style=\"color: #008000; text-decoration-color: #008000; font-weight: bold\">]</span><span style=\"color: #008000; text-decoration-color: #008000\">.. ◆ </span><span style=\"color: #008000; text-decoration-color: #008000; text-decoration: underline\">https://www.ftc.gov/news-events/news/press-relea...releases-report-grocery-supply-chain-disruptions</span><span style=\"color: #008000; text-decoration-color: #008000\">  |</span>\n",
              "<span style=\"color: #008000; text-decoration-color: #008000\">✓ | ⏱: </span><span style=\"color: #008000; text-decoration-color: #008000; font-weight: bold\">0.</span><span style=\"color: #008000; text-decoration-color: #008000\">18s </span>\n",
              "</pre>\n"
            ]
          },
          "metadata": {}
        },
        {
          "output_type": "display_data",
          "data": {
            "text/plain": [
              "\u001b[1;32m[\u001b[0m\u001b[32mCOMPLETE\u001b[0m\u001b[1;32m]\u001b[0m\u001b[32m ● \u001b[0m\u001b[4;32mhttps://www.ftc.gov/news-events/news/press-relea...releases-report-grocery-supply-chain-disruptions\u001b[0m\u001b[32m  |\u001b[0m\n",
              "\u001b[32m✓\u001b[0m\u001b[32m | ⏱: \u001b[0m\u001b[1;32m5.\u001b[0m\u001b[32m99s \u001b[0m\n"
            ],
            "text/html": [
              "<pre style=\"white-space:pre;overflow-x:auto;line-height:normal;font-family:Menlo,'DejaVu Sans Mono',consolas,'Courier New',monospace\"><span style=\"color: #008000; text-decoration-color: #008000; font-weight: bold\">[</span><span style=\"color: #008000; text-decoration-color: #008000\">COMPLETE</span><span style=\"color: #008000; text-decoration-color: #008000; font-weight: bold\">]</span><span style=\"color: #008000; text-decoration-color: #008000\"> ● </span><span style=\"color: #008000; text-decoration-color: #008000; text-decoration: underline\">https://www.ftc.gov/news-events/news/press-relea...releases-report-grocery-supply-chain-disruptions</span><span style=\"color: #008000; text-decoration-color: #008000\">  |</span>\n",
              "<span style=\"color: #008000; text-decoration-color: #008000\">✓ | ⏱: </span><span style=\"color: #008000; text-decoration-color: #008000; font-weight: bold\">5.</span><span style=\"color: #008000; text-decoration-color: #008000\">99s </span>\n",
              "</pre>\n"
            ]
          },
          "metadata": {}
        },
        {
          "output_type": "display_data",
          "data": {
            "text/plain": [
              "\u001b[1;36m[\u001b[0m\u001b[36mINIT\u001b[0m\u001b[1;36m]\u001b[0m\u001b[36m...\u001b[0m\u001b[36m. → Crawl4AI \u001b[0m\u001b[1;36m0.6\u001b[0m\u001b[36m.\u001b[0m\u001b[1;36m3\u001b[0m\u001b[36m \u001b[0m\n"
            ],
            "text/html": [
              "<pre style=\"white-space:pre;overflow-x:auto;line-height:normal;font-family:Menlo,'DejaVu Sans Mono',consolas,'Courier New',monospace\"><span style=\"color: #008080; text-decoration-color: #008080; font-weight: bold\">[</span><span style=\"color: #008080; text-decoration-color: #008080\">INIT</span><span style=\"color: #008080; text-decoration-color: #008080; font-weight: bold\">]</span><span style=\"color: #008080; text-decoration-color: #008080\">.... → Crawl4AI </span><span style=\"color: #008080; text-decoration-color: #008080; font-weight: bold\">0.6</span><span style=\"color: #008080; text-decoration-color: #008080\">.</span><span style=\"color: #008080; text-decoration-color: #008080; font-weight: bold\">3</span><span style=\"color: #008080; text-decoration-color: #008080\"> </span>\n",
              "</pre>\n"
            ]
          },
          "metadata": {}
        },
        {
          "output_type": "display_data",
          "data": {
            "text/plain": [
              "\u001b[1;32m[\u001b[0m\u001b[32mFETCH\u001b[0m\u001b[1;32m]\u001b[0m\u001b[32m...\u001b[0m\u001b[32m ↓ \u001b[0m\u001b[4;32mhttps://softco.com/blog/harnessing-technology-how-retail-supply-chain-challenges-can-be-navigated/\u001b[0m\u001b[32m   |\u001b[0m\n",
              "\u001b[32m✓\u001b[0m\u001b[32m | ⏱: \u001b[0m\u001b[1;32m3.\u001b[0m\u001b[32m35s \u001b[0m\n"
            ],
            "text/html": [
              "<pre style=\"white-space:pre;overflow-x:auto;line-height:normal;font-family:Menlo,'DejaVu Sans Mono',consolas,'Courier New',monospace\"><span style=\"color: #008000; text-decoration-color: #008000; font-weight: bold\">[</span><span style=\"color: #008000; text-decoration-color: #008000\">FETCH</span><span style=\"color: #008000; text-decoration-color: #008000; font-weight: bold\">]</span><span style=\"color: #008000; text-decoration-color: #008000\">... ↓ </span><span style=\"color: #008000; text-decoration-color: #008000; text-decoration: underline\">https://softco.com/blog/harnessing-technology-how-retail-supply-chain-challenges-can-be-navigated/</span><span style=\"color: #008000; text-decoration-color: #008000\">   |</span>\n",
              "<span style=\"color: #008000; text-decoration-color: #008000\">✓ | ⏱: </span><span style=\"color: #008000; text-decoration-color: #008000; font-weight: bold\">3.</span><span style=\"color: #008000; text-decoration-color: #008000\">35s </span>\n",
              "</pre>\n"
            ]
          },
          "metadata": {}
        },
        {
          "output_type": "display_data",
          "data": {
            "text/plain": [
              "\u001b[1;32m[\u001b[0m\u001b[32mSCRAPE\u001b[0m\u001b[1;32m]\u001b[0m\u001b[32m.. ◆ \u001b[0m\u001b[4;32mhttps://softco.com/blog/harnessing-technology-how-retail-supply-chain-challenges-can-be-navigated/\u001b[0m\u001b[32m   |\u001b[0m\n",
              "\u001b[32m✓\u001b[0m\u001b[32m | ⏱: \u001b[0m\u001b[1;32m0.\u001b[0m\u001b[32m12s \u001b[0m\n"
            ],
            "text/html": [
              "<pre style=\"white-space:pre;overflow-x:auto;line-height:normal;font-family:Menlo,'DejaVu Sans Mono',consolas,'Courier New',monospace\"><span style=\"color: #008000; text-decoration-color: #008000; font-weight: bold\">[</span><span style=\"color: #008000; text-decoration-color: #008000\">SCRAPE</span><span style=\"color: #008000; text-decoration-color: #008000; font-weight: bold\">]</span><span style=\"color: #008000; text-decoration-color: #008000\">.. ◆ </span><span style=\"color: #008000; text-decoration-color: #008000; text-decoration: underline\">https://softco.com/blog/harnessing-technology-how-retail-supply-chain-challenges-can-be-navigated/</span><span style=\"color: #008000; text-decoration-color: #008000\">   |</span>\n",
              "<span style=\"color: #008000; text-decoration-color: #008000\">✓ | ⏱: </span><span style=\"color: #008000; text-decoration-color: #008000; font-weight: bold\">0.</span><span style=\"color: #008000; text-decoration-color: #008000\">12s </span>\n",
              "</pre>\n"
            ]
          },
          "metadata": {}
        },
        {
          "output_type": "display_data",
          "data": {
            "text/plain": [
              "\u001b[1;32m[\u001b[0m\u001b[32mCOMPLETE\u001b[0m\u001b[1;32m]\u001b[0m\u001b[32m ● \u001b[0m\u001b[4;32mhttps://softco.com/blog/harnessing-technology-how-retail-supply-chain-challenges-can-be-navigated/\u001b[0m\u001b[32m   |\u001b[0m\n",
              "\u001b[32m✓\u001b[0m\u001b[32m | ⏱: \u001b[0m\u001b[1;32m3.\u001b[0m\u001b[32m50s \u001b[0m\n"
            ],
            "text/html": [
              "<pre style=\"white-space:pre;overflow-x:auto;line-height:normal;font-family:Menlo,'DejaVu Sans Mono',consolas,'Courier New',monospace\"><span style=\"color: #008000; text-decoration-color: #008000; font-weight: bold\">[</span><span style=\"color: #008000; text-decoration-color: #008000\">COMPLETE</span><span style=\"color: #008000; text-decoration-color: #008000; font-weight: bold\">]</span><span style=\"color: #008000; text-decoration-color: #008000\"> ● </span><span style=\"color: #008000; text-decoration-color: #008000; text-decoration: underline\">https://softco.com/blog/harnessing-technology-how-retail-supply-chain-challenges-can-be-navigated/</span><span style=\"color: #008000; text-decoration-color: #008000\">   |</span>\n",
              "<span style=\"color: #008000; text-decoration-color: #008000\">✓ | ⏱: </span><span style=\"color: #008000; text-decoration-color: #008000; font-weight: bold\">3.</span><span style=\"color: #008000; text-decoration-color: #008000\">50s </span>\n",
              "</pre>\n"
            ]
          },
          "metadata": {}
        },
        {
          "output_type": "display_data",
          "data": {
            "text/plain": [
              "\u001b[1;36m[\u001b[0m\u001b[36mINIT\u001b[0m\u001b[1;36m]\u001b[0m\u001b[36m...\u001b[0m\u001b[36m. → Crawl4AI \u001b[0m\u001b[1;36m0.6\u001b[0m\u001b[36m.\u001b[0m\u001b[1;36m3\u001b[0m\u001b[36m \u001b[0m\n"
            ],
            "text/html": [
              "<pre style=\"white-space:pre;overflow-x:auto;line-height:normal;font-family:Menlo,'DejaVu Sans Mono',consolas,'Courier New',monospace\"><span style=\"color: #008080; text-decoration-color: #008080; font-weight: bold\">[</span><span style=\"color: #008080; text-decoration-color: #008080\">INIT</span><span style=\"color: #008080; text-decoration-color: #008080; font-weight: bold\">]</span><span style=\"color: #008080; text-decoration-color: #008080\">.... → Crawl4AI </span><span style=\"color: #008080; text-decoration-color: #008080; font-weight: bold\">0.6</span><span style=\"color: #008080; text-decoration-color: #008080\">.</span><span style=\"color: #008080; text-decoration-color: #008080; font-weight: bold\">3</span><span style=\"color: #008080; text-decoration-color: #008080\"> </span>\n",
              "</pre>\n"
            ]
          },
          "metadata": {}
        },
        {
          "output_type": "display_data",
          "data": {
            "text/plain": [
              "\u001b[1;32m[\u001b[0m\u001b[32mFETCH\u001b[0m\u001b[1;32m]\u001b[0m\u001b[32m...\u001b[0m\u001b[32m ↓ \u001b[0m\u001b[4;32mhttps://safetyculture.com/topics/supply-chain-disruption/\u001b[0m\u001b[32m                                            |\u001b[0m\n",
              "\u001b[32m✓\u001b[0m\u001b[32m | ⏱: \u001b[0m\u001b[1;32m3.\u001b[0m\u001b[32m48s \u001b[0m\n"
            ],
            "text/html": [
              "<pre style=\"white-space:pre;overflow-x:auto;line-height:normal;font-family:Menlo,'DejaVu Sans Mono',consolas,'Courier New',monospace\"><span style=\"color: #008000; text-decoration-color: #008000; font-weight: bold\">[</span><span style=\"color: #008000; text-decoration-color: #008000\">FETCH</span><span style=\"color: #008000; text-decoration-color: #008000; font-weight: bold\">]</span><span style=\"color: #008000; text-decoration-color: #008000\">... ↓ </span><span style=\"color: #008000; text-decoration-color: #008000; text-decoration: underline\">https://safetyculture.com/topics/supply-chain-disruption/</span><span style=\"color: #008000; text-decoration-color: #008000\">                                            |</span>\n",
              "<span style=\"color: #008000; text-decoration-color: #008000\">✓ | ⏱: </span><span style=\"color: #008000; text-decoration-color: #008000; font-weight: bold\">3.</span><span style=\"color: #008000; text-decoration-color: #008000\">48s </span>\n",
              "</pre>\n"
            ]
          },
          "metadata": {}
        },
        {
          "output_type": "display_data",
          "data": {
            "text/plain": [
              "\u001b[1;32m[\u001b[0m\u001b[32mSCRAPE\u001b[0m\u001b[1;32m]\u001b[0m\u001b[32m.. ◆ \u001b[0m\u001b[4;32mhttps://safetyculture.com/topics/supply-chain-disruption/\u001b[0m\u001b[32m                                            |\u001b[0m\n",
              "\u001b[32m✓\u001b[0m\u001b[32m | ⏱: \u001b[0m\u001b[1;32m0.\u001b[0m\u001b[32m14s \u001b[0m\n"
            ],
            "text/html": [
              "<pre style=\"white-space:pre;overflow-x:auto;line-height:normal;font-family:Menlo,'DejaVu Sans Mono',consolas,'Courier New',monospace\"><span style=\"color: #008000; text-decoration-color: #008000; font-weight: bold\">[</span><span style=\"color: #008000; text-decoration-color: #008000\">SCRAPE</span><span style=\"color: #008000; text-decoration-color: #008000; font-weight: bold\">]</span><span style=\"color: #008000; text-decoration-color: #008000\">.. ◆ </span><span style=\"color: #008000; text-decoration-color: #008000; text-decoration: underline\">https://safetyculture.com/topics/supply-chain-disruption/</span><span style=\"color: #008000; text-decoration-color: #008000\">                                            |</span>\n",
              "<span style=\"color: #008000; text-decoration-color: #008000\">✓ | ⏱: </span><span style=\"color: #008000; text-decoration-color: #008000; font-weight: bold\">0.</span><span style=\"color: #008000; text-decoration-color: #008000\">14s </span>\n",
              "</pre>\n"
            ]
          },
          "metadata": {}
        },
        {
          "output_type": "display_data",
          "data": {
            "text/plain": [
              "\u001b[1;32m[\u001b[0m\u001b[32mCOMPLETE\u001b[0m\u001b[1;32m]\u001b[0m\u001b[32m ● \u001b[0m\u001b[4;32mhttps://safetyculture.com/topics/supply-chain-disruption/\u001b[0m\u001b[32m                                            |\u001b[0m\n",
              "\u001b[32m✓\u001b[0m\u001b[32m | ⏱: \u001b[0m\u001b[1;32m3.\u001b[0m\u001b[32m63s \u001b[0m\n"
            ],
            "text/html": [
              "<pre style=\"white-space:pre;overflow-x:auto;line-height:normal;font-family:Menlo,'DejaVu Sans Mono',consolas,'Courier New',monospace\"><span style=\"color: #008000; text-decoration-color: #008000; font-weight: bold\">[</span><span style=\"color: #008000; text-decoration-color: #008000\">COMPLETE</span><span style=\"color: #008000; text-decoration-color: #008000; font-weight: bold\">]</span><span style=\"color: #008000; text-decoration-color: #008000\"> ● </span><span style=\"color: #008000; text-decoration-color: #008000; text-decoration: underline\">https://safetyculture.com/topics/supply-chain-disruption/</span><span style=\"color: #008000; text-decoration-color: #008000\">                                            |</span>\n",
              "<span style=\"color: #008000; text-decoration-color: #008000\">✓ | ⏱: </span><span style=\"color: #008000; text-decoration-color: #008000; font-weight: bold\">3.</span><span style=\"color: #008000; text-decoration-color: #008000\">63s </span>\n",
              "</pre>\n"
            ]
          },
          "metadata": {}
        },
        {
          "output_type": "display_data",
          "data": {
            "text/plain": [
              "\u001b[1;36m[\u001b[0m\u001b[36mINIT\u001b[0m\u001b[1;36m]\u001b[0m\u001b[36m...\u001b[0m\u001b[36m. → Crawl4AI \u001b[0m\u001b[1;36m0.6\u001b[0m\u001b[36m.\u001b[0m\u001b[1;36m3\u001b[0m\u001b[36m \u001b[0m\n"
            ],
            "text/html": [
              "<pre style=\"white-space:pre;overflow-x:auto;line-height:normal;font-family:Menlo,'DejaVu Sans Mono',consolas,'Courier New',monospace\"><span style=\"color: #008080; text-decoration-color: #008080; font-weight: bold\">[</span><span style=\"color: #008080; text-decoration-color: #008080\">INIT</span><span style=\"color: #008080; text-decoration-color: #008080; font-weight: bold\">]</span><span style=\"color: #008080; text-decoration-color: #008080\">.... → Crawl4AI </span><span style=\"color: #008080; text-decoration-color: #008080; font-weight: bold\">0.6</span><span style=\"color: #008080; text-decoration-color: #008080\">.</span><span style=\"color: #008080; text-decoration-color: #008080; font-weight: bold\">3</span><span style=\"color: #008080; text-decoration-color: #008080\"> </span>\n",
              "</pre>\n"
            ]
          },
          "metadata": {}
        },
        {
          "output_type": "display_data",
          "data": {
            "text/plain": [
              "\u001b[1;32m[\u001b[0m\u001b[32mFETCH\u001b[0m\u001b[1;32m]\u001b[0m\u001b[32m...\u001b[0m\u001b[32m ↓ \u001b[0m\u001b[4;32mhttps://www.thinkbrg.com/news/supply-chain-disruption-for-retailers-worsens/\u001b[0m\u001b[32m                         |\u001b[0m\n",
              "\u001b[32m✓\u001b[0m\u001b[32m | ⏱: \u001b[0m\u001b[1;32m3.\u001b[0m\u001b[32m37s \u001b[0m\n"
            ],
            "text/html": [
              "<pre style=\"white-space:pre;overflow-x:auto;line-height:normal;font-family:Menlo,'DejaVu Sans Mono',consolas,'Courier New',monospace\"><span style=\"color: #008000; text-decoration-color: #008000; font-weight: bold\">[</span><span style=\"color: #008000; text-decoration-color: #008000\">FETCH</span><span style=\"color: #008000; text-decoration-color: #008000; font-weight: bold\">]</span><span style=\"color: #008000; text-decoration-color: #008000\">... ↓ </span><span style=\"color: #008000; text-decoration-color: #008000; text-decoration: underline\">https://www.thinkbrg.com/news/supply-chain-disruption-for-retailers-worsens/</span><span style=\"color: #008000; text-decoration-color: #008000\">                         |</span>\n",
              "<span style=\"color: #008000; text-decoration-color: #008000\">✓ | ⏱: </span><span style=\"color: #008000; text-decoration-color: #008000; font-weight: bold\">3.</span><span style=\"color: #008000; text-decoration-color: #008000\">37s </span>\n",
              "</pre>\n"
            ]
          },
          "metadata": {}
        },
        {
          "output_type": "display_data",
          "data": {
            "text/plain": [
              "\u001b[1;32m[\u001b[0m\u001b[32mSCRAPE\u001b[0m\u001b[1;32m]\u001b[0m\u001b[32m.. ◆ \u001b[0m\u001b[4;32mhttps://www.thinkbrg.com/news/supply-chain-disruption-for-retailers-worsens/\u001b[0m\u001b[32m                         |\u001b[0m\n",
              "\u001b[32m✓\u001b[0m\u001b[32m | ⏱: \u001b[0m\u001b[1;32m0.\u001b[0m\u001b[32m12s \u001b[0m\n"
            ],
            "text/html": [
              "<pre style=\"white-space:pre;overflow-x:auto;line-height:normal;font-family:Menlo,'DejaVu Sans Mono',consolas,'Courier New',monospace\"><span style=\"color: #008000; text-decoration-color: #008000; font-weight: bold\">[</span><span style=\"color: #008000; text-decoration-color: #008000\">SCRAPE</span><span style=\"color: #008000; text-decoration-color: #008000; font-weight: bold\">]</span><span style=\"color: #008000; text-decoration-color: #008000\">.. ◆ </span><span style=\"color: #008000; text-decoration-color: #008000; text-decoration: underline\">https://www.thinkbrg.com/news/supply-chain-disruption-for-retailers-worsens/</span><span style=\"color: #008000; text-decoration-color: #008000\">                         |</span>\n",
              "<span style=\"color: #008000; text-decoration-color: #008000\">✓ | ⏱: </span><span style=\"color: #008000; text-decoration-color: #008000; font-weight: bold\">0.</span><span style=\"color: #008000; text-decoration-color: #008000\">12s </span>\n",
              "</pre>\n"
            ]
          },
          "metadata": {}
        },
        {
          "output_type": "display_data",
          "data": {
            "text/plain": [
              "\u001b[1;32m[\u001b[0m\u001b[32mCOMPLETE\u001b[0m\u001b[1;32m]\u001b[0m\u001b[32m ● \u001b[0m\u001b[4;32mhttps://www.thinkbrg.com/news/supply-chain-disruption-for-retailers-worsens/\u001b[0m\u001b[32m                         |\u001b[0m\n",
              "\u001b[32m✓\u001b[0m\u001b[32m | ⏱: \u001b[0m\u001b[1;32m3.\u001b[0m\u001b[32m51s \u001b[0m\n"
            ],
            "text/html": [
              "<pre style=\"white-space:pre;overflow-x:auto;line-height:normal;font-family:Menlo,'DejaVu Sans Mono',consolas,'Courier New',monospace\"><span style=\"color: #008000; text-decoration-color: #008000; font-weight: bold\">[</span><span style=\"color: #008000; text-decoration-color: #008000\">COMPLETE</span><span style=\"color: #008000; text-decoration-color: #008000; font-weight: bold\">]</span><span style=\"color: #008000; text-decoration-color: #008000\"> ● </span><span style=\"color: #008000; text-decoration-color: #008000; text-decoration: underline\">https://www.thinkbrg.com/news/supply-chain-disruption-for-retailers-worsens/</span><span style=\"color: #008000; text-decoration-color: #008000\">                         |</span>\n",
              "<span style=\"color: #008000; text-decoration-color: #008000\">✓ | ⏱: </span><span style=\"color: #008000; text-decoration-color: #008000; font-weight: bold\">3.</span><span style=\"color: #008000; text-decoration-color: #008000\">51s </span>\n",
              "</pre>\n"
            ]
          },
          "metadata": {}
        },
        {
          "output_type": "stream",
          "name": "stdout",
          "text": [
            "Sub-question: How have consumer behaviors and preferences evolved, and how has the retail industry adapted?\n",
            "Judgment: False\n"
          ]
        },
        {
          "output_type": "display_data",
          "data": {
            "text/plain": [
              "\u001b[1;36m[\u001b[0m\u001b[36mINIT\u001b[0m\u001b[1;36m]\u001b[0m\u001b[36m...\u001b[0m\u001b[36m. → Crawl4AI \u001b[0m\u001b[1;36m0.6\u001b[0m\u001b[36m.\u001b[0m\u001b[1;36m3\u001b[0m\u001b[36m \u001b[0m\n"
            ],
            "text/html": [
              "<pre style=\"white-space:pre;overflow-x:auto;line-height:normal;font-family:Menlo,'DejaVu Sans Mono',consolas,'Courier New',monospace\"><span style=\"color: #008080; text-decoration-color: #008080; font-weight: bold\">[</span><span style=\"color: #008080; text-decoration-color: #008080\">INIT</span><span style=\"color: #008080; text-decoration-color: #008080; font-weight: bold\">]</span><span style=\"color: #008080; text-decoration-color: #008080\">.... → Crawl4AI </span><span style=\"color: #008080; text-decoration-color: #008080; font-weight: bold\">0.6</span><span style=\"color: #008080; text-decoration-color: #008080\">.</span><span style=\"color: #008080; text-decoration-color: #008080; font-weight: bold\">3</span><span style=\"color: #008080; text-decoration-color: #008080\"> </span>\n",
              "</pre>\n"
            ]
          },
          "metadata": {}
        },
        {
          "output_type": "display_data",
          "data": {
            "text/plain": [
              "\u001b[1;32m[\u001b[0m\u001b[32mFETCH\u001b[0m\u001b[1;32m]\u001b[0m\u001b[32m...\u001b[0m\u001b[32m ↓ \u001b[0m\u001b[4;32mhttps://fluentcommerce.com/resources/blog/2024-retail-technology-trends-what-we-know-so-far/\u001b[0m\u001b[32m         |\u001b[0m\n",
              "\u001b[32m✓\u001b[0m\u001b[32m | ⏱: \u001b[0m\u001b[1;32m2.\u001b[0m\u001b[32m33s \u001b[0m\n"
            ],
            "text/html": [
              "<pre style=\"white-space:pre;overflow-x:auto;line-height:normal;font-family:Menlo,'DejaVu Sans Mono',consolas,'Courier New',monospace\"><span style=\"color: #008000; text-decoration-color: #008000; font-weight: bold\">[</span><span style=\"color: #008000; text-decoration-color: #008000\">FETCH</span><span style=\"color: #008000; text-decoration-color: #008000; font-weight: bold\">]</span><span style=\"color: #008000; text-decoration-color: #008000\">... ↓ </span><span style=\"color: #008000; text-decoration-color: #008000; text-decoration: underline\">https://fluentcommerce.com/resources/blog/2024-retail-technology-trends-what-we-know-so-far/</span><span style=\"color: #008000; text-decoration-color: #008000\">         |</span>\n",
              "<span style=\"color: #008000; text-decoration-color: #008000\">✓ | ⏱: </span><span style=\"color: #008000; text-decoration-color: #008000; font-weight: bold\">2.</span><span style=\"color: #008000; text-decoration-color: #008000\">33s </span>\n",
              "</pre>\n"
            ]
          },
          "metadata": {}
        },
        {
          "output_type": "display_data",
          "data": {
            "text/plain": [
              "\u001b[1;32m[\u001b[0m\u001b[32mSCRAPE\u001b[0m\u001b[1;32m]\u001b[0m\u001b[32m.. ◆ \u001b[0m\u001b[4;32mhttps://fluentcommerce.com/resources/blog/2024-retail-technology-trends-what-we-know-so-far/\u001b[0m\u001b[32m         |\u001b[0m\n",
              "\u001b[32m✓\u001b[0m\u001b[32m | ⏱: \u001b[0m\u001b[1;32m0.\u001b[0m\u001b[32m09s \u001b[0m\n"
            ],
            "text/html": [
              "<pre style=\"white-space:pre;overflow-x:auto;line-height:normal;font-family:Menlo,'DejaVu Sans Mono',consolas,'Courier New',monospace\"><span style=\"color: #008000; text-decoration-color: #008000; font-weight: bold\">[</span><span style=\"color: #008000; text-decoration-color: #008000\">SCRAPE</span><span style=\"color: #008000; text-decoration-color: #008000; font-weight: bold\">]</span><span style=\"color: #008000; text-decoration-color: #008000\">.. ◆ </span><span style=\"color: #008000; text-decoration-color: #008000; text-decoration: underline\">https://fluentcommerce.com/resources/blog/2024-retail-technology-trends-what-we-know-so-far/</span><span style=\"color: #008000; text-decoration-color: #008000\">         |</span>\n",
              "<span style=\"color: #008000; text-decoration-color: #008000\">✓ | ⏱: </span><span style=\"color: #008000; text-decoration-color: #008000; font-weight: bold\">0.</span><span style=\"color: #008000; text-decoration-color: #008000\">09s </span>\n",
              "</pre>\n"
            ]
          },
          "metadata": {}
        },
        {
          "output_type": "display_data",
          "data": {
            "text/plain": [
              "\u001b[1;32m[\u001b[0m\u001b[32mCOMPLETE\u001b[0m\u001b[1;32m]\u001b[0m\u001b[32m ● \u001b[0m\u001b[4;32mhttps://fluentcommerce.com/resources/blog/2024-retail-technology-trends-what-we-know-so-far/\u001b[0m\u001b[32m         |\u001b[0m\n",
              "\u001b[32m✓\u001b[0m\u001b[32m | ⏱: \u001b[0m\u001b[1;32m2.\u001b[0m\u001b[32m43s \u001b[0m\n"
            ],
            "text/html": [
              "<pre style=\"white-space:pre;overflow-x:auto;line-height:normal;font-family:Menlo,'DejaVu Sans Mono',consolas,'Courier New',monospace\"><span style=\"color: #008000; text-decoration-color: #008000; font-weight: bold\">[</span><span style=\"color: #008000; text-decoration-color: #008000\">COMPLETE</span><span style=\"color: #008000; text-decoration-color: #008000; font-weight: bold\">]</span><span style=\"color: #008000; text-decoration-color: #008000\"> ● </span><span style=\"color: #008000; text-decoration-color: #008000; text-decoration: underline\">https://fluentcommerce.com/resources/blog/2024-retail-technology-trends-what-we-know-so-far/</span><span style=\"color: #008000; text-decoration-color: #008000\">         |</span>\n",
              "<span style=\"color: #008000; text-decoration-color: #008000\">✓ | ⏱: </span><span style=\"color: #008000; text-decoration-color: #008000; font-weight: bold\">2.</span><span style=\"color: #008000; text-decoration-color: #008000\">43s </span>\n",
              "</pre>\n"
            ]
          },
          "metadata": {}
        },
        {
          "output_type": "stream",
          "name": "stdout",
          "text": [
            "Sub-question: What are the key challenges and opportunities facing the retail industry as of 2024?\n",
            "Judgment: False\n"
          ]
        },
        {
          "output_type": "display_data",
          "data": {
            "text/plain": [
              "\u001b[1;36m[\u001b[0m\u001b[36mINIT\u001b[0m\u001b[1;36m]\u001b[0m\u001b[36m...\u001b[0m\u001b[36m. → Crawl4AI \u001b[0m\u001b[1;36m0.6\u001b[0m\u001b[36m.\u001b[0m\u001b[1;36m3\u001b[0m\u001b[36m \u001b[0m\n"
            ],
            "text/html": [
              "<pre style=\"white-space:pre;overflow-x:auto;line-height:normal;font-family:Menlo,'DejaVu Sans Mono',consolas,'Courier New',monospace\"><span style=\"color: #008080; text-decoration-color: #008080; font-weight: bold\">[</span><span style=\"color: #008080; text-decoration-color: #008080\">INIT</span><span style=\"color: #008080; text-decoration-color: #008080; font-weight: bold\">]</span><span style=\"color: #008080; text-decoration-color: #008080\">.... → Crawl4AI </span><span style=\"color: #008080; text-decoration-color: #008080; font-weight: bold\">0.6</span><span style=\"color: #008080; text-decoration-color: #008080\">.</span><span style=\"color: #008080; text-decoration-color: #008080; font-weight: bold\">3</span><span style=\"color: #008080; text-decoration-color: #008080\"> </span>\n",
              "</pre>\n"
            ]
          },
          "metadata": {}
        },
        {
          "output_type": "display_data",
          "data": {
            "text/plain": [
              "\u001b[1;32m[\u001b[0m\u001b[32mFETCH\u001b[0m\u001b[1;32m]\u001b[0m\u001b[32m...\u001b[0m\u001b[32m ↓ \u001b[0m\u001b[4;32mhttps://goodway-media.com/blog/retailers-changing-consumer-behavior\u001b[0m\u001b[32m                                  |\u001b[0m\n",
              "\u001b[32m✓\u001b[0m\u001b[32m | ⏱: \u001b[0m\u001b[1;32m5.\u001b[0m\u001b[32m66s \u001b[0m\n"
            ],
            "text/html": [
              "<pre style=\"white-space:pre;overflow-x:auto;line-height:normal;font-family:Menlo,'DejaVu Sans Mono',consolas,'Courier New',monospace\"><span style=\"color: #008000; text-decoration-color: #008000; font-weight: bold\">[</span><span style=\"color: #008000; text-decoration-color: #008000\">FETCH</span><span style=\"color: #008000; text-decoration-color: #008000; font-weight: bold\">]</span><span style=\"color: #008000; text-decoration-color: #008000\">... ↓ </span><span style=\"color: #008000; text-decoration-color: #008000; text-decoration: underline\">https://goodway-media.com/blog/retailers-changing-consumer-behavior</span><span style=\"color: #008000; text-decoration-color: #008000\">                                  |</span>\n",
              "<span style=\"color: #008000; text-decoration-color: #008000\">✓ | ⏱: </span><span style=\"color: #008000; text-decoration-color: #008000; font-weight: bold\">5.</span><span style=\"color: #008000; text-decoration-color: #008000\">66s </span>\n",
              "</pre>\n"
            ]
          },
          "metadata": {}
        },
        {
          "output_type": "display_data",
          "data": {
            "text/plain": [
              "\u001b[1;32m[\u001b[0m\u001b[32mSCRAPE\u001b[0m\u001b[1;32m]\u001b[0m\u001b[32m.. ◆ \u001b[0m\u001b[4;32mhttps://goodway-media.com/blog/retailers-changing-consumer-behavior\u001b[0m\u001b[32m                                  |\u001b[0m\n",
              "\u001b[32m✓\u001b[0m\u001b[32m | ⏱: \u001b[0m\u001b[1;32m0.\u001b[0m\u001b[32m11s \u001b[0m\n"
            ],
            "text/html": [
              "<pre style=\"white-space:pre;overflow-x:auto;line-height:normal;font-family:Menlo,'DejaVu Sans Mono',consolas,'Courier New',monospace\"><span style=\"color: #008000; text-decoration-color: #008000; font-weight: bold\">[</span><span style=\"color: #008000; text-decoration-color: #008000\">SCRAPE</span><span style=\"color: #008000; text-decoration-color: #008000; font-weight: bold\">]</span><span style=\"color: #008000; text-decoration-color: #008000\">.. ◆ </span><span style=\"color: #008000; text-decoration-color: #008000; text-decoration: underline\">https://goodway-media.com/blog/retailers-changing-consumer-behavior</span><span style=\"color: #008000; text-decoration-color: #008000\">                                  |</span>\n",
              "<span style=\"color: #008000; text-decoration-color: #008000\">✓ | ⏱: </span><span style=\"color: #008000; text-decoration-color: #008000; font-weight: bold\">0.</span><span style=\"color: #008000; text-decoration-color: #008000\">11s </span>\n",
              "</pre>\n"
            ]
          },
          "metadata": {}
        },
        {
          "output_type": "display_data",
          "data": {
            "text/plain": [
              "\u001b[1;32m[\u001b[0m\u001b[32mCOMPLETE\u001b[0m\u001b[1;32m]\u001b[0m\u001b[32m ● \u001b[0m\u001b[4;32mhttps://goodway-media.com/blog/retailers-changing-consumer-behavior\u001b[0m\u001b[32m                                  |\u001b[0m\n",
              "\u001b[32m✓\u001b[0m\u001b[32m | ⏱: \u001b[0m\u001b[1;32m5.\u001b[0m\u001b[32m79s \u001b[0m\n"
            ],
            "text/html": [
              "<pre style=\"white-space:pre;overflow-x:auto;line-height:normal;font-family:Menlo,'DejaVu Sans Mono',consolas,'Courier New',monospace\"><span style=\"color: #008000; text-decoration-color: #008000; font-weight: bold\">[</span><span style=\"color: #008000; text-decoration-color: #008000\">COMPLETE</span><span style=\"color: #008000; text-decoration-color: #008000; font-weight: bold\">]</span><span style=\"color: #008000; text-decoration-color: #008000\"> ● </span><span style=\"color: #008000; text-decoration-color: #008000; text-decoration: underline\">https://goodway-media.com/blog/retailers-changing-consumer-behavior</span><span style=\"color: #008000; text-decoration-color: #008000\">                                  |</span>\n",
              "<span style=\"color: #008000; text-decoration-color: #008000\">✓ | ⏱: </span><span style=\"color: #008000; text-decoration-color: #008000; font-weight: bold\">5.</span><span style=\"color: #008000; text-decoration-color: #008000\">79s </span>\n",
              "</pre>\n"
            ]
          },
          "metadata": {}
        },
        {
          "output_type": "display_data",
          "data": {
            "text/plain": [
              "\u001b[1;36m[\u001b[0m\u001b[36mINIT\u001b[0m\u001b[1;36m]\u001b[0m\u001b[36m...\u001b[0m\u001b[36m. → Crawl4AI \u001b[0m\u001b[1;36m0.6\u001b[0m\u001b[36m.\u001b[0m\u001b[1;36m3\u001b[0m\u001b[36m \u001b[0m\n"
            ],
            "text/html": [
              "<pre style=\"white-space:pre;overflow-x:auto;line-height:normal;font-family:Menlo,'DejaVu Sans Mono',consolas,'Courier New',monospace\"><span style=\"color: #008080; text-decoration-color: #008080; font-weight: bold\">[</span><span style=\"color: #008080; text-decoration-color: #008080\">INIT</span><span style=\"color: #008080; text-decoration-color: #008080; font-weight: bold\">]</span><span style=\"color: #008080; text-decoration-color: #008080\">.... → Crawl4AI </span><span style=\"color: #008080; text-decoration-color: #008080; font-weight: bold\">0.6</span><span style=\"color: #008080; text-decoration-color: #008080\">.</span><span style=\"color: #008080; text-decoration-color: #008080; font-weight: bold\">3</span><span style=\"color: #008080; text-decoration-color: #008080\"> </span>\n",
              "</pre>\n"
            ]
          },
          "metadata": {}
        },
        {
          "output_type": "display_data",
          "data": {
            "text/plain": [
              "\u001b[1;32m[\u001b[0m\u001b[32mFETCH\u001b[0m\u001b[1;32m]\u001b[0m\u001b[32m...\u001b[0m\u001b[32m ↓ \u001b[0m\u001b[4;32mhttps://www.retailcustomerexperience.com/blogs/t...consumer-behavior-shifts-retailers-must-embrace/\u001b[0m\u001b[32m  |\u001b[0m\n",
              "\u001b[32m✓\u001b[0m\u001b[32m | ⏱: \u001b[0m\u001b[1;32m5.\u001b[0m\u001b[32m18s \u001b[0m\n"
            ],
            "text/html": [
              "<pre style=\"white-space:pre;overflow-x:auto;line-height:normal;font-family:Menlo,'DejaVu Sans Mono',consolas,'Courier New',monospace\"><span style=\"color: #008000; text-decoration-color: #008000; font-weight: bold\">[</span><span style=\"color: #008000; text-decoration-color: #008000\">FETCH</span><span style=\"color: #008000; text-decoration-color: #008000; font-weight: bold\">]</span><span style=\"color: #008000; text-decoration-color: #008000\">... ↓ </span><span style=\"color: #008000; text-decoration-color: #008000; text-decoration: underline\">https://www.retailcustomerexperience.com/blogs/t...consumer-behavior-shifts-retailers-must-embrace/</span><span style=\"color: #008000; text-decoration-color: #008000\">  |</span>\n",
              "<span style=\"color: #008000; text-decoration-color: #008000\">✓ | ⏱: </span><span style=\"color: #008000; text-decoration-color: #008000; font-weight: bold\">5.</span><span style=\"color: #008000; text-decoration-color: #008000\">18s </span>\n",
              "</pre>\n"
            ]
          },
          "metadata": {}
        },
        {
          "output_type": "display_data",
          "data": {
            "text/plain": [
              "\u001b[1;32m[\u001b[0m\u001b[32mSCRAPE\u001b[0m\u001b[1;32m]\u001b[0m\u001b[32m.. ◆ \u001b[0m\u001b[4;32mhttps://www.retailcustomerexperience.com/blogs/t...consumer-behavior-shifts-retailers-must-embrace/\u001b[0m\u001b[32m  |\u001b[0m\n",
              "\u001b[32m✓\u001b[0m\u001b[32m | ⏱: \u001b[0m\u001b[1;32m0.\u001b[0m\u001b[32m08s \u001b[0m\n"
            ],
            "text/html": [
              "<pre style=\"white-space:pre;overflow-x:auto;line-height:normal;font-family:Menlo,'DejaVu Sans Mono',consolas,'Courier New',monospace\"><span style=\"color: #008000; text-decoration-color: #008000; font-weight: bold\">[</span><span style=\"color: #008000; text-decoration-color: #008000\">SCRAPE</span><span style=\"color: #008000; text-decoration-color: #008000; font-weight: bold\">]</span><span style=\"color: #008000; text-decoration-color: #008000\">.. ◆ </span><span style=\"color: #008000; text-decoration-color: #008000; text-decoration: underline\">https://www.retailcustomerexperience.com/blogs/t...consumer-behavior-shifts-retailers-must-embrace/</span><span style=\"color: #008000; text-decoration-color: #008000\">  |</span>\n",
              "<span style=\"color: #008000; text-decoration-color: #008000\">✓ | ⏱: </span><span style=\"color: #008000; text-decoration-color: #008000; font-weight: bold\">0.</span><span style=\"color: #008000; text-decoration-color: #008000\">08s </span>\n",
              "</pre>\n"
            ]
          },
          "metadata": {}
        },
        {
          "output_type": "display_data",
          "data": {
            "text/plain": [
              "\u001b[1;32m[\u001b[0m\u001b[32mCOMPLETE\u001b[0m\u001b[1;32m]\u001b[0m\u001b[32m ● \u001b[0m\u001b[4;32mhttps://www.retailcustomerexperience.com/blogs/t...consumer-behavior-shifts-retailers-must-embrace/\u001b[0m\u001b[32m  |\u001b[0m\n",
              "\u001b[32m✓\u001b[0m\u001b[32m | ⏱: \u001b[0m\u001b[1;32m5.\u001b[0m\u001b[32m26s \u001b[0m\n"
            ],
            "text/html": [
              "<pre style=\"white-space:pre;overflow-x:auto;line-height:normal;font-family:Menlo,'DejaVu Sans Mono',consolas,'Courier New',monospace\"><span style=\"color: #008000; text-decoration-color: #008000; font-weight: bold\">[</span><span style=\"color: #008000; text-decoration-color: #008000\">COMPLETE</span><span style=\"color: #008000; text-decoration-color: #008000; font-weight: bold\">]</span><span style=\"color: #008000; text-decoration-color: #008000\"> ● </span><span style=\"color: #008000; text-decoration-color: #008000; text-decoration: underline\">https://www.retailcustomerexperience.com/blogs/t...consumer-behavior-shifts-retailers-must-embrace/</span><span style=\"color: #008000; text-decoration-color: #008000\">  |</span>\n",
              "<span style=\"color: #008000; text-decoration-color: #008000\">✓ | ⏱: </span><span style=\"color: #008000; text-decoration-color: #008000; font-weight: bold\">5.</span><span style=\"color: #008000; text-decoration-color: #008000\">26s </span>\n",
              "</pre>\n"
            ]
          },
          "metadata": {}
        },
        {
          "output_type": "display_data",
          "data": {
            "text/plain": [
              "\u001b[1;36m[\u001b[0m\u001b[36mINIT\u001b[0m\u001b[1;36m]\u001b[0m\u001b[36m...\u001b[0m\u001b[36m. → Crawl4AI \u001b[0m\u001b[1;36m0.6\u001b[0m\u001b[36m.\u001b[0m\u001b[1;36m3\u001b[0m\u001b[36m \u001b[0m\n"
            ],
            "text/html": [
              "<pre style=\"white-space:pre;overflow-x:auto;line-height:normal;font-family:Menlo,'DejaVu Sans Mono',consolas,'Courier New',monospace\"><span style=\"color: #008080; text-decoration-color: #008080; font-weight: bold\">[</span><span style=\"color: #008080; text-decoration-color: #008080\">INIT</span><span style=\"color: #008080; text-decoration-color: #008080; font-weight: bold\">]</span><span style=\"color: #008080; text-decoration-color: #008080\">.... → Crawl4AI </span><span style=\"color: #008080; text-decoration-color: #008080; font-weight: bold\">0.6</span><span style=\"color: #008080; text-decoration-color: #008080\">.</span><span style=\"color: #008080; text-decoration-color: #008080; font-weight: bold\">3</span><span style=\"color: #008080; text-decoration-color: #008080\"> </span>\n",
              "</pre>\n"
            ]
          },
          "metadata": {}
        },
        {
          "output_type": "display_data",
          "data": {
            "text/plain": [
              "\u001b[1;32m[\u001b[0m\u001b[32mFETCH\u001b[0m\u001b[1;32m]\u001b[0m\u001b[32m...\u001b[0m\u001b[32m ↓ \u001b[0m\u001b[4;32mhttps://www.forbes.com/councils/forbesagencycoun...mer-behavior-that-are-impacting-marketing-today/\u001b[0m\u001b[32m  |\u001b[0m\n",
              "\u001b[32m✓\u001b[0m\u001b[32m | ⏱: \u001b[0m\u001b[1;32m15.\u001b[0m\u001b[32m98s \u001b[0m\n"
            ],
            "text/html": [
              "<pre style=\"white-space:pre;overflow-x:auto;line-height:normal;font-family:Menlo,'DejaVu Sans Mono',consolas,'Courier New',monospace\"><span style=\"color: #008000; text-decoration-color: #008000; font-weight: bold\">[</span><span style=\"color: #008000; text-decoration-color: #008000\">FETCH</span><span style=\"color: #008000; text-decoration-color: #008000; font-weight: bold\">]</span><span style=\"color: #008000; text-decoration-color: #008000\">... ↓ </span><span style=\"color: #008000; text-decoration-color: #008000; text-decoration: underline\">https://www.forbes.com/councils/forbesagencycoun...mer-behavior-that-are-impacting-marketing-today/</span><span style=\"color: #008000; text-decoration-color: #008000\">  |</span>\n",
              "<span style=\"color: #008000; text-decoration-color: #008000\">✓ | ⏱: </span><span style=\"color: #008000; text-decoration-color: #008000; font-weight: bold\">15.</span><span style=\"color: #008000; text-decoration-color: #008000\">98s </span>\n",
              "</pre>\n"
            ]
          },
          "metadata": {}
        },
        {
          "output_type": "display_data",
          "data": {
            "text/plain": [
              "\u001b[1;32m[\u001b[0m\u001b[32mSCRAPE\u001b[0m\u001b[1;32m]\u001b[0m\u001b[32m.. ◆ \u001b[0m\u001b[4;32mhttps://www.forbes.com/councils/forbesagencycoun...mer-behavior-that-are-impacting-marketing-today/\u001b[0m\u001b[32m  |\u001b[0m\n",
              "\u001b[32m✓\u001b[0m\u001b[32m | ⏱: \u001b[0m\u001b[1;32m0.\u001b[0m\u001b[32m63s \u001b[0m\n"
            ],
            "text/html": [
              "<pre style=\"white-space:pre;overflow-x:auto;line-height:normal;font-family:Menlo,'DejaVu Sans Mono',consolas,'Courier New',monospace\"><span style=\"color: #008000; text-decoration-color: #008000; font-weight: bold\">[</span><span style=\"color: #008000; text-decoration-color: #008000\">SCRAPE</span><span style=\"color: #008000; text-decoration-color: #008000; font-weight: bold\">]</span><span style=\"color: #008000; text-decoration-color: #008000\">.. ◆ </span><span style=\"color: #008000; text-decoration-color: #008000; text-decoration: underline\">https://www.forbes.com/councils/forbesagencycoun...mer-behavior-that-are-impacting-marketing-today/</span><span style=\"color: #008000; text-decoration-color: #008000\">  |</span>\n",
              "<span style=\"color: #008000; text-decoration-color: #008000\">✓ | ⏱: </span><span style=\"color: #008000; text-decoration-color: #008000; font-weight: bold\">0.</span><span style=\"color: #008000; text-decoration-color: #008000\">63s </span>\n",
              "</pre>\n"
            ]
          },
          "metadata": {}
        },
        {
          "output_type": "display_data",
          "data": {
            "text/plain": [
              "\u001b[1;32m[\u001b[0m\u001b[32mCOMPLETE\u001b[0m\u001b[1;32m]\u001b[0m\u001b[32m ● \u001b[0m\u001b[4;32mhttps://www.forbes.com/councils/forbesagencycoun...mer-behavior-that-are-impacting-marketing-today/\u001b[0m\u001b[32m  |\u001b[0m\n",
              "\u001b[32m✓\u001b[0m\u001b[32m | ⏱: \u001b[0m\u001b[1;32m16.\u001b[0m\u001b[32m63s \u001b[0m\n"
            ],
            "text/html": [
              "<pre style=\"white-space:pre;overflow-x:auto;line-height:normal;font-family:Menlo,'DejaVu Sans Mono',consolas,'Courier New',monospace\"><span style=\"color: #008000; text-decoration-color: #008000; font-weight: bold\">[</span><span style=\"color: #008000; text-decoration-color: #008000\">COMPLETE</span><span style=\"color: #008000; text-decoration-color: #008000; font-weight: bold\">]</span><span style=\"color: #008000; text-decoration-color: #008000\"> ● </span><span style=\"color: #008000; text-decoration-color: #008000; text-decoration: underline\">https://www.forbes.com/councils/forbesagencycoun...mer-behavior-that-are-impacting-marketing-today/</span><span style=\"color: #008000; text-decoration-color: #008000\">  |</span>\n",
              "<span style=\"color: #008000; text-decoration-color: #008000\">✓ | ⏱: </span><span style=\"color: #008000; text-decoration-color: #008000; font-weight: bold\">16.</span><span style=\"color: #008000; text-decoration-color: #008000\">63s </span>\n",
              "</pre>\n"
            ]
          },
          "metadata": {}
        },
        {
          "output_type": "display_data",
          "data": {
            "text/plain": [
              "\u001b[1;36m[\u001b[0m\u001b[36mINIT\u001b[0m\u001b[1;36m]\u001b[0m\u001b[36m...\u001b[0m\u001b[36m. → Crawl4AI \u001b[0m\u001b[1;36m0.6\u001b[0m\u001b[36m.\u001b[0m\u001b[1;36m3\u001b[0m\u001b[36m \u001b[0m\n"
            ],
            "text/html": [
              "<pre style=\"white-space:pre;overflow-x:auto;line-height:normal;font-family:Menlo,'DejaVu Sans Mono',consolas,'Courier New',monospace\"><span style=\"color: #008080; text-decoration-color: #008080; font-weight: bold\">[</span><span style=\"color: #008080; text-decoration-color: #008080\">INIT</span><span style=\"color: #008080; text-decoration-color: #008080; font-weight: bold\">]</span><span style=\"color: #008080; text-decoration-color: #008080\">.... → Crawl4AI </span><span style=\"color: #008080; text-decoration-color: #008080; font-weight: bold\">0.6</span><span style=\"color: #008080; text-decoration-color: #008080\">.</span><span style=\"color: #008080; text-decoration-color: #008080; font-weight: bold\">3</span><span style=\"color: #008080; text-decoration-color: #008080\"> </span>\n",
              "</pre>\n"
            ]
          },
          "metadata": {}
        },
        {
          "output_type": "display_data",
          "data": {
            "text/plain": [
              "\u001b[1;32m[\u001b[0m\u001b[32mFETCH\u001b[0m\u001b[1;32m]\u001b[0m\u001b[32m...\u001b[0m\u001b[32m ↓ \u001b[0m\u001b[4;32mhttps://nielseniq.com/global/en/insights/analysi...how-gen-z-consumer-behavior-is-reshaping-retail/\u001b[0m\u001b[32m  |\u001b[0m\n",
              "\u001b[32m✓\u001b[0m\u001b[32m | ⏱: \u001b[0m\u001b[1;32m5.\u001b[0m\u001b[32m17s \u001b[0m\n"
            ],
            "text/html": [
              "<pre style=\"white-space:pre;overflow-x:auto;line-height:normal;font-family:Menlo,'DejaVu Sans Mono',consolas,'Courier New',monospace\"><span style=\"color: #008000; text-decoration-color: #008000; font-weight: bold\">[</span><span style=\"color: #008000; text-decoration-color: #008000\">FETCH</span><span style=\"color: #008000; text-decoration-color: #008000; font-weight: bold\">]</span><span style=\"color: #008000; text-decoration-color: #008000\">... ↓ </span><span style=\"color: #008000; text-decoration-color: #008000; text-decoration: underline\">https://nielseniq.com/global/en/insights/analysi...how-gen-z-consumer-behavior-is-reshaping-retail/</span><span style=\"color: #008000; text-decoration-color: #008000\">  |</span>\n",
              "<span style=\"color: #008000; text-decoration-color: #008000\">✓ | ⏱: </span><span style=\"color: #008000; text-decoration-color: #008000; font-weight: bold\">5.</span><span style=\"color: #008000; text-decoration-color: #008000\">17s </span>\n",
              "</pre>\n"
            ]
          },
          "metadata": {}
        },
        {
          "output_type": "display_data",
          "data": {
            "text/plain": [
              "\u001b[1;32m[\u001b[0m\u001b[32mSCRAPE\u001b[0m\u001b[1;32m]\u001b[0m\u001b[32m.. ◆ \u001b[0m\u001b[4;32mhttps://nielseniq.com/global/en/insights/analysi...how-gen-z-consumer-behavior-is-reshaping-retail/\u001b[0m\u001b[32m  |\u001b[0m\n",
              "\u001b[32m✓\u001b[0m\u001b[32m | ⏱: \u001b[0m\u001b[1;32m0.\u001b[0m\u001b[32m26s \u001b[0m\n"
            ],
            "text/html": [
              "<pre style=\"white-space:pre;overflow-x:auto;line-height:normal;font-family:Menlo,'DejaVu Sans Mono',consolas,'Courier New',monospace\"><span style=\"color: #008000; text-decoration-color: #008000; font-weight: bold\">[</span><span style=\"color: #008000; text-decoration-color: #008000\">SCRAPE</span><span style=\"color: #008000; text-decoration-color: #008000; font-weight: bold\">]</span><span style=\"color: #008000; text-decoration-color: #008000\">.. ◆ </span><span style=\"color: #008000; text-decoration-color: #008000; text-decoration: underline\">https://nielseniq.com/global/en/insights/analysi...how-gen-z-consumer-behavior-is-reshaping-retail/</span><span style=\"color: #008000; text-decoration-color: #008000\">  |</span>\n",
              "<span style=\"color: #008000; text-decoration-color: #008000\">✓ | ⏱: </span><span style=\"color: #008000; text-decoration-color: #008000; font-weight: bold\">0.</span><span style=\"color: #008000; text-decoration-color: #008000\">26s </span>\n",
              "</pre>\n"
            ]
          },
          "metadata": {}
        },
        {
          "output_type": "display_data",
          "data": {
            "text/plain": [
              "\u001b[1;32m[\u001b[0m\u001b[32mCOMPLETE\u001b[0m\u001b[1;32m]\u001b[0m\u001b[32m ● \u001b[0m\u001b[4;32mhttps://nielseniq.com/global/en/insights/analysi...how-gen-z-consumer-behavior-is-reshaping-retail/\u001b[0m\u001b[32m  |\u001b[0m\n",
              "\u001b[32m✓\u001b[0m\u001b[32m | ⏱: \u001b[0m\u001b[1;32m5.\u001b[0m\u001b[32m45s \u001b[0m\n"
            ],
            "text/html": [
              "<pre style=\"white-space:pre;overflow-x:auto;line-height:normal;font-family:Menlo,'DejaVu Sans Mono',consolas,'Courier New',monospace\"><span style=\"color: #008000; text-decoration-color: #008000; font-weight: bold\">[</span><span style=\"color: #008000; text-decoration-color: #008000\">COMPLETE</span><span style=\"color: #008000; text-decoration-color: #008000; font-weight: bold\">]</span><span style=\"color: #008000; text-decoration-color: #008000\"> ● </span><span style=\"color: #008000; text-decoration-color: #008000; text-decoration: underline\">https://nielseniq.com/global/en/insights/analysi...how-gen-z-consumer-behavior-is-reshaping-retail/</span><span style=\"color: #008000; text-decoration-color: #008000\">  |</span>\n",
              "<span style=\"color: #008000; text-decoration-color: #008000\">✓ | ⏱: </span><span style=\"color: #008000; text-decoration-color: #008000; font-weight: bold\">5.</span><span style=\"color: #008000; text-decoration-color: #008000\">45s </span>\n",
              "</pre>\n"
            ]
          },
          "metadata": {}
        },
        {
          "output_type": "stream",
          "name": "stdout",
          "text": [
            "data accepted!\n",
            "sub reports generated!\n",
            "final report generated!\n"
          ]
        }
      ]
    },
    {
      "cell_type": "markdown",
      "source": [
        "## Agent as a langchain tool"
      ],
      "metadata": {
        "id": "WH5EzP4lnwms"
      }
    },
    {
      "cell_type": "code",
      "source": [
        "class DeepSearchToolInput(BaseModel):\n",
        "    user_query: str = Field(description=\"User query to perform deep search on\")\n",
        "\n",
        "@tool(\"deep-search-tool\",\n",
        "      description=\"Performs an in-depth web-based search and returns a detailed report about the user's query.\",\n",
        "      args_schema=DeepSearchToolInput\n",
        "      )\n",
        "async def run_deepsearch(user_query: str) -> str:\n",
        "  plan = generate_plan(user_query)\n",
        "  query_breakdown, sub_questions, search_queries = plan[\"query_breakdown\"], plan[\"sub_questions\"], plan[\"search_queries\"]\n",
        "  print(\"plan generated!\")\n",
        "\n",
        "  search_results = web_search(search_queries, num_results=15)\n",
        "  print(\"search results generated!\")\n",
        "\n",
        "  # Data collection phase\n",
        "  gathered_info = []\n",
        "  for sq, urls in zip(sub_questions, search_results):\n",
        "      query_data = []\n",
        "      if urls:\n",
        "          query_data.append(await fetch_and_clean(urls[0], sq))\n",
        "      gathered_info.append(query_data)\n",
        "  print(\"data collected!\")\n",
        "\n",
        "  # Data validation and supplementation\n",
        "  accepted_data = []\n",
        "  for sq, query, data_list, urls in zip(sub_questions, search_queries, gathered_info, search_results):\n",
        "      sufficient = bool(''.join(data_list)) and judging_collected_data(data_list, sq, query)[\"sufficient\"]\n",
        "      print(f\"Sub-question: {sq}\\nJudgment: {sufficient}\")\n",
        "\n",
        "      idx = 1\n",
        "      while not sufficient and idx < len(urls):\n",
        "          data_list.append(await fetch_and_clean(urls[idx], sq))\n",
        "          sufficient = bool(''.join(data_list)) and judging_collected_data(data_list, sq, query)[\"sufficient\"]\n",
        "          idx += 1\n",
        "\n",
        "      accepted_data.append((urls, data_list))\n",
        "  print(\"data accepted!\")\n",
        "\n",
        "  # Report generation\n",
        "  sub_reports = [sub_report_generation(sq, data) for sq, data in zip(sub_questions, accepted_data)]\n",
        "  print(\"sub reports generated!\")\n",
        "\n",
        "  final_report = final_report_generation(user_query, query_breakdown, sub_questions, sub_reports)\n",
        "  print(\"final report generated!\")\n",
        "  final_report = \"Final report generated!\"\n",
        "  return final_report"
      ],
      "metadata": {
        "id": "jie9kp_5d5Ht"
      },
      "execution_count": null,
      "outputs": []
    },
    {
      "cell_type": "code",
      "source": [],
      "metadata": {
        "id": "dIbgxoOtTQ5h"
      },
      "execution_count": null,
      "outputs": []
    },
    {
      "cell_type": "code",
      "source": [],
      "metadata": {
        "id": "7MjgzeHyGJmE"
      },
      "execution_count": null,
      "outputs": []
    },
    {
      "cell_type": "code",
      "source": [],
      "metadata": {
        "id": "xLZLIRbv_Wy0"
      },
      "execution_count": null,
      "outputs": []
    }
  ]
}